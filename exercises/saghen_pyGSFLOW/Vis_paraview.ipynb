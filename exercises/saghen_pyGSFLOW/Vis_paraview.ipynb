{
 "cells": [
  {
   "cell_type": "code",
   "execution_count": null,
   "metadata": {},
   "outputs": [],
   "source": []
  },
  {
   "cell_type": "code",
   "execution_count": 1,
   "metadata": {},
   "outputs": [],
   "source": [
    "import os, sys\n",
    "sys.path.insert(0,r\"../../visu/new_pygsflow/pygsflow/\")\n"
   ]
  },
  {
   "cell_type": "code",
   "execution_count": 2,
   "metadata": {},
   "outputs": [
    {
     "name": "stdout",
     "output_type": "stream",
     "text": [
      "flopy is installed in D:\\Workspace\\classes\\gsflowID2447_classrepo\\python_packages\\flopy\\flopy\n"
     ]
    }
   ],
   "source": [
    "import gsflow\n",
    "from gsflow.utils.vtk import Gsflowvtk, Mfvtk"
   ]
  },
  {
   "cell_type": "code",
   "execution_count": 3,
   "metadata": {},
   "outputs": [
    {
     "name": "stdout",
     "output_type": "stream",
     "text": [
      "Control file is loaded\n",
      "Working on loading PRMS model ...\n",
      "Prms model loading ...\n",
      "------------------------------------\n",
      "Reading parameter file : D:\\Workspace\\classes\\Testing\\gsflowID2447_classrepo\\gsflowID2447_classrepo\\visu\\gsflow_files2\\saghen_new_par_0.params\n",
      "------------------------------------\n",
      "Warning: ncascade data type will be infered from data supplied\n",
      "Warning: ncascdgw data type will be infered from data supplied\n",
      "Warning: ndays data type will be infered from data supplied\n",
      "Warning: ndepl data type will be infered from data supplied\n",
      "Warning: ndeplval data type will be infered from data supplied\n",
      "Warning: nevap data type will be infered from data supplied\n",
      "Warning: ngw data type will be infered from data supplied\n",
      "Warning: ngwcell data type will be infered from data supplied\n",
      "Warning: nhru data type will be infered from data supplied\n",
      "Warning: nhrucell data type will be infered from data supplied\n",
      "Warning: nlake data type will be infered from data supplied\n",
      "Warning: nlake_hrus data type will be infered from data supplied\n",
      "Warning: nmonths data type will be infered from data supplied\n",
      "Warning: nobs data type will be infered from data supplied\n",
      "Warning: nrain data type will be infered from data supplied\n",
      "Warning: nreach data type will be infered from data supplied\n",
      "Warning: nsegment data type will be infered from data supplied\n",
      "Warning: nsnow data type will be infered from data supplied\n",
      "Warning: nsol data type will be infered from data supplied\n",
      "Warning: nssr data type will be infered from data supplied\n",
      "Warning: nsub data type will be infered from data supplied\n",
      "Warning: ntemp data type will be infered from data supplied\n",
      "Warning: one data type will be infered from data supplied\n",
      "------------------------------------\n",
      "Reading parameter file : D:\\Workspace\\classes\\Testing\\gsflowID2447_classrepo\\gsflowID2447_classrepo\\visu\\gsflow_files2\\saghen_new_par_1.params\n",
      "------------------------------------\n",
      "------------------------------------\n",
      "Reading parameter file : D:\\Workspace\\classes\\Testing\\gsflowID2447_classrepo\\gsflowID2447_classrepo\\visu\\gsflow_files2\\saghen_new_par_2.params\n",
      "------------------------------------\n",
      "------------------------------------\n",
      "Reading parameter file : D:\\Workspace\\classes\\Testing\\gsflowID2447_classrepo\\gsflowID2447_classrepo\\visu\\gsflow_files2\\saghen_new_par_3.params\n",
      "------------------------------------\n",
      "PRMS model loaded ...\n",
      "Working on loading MODFLOW files ....\n",
      "   loading iuzfbnd array...\n",
      "   loading irunbnd array...\n",
      "   loading vks array...\n",
      "   loading eps array...\n",
      "   loading thts array...\n",
      "stress period 1:\n",
      "   loading finf array...\n",
      "stress period 2:\n",
      "MODFLOW files are loaded ... \n"
     ]
    }
   ],
   "source": [
    "ws = \"../../visu/gsflow_files2\"\n",
    "control_file = \"saghen_new_cont.control\"\n",
    "Gsflowvtk.gsflow_to_vtk(control_file=os.path.join(ws, control_file))"
   ]
  },
  {
   "cell_type": "code",
   "execution_count": null,
   "metadata": {},
   "outputs": [],
   "source": []
  }
 ],
 "metadata": {
  "kernelspec": {
   "display_name": "Python 2",
   "language": "python",
   "name": "python2"
  },
  "language_info": {
   "codemirror_mode": {
    "name": "ipython",
    "version": 2
   },
   "file_extension": ".py",
   "mimetype": "text/x-python",
   "name": "python",
   "nbconvert_exporter": "python",
   "pygments_lexer": "ipython2",
   "version": "2.7.16"
  }
 },
 "nbformat": 4,
 "nbformat_minor": 2
}
