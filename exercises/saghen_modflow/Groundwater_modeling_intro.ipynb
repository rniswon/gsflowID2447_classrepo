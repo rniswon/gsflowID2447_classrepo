{
 "cells": [
  {
   "cell_type": "markdown",
   "metadata": {
    "slideshow": {
     "slide_type": "-"
    }
   },
   "source": [
    "\n",
    " <img src=\".\\figures\\Title.png\">\n",
    "\n",
    "### Outline\n",
    "* Review the big picture of GSFLOW model develpments\n",
    "* Explore HRU shapefile using Geopandas to read/write shapefiles\n",
    "* Exercise: Saghen Groundwater Model Development\n",
    "* Steady-State model vs. Transient \n",
    "* Model input and output archiving in HRU shapefile\n",
    "\n",
    "\n",
    "\n",
    "\n",
    "\n"
   ]
  },
  {
   "cell_type": "markdown",
   "metadata": {},
   "source": [
    "### Background\n",
    "At this stage, we have built the input files for the PRMS model using GSFLOW-arcpy. One of the files that are generated is the hru_param.shp file. This shapefile has most of the information we will need to build the MODFLOW model. "
   ]
  },
  {
   "cell_type": "markdown",
   "metadata": {
    "slideshow": {
     "slide_type": "slide"
    }
   },
   "source": [
    "<img src=\".\\figures\\WorkFlow.png\">"
   ]
  },
  {
   "cell_type": "markdown",
   "metadata": {
    "slideshow": {
     "slide_type": "slide"
    }
   },
   "source": [
    "\n",
    "\n",
    "### MODFLOW PACKAGES\n",
    " <img src=\".\\figures\\mf_packages.png\">"
   ]
  },
  {
   "cell_type": "code",
   "execution_count": 1,
   "metadata": {
    "slideshow": {
     "slide_type": "slide"
    }
   },
   "outputs": [
    {
     "name": "stdout",
     "output_type": "stream",
     "text": [
      "flopy is installed in D:\\Workspace\\classes\\gsflowID2447_classrepo\\python_packages\\flopy\\flopy\n"
     ]
    }
   ],
   "source": [
    "import os\n",
    "import geopandas as gpd\n",
    "import matplotlib.pyplot as plt\n",
    "import flopy\n",
    "import numpy as np\n",
    "import pandas as pd\n",
    "import datetime"
   ]
  },
  {
   "cell_type": "markdown",
   "metadata": {},
   "source": [
    "### Explore HRU Shapefile Using Geopandas\n",
    "Let us upload the hru_param.shp file and look at it."
   ]
  },
  {
   "cell_type": "code",
   "execution_count": 2,
   "metadata": {
    "slideshow": {
     "slide_type": "slide"
    }
   },
   "outputs": [],
   "source": [
    "hru_shp_file = r\"../models_data/gis/hru_params.shp\"\n",
    "hru_shp = gpd.read_file(hru_shp_file)"
   ]
  },
  {
   "cell_type": "code",
   "execution_count": 3,
   "metadata": {},
   "outputs": [
    {
     "data": {
      "text/html": [
       "<div>\n",
       "<style scoped>\n",
       "    .dataframe tbody tr th:only-of-type {\n",
       "        vertical-align: middle;\n",
       "    }\n",
       "\n",
       "    .dataframe tbody tr th {\n",
       "        vertical-align: top;\n",
       "    }\n",
       "\n",
       "    .dataframe thead th {\n",
       "        text-align: right;\n",
       "    }\n",
       "</style>\n",
       "<table border=\"1\" class=\"dataframe\">\n",
       "  <thead>\n",
       "    <tr style=\"text-align: right;\">\n",
       "      <th></th>\n",
       "      <th>ORIG_FID</th>\n",
       "      <th>HRU_ID</th>\n",
       "      <th>HRU_TYPE</th>\n",
       "      <th>DEM_MEAN</th>\n",
       "      <th>DEM_MIN</th>\n",
       "      <th>DEM_MAX</th>\n",
       "      <th>DEM_ADJ</th>\n",
       "      <th>DEM_FLOWAC</th>\n",
       "      <th>DEM_SUM</th>\n",
       "      <th>DEM_COUNT</th>\n",
       "      <th>...</th>\n",
       "      <th>PPT_RT_04</th>\n",
       "      <th>PPT_RT_05</th>\n",
       "      <th>PPT_RT_06</th>\n",
       "      <th>PPT_RT_07</th>\n",
       "      <th>PPT_RT_08</th>\n",
       "      <th>PPT_RT_09</th>\n",
       "      <th>PPT_RT_10</th>\n",
       "      <th>PPT_RT_11</th>\n",
       "      <th>PPT_RT_12</th>\n",
       "      <th>geometry</th>\n",
       "    </tr>\n",
       "  </thead>\n",
       "  <tbody>\n",
       "    <tr>\n",
       "      <th>0</th>\n",
       "      <td>0</td>\n",
       "      <td>6385</td>\n",
       "      <td>0</td>\n",
       "      <td>0.000000</td>\n",
       "      <td>0.000000</td>\n",
       "      <td>0.000000</td>\n",
       "      <td>0.000000</td>\n",
       "      <td>0.000000</td>\n",
       "      <td>0.000000e+00</td>\n",
       "      <td>0.000000</td>\n",
       "      <td>...</td>\n",
       "      <td>1.628781</td>\n",
       "      <td>1.441631</td>\n",
       "      <td>1.275146</td>\n",
       "      <td>0.752758</td>\n",
       "      <td>0.788682</td>\n",
       "      <td>1.233684</td>\n",
       "      <td>1.213449</td>\n",
       "      <td>1.349654</td>\n",
       "      <td>1.429642</td>\n",
       "      <td>POLYGON ((214109.9999999997 4366620, 214109.99...</td>\n",
       "    </tr>\n",
       "    <tr>\n",
       "      <th>1</th>\n",
       "      <td>1</td>\n",
       "      <td>6386</td>\n",
       "      <td>0</td>\n",
       "      <td>2155.573934</td>\n",
       "      <td>2148.798096</td>\n",
       "      <td>2162.991943</td>\n",
       "      <td>2153.812295</td>\n",
       "      <td>2153.812295</td>\n",
       "      <td>3.709343e+04</td>\n",
       "      <td>17.222222</td>\n",
       "      <td>...</td>\n",
       "      <td>1.621702</td>\n",
       "      <td>1.436381</td>\n",
       "      <td>1.271894</td>\n",
       "      <td>0.752859</td>\n",
       "      <td>0.787442</td>\n",
       "      <td>1.231795</td>\n",
       "      <td>1.209878</td>\n",
       "      <td>1.345946</td>\n",
       "      <td>1.424998</td>\n",
       "      <td>POLYGON ((214199.9999999998 4366620.000000001,...</td>\n",
       "    </tr>\n",
       "    <tr>\n",
       "      <th>2</th>\n",
       "      <td>2</td>\n",
       "      <td>6387</td>\n",
       "      <td>0</td>\n",
       "      <td>2154.183817</td>\n",
       "      <td>2148.162109</td>\n",
       "      <td>2162.430908</td>\n",
       "      <td>2155.115054</td>\n",
       "      <td>2155.115054</td>\n",
       "      <td>5.653489e+07</td>\n",
       "      <td>26232.888984</td>\n",
       "      <td>...</td>\n",
       "      <td>1.614614</td>\n",
       "      <td>1.431120</td>\n",
       "      <td>1.268659</td>\n",
       "      <td>0.752960</td>\n",
       "      <td>0.786209</td>\n",
       "      <td>1.229917</td>\n",
       "      <td>1.206308</td>\n",
       "      <td>1.342240</td>\n",
       "      <td>1.420383</td>\n",
       "      <td>POLYGON ((214289.9999999992 4366619.999999999,...</td>\n",
       "    </tr>\n",
       "    <tr>\n",
       "      <th>3</th>\n",
       "      <td>3</td>\n",
       "      <td>6388</td>\n",
       "      <td>0</td>\n",
       "      <td>2156.385956</td>\n",
       "      <td>2146.514893</td>\n",
       "      <td>2169.937500</td>\n",
       "      <td>2156.319658</td>\n",
       "      <td>2156.319658</td>\n",
       "      <td>3.623336e+06</td>\n",
       "      <td>1680.333338</td>\n",
       "      <td>...</td>\n",
       "      <td>1.607810</td>\n",
       "      <td>1.425532</td>\n",
       "      <td>1.265397</td>\n",
       "      <td>0.753053</td>\n",
       "      <td>0.784996</td>\n",
       "      <td>1.228036</td>\n",
       "      <td>1.202826</td>\n",
       "      <td>1.338656</td>\n",
       "      <td>1.415730</td>\n",
       "      <td>POLYGON ((214380.0000000002 4366620, 214380 43...</td>\n",
       "    </tr>\n",
       "    <tr>\n",
       "      <th>4</th>\n",
       "      <td>4</td>\n",
       "      <td>6389</td>\n",
       "      <td>0</td>\n",
       "      <td>2155.930990</td>\n",
       "      <td>2138.800049</td>\n",
       "      <td>2171.084473</td>\n",
       "      <td>2157.961997</td>\n",
       "      <td>2157.961997</td>\n",
       "      <td>4.590705e+06</td>\n",
       "      <td>2127.333342</td>\n",
       "      <td>...</td>\n",
       "      <td>1.602102</td>\n",
       "      <td>1.418725</td>\n",
       "      <td>1.261980</td>\n",
       "      <td>0.753121</td>\n",
       "      <td>0.783837</td>\n",
       "      <td>1.226105</td>\n",
       "      <td>1.199664</td>\n",
       "      <td>1.335527</td>\n",
       "      <td>1.410847</td>\n",
       "      <td>POLYGON ((214470.0000000004 4366620, 214470.00...</td>\n",
       "    </tr>\n",
       "  </tbody>\n",
       "</table>\n",
       "<p>5 rows × 123 columns</p>\n",
       "</div>"
      ],
      "text/plain": [
       "   ORIG_FID  HRU_ID  HRU_TYPE     DEM_MEAN      DEM_MIN      DEM_MAX  \\\n",
       "0         0    6385         0     0.000000     0.000000     0.000000   \n",
       "1         1    6386         0  2155.573934  2148.798096  2162.991943   \n",
       "2         2    6387         0  2154.183817  2148.162109  2162.430908   \n",
       "3         3    6388         0  2156.385956  2146.514893  2169.937500   \n",
       "4         4    6389         0  2155.930990  2138.800049  2171.084473   \n",
       "\n",
       "       DEM_ADJ   DEM_FLOWAC       DEM_SUM     DEM_COUNT  ...  PPT_RT_04  \\\n",
       "0     0.000000     0.000000  0.000000e+00      0.000000  ...   1.628781   \n",
       "1  2153.812295  2153.812295  3.709343e+04     17.222222  ...   1.621702   \n",
       "2  2155.115054  2155.115054  5.653489e+07  26232.888984  ...   1.614614   \n",
       "3  2156.319658  2156.319658  3.623336e+06   1680.333338  ...   1.607810   \n",
       "4  2157.961997  2157.961997  4.590705e+06   2127.333342  ...   1.602102   \n",
       "\n",
       "   PPT_RT_05  PPT_RT_06  PPT_RT_07  PPT_RT_08  PPT_RT_09  PPT_RT_10  \\\n",
       "0   1.441631   1.275146   0.752758   0.788682   1.233684   1.213449   \n",
       "1   1.436381   1.271894   0.752859   0.787442   1.231795   1.209878   \n",
       "2   1.431120   1.268659   0.752960   0.786209   1.229917   1.206308   \n",
       "3   1.425532   1.265397   0.753053   0.784996   1.228036   1.202826   \n",
       "4   1.418725   1.261980   0.753121   0.783837   1.226105   1.199664   \n",
       "\n",
       "   PPT_RT_11  PPT_RT_12                                           geometry  \n",
       "0   1.349654   1.429642  POLYGON ((214109.9999999997 4366620, 214109.99...  \n",
       "1   1.345946   1.424998  POLYGON ((214199.9999999998 4366620.000000001,...  \n",
       "2   1.342240   1.420383  POLYGON ((214289.9999999992 4366619.999999999,...  \n",
       "3   1.338656   1.415730  POLYGON ((214380.0000000002 4366620, 214380 43...  \n",
       "4   1.335527   1.410847  POLYGON ((214470.0000000004 4366620, 214470.00...  \n",
       "\n",
       "[5 rows x 123 columns]"
      ]
     },
     "execution_count": 3,
     "metadata": {},
     "output_type": "execute_result"
    }
   ],
   "source": [
    "#Let us look at the attribute table and plot some information ....\n",
    "hru_shp.head(5) # list the first 5 rows\n"
   ]
  },
  {
   "cell_type": "code",
   "execution_count": 4,
   "metadata": {},
   "outputs": [
    {
     "data": {
      "text/plain": [
       "0       0\n",
       "1       0\n",
       "2       0\n",
       "3       0\n",
       "4       0\n",
       "5       0\n",
       "6       0\n",
       "7       0\n",
       "8       0\n",
       "9       0\n",
       "10      0\n",
       "11      0\n",
       "12      0\n",
       "13      0\n",
       "14      0\n",
       "15      0\n",
       "16      0\n",
       "17      0\n",
       "18      0\n",
       "19      0\n",
       "20      0\n",
       "21      0\n",
       "22      0\n",
       "23      0\n",
       "24      0\n",
       "25      0\n",
       "26      0\n",
       "27      0\n",
       "28      0\n",
       "29      0\n",
       "       ..\n",
       "6438    0\n",
       "6439    0\n",
       "6440    0\n",
       "6441    0\n",
       "6442    0\n",
       "6443    0\n",
       "6444    0\n",
       "6445    0\n",
       "6446    0\n",
       "6447    0\n",
       "6448    0\n",
       "6449    0\n",
       "6450    0\n",
       "6451    0\n",
       "6452    0\n",
       "6453    0\n",
       "6454    0\n",
       "6455    0\n",
       "6456    0\n",
       "6457    0\n",
       "6458    0\n",
       "6459    0\n",
       "6460    0\n",
       "6461    0\n",
       "6462    0\n",
       "6463    0\n",
       "6464    0\n",
       "6465    0\n",
       "6466    0\n",
       "6467    0\n",
       "Name: HRU_TYPE, Length: 6468, dtype: int64"
      ]
     },
     "execution_count": 4,
     "metadata": {},
     "output_type": "execute_result"
    }
   ],
   "source": [
    "# Two ways to access data in Geopandas\n",
    "hru_shp.HRU_TYPE\n",
    "hru_shp['HRU_TYPE']"
   ]
  },
  {
   "cell_type": "code",
   "execution_count": 9,
   "metadata": {
    "scrolled": true,
    "slideshow": {
     "slide_type": "-"
    }
   },
   "outputs": [
    {
     "data": {
      "text/plain": [
       "Text(0.5,1,'Active Domain')"
      ]
     },
     "execution_count": 9,
     "metadata": {},
     "output_type": "execute_result"
    },
    {
     "data": {
      "image/png": "[encoded data removed]",
      "text/plain": [
       "<Figure size 864x864 with 1 Axes>"
      ]
     },
     "metadata": {
      "needs_background": "light"
     },
     "output_type": "display_data"
    }
   ],
   "source": [
    "# We can plot any field in the attribute table\n",
    "hru_shp.plot(column='HRU_TYPE',  figsize=(12, 12))\n",
    "plt.title(\"Active Domain\")"
   ]
  },
  {
   "cell_type": "code",
   "execution_count": 11,
   "metadata": {
    "slideshow": {
     "slide_type": "slide"
    }
   },
   "outputs": [
    {
     "name": "stdout",
     "output_type": "stream",
     "text": [
      "Index([  u'ORIG_FID',     u'HRU_ID',   u'HRU_TYPE',   u'DEM_MEAN',\n",
      "          u'DEM_MIN',    u'DEM_MAX',    u'DEM_ADJ', u'DEM_FLOWAC',\n",
      "          u'DEM_SUM',  u'DEM_COUNT',\n",
      "       ...\n",
      "        u'PPT_RT_04',  u'PPT_RT_05',  u'PPT_RT_06',  u'PPT_RT_07',\n",
      "        u'PPT_RT_08',  u'PPT_RT_09',  u'PPT_RT_10',  u'PPT_RT_11',\n",
      "        u'PPT_RT_12',   u'geometry'],\n",
      "      dtype='object', length=123)\n"
     ]
    }
   ],
   "source": [
    "## access other values in hru shapefile\n",
    "print(hru_shp.columns)"
   ]
  },
  {
   "cell_type": "code",
   "execution_count": 12,
   "metadata": {
    "slideshow": {
     "slide_type": "slide"
    }
   },
   "outputs": [
    {
     "data": {
      "text/html": [
       "<div>\n",
       "<style scoped>\n",
       "    .dataframe tbody tr th:only-of-type {\n",
       "        vertical-align: middle;\n",
       "    }\n",
       "\n",
       "    .dataframe tbody tr th {\n",
       "        vertical-align: top;\n",
       "    }\n",
       "\n",
       "    .dataframe thead th {\n",
       "        text-align: right;\n",
       "    }\n",
       "</style>\n",
       "<table border=\"1\" class=\"dataframe\">\n",
       "  <thead>\n",
       "    <tr style=\"text-align: right;\">\n",
       "      <th></th>\n",
       "      <th>ORIG_FID</th>\n",
       "      <th>HRU_ID</th>\n",
       "      <th>HRU_TYPE</th>\n",
       "      <th>DEM_MEAN</th>\n",
       "      <th>DEM_MIN</th>\n",
       "      <th>DEM_MAX</th>\n",
       "      <th>DEM_ADJ</th>\n",
       "      <th>DEM_FLOWAC</th>\n",
       "      <th>DEM_SUM</th>\n",
       "      <th>DEM_COUNT</th>\n",
       "      <th>...</th>\n",
       "      <th>PPT_RT_04</th>\n",
       "      <th>PPT_RT_05</th>\n",
       "      <th>PPT_RT_06</th>\n",
       "      <th>PPT_RT_07</th>\n",
       "      <th>PPT_RT_08</th>\n",
       "      <th>PPT_RT_09</th>\n",
       "      <th>PPT_RT_10</th>\n",
       "      <th>PPT_RT_11</th>\n",
       "      <th>PPT_RT_12</th>\n",
       "      <th>geometry</th>\n",
       "    </tr>\n",
       "  </thead>\n",
       "  <tbody>\n",
       "    <tr>\n",
       "      <th>6384</th>\n",
       "      <td>6384</td>\n",
       "      <td>1</td>\n",
       "      <td>0</td>\n",
       "      <td>0.000000</td>\n",
       "      <td>0.000000</td>\n",
       "      <td>0.000000</td>\n",
       "      <td>0.000000</td>\n",
       "      <td>0.000000</td>\n",
       "      <td>0.000000e+00</td>\n",
       "      <td>0.000000</td>\n",
       "      <td>...</td>\n",
       "      <td>1.461386</td>\n",
       "      <td>1.268604</td>\n",
       "      <td>1.237557</td>\n",
       "      <td>0.763988</td>\n",
       "      <td>0.843679</td>\n",
       "      <td>1.134607</td>\n",
       "      <td>1.090439</td>\n",
       "      <td>1.236109</td>\n",
       "      <td>1.268562</td>\n",
       "      <td>POLYGON ((214109.9999999991 4373460, 214109.99...</td>\n",
       "    </tr>\n",
       "    <tr>\n",
       "      <th>6385</th>\n",
       "      <td>6385</td>\n",
       "      <td>2</td>\n",
       "      <td>0</td>\n",
       "      <td>2262.516089</td>\n",
       "      <td>2258.191162</td>\n",
       "      <td>2266.902344</td>\n",
       "      <td>2263.840296</td>\n",
       "      <td>2263.840296</td>\n",
       "      <td>8.049210e+03</td>\n",
       "      <td>3.555556</td>\n",
       "      <td>...</td>\n",
       "      <td>1.450216</td>\n",
       "      <td>1.260646</td>\n",
       "      <td>1.227800</td>\n",
       "      <td>0.763567</td>\n",
       "      <td>0.841841</td>\n",
       "      <td>1.127708</td>\n",
       "      <td>1.082442</td>\n",
       "      <td>1.231173</td>\n",
       "      <td>1.255939</td>\n",
       "      <td>POLYGON ((214200.0000000008 4373460, 214200.00...</td>\n",
       "    </tr>\n",
       "    <tr>\n",
       "      <th>6386</th>\n",
       "      <td>6386</td>\n",
       "      <td>3</td>\n",
       "      <td>0</td>\n",
       "      <td>2255.165554</td>\n",
       "      <td>2244.793213</td>\n",
       "      <td>2265.228027</td>\n",
       "      <td>2254.396002</td>\n",
       "      <td>2254.396002</td>\n",
       "      <td>5.831371e+05</td>\n",
       "      <td>258.666668</td>\n",
       "      <td>...</td>\n",
       "      <td>1.439087</td>\n",
       "      <td>1.252721</td>\n",
       "      <td>1.218062</td>\n",
       "      <td>0.763156</td>\n",
       "      <td>0.840007</td>\n",
       "      <td>1.120825</td>\n",
       "      <td>1.074450</td>\n",
       "      <td>1.226271</td>\n",
       "      <td>1.243327</td>\n",
       "      <td>POLYGON ((214289.9999999995 4373460, 214290.00...</td>\n",
       "    </tr>\n",
       "    <tr>\n",
       "      <th>6387</th>\n",
       "      <td>6387</td>\n",
       "      <td>4</td>\n",
       "      <td>0</td>\n",
       "      <td>2240.516260</td>\n",
       "      <td>2229.566406</td>\n",
       "      <td>2252.458984</td>\n",
       "      <td>2239.065411</td>\n",
       "      <td>2239.065411</td>\n",
       "      <td>1.346176e+06</td>\n",
       "      <td>601.222219</td>\n",
       "      <td>...</td>\n",
       "      <td>1.428001</td>\n",
       "      <td>1.244831</td>\n",
       "      <td>1.208341</td>\n",
       "      <td>0.762753</td>\n",
       "      <td>0.838176</td>\n",
       "      <td>1.113957</td>\n",
       "      <td>1.066462</td>\n",
       "      <td>1.221406</td>\n",
       "      <td>1.230729</td>\n",
       "      <td>POLYGON ((214379.9999999999 4373460, 214380.00...</td>\n",
       "    </tr>\n",
       "    <tr>\n",
       "      <th>6388</th>\n",
       "      <td>6388</td>\n",
       "      <td>5</td>\n",
       "      <td>0</td>\n",
       "      <td>2222.017708</td>\n",
       "      <td>2211.253662</td>\n",
       "      <td>2231.781250</td>\n",
       "      <td>2224.504575</td>\n",
       "      <td>2224.504575</td>\n",
       "      <td>4.154139e+06</td>\n",
       "      <td>1867.444452</td>\n",
       "      <td>...</td>\n",
       "      <td>1.416957</td>\n",
       "      <td>1.236974</td>\n",
       "      <td>1.198639</td>\n",
       "      <td>0.762360</td>\n",
       "      <td>0.836347</td>\n",
       "      <td>1.107105</td>\n",
       "      <td>1.058479</td>\n",
       "      <td>1.216576</td>\n",
       "      <td>1.218142</td>\n",
       "      <td>POLYGON ((214469.9999999997 4373460, 214469.99...</td>\n",
       "    </tr>\n",
       "  </tbody>\n",
       "</table>\n",
       "<p>5 rows × 123 columns</p>\n",
       "</div>"
      ],
      "text/plain": [
       "      ORIG_FID  HRU_ID  HRU_TYPE     DEM_MEAN      DEM_MIN      DEM_MAX  \\\n",
       "6384      6384       1         0     0.000000     0.000000     0.000000   \n",
       "6385      6385       2         0  2262.516089  2258.191162  2266.902344   \n",
       "6386      6386       3         0  2255.165554  2244.793213  2265.228027   \n",
       "6387      6387       4         0  2240.516260  2229.566406  2252.458984   \n",
       "6388      6388       5         0  2222.017708  2211.253662  2231.781250   \n",
       "\n",
       "          DEM_ADJ   DEM_FLOWAC       DEM_SUM    DEM_COUNT  ...  PPT_RT_04  \\\n",
       "6384     0.000000     0.000000  0.000000e+00     0.000000  ...   1.461386   \n",
       "6385  2263.840296  2263.840296  8.049210e+03     3.555556  ...   1.450216   \n",
       "6386  2254.396002  2254.396002  5.831371e+05   258.666668  ...   1.439087   \n",
       "6387  2239.065411  2239.065411  1.346176e+06   601.222219  ...   1.428001   \n",
       "6388  2224.504575  2224.504575  4.154139e+06  1867.444452  ...   1.416957   \n",
       "\n",
       "      PPT_RT_05  PPT_RT_06  PPT_RT_07  PPT_RT_08  PPT_RT_09  PPT_RT_10  \\\n",
       "6384   1.268604   1.237557   0.763988   0.843679   1.134607   1.090439   \n",
       "6385   1.260646   1.227800   0.763567   0.841841   1.127708   1.082442   \n",
       "6386   1.252721   1.218062   0.763156   0.840007   1.120825   1.074450   \n",
       "6387   1.244831   1.208341   0.762753   0.838176   1.113957   1.066462   \n",
       "6388   1.236974   1.198639   0.762360   0.836347   1.107105   1.058479   \n",
       "\n",
       "      PPT_RT_11  PPT_RT_12                                           geometry  \n",
       "6384   1.236109   1.268562  POLYGON ((214109.9999999991 4373460, 214109.99...  \n",
       "6385   1.231173   1.255939  POLYGON ((214200.0000000008 4373460, 214200.00...  \n",
       "6386   1.226271   1.243327  POLYGON ((214289.9999999995 4373460, 214290.00...  \n",
       "6387   1.221406   1.230729  POLYGON ((214379.9999999999 4373460, 214380.00...  \n",
       "6388   1.216576   1.218142  POLYGON ((214469.9999999997 4373460, 214469.99...  \n",
       "\n",
       "[5 rows x 123 columns]"
      ]
     },
     "execution_count": 12,
     "metadata": {},
     "output_type": "execute_result"
    }
   ],
   "source": [
    "# sort attribute table data so that the HRU_ID sorted as 1,2,3,...\n",
    "hru_shp = hru_shp.sort_values(by=['HRU_ID'])\n",
    "hru_shp.head(5)"
   ]
  },
  {
   "cell_type": "markdown",
   "metadata": {
    "slideshow": {
     "slide_type": "slide"
    }
   },
   "source": [
    "### FLOPY\n"
   ]
  },
  {
   "cell_type": "code",
   "execution_count": 22,
   "metadata": {
    "slideshow": {
     "slide_type": "slide"
    }
   },
   "outputs": [
    {
     "name": "stdout",
     "output_type": "stream",
     "text": [
      "MODFLOW 0 layer(s) 0 row(s) 0 column(s) 0 stress period(s)\n"
     ]
    }
   ],
   "source": [
    "# Generate an empty flopy object. \n",
    "model_name = \"saghen\"   # model name\n",
    "workspace = os.path.join(os.getcwd(), 'modflow')         # Work space folder\n",
    "exe_file = r\"..\\..\\bin\\MODFLOW-NWT\"   # The location of the executable Modflow\n",
    "\n",
    "mf = flopy.modflow.Modflow(model_name, model_ws=workspace, exe_name=exe_file,  version='mfnwt')\n",
    "print(mf)"
   ]
  },
  {
   "cell_type": "markdown",
   "metadata": {
    "slideshow": {
     "slide_type": "slide"
    }
   },
   "source": [
    "### Model discretization - DIS package\n",
    "* This package define the spatial and time domain of the problem,\n",
    "* Discretize the domain using the grid used for HRU\n",
    " <img src=\".\\figures\\dis.png\">"
   ]
  },
  {
   "cell_type": "code",
   "execution_count": 23,
   "metadata": {},
   "outputs": [
    {
     "name": "stdout",
     "output_type": "stream",
     "text": [
      "(84, 77)\n"
     ]
    }
   ],
   "source": [
    "# Define the grid -- Space descritization\n",
    "n_row = hru_shp[\"HRU_ROW\"].max()    # number of rows\n",
    "n_col = hru_shp['HRU_COL'].max()    # number of cols\n",
    "del_r = 90.0                        # Can you get cell size from hru_param? hru_shp.HRU_X[1] - hru_shp.HRU_X[0]?\n",
    "del_c = 90.0\n",
    "print(n_col, n_row)"
   ]
  },
  {
   "cell_type": "code",
   "execution_count": 24,
   "metadata": {},
   "outputs": [
    {
     "data": {
      "text/plain": [
       "<matplotlib.colorbar.Colorbar at 0x1609b438>"
      ]
     },
     "execution_count": 24,
     "metadata": {},
     "output_type": "execute_result"
    },
    {
     "data": {
      "image/png": "[encoded data removed]",
      "text/plain": [
       "<Figure size 432x288 with 2 Axes>"
      ]
     },
     "metadata": {
      "needs_background": "light"
     },
     "output_type": "display_data"
    }
   ],
   "source": [
    "# The domain groundwater model is a 3D, so we need to specify the \n",
    "# Vertical discretization (number of layers and their elevations) \n",
    "nlayrs = 2                           # Number of the layers\n",
    "thk1 = np.loadtxt(r\"../models_data/misc/thickness1.txt\")            # thickness of layer 1 \n",
    "thk2 =  np.loadtxt(r\"../models_data/misc/thickness2.txt\")           # thickness of layer 2 \n",
    "\n",
    "plt.imshow(thk2); plt.colorbar()\n"
   ]
  },
  {
   "cell_type": "code",
   "execution_count": 25,
   "metadata": {
    "slideshow": {
     "slide_type": "slide"
    }
   },
   "outputs": [
    {
     "data": {
      "text/plain": [
       "Text(0.5,1,'Bottom of layer2')"
      ]
     },
     "execution_count": 25,
     "metadata": {},
     "output_type": "execute_result"
    },
    {
     "data": {
      "image/png": "[encoded data removed]",
      "text/plain": [
       "<Figure size 1080x1080 with 4 Axes>"
      ]
     },
     "metadata": {
      "needs_background": "light"
     },
     "output_type": "display_data"
    }
   ],
   "source": [
    "# Layers elevation\n",
    "top_elv = hru_shp[\"DEM_ADJ\"].values.reshape(n_row, n_col)   # Ground surface elevation\n",
    "\n",
    "\n",
    "botm_elvs = np.zeros((nlayrs, n_row, n_col))                # 3D array that will hold the elevation of bottoms of each layer\n",
    "botm_elvs[0,:,:] = top_elv - thk1                           # bottom of layer 1\n",
    "botm_elvs[1,:,:] = botm_elvs[0,:,:] - thk2                  # bottom of layer 2\n",
    "\n",
    "# plots\n",
    "f, axs = plt.subplots(2,1,figsize=(15,15))\n",
    "plt.subplot(1,2,1)\n",
    "btm1 = np.ma.masked_where(thk1<2.0, botm_elvs[0,:,:])\n",
    "plt.imshow( btm1, cmap = 'jet'); plt.colorbar(fraction=0.046, pad=0.04); plt.title(\"Bottom of layer1\")\n",
    "plt.subplot(1,2,2)\n",
    "btm2 = np.ma.masked_where(thk1<2.0, botm_elvs[1,:,:])\n",
    "plt.imshow(btm2, cmap = 'jet'); plt.colorbar(fraction=0.046, pad=0.04);  plt.title(\"Bottom of layer2\")\n"
   ]
  },
  {
   "cell_type": "markdown",
   "metadata": {},
   "source": [
    "### Discretization of Simulation Period\n",
    "<img src = \".\\figures\\StressPeriod.png\">"
   ]
  },
  {
   "cell_type": "code",
   "execution_count": 26,
   "metadata": {
    "slideshow": {
     "slide_type": "slide"
    }
   },
   "outputs": [
    {
     "data": {
      "text/plain": [
       "MODFLOW 2 layer(s) 77 row(s) 84 column(s) 2 stress period(s)"
      ]
     },
     "execution_count": 26,
     "metadata": {},
     "output_type": "execute_result"
    }
   ],
   "source": [
    "# Simulation period & time steps -- -- Temporal discretization\n",
    "start_date = datetime.date(year = 1982,month = 8,day = 1)\n",
    "end_date = datetime.date(year = 1997,month = 3,day = 31)\n",
    "time_span = end_date - start_date\n",
    "time_span = time_span.days\n",
    "nper = 2                                            # Number of stress periods\n",
    "perlen = [1.0, time_span]                           # length of each stress period\n",
    "nstp =   [1.0, time_span]                           # time steps in each stress period\n",
    "is_steady =[ True, False]                           # First stress period is Steady-state, the second is Transient\n",
    "tim_unit = 4                                        # days\n",
    "len_unit = 2                                        # meters\n",
    "xul = hru_shp.total_bounds[0]                       # x coordinate of upper left corner of the grid\n",
    "yul = hru_shp.total_bounds[3]                       # y coordinate of upper left corner of the grid,\n",
    "\n",
    "# Now generate the dis object. The object holds all the information about the grid and simulation time.\n",
    "dis = flopy.modflow.ModflowDis(mf, nlay=nlayrs, nrow=n_row, ncol=n_col, delr=del_r, delc=del_c,top=top_elv, botm=botm_elvs, \n",
    "                                       nper=nper, perlen=perlen, nstp=nstp, steady=is_steady,  itmuni= tim_unit, \n",
    "                                       lenuni = len_unit)  \n",
    "\n",
    "mf"
   ]
  },
  {
   "cell_type": "markdown",
   "metadata": {},
   "source": [
    "### Important Resources\n",
    "#### Flopy Documentation\n",
    "http://modflowpy.github.io/flopydoc/\n",
    "\n",
    "#### MODFLOW online help \n",
    "https://water.usgs.gov/ogw/modflow/MODFLOW-2005-Guide/"
   ]
  },
  {
   "cell_type": "code",
   "execution_count": 27,
   "metadata": {
    "slideshow": {
     "slide_type": "slide"
    }
   },
   "outputs": [
    {
     "data": {
      "text/plain": [
       "[<matplotlib.axes._subplots.AxesSubplot at 0x13fa6fd0>,\n",
       " <matplotlib.axes._subplots.AxesSubplot at 0x13280ba8>,\n",
       " <matplotlib.axes._subplots.AxesSubplot at 0x13447710>,\n",
       " <matplotlib.axes._subplots.AxesSubplot at 0x14b1cba8>,\n",
       " <matplotlib.axes._subplots.AxesSubplot at 0x14240128>]"
      ]
     },
     "execution_count": 27,
     "metadata": {},
     "output_type": "execute_result"
    },
    {
     "data": {
      "image/png": "[encoded data removed]",
      "text/plain": [
       "<Figure size 432x288 with 2 Axes>"
      ]
     },
     "metadata": {
      "needs_background": "light"
     },
     "output_type": "display_data"
    },
    {
     "data": {
      "image/png": "[encoded data removed]",
      "text/plain": [
       "<Figure size 432x288 with 2 Axes>"
      ]
     },
     "metadata": {
      "needs_background": "light"
     },
     "output_type": "display_data"
    },
    {
     "data": {
      "image/png": "[encoded data removed]",
      "text/plain": [
       "<Figure size 432x288 with 2 Axes>"
      ]
     },
     "metadata": {
      "needs_background": "light"
     },
     "output_type": "display_data"
    },
    {
     "data": {
      "image/png": "[encoded data removed]",
      "text/plain": [
       "<Figure size 432x288 with 2 Axes>"
      ]
     },
     "metadata": {
      "needs_background": "light"
     },
     "output_type": "display_data"
    },
    {
     "data": {
      "image/png": "[encoded data removed]",
      "text/plain": [
       "<Figure size 432x288 with 2 Axes>"
      ]
     },
     "metadata": {
      "needs_background": "light"
     },
     "output_type": "display_data"
    }
   ],
   "source": [
    "#dis.botm.array\n",
    "#dis.check()\n",
    "dis.plot()"
   ]
  },
  {
   "cell_type": "markdown",
   "metadata": {
    "slideshow": {
     "slide_type": "slide"
    }
   },
   "source": [
    "### BAS Package\n",
    "* Define active and inactive zones\n",
    "    * HRU_TYPE = 0 --- Inactive\n",
    "    * HRU_TYPE = 1 --- Active\n",
    "    * HRU_TYPE = 2 --- Lake\n",
    "    \n",
    "* Define the satring head in the model\n",
    "\n",
    "<img src=\".\\figures\\cell_types.png\">"
   ]
  },
  {
   "cell_type": "code",
   "execution_count": 28,
   "metadata": {
    "slideshow": {
     "slide_type": "slide"
    }
   },
   "outputs": [
    {
     "data": {
      "text/plain": [
       "<matplotlib.image.AxesImage at 0x14bb3cf8>"
      ]
     },
     "execution_count": 28,
     "metadata": {},
     "output_type": "execute_result"
    },
    {
     "data": {
      "image/png": "[encoded data removed]",
      "text/plain": [
       "<Figure size 432x288 with 1 Axes>"
      ]
     },
     "metadata": {
      "needs_background": "light"
     },
     "output_type": "display_data"
    }
   ],
   "source": [
    "## Read HRU_TYPE from hru shape file and reshape it into 2D domain\n",
    "ibound2d = hru_shp[\"HRU_TYPE\"].values.reshape(n_row, n_col)\n",
    "\n",
    "plt.imshow(ibound2d)"
   ]
  },
  {
   "cell_type": "code",
   "execution_count": 29,
   "metadata": {},
   "outputs": [
    {
     "data": {
      "text/plain": [
       "<matplotlib.image.AxesImage at 0x15032438>"
      ]
     },
     "execution_count": 29,
     "metadata": {},
     "output_type": "execute_result"
    },
    {
     "data": {
      "image/png": "[encoded data removed]",
      "text/plain": [
       "<Figure size 432x288 with 1 Axes>"
      ]
     },
     "metadata": {
      "needs_background": "light"
     },
     "output_type": "display_data"
    }
   ],
   "source": [
    "## Constant Head\n",
    "const_head_rows = [41,42,43]\n",
    "const_head_cols = [79,79,79]\n",
    "ibound2d[const_head_rows, const_head_cols] = -1\n",
    "plt.imshow(ibound2d)\n"
   ]
  },
  {
   "cell_type": "code",
   "execution_count": 31,
   "metadata": {},
   "outputs": [
    {
     "data": {
      "text/plain": [
       "(2L, 77L, 84L)"
      ]
     },
     "execution_count": 31,
     "metadata": {},
     "output_type": "execute_result"
    }
   ],
   "source": [
    "## HRU shapefile has a 2D map of the inactive zones, so we need to define the active domain for the 3D groundwater domain.\n",
    "ibound3d = np.zeros((nlayrs, n_row, n_col))\n",
    "for lay in range(nlayrs):\n",
    "    ibound3d[lay, :,:] = ibound2d\n",
    "    \n",
    "\n",
    "ibound3d.shape"
   ]
  },
  {
   "cell_type": "code",
   "execution_count": 32,
   "metadata": {},
   "outputs": [
    {
     "data": {
      "text/plain": [
       "[<matplotlib.axes._subplots.AxesSubplot at 0x151f42e8>,\n",
       " <matplotlib.axes._subplots.AxesSubplot at 0x155af240>,\n",
       " <matplotlib.axes._subplots.AxesSubplot at 0x15bf27b8>,\n",
       " <matplotlib.axes._subplots.AxesSubplot at 0x19d335c0>]"
      ]
     },
     "execution_count": 32,
     "metadata": {},
     "output_type": "execute_result"
    },
    {
     "data": {
      "image/png": "[encoded data removed]",
      "text/plain": [
       "<Figure size 432x288 with 2 Axes>"
      ]
     },
     "metadata": {
      "needs_background": "light"
     },
     "output_type": "display_data"
    },
    {
     "data": {
      "image/png": "[encoded data removed]",
      "text/plain": [
       "<Figure size 432x288 with 2 Axes>"
      ]
     },
     "metadata": {
      "needs_background": "light"
     },
     "output_type": "display_data"
    },
    {
     "data": {
      "image/png": "[encoded data removed]",
      "text/plain": [
       "<Figure size 432x288 with 2 Axes>"
      ]
     },
     "metadata": {
      "needs_background": "light"
     },
     "output_type": "display_data"
    },
    {
     "data": {
      "image/png": "[encoded data removed]",
      "text/plain": [
       "<Figure size 432x288 with 2 Axes>"
      ]
     },
     "metadata": {
      "needs_background": "light"
     },
     "output_type": "display_data"
    }
   ],
   "source": [
    "## initial head\n",
    "initial_head = np.zeros((nlayrs, n_row, n_col)) \n",
    "\n",
    "strt1 = np.loadtxt(r\"../models_data/misc/initial_head1.txt\")\n",
    "strt2 = np.loadtxt(r\"../models_data/misc/initial_head2.txt\")\n",
    "# strt1 = mf.dis.top.array \n",
    "# strt2 =  mf.dis.top.array \n",
    "initial_head[0,:,:] = strt1\n",
    "initial_head[1,:,:] = strt2\n",
    "\n",
    "bas = flopy.modflow.ModflowBas(mf, ibound=ibound3d, strt=initial_head)\n",
    "bas.plot()"
   ]
  },
  {
   "cell_type": "code",
   "execution_count": null,
   "metadata": {
    "slideshow": {
     "slide_type": "slide"
    }
   },
   "outputs": [],
   "source": []
  },
  {
   "cell_type": "code",
   "execution_count": 33,
   "metadata": {
    "slideshow": {
     "slide_type": "slide"
    }
   },
   "outputs": [
    {
     "data": {
      "text/plain": [
       "['DIS', 'BAS6']"
      ]
     },
     "execution_count": 33,
     "metadata": {},
     "output_type": "execute_result"
    }
   ],
   "source": [
    "# Check packages that are assigned so far...\n",
    "mf.get_package_list()\n"
   ]
  },
  {
   "cell_type": "markdown",
   "metadata": {},
   "source": [
    "## Ploting the Grid ...."
   ]
  },
  {
   "cell_type": "code",
   "execution_count": 19,
   "metadata": {
    "slideshow": {
     "slide_type": "slide"
    }
   },
   "outputs": [
    {
     "data": {
      "image/png": "[encoded data removed]",
      "text/plain": [
       "<Figure size 576x576 with 1 Axes>"
      ]
     },
     "metadata": {
      "needs_background": "light"
     },
     "output_type": "display_data"
    }
   ],
   "source": [
    "fig = plt.figure(figsize=(8, 8))\n",
    "ax = fig.add_subplot(1, 1, 1, aspect='equal')\n",
    "modelmap = flopy.plot.ModelMap(model=mf, rotation=0.0)\n",
    "quadmesh = modelmap.plot_ibound()\n",
    "linecollection = modelmap.plot_grid()\n",
    "\n"
   ]
  },
  {
   "cell_type": "code",
   "execution_count": 20,
   "metadata": {},
   "outputs": [
    {
     "data": {
      "image/png": "[encoded data removed]",
      "text/plain": [
       "<Figure size 1440x720 with 2 Axes>"
      ]
     },
     "metadata": {
      "needs_background": "light"
     },
     "output_type": "display_data"
    }
   ],
   "source": [
    "# cross section\n",
    "fig = plt.figure(figsize=(20, 10))\n",
    "col_num = 50\n",
    "ax = fig.add_subplot(1, 2, 1)\n",
    "modelxsect = flopy.plot.ModelCrossSection(model=mf, line={'Column': col_num})\n",
    "patches = modelxsect.plot_ibound()\n",
    "linecollection = modelxsect.plot_grid()\n",
    "t = ax.set_title('Column{}'.format(col_num))\n",
    "\n",
    "ax = fig.add_subplot(1, 2, 2)\n",
    "row_num = 50\n",
    "modelxsect = flopy.plot.ModelCrossSection(model=mf, line={'Row': row_num})\n",
    "patches = modelxsect.plot_ibound()\n",
    "linecollection = modelxsect.plot_grid()\n",
    "plt.ylim(2600,1500)\n",
    "ax.invert_yaxis()\n",
    "t = ax.set_title('Row {}'.format(row_num))\n"
   ]
  },
  {
   "cell_type": "markdown",
   "metadata": {
    "slideshow": {
     "slide_type": "slide"
    }
   },
   "source": [
    "###  Upstream Weighting package (UPW) \n",
    "When MODFLOW-NWT is used the UPW package must be used. For other versions of MODFLOW, the LPF package can be used. \n",
    "\n",
    "This package is used to define the hydraulic properties of the aquifer such as:\n",
    "*  horizontal and vertical hydraulic conductivity, \n",
    "*  storage terms such as the specific storage and specfic yield.\n",
    "*  Anistropy \n",
    "*  Layer type (Confined, unconfined, convertable)"
   ]
  },
  {
   "cell_type": "code",
   "execution_count": null,
   "metadata": {
    "slideshow": {
     "slide_type": "slide"
    }
   },
   "outputs": [],
   "source": [
    "\n",
    "\n"
   ]
  },
  {
   "cell_type": "code",
   "execution_count": 21,
   "metadata": {
    "slideshow": {
     "slide_type": "slide"
    }
   },
   "outputs": [],
   "source": [
    "laytyp = np.ones(nlayrs)  # convertable layer\n",
    "avg_typ = 0               # 0 is harmonic mean 1 is logarithmic mean 2 is arithmetic mean \n",
    "h_anis = 1.0              # a flag or the horizontal anisotropy\n",
    "layvka = 0                # 0—indicates VKA is vertical hydraulic conductivity\n",
    "laywet = np.zeros(nlayrs) #contains a flag for each layer that indicates if wetting is active. \n",
    "                          #laywet should always be zero for the UPW Package \n",
    "# Hydraulic conductivity\n",
    "kh = np.zeros((nlayrs, n_row, n_col))\n",
    "kh[0,:,:] = np.loadtxt(r\"../models_data/misc/hk1.txt\")\n",
    "kh[1,:,:]=np.loadtxt(r\"../models_data/misc/hk2.txt\")\n",
    "\n",
    "# Specific Storage\n",
    "ss = np.zeros((nlayrs, n_row, n_col))\n",
    "ss[0,:,:] = np.loadtxt(r\"../models_data/misc/ss1.txt\")\n",
    "ss[1,:,:]=np.loadtxt(r\"../models_data/misc/ss2.txt\")\n",
    "\n",
    "# Specific Storage\n",
    "sy = np.zeros((nlayrs, n_row, n_col))\n",
    "sy[0,:,:] = np.loadtxt(r\"../models_data/misc/sy1.txt\")\n",
    "sy[1,:,:]=np.loadtxt(r\"../models_data/misc/sy1.txt\")  \n",
    "\n",
    "\n",
    "upw = flopy.modflow.mfupw.ModflowUpw(mf, laytyp=laytyp, layavg=avg_typ, chani=h_anis, layvka=layvka, laywet=laywet,\n",
    "                                             hdry=-1e+30, iphdry=0, hk=kh, hani=1.0, vka=(kh * 0.1), ss=ss, sy=sy,\n",
    "                                             vkcb=0.0, noparcheck=False, ipakcb = 55 , extension='upw')\n",
    "\n",
    "## Can you Check UPW package? \n"
   ]
  },
  {
   "cell_type": "code",
   "execution_count": 22,
   "metadata": {
    "slideshow": {
     "slide_type": "slide"
    }
   },
   "outputs": [
    {
     "data": {
      "text/plain": [
       "<matplotlib.image.AxesImage at 0x1410bdb0>"
      ]
     },
     "execution_count": 22,
     "metadata": {},
     "output_type": "execute_result"
    },
    {
     "data": {
      "image/png": "[encoded data removed]",
      "text/plain": [
       "<Figure size 432x288 with 1 Axes>"
      ]
     },
     "metadata": {
      "needs_background": "light"
     },
     "output_type": "display_data"
    }
   ],
   "source": [
    "plt.imshow(sy[1,:,:]<=0.01)\n"
   ]
  },
  {
   "cell_type": "markdown",
   "metadata": {
    "slideshow": {
     "slide_type": "slide"
    }
   },
   "source": [
    "### Streamflow-Routing (SFR2) Package\n",
    "The package is used to simulate stream flow and the interaction between the groundwater aquifer and the stream network.\n",
    "\n",
    "<img src = \".\\figures\\sfr1.png\">\n",
    "\n",
    "#### Structure of SFR input file\n",
    "\n",
    "<img src = \".\\figures\\sfr2.png\">\n",
    "\n",
    "\n"
   ]
  },
  {
   "cell_type": "code",
   "execution_count": 23,
   "metadata": {
    "slideshow": {
     "slide_type": "slide"
    }
   },
   "outputs": [
    {
     "data": {
      "text/plain": [
       "Text(0.5,1,'Simulated stream network')"
      ]
     },
     "execution_count": 23,
     "metadata": {},
     "output_type": "execute_result"
    },
    {
     "data": {
      "image/png": "[encoded data removed]",
      "text/plain": [
       "<Figure size 720x576 with 1 Axes>"
      ]
     },
     "metadata": {
      "needs_background": "light"
     },
     "output_type": "display_data"
    }
   ],
   "source": [
    "# The stream data can be extracted from the hru shapefile by masking out all cells that has ISEG value equel to 0.\n",
    "mask = hru_shp['ISEG'] > 0\n",
    "streams_data = hru_shp[mask] # a compact form is streams_data = hru_shp[hru_shp['ISEG'] > 0]\n",
    "streams_data.plot(column = 'ISEG', cmap='Set1', figsize=(10, 8))\n",
    "plt.title(\"Simulated stream network\")\n",
    "#streams_data"
   ]
  },
  {
   "cell_type": "markdown",
   "metadata": {
    "slideshow": {
     "slide_type": "slide"
    }
   },
   "source": [
    "#### Reach Data\n",
    "Reach Data includes information about:\n",
    "* the reaches in each segments,\n",
    "* their locations(layer, row, col),\n",
    "* reach lengths, \n",
    "* streambed elevations and slopes,\n",
    "* streambed thickness,\n",
    "* streamd hydraulic conductivity,\n",
    "* properties of the unsaturated zone. "
   ]
  },
  {
   "cell_type": "code",
   "execution_count": 24,
   "metadata": {
    "slideshow": {
     "slide_type": "slide"
    }
   },
   "outputs": [
    {
     "data": {
      "text/html": [
       "<div>\n",
       "<style scoped>\n",
       "    .dataframe tbody tr th:only-of-type {\n",
       "        vertical-align: middle;\n",
       "    }\n",
       "\n",
       "    .dataframe tbody tr th {\n",
       "        vertical-align: top;\n",
       "    }\n",
       "\n",
       "    .dataframe thead th {\n",
       "        text-align: right;\n",
       "    }\n",
       "</style>\n",
       "<table border=\"1\" class=\"dataframe\">\n",
       "  <thead>\n",
       "    <tr style=\"text-align: right;\">\n",
       "      <th></th>\n",
       "      <th>node</th>\n",
       "      <th>k</th>\n",
       "      <th>i</th>\n",
       "      <th>j</th>\n",
       "      <th>iseg</th>\n",
       "      <th>ireach</th>\n",
       "      <th>rchlen</th>\n",
       "      <th>strtop</th>\n",
       "      <th>slope</th>\n",
       "      <th>strthick</th>\n",
       "      <th>strhc1</th>\n",
       "      <th>thts</th>\n",
       "      <th>thti</th>\n",
       "      <th>eps</th>\n",
       "      <th>uhc</th>\n",
       "      <th>reachID</th>\n",
       "      <th>outreach</th>\n",
       "    </tr>\n",
       "  </thead>\n",
       "  <tbody>\n",
       "    <tr>\n",
       "      <th>4267</th>\n",
       "      <td>NaN</td>\n",
       "      <td>0</td>\n",
       "      <td>26</td>\n",
       "      <td>67</td>\n",
       "      <td>1</td>\n",
       "      <td>1</td>\n",
       "      <td>127</td>\n",
       "      <td>2044.753729</td>\n",
       "      <td>0.000161</td>\n",
       "      <td>0.5</td>\n",
       "      <td>0.1</td>\n",
       "      <td>0.31</td>\n",
       "      <td>0.131</td>\n",
       "      <td>3.5</td>\n",
       "      <td>0.1</td>\n",
       "      <td>NaN</td>\n",
       "      <td>NaN</td>\n",
       "    </tr>\n",
       "    <tr>\n",
       "      <th>4184</th>\n",
       "      <td>NaN</td>\n",
       "      <td>0</td>\n",
       "      <td>27</td>\n",
       "      <td>68</td>\n",
       "      <td>1</td>\n",
       "      <td>2</td>\n",
       "      <td>127</td>\n",
       "      <td>2043.891483</td>\n",
       "      <td>0.000297</td>\n",
       "      <td>0.5</td>\n",
       "      <td>0.1</td>\n",
       "      <td>0.31</td>\n",
       "      <td>0.131</td>\n",
       "      <td>3.5</td>\n",
       "      <td>0.1</td>\n",
       "      <td>NaN</td>\n",
       "      <td>NaN</td>\n",
       "    </tr>\n",
       "    <tr>\n",
       "      <th>4101</th>\n",
       "      <td>NaN</td>\n",
       "      <td>0</td>\n",
       "      <td>28</td>\n",
       "      <td>69</td>\n",
       "      <td>1</td>\n",
       "      <td>3</td>\n",
       "      <td>127</td>\n",
       "      <td>2042.990809</td>\n",
       "      <td>0.000703</td>\n",
       "      <td>0.5</td>\n",
       "      <td>0.1</td>\n",
       "      <td>0.31</td>\n",
       "      <td>0.131</td>\n",
       "      <td>3.5</td>\n",
       "      <td>0.1</td>\n",
       "      <td>NaN</td>\n",
       "      <td>NaN</td>\n",
       "    </tr>\n",
       "    <tr>\n",
       "      <th>4018</th>\n",
       "      <td>NaN</td>\n",
       "      <td>0</td>\n",
       "      <td>29</td>\n",
       "      <td>70</td>\n",
       "      <td>1</td>\n",
       "      <td>4</td>\n",
       "      <td>109</td>\n",
       "      <td>2041.522018</td>\n",
       "      <td>0.000901</td>\n",
       "      <td>0.5</td>\n",
       "      <td>0.1</td>\n",
       "      <td>0.31</td>\n",
       "      <td>0.131</td>\n",
       "      <td>3.5</td>\n",
       "      <td>0.1</td>\n",
       "      <td>NaN</td>\n",
       "      <td>NaN</td>\n",
       "    </tr>\n",
       "    <tr>\n",
       "      <th>3934</th>\n",
       "      <td>NaN</td>\n",
       "      <td>0</td>\n",
       "      <td>30</td>\n",
       "      <td>70</td>\n",
       "      <td>1</td>\n",
       "      <td>5</td>\n",
       "      <td>109</td>\n",
       "      <td>2039.484954</td>\n",
       "      <td>0.000842</td>\n",
       "      <td>0.5</td>\n",
       "      <td>0.1</td>\n",
       "      <td>0.31</td>\n",
       "      <td>0.131</td>\n",
       "      <td>3.5</td>\n",
       "      <td>0.1</td>\n",
       "      <td>NaN</td>\n",
       "      <td>NaN</td>\n",
       "    </tr>\n",
       "    <tr>\n",
       "      <th>3851</th>\n",
       "      <td>NaN</td>\n",
       "      <td>0</td>\n",
       "      <td>31</td>\n",
       "      <td>71</td>\n",
       "      <td>1</td>\n",
       "      <td>6</td>\n",
       "      <td>109</td>\n",
       "      <td>2032.355662</td>\n",
       "      <td>0.000944</td>\n",
       "      <td>0.5</td>\n",
       "      <td>0.1</td>\n",
       "      <td>0.31</td>\n",
       "      <td>0.131</td>\n",
       "      <td>3.5</td>\n",
       "      <td>0.1</td>\n",
       "      <td>NaN</td>\n",
       "      <td>NaN</td>\n",
       "    </tr>\n",
       "    <tr>\n",
       "      <th>3767</th>\n",
       "      <td>NaN</td>\n",
       "      <td>0</td>\n",
       "      <td>32</td>\n",
       "      <td>71</td>\n",
       "      <td>1</td>\n",
       "      <td>7</td>\n",
       "      <td>90</td>\n",
       "      <td>2028.460679</td>\n",
       "      <td>0.001041</td>\n",
       "      <td>0.5</td>\n",
       "      <td>0.1</td>\n",
       "      <td>0.31</td>\n",
       "      <td>0.131</td>\n",
       "      <td>3.5</td>\n",
       "      <td>0.1</td>\n",
       "      <td>NaN</td>\n",
       "      <td>NaN</td>\n",
       "    </tr>\n",
       "    <tr>\n",
       "      <th>3683</th>\n",
       "      <td>NaN</td>\n",
       "      <td>0</td>\n",
       "      <td>33</td>\n",
       "      <td>71</td>\n",
       "      <td>1</td>\n",
       "      <td>8</td>\n",
       "      <td>109</td>\n",
       "      <td>2022.365337</td>\n",
       "      <td>0.001437</td>\n",
       "      <td>0.5</td>\n",
       "      <td>0.1</td>\n",
       "      <td>0.31</td>\n",
       "      <td>0.131</td>\n",
       "      <td>3.5</td>\n",
       "      <td>0.1</td>\n",
       "      <td>NaN</td>\n",
       "      <td>NaN</td>\n",
       "    </tr>\n",
       "    <tr>\n",
       "      <th>3600</th>\n",
       "      <td>NaN</td>\n",
       "      <td>0</td>\n",
       "      <td>34</td>\n",
       "      <td>72</td>\n",
       "      <td>1</td>\n",
       "      <td>9</td>\n",
       "      <td>109</td>\n",
       "      <td>2009.734800</td>\n",
       "      <td>0.001748</td>\n",
       "      <td>0.5</td>\n",
       "      <td>0.1</td>\n",
       "      <td>0.31</td>\n",
       "      <td>0.131</td>\n",
       "      <td>3.5</td>\n",
       "      <td>0.1</td>\n",
       "      <td>NaN</td>\n",
       "      <td>NaN</td>\n",
       "    </tr>\n",
       "    <tr>\n",
       "      <th>3486</th>\n",
       "      <td>NaN</td>\n",
       "      <td>0</td>\n",
       "      <td>35</td>\n",
       "      <td>42</td>\n",
       "      <td>2</td>\n",
       "      <td>4</td>\n",
       "      <td>109</td>\n",
       "      <td>2031.777962</td>\n",
       "      <td>0.001010</td>\n",
       "      <td>0.5</td>\n",
       "      <td>0.1</td>\n",
       "      <td>0.31</td>\n",
       "      <td>0.131</td>\n",
       "      <td>3.5</td>\n",
       "      <td>0.1</td>\n",
       "      <td>NaN</td>\n",
       "      <td>NaN</td>\n",
       "    </tr>\n",
       "  </tbody>\n",
       "</table>\n",
       "</div>"
      ],
      "text/plain": [
       "      node  k   i   j  iseg  ireach  rchlen       strtop     slope  strthick  \\\n",
       "4267   NaN  0  26  67     1       1     127  2044.753729  0.000161       0.5   \n",
       "4184   NaN  0  27  68     1       2     127  2043.891483  0.000297       0.5   \n",
       "4101   NaN  0  28  69     1       3     127  2042.990809  0.000703       0.5   \n",
       "4018   NaN  0  29  70     1       4     109  2041.522018  0.000901       0.5   \n",
       "3934   NaN  0  30  70     1       5     109  2039.484954  0.000842       0.5   \n",
       "3851   NaN  0  31  71     1       6     109  2032.355662  0.000944       0.5   \n",
       "3767   NaN  0  32  71     1       7      90  2028.460679  0.001041       0.5   \n",
       "3683   NaN  0  33  71     1       8     109  2022.365337  0.001437       0.5   \n",
       "3600   NaN  0  34  72     1       9     109  2009.734800  0.001748       0.5   \n",
       "3486   NaN  0  35  42     2       4     109  2031.777962  0.001010       0.5   \n",
       "\n",
       "      strhc1  thts   thti  eps  uhc  reachID  outreach  \n",
       "4267     0.1  0.31  0.131  3.5  0.1      NaN       NaN  \n",
       "4184     0.1  0.31  0.131  3.5  0.1      NaN       NaN  \n",
       "4101     0.1  0.31  0.131  3.5  0.1      NaN       NaN  \n",
       "4018     0.1  0.31  0.131  3.5  0.1      NaN       NaN  \n",
       "3934     0.1  0.31  0.131  3.5  0.1      NaN       NaN  \n",
       "3851     0.1  0.31  0.131  3.5  0.1      NaN       NaN  \n",
       "3767     0.1  0.31  0.131  3.5  0.1      NaN       NaN  \n",
       "3683     0.1  0.31  0.131  3.5  0.1      NaN       NaN  \n",
       "3600     0.1  0.31  0.131  3.5  0.1      NaN       NaN  \n",
       "3486     0.1  0.31  0.131  3.5  0.1      NaN       NaN  "
      ]
     },
     "execution_count": 24,
     "metadata": {},
     "output_type": "execute_result"
    }
   ],
   "source": [
    "## Reach Data\n",
    "# The reach data will be saved in a Pandas dataframe, which will make it simpler to handle the tabular data.\n",
    "# Table fields name\n",
    "reach_data_labels = ['node', 'k',  'i', 'j','iseg', 'ireach','rchlen', 'strtop', 'slope',\n",
    "                     'strthick','strhc1', 'thts',  'thti','eps', 'uhc', 'reachID', 'outreach']\n",
    "# Initialize an empty pandas dataframe\n",
    "reach_data = pd.DataFrame(columns=reach_data_labels, dtype='float')\n",
    "\n",
    "# Reach location\n",
    "reach_data['k'] = streams_data['KRCH'] - 1    # layer number-- Notice that layer numbers are zero-based \n",
    "reach_data['i'] = streams_data['IRCH'] - 1    # row number\n",
    "reach_data['j'] = streams_data['JRCH'] - 1    # column number\n",
    "# IDs\n",
    "reach_data['iseg'] = streams_data['ISEG']     # Segment ID number\n",
    "reach_data['ireach'] = streams_data['IREACH'] # Reach ID number\n",
    "# Stream topography\n",
    "reach_data['rchlen'] = streams_data['RCHLEN']            # reach length\n",
    "reach_data['strtop'] = streams_data['DEM_ADJ'] - 1.0     # Streambed elevation is assumed 1 meter below ground surface.\n",
    "reach_data['slope'] = streams_data['DEM_SLP_P'] / 100.0  # Slope\n",
    "\n",
    "# Streambed information \n",
    "reach_data['strthick'] = 0.5    # streambed thickness - meter   \n",
    "reach_data['strhc1'] = 0.1      # conductivity of the stream bed\n",
    "\n",
    "#Unsaturated Zone properties\n",
    "reach_data['thts'] = 0.31      # saturated porosity\n",
    "reach_data['thti'] = 0.131     # initial water content\n",
    "reach_data['eps'] = 3.5        # Brooks-Corey exponent \n",
    "reach_data['uhc'] = 0.1        # conductivity of the unsaturated zone\n",
    "n_reaches = len(reach_data)    # number of reaches \n",
    "\n",
    "# Show the first five lines in the reach data table\n",
    "\n",
    "reach_data.head(10)\n"
   ]
  },
  {
   "cell_type": "markdown",
   "metadata": {
    "slideshow": {
     "slide_type": "slide"
    }
   },
   "source": [
    "### Segment Data:\n",
    "This section provides information about each segments that is realted to:\n",
    "* Method to calculte stream flow inside the stream channel,\n",
    "* Define Connections of the segments with each others,\n",
    "* Inflow and ouflow from each segments,\n",
    "* Cross-section geolmetry.\n",
    "\n",
    "<img src = \".\\figures\\sfr3.png\">"
   ]
  },
  {
   "cell_type": "code",
   "execution_count": 25,
   "metadata": {
    "slideshow": {
     "slide_type": "slide"
    }
   },
   "outputs": [
    {
     "data": {
      "text/html": [
       "<div>\n",
       "<style scoped>\n",
       "    .dataframe tbody tr th:only-of-type {\n",
       "        vertical-align: middle;\n",
       "    }\n",
       "\n",
       "    .dataframe tbody tr th {\n",
       "        vertical-align: top;\n",
       "    }\n",
       "\n",
       "    .dataframe thead th {\n",
       "        text-align: right;\n",
       "    }\n",
       "</style>\n",
       "<table border=\"1\" class=\"dataframe\">\n",
       "  <thead>\n",
       "    <tr style=\"text-align: right;\">\n",
       "      <th></th>\n",
       "      <th>ORIG_FID</th>\n",
       "      <th>HRU_ID</th>\n",
       "      <th>HRU_TYPE</th>\n",
       "      <th>DEM_MEAN</th>\n",
       "      <th>DEM_MIN</th>\n",
       "      <th>DEM_MAX</th>\n",
       "      <th>DEM_ADJ</th>\n",
       "      <th>DEM_FLOWAC</th>\n",
       "      <th>DEM_SUM</th>\n",
       "      <th>DEM_COUNT</th>\n",
       "      <th>...</th>\n",
       "      <th>PPT_RT_04</th>\n",
       "      <th>PPT_RT_05</th>\n",
       "      <th>PPT_RT_06</th>\n",
       "      <th>PPT_RT_07</th>\n",
       "      <th>PPT_RT_08</th>\n",
       "      <th>PPT_RT_09</th>\n",
       "      <th>PPT_RT_10</th>\n",
       "      <th>PPT_RT_11</th>\n",
       "      <th>PPT_RT_12</th>\n",
       "      <th>geometry</th>\n",
       "    </tr>\n",
       "  </thead>\n",
       "  <tbody>\n",
       "    <tr>\n",
       "      <th>4267</th>\n",
       "      <td>4267</td>\n",
       "      <td>2252</td>\n",
       "      <td>1</td>\n",
       "      <td>2045.924874</td>\n",
       "      <td>2045.533081</td>\n",
       "      <td>2047.964844</td>\n",
       "      <td>2045.753729</td>\n",
       "      <td>2045.753729</td>\n",
       "      <td>4.751424e+08</td>\n",
       "      <td>2.322579e+05</td>\n",
       "      <td>...</td>\n",
       "      <td>1.163523</td>\n",
       "      <td>1.027865</td>\n",
       "      <td>0.945258</td>\n",
       "      <td>0.832223</td>\n",
       "      <td>0.726079</td>\n",
       "      <td>1.120924</td>\n",
       "      <td>0.926855</td>\n",
       "      <td>1.086139</td>\n",
       "      <td>1.053415</td>\n",
       "      <td>POLYGON ((220140.0000000011 4371120, 220140.00...</td>\n",
       "    </tr>\n",
       "    <tr>\n",
       "      <th>3486</th>\n",
       "      <td>3486</td>\n",
       "      <td>2983</td>\n",
       "      <td>1</td>\n",
       "      <td>2035.482087</td>\n",
       "      <td>2030.700439</td>\n",
       "      <td>2041.049927</td>\n",
       "      <td>2032.777962</td>\n",
       "      <td>2032.777962</td>\n",
       "      <td>1.491854e+09</td>\n",
       "      <td>7.338990e+05</td>\n",
       "      <td>...</td>\n",
       "      <td>1.243446</td>\n",
       "      <td>1.085173</td>\n",
       "      <td>1.053039</td>\n",
       "      <td>0.761271</td>\n",
       "      <td>0.777825</td>\n",
       "      <td>1.049573</td>\n",
       "      <td>0.957803</td>\n",
       "      <td>1.129321</td>\n",
       "      <td>1.087349</td>\n",
       "      <td>POLYGON ((217889.9999999995 4370309.999999999,...</td>\n",
       "    </tr>\n",
       "    <tr>\n",
       "      <th>3415</th>\n",
       "      <td>3415</td>\n",
       "      <td>3080</td>\n",
       "      <td>1</td>\n",
       "      <td>1991.817351</td>\n",
       "      <td>1988.964478</td>\n",
       "      <td>1995.421265</td>\n",
       "      <td>1990.593092</td>\n",
       "      <td>1990.593092</td>\n",
       "      <td>3.583552e+08</td>\n",
       "      <td>1.800243e+05</td>\n",
       "      <td>...</td>\n",
       "      <td>1.192954</td>\n",
       "      <td>1.050941</td>\n",
       "      <td>0.980030</td>\n",
       "      <td>0.797725</td>\n",
       "      <td>0.740228</td>\n",
       "      <td>1.099368</td>\n",
       "      <td>0.938720</td>\n",
       "      <td>1.102776</td>\n",
       "      <td>1.069921</td>\n",
       "      <td>POLYGON ((219060.0000000004 4370220, 219060.00...</td>\n",
       "    </tr>\n",
       "    <tr>\n",
       "      <th>3228</th>\n",
       "      <td>3228</td>\n",
       "      <td>3229</td>\n",
       "      <td>1</td>\n",
       "      <td>2077.797915</td>\n",
       "      <td>2070.260498</td>\n",
       "      <td>2086.168213</td>\n",
       "      <td>2073.120121</td>\n",
       "      <td>2073.120121</td>\n",
       "      <td>4.925420e+08</td>\n",
       "      <td>2.375849e+05</td>\n",
       "      <td>...</td>\n",
       "      <td>1.282321</td>\n",
       "      <td>1.110191</td>\n",
       "      <td>1.097383</td>\n",
       "      <td>0.767617</td>\n",
       "      <td>0.791501</td>\n",
       "      <td>1.043136</td>\n",
       "      <td>0.973358</td>\n",
       "      <td>1.160624</td>\n",
       "      <td>1.111022</td>\n",
       "      <td>POLYGON ((217349.9999999999 4370040, 217350.00...</td>\n",
       "    </tr>\n",
       "    <tr>\n",
       "      <th>3147</th>\n",
       "      <td>3147</td>\n",
       "      <td>3316</td>\n",
       "      <td>1</td>\n",
       "      <td>2058.386520</td>\n",
       "      <td>2055.892334</td>\n",
       "      <td>2061.603271</td>\n",
       "      <td>2057.639494</td>\n",
       "      <td>2057.639494</td>\n",
       "      <td>9.108829e+08</td>\n",
       "      <td>4.426834e+05</td>\n",
       "      <td>...</td>\n",
       "      <td>1.272489</td>\n",
       "      <td>1.105650</td>\n",
       "      <td>1.077730</td>\n",
       "      <td>0.770034</td>\n",
       "      <td>0.781199</td>\n",
       "      <td>1.050464</td>\n",
       "      <td>0.972736</td>\n",
       "      <td>1.152100</td>\n",
       "      <td>1.110846</td>\n",
       "      <td>POLYGON ((217619.9999999996 4369950, 217619.99...</td>\n",
       "    </tr>\n",
       "    <tr>\n",
       "      <th>3165</th>\n",
       "      <td>3165</td>\n",
       "      <td>3334</td>\n",
       "      <td>1</td>\n",
       "      <td>1977.558722</td>\n",
       "      <td>1975.380005</td>\n",
       "      <td>1989.319214</td>\n",
       "      <td>1976.103017</td>\n",
       "      <td>1976.103017</td>\n",
       "      <td>2.584096e+09</td>\n",
       "      <td>1.307673e+06</td>\n",
       "      <td>...</td>\n",
       "      <td>1.187433</td>\n",
       "      <td>1.046548</td>\n",
       "      <td>0.967044</td>\n",
       "      <td>0.805071</td>\n",
       "      <td>0.733402</td>\n",
       "      <td>1.112366</td>\n",
       "      <td>0.934756</td>\n",
       "      <td>1.098332</td>\n",
       "      <td>1.071200</td>\n",
       "      <td>POLYGON ((219240.0000000007 4369950, 219239.99...</td>\n",
       "    </tr>\n",
       "    <tr>\n",
       "      <th>2929</th>\n",
       "      <td>2929</td>\n",
       "      <td>3602</td>\n",
       "      <td>1</td>\n",
       "      <td>1942.769011</td>\n",
       "      <td>1940.262329</td>\n",
       "      <td>1945.098511</td>\n",
       "      <td>1942.000153</td>\n",
       "      <td>1942.000153</td>\n",
       "      <td>4.195621e+09</td>\n",
       "      <td>2.160464e+06</td>\n",
       "      <td>...</td>\n",
       "      <td>1.137390</td>\n",
       "      <td>1.006059</td>\n",
       "      <td>0.902541</td>\n",
       "      <td>0.854428</td>\n",
       "      <td>0.709862</td>\n",
       "      <td>1.159988</td>\n",
       "      <td>0.904090</td>\n",
       "      <td>1.073668</td>\n",
       "      <td>1.045936</td>\n",
       "      <td>POLYGON ((220680.0000000008 4369680, 220679.99...</td>\n",
       "    </tr>\n",
       "    <tr>\n",
       "      <th>2935</th>\n",
       "      <td>2935</td>\n",
       "      <td>3608</td>\n",
       "      <td>-1</td>\n",
       "      <td>1933.362217</td>\n",
       "      <td>1929.829712</td>\n",
       "      <td>1937.661377</td>\n",
       "      <td>1930.443682</td>\n",
       "      <td>1930.443682</td>\n",
       "      <td>1.770913e+09</td>\n",
       "      <td>9.173608e+05</td>\n",
       "      <td>...</td>\n",
       "      <td>1.124867</td>\n",
       "      <td>0.997313</td>\n",
       "      <td>0.888846</td>\n",
       "      <td>0.848909</td>\n",
       "      <td>0.701931</td>\n",
       "      <td>1.159486</td>\n",
       "      <td>0.902901</td>\n",
       "      <td>1.068980</td>\n",
       "      <td>1.039656</td>\n",
       "      <td>POLYGON ((221219.9999999999 4369680, 221220.00...</td>\n",
       "    </tr>\n",
       "    <tr>\n",
       "      <th>2764</th>\n",
       "      <td>2764</td>\n",
       "      <td>3773</td>\n",
       "      <td>1</td>\n",
       "      <td>1939.065220</td>\n",
       "      <td>1937.253052</td>\n",
       "      <td>1941.025146</td>\n",
       "      <td>1938.902016</td>\n",
       "      <td>1938.902016</td>\n",
       "      <td>5.062596e+08</td>\n",
       "      <td>2.611063e+05</td>\n",
       "      <td>...</td>\n",
       "      <td>1.134008</td>\n",
       "      <td>1.003188</td>\n",
       "      <td>0.898501</td>\n",
       "      <td>0.855308</td>\n",
       "      <td>0.708430</td>\n",
       "      <td>1.162226</td>\n",
       "      <td>0.902097</td>\n",
       "      <td>1.073844</td>\n",
       "      <td>1.044453</td>\n",
       "      <td>POLYGON ((220949.9999999991 4369500, 220950.00...</td>\n",
       "    </tr>\n",
       "  </tbody>\n",
       "</table>\n",
       "<p>9 rows × 123 columns</p>\n",
       "</div>"
      ],
      "text/plain": [
       "      ORIG_FID  HRU_ID  HRU_TYPE     DEM_MEAN      DEM_MIN      DEM_MAX  \\\n",
       "4267      4267    2252         1  2045.924874  2045.533081  2047.964844   \n",
       "3486      3486    2983         1  2035.482087  2030.700439  2041.049927   \n",
       "3415      3415    3080         1  1991.817351  1988.964478  1995.421265   \n",
       "3228      3228    3229         1  2077.797915  2070.260498  2086.168213   \n",
       "3147      3147    3316         1  2058.386520  2055.892334  2061.603271   \n",
       "3165      3165    3334         1  1977.558722  1975.380005  1989.319214   \n",
       "2929      2929    3602         1  1942.769011  1940.262329  1945.098511   \n",
       "2935      2935    3608        -1  1933.362217  1929.829712  1937.661377   \n",
       "2764      2764    3773         1  1939.065220  1937.253052  1941.025146   \n",
       "\n",
       "          DEM_ADJ   DEM_FLOWAC       DEM_SUM     DEM_COUNT  \\\n",
       "4267  2045.753729  2045.753729  4.751424e+08  2.322579e+05   \n",
       "3486  2032.777962  2032.777962  1.491854e+09  7.338990e+05   \n",
       "3415  1990.593092  1990.593092  3.583552e+08  1.800243e+05   \n",
       "3228  2073.120121  2073.120121  4.925420e+08  2.375849e+05   \n",
       "3147  2057.639494  2057.639494  9.108829e+08  4.426834e+05   \n",
       "3165  1976.103017  1976.103017  2.584096e+09  1.307673e+06   \n",
       "2929  1942.000153  1942.000153  4.195621e+09  2.160464e+06   \n",
       "2935  1930.443682  1930.443682  1.770913e+09  9.173608e+05   \n",
       "2764  1938.902016  1938.902016  5.062596e+08  2.611063e+05   \n",
       "\n",
       "                            ...                          PPT_RT_04  PPT_RT_05  \\\n",
       "4267                        ...                           1.163523   1.027865   \n",
       "3486                        ...                           1.243446   1.085173   \n",
       "3415                        ...                           1.192954   1.050941   \n",
       "3228                        ...                           1.282321   1.110191   \n",
       "3147                        ...                           1.272489   1.105650   \n",
       "3165                        ...                           1.187433   1.046548   \n",
       "2929                        ...                           1.137390   1.006059   \n",
       "2935                        ...                           1.124867   0.997313   \n",
       "2764                        ...                           1.134008   1.003188   \n",
       "\n",
       "      PPT_RT_06  PPT_RT_07  PPT_RT_08  PPT_RT_09  PPT_RT_10  PPT_RT_11  \\\n",
       "4267   0.945258   0.832223   0.726079   1.120924   0.926855   1.086139   \n",
       "3486   1.053039   0.761271   0.777825   1.049573   0.957803   1.129321   \n",
       "3415   0.980030   0.797725   0.740228   1.099368   0.938720   1.102776   \n",
       "3228   1.097383   0.767617   0.791501   1.043136   0.973358   1.160624   \n",
       "3147   1.077730   0.770034   0.781199   1.050464   0.972736   1.152100   \n",
       "3165   0.967044   0.805071   0.733402   1.112366   0.934756   1.098332   \n",
       "2929   0.902541   0.854428   0.709862   1.159988   0.904090   1.073668   \n",
       "2935   0.888846   0.848909   0.701931   1.159486   0.902901   1.068980   \n",
       "2764   0.898501   0.855308   0.708430   1.162226   0.902097   1.073844   \n",
       "\n",
       "      PPT_RT_12                                           geometry  \n",
       "4267   1.053415  POLYGON ((220140.0000000011 4371120, 220140.00...  \n",
       "3486   1.087349  POLYGON ((217889.9999999995 4370309.999999999,...  \n",
       "3415   1.069921  POLYGON ((219060.0000000004 4370220, 219060.00...  \n",
       "3228   1.111022  POLYGON ((217349.9999999999 4370040, 217350.00...  \n",
       "3147   1.110846  POLYGON ((217619.9999999996 4369950, 217619.99...  \n",
       "3165   1.071200  POLYGON ((219240.0000000007 4369950, 219239.99...  \n",
       "2929   1.045936  POLYGON ((220680.0000000008 4369680, 220679.99...  \n",
       "2935   1.039656  POLYGON ((221219.9999999999 4369680, 221220.00...  \n",
       "2764   1.044453  POLYGON ((220949.9999999991 4369500, 220950.00...  \n",
       "\n",
       "[9 rows x 123 columns]"
      ]
     },
     "execution_count": 25,
     "metadata": {},
     "output_type": "execute_result"
    }
   ],
   "source": [
    "seg_data_labels = ['nseg', 'icalc', 'outseg', 'iupseg', 'iprior',\n",
    "                   'nstrpts', 'flow', 'runoff', 'etsw', 'pptsw', 'roughch', 'roughbk',\n",
    "                   'cdpth', 'fdpth', 'awdth', 'bwdth', 'hcond1', 'thickm1',\n",
    "                   'elevup', 'width1', 'depth1', 'hcond2', 'thickm2', 'elevdn',\n",
    "                   'width2', 'depth2']\n",
    "\n",
    "# Use the stream data from the HRU shapefile\n",
    "unique_segments = streams_data.drop_duplicates(['ISEG'], keep='first')\n",
    "unique_segments = unique_segments.sort_values(by='ISEG')\n",
    "unique_segments\n"
   ]
  },
  {
   "cell_type": "code",
   "execution_count": 26,
   "metadata": {},
   "outputs": [
    {
     "data": {
      "text/html": [
       "<div>\n",
       "<style scoped>\n",
       "    .dataframe tbody tr th:only-of-type {\n",
       "        vertical-align: middle;\n",
       "    }\n",
       "\n",
       "    .dataframe tbody tr th {\n",
       "        vertical-align: top;\n",
       "    }\n",
       "\n",
       "    .dataframe thead th {\n",
       "        text-align: right;\n",
       "    }\n",
       "</style>\n",
       "<table border=\"1\" class=\"dataframe\">\n",
       "  <thead>\n",
       "    <tr style=\"text-align: right;\">\n",
       "      <th></th>\n",
       "      <th>nseg</th>\n",
       "      <th>icalc</th>\n",
       "      <th>outseg</th>\n",
       "      <th>iupseg</th>\n",
       "      <th>iprior</th>\n",
       "      <th>nstrpts</th>\n",
       "      <th>flow</th>\n",
       "      <th>runoff</th>\n",
       "      <th>etsw</th>\n",
       "      <th>pptsw</th>\n",
       "      <th>...</th>\n",
       "      <th>hcond1</th>\n",
       "      <th>thickm1</th>\n",
       "      <th>elevup</th>\n",
       "      <th>width1</th>\n",
       "      <th>depth1</th>\n",
       "      <th>hcond2</th>\n",
       "      <th>thickm2</th>\n",
       "      <th>elevdn</th>\n",
       "      <th>width2</th>\n",
       "      <th>depth2</th>\n",
       "    </tr>\n",
       "  </thead>\n",
       "  <tbody>\n",
       "    <tr>\n",
       "      <th>0</th>\n",
       "      <td>1</td>\n",
       "      <td>1</td>\n",
       "      <td>7</td>\n",
       "      <td>0</td>\n",
       "      <td>0.0</td>\n",
       "      <td>0.0</td>\n",
       "      <td>0.0</td>\n",
       "      <td>0.0</td>\n",
       "      <td>0.0</td>\n",
       "      <td>0.0</td>\n",
       "      <td>...</td>\n",
       "      <td>0.0</td>\n",
       "      <td>0.0</td>\n",
       "      <td>0.0</td>\n",
       "      <td>3.0</td>\n",
       "      <td>0.0</td>\n",
       "      <td>0.0</td>\n",
       "      <td>0.0</td>\n",
       "      <td>0.0</td>\n",
       "      <td>3.0</td>\n",
       "      <td>0.0</td>\n",
       "    </tr>\n",
       "    <tr>\n",
       "      <th>1</th>\n",
       "      <td>2</td>\n",
       "      <td>1</td>\n",
       "      <td>6</td>\n",
       "      <td>0</td>\n",
       "      <td>0.0</td>\n",
       "      <td>0.0</td>\n",
       "      <td>0.0</td>\n",
       "      <td>0.0</td>\n",
       "      <td>0.0</td>\n",
       "      <td>0.0</td>\n",
       "      <td>...</td>\n",
       "      <td>0.0</td>\n",
       "      <td>0.0</td>\n",
       "      <td>0.0</td>\n",
       "      <td>3.0</td>\n",
       "      <td>0.0</td>\n",
       "      <td>0.0</td>\n",
       "      <td>0.0</td>\n",
       "      <td>0.0</td>\n",
       "      <td>3.0</td>\n",
       "      <td>0.0</td>\n",
       "    </tr>\n",
       "    <tr>\n",
       "      <th>2</th>\n",
       "      <td>3</td>\n",
       "      <td>1</td>\n",
       "      <td>6</td>\n",
       "      <td>0</td>\n",
       "      <td>0.0</td>\n",
       "      <td>0.0</td>\n",
       "      <td>0.0</td>\n",
       "      <td>0.0</td>\n",
       "      <td>0.0</td>\n",
       "      <td>0.0</td>\n",
       "      <td>...</td>\n",
       "      <td>0.0</td>\n",
       "      <td>0.0</td>\n",
       "      <td>0.0</td>\n",
       "      <td>3.0</td>\n",
       "      <td>0.0</td>\n",
       "      <td>0.0</td>\n",
       "      <td>0.0</td>\n",
       "      <td>0.0</td>\n",
       "      <td>3.0</td>\n",
       "      <td>0.0</td>\n",
       "    </tr>\n",
       "    <tr>\n",
       "      <th>3</th>\n",
       "      <td>4</td>\n",
       "      <td>1</td>\n",
       "      <td>2</td>\n",
       "      <td>0</td>\n",
       "      <td>0.0</td>\n",
       "      <td>0.0</td>\n",
       "      <td>0.0</td>\n",
       "      <td>0.0</td>\n",
       "      <td>0.0</td>\n",
       "      <td>0.0</td>\n",
       "      <td>...</td>\n",
       "      <td>0.0</td>\n",
       "      <td>0.0</td>\n",
       "      <td>0.0</td>\n",
       "      <td>3.0</td>\n",
       "      <td>0.0</td>\n",
       "      <td>0.0</td>\n",
       "      <td>0.0</td>\n",
       "      <td>0.0</td>\n",
       "      <td>3.0</td>\n",
       "      <td>0.0</td>\n",
       "    </tr>\n",
       "    <tr>\n",
       "      <th>4</th>\n",
       "      <td>5</td>\n",
       "      <td>1</td>\n",
       "      <td>2</td>\n",
       "      <td>0</td>\n",
       "      <td>0.0</td>\n",
       "      <td>0.0</td>\n",
       "      <td>0.0</td>\n",
       "      <td>0.0</td>\n",
       "      <td>0.0</td>\n",
       "      <td>0.0</td>\n",
       "      <td>...</td>\n",
       "      <td>0.0</td>\n",
       "      <td>0.0</td>\n",
       "      <td>0.0</td>\n",
       "      <td>3.0</td>\n",
       "      <td>0.0</td>\n",
       "      <td>0.0</td>\n",
       "      <td>0.0</td>\n",
       "      <td>0.0</td>\n",
       "      <td>3.0</td>\n",
       "      <td>0.0</td>\n",
       "    </tr>\n",
       "    <tr>\n",
       "      <th>5</th>\n",
       "      <td>6</td>\n",
       "      <td>1</td>\n",
       "      <td>7</td>\n",
       "      <td>0</td>\n",
       "      <td>0.0</td>\n",
       "      <td>0.0</td>\n",
       "      <td>0.0</td>\n",
       "      <td>0.0</td>\n",
       "      <td>0.0</td>\n",
       "      <td>0.0</td>\n",
       "      <td>...</td>\n",
       "      <td>0.0</td>\n",
       "      <td>0.0</td>\n",
       "      <td>0.0</td>\n",
       "      <td>3.0</td>\n",
       "      <td>0.0</td>\n",
       "      <td>0.0</td>\n",
       "      <td>0.0</td>\n",
       "      <td>0.0</td>\n",
       "      <td>3.0</td>\n",
       "      <td>0.0</td>\n",
       "    </tr>\n",
       "    <tr>\n",
       "      <th>6</th>\n",
       "      <td>7</td>\n",
       "      <td>1</td>\n",
       "      <td>8</td>\n",
       "      <td>0</td>\n",
       "      <td>0.0</td>\n",
       "      <td>0.0</td>\n",
       "      <td>0.0</td>\n",
       "      <td>0.0</td>\n",
       "      <td>0.0</td>\n",
       "      <td>0.0</td>\n",
       "      <td>...</td>\n",
       "      <td>0.0</td>\n",
       "      <td>0.0</td>\n",
       "      <td>0.0</td>\n",
       "      <td>3.0</td>\n",
       "      <td>0.0</td>\n",
       "      <td>0.0</td>\n",
       "      <td>0.0</td>\n",
       "      <td>0.0</td>\n",
       "      <td>3.0</td>\n",
       "      <td>0.0</td>\n",
       "    </tr>\n",
       "    <tr>\n",
       "      <th>7</th>\n",
       "      <td>8</td>\n",
       "      <td>1</td>\n",
       "      <td>0</td>\n",
       "      <td>0</td>\n",
       "      <td>0.0</td>\n",
       "      <td>0.0</td>\n",
       "      <td>0.0</td>\n",
       "      <td>0.0</td>\n",
       "      <td>0.0</td>\n",
       "      <td>0.0</td>\n",
       "      <td>...</td>\n",
       "      <td>0.0</td>\n",
       "      <td>0.0</td>\n",
       "      <td>0.0</td>\n",
       "      <td>3.0</td>\n",
       "      <td>0.0</td>\n",
       "      <td>0.0</td>\n",
       "      <td>0.0</td>\n",
       "      <td>0.0</td>\n",
       "      <td>3.0</td>\n",
       "      <td>0.0</td>\n",
       "    </tr>\n",
       "    <tr>\n",
       "      <th>8</th>\n",
       "      <td>9</td>\n",
       "      <td>1</td>\n",
       "      <td>8</td>\n",
       "      <td>0</td>\n",
       "      <td>0.0</td>\n",
       "      <td>0.0</td>\n",
       "      <td>0.0</td>\n",
       "      <td>0.0</td>\n",
       "      <td>0.0</td>\n",
       "      <td>0.0</td>\n",
       "      <td>...</td>\n",
       "      <td>0.0</td>\n",
       "      <td>0.0</td>\n",
       "      <td>0.0</td>\n",
       "      <td>3.0</td>\n",
       "      <td>0.0</td>\n",
       "      <td>0.0</td>\n",
       "      <td>0.0</td>\n",
       "      <td>0.0</td>\n",
       "      <td>3.0</td>\n",
       "      <td>0.0</td>\n",
       "    </tr>\n",
       "  </tbody>\n",
       "</table>\n",
       "<p>9 rows × 26 columns</p>\n",
       "</div>"
      ],
      "text/plain": [
       "   nseg  icalc  outseg  iupseg  iprior  nstrpts  flow  runoff  etsw  pptsw  \\\n",
       "0     1      1       7       0     0.0      0.0   0.0     0.0   0.0    0.0   \n",
       "1     2      1       6       0     0.0      0.0   0.0     0.0   0.0    0.0   \n",
       "2     3      1       6       0     0.0      0.0   0.0     0.0   0.0    0.0   \n",
       "3     4      1       2       0     0.0      0.0   0.0     0.0   0.0    0.0   \n",
       "4     5      1       2       0     0.0      0.0   0.0     0.0   0.0    0.0   \n",
       "5     6      1       7       0     0.0      0.0   0.0     0.0   0.0    0.0   \n",
       "6     7      1       8       0     0.0      0.0   0.0     0.0   0.0    0.0   \n",
       "7     8      1       0       0     0.0      0.0   0.0     0.0   0.0    0.0   \n",
       "8     9      1       8       0     0.0      0.0   0.0     0.0   0.0    0.0   \n",
       "\n",
       "    ...    hcond1  thickm1  elevup  width1  depth1  hcond2  thickm2  elevdn  \\\n",
       "0   ...       0.0      0.0     0.0     3.0     0.0     0.0      0.0     0.0   \n",
       "1   ...       0.0      0.0     0.0     3.0     0.0     0.0      0.0     0.0   \n",
       "2   ...       0.0      0.0     0.0     3.0     0.0     0.0      0.0     0.0   \n",
       "3   ...       0.0      0.0     0.0     3.0     0.0     0.0      0.0     0.0   \n",
       "4   ...       0.0      0.0     0.0     3.0     0.0     0.0      0.0     0.0   \n",
       "5   ...       0.0      0.0     0.0     3.0     0.0     0.0      0.0     0.0   \n",
       "6   ...       0.0      0.0     0.0     3.0     0.0     0.0      0.0     0.0   \n",
       "7   ...       0.0      0.0     0.0     3.0     0.0     0.0      0.0     0.0   \n",
       "8   ...       0.0      0.0     0.0     3.0     0.0     0.0      0.0     0.0   \n",
       "\n",
       "   width2  depth2  \n",
       "0     3.0     0.0  \n",
       "1     3.0     0.0  \n",
       "2     3.0     0.0  \n",
       "3     3.0     0.0  \n",
       "4     3.0     0.0  \n",
       "5     3.0     0.0  \n",
       "6     3.0     0.0  \n",
       "7     3.0     0.0  \n",
       "8     3.0     0.0  \n",
       "\n",
       "[9 rows x 26 columns]"
      ]
     },
     "execution_count": 26,
     "metadata": {},
     "output_type": "execute_result"
    }
   ],
   "source": [
    "n_segments =  len(unique_segments)\n",
    "\n",
    "# initialize dataframe filled with zeros\n",
    "zero_data = np.zeros((n_segments, len(seg_data_labels)))\n",
    "segment_data = pd.DataFrame(zero_data, columns=seg_data_labels, dtype='float')\n",
    "\n",
    "segment_data['nseg'] = unique_segments['ISEG'].values       # Segment ID\n",
    "segment_data['icalc'] = 1                                   # Use Manning's Equation for a rectangular cross-section\n",
    "segment_data['outseg'] = unique_segments['OUTSEG'].values   # Downstream Segment\n",
    "segment_data['iupseg'] = unique_segments['IUPSEG'].values   # segmet id for Upstream diversion or negative ID of the lake \n",
    "segment_data['width1'] = 3.0                                # Upstream width \n",
    "segment_data['width2'] = 3.0                                # Downstream width \n",
    "segment_data['roughch'] = 0.04                              # Roughness Coeffcient in Manning's Equation\n",
    "\n",
    "segment_data"
   ]
  },
  {
   "cell_type": "code",
   "execution_count": 27,
   "metadata": {},
   "outputs": [
    {
     "data": {
      "image/png": "[encoded data removed]",
      "text/plain": [
       "<Figure size 432x288 with 1 Axes>"
      ]
     },
     "metadata": {
      "needs_background": "light"
     },
     "output_type": "display_data"
    }
   ],
   "source": [
    "## Can you think of another way to compute the widths if you have no data? \n",
    "streams_data.plot(column = 'DEM_FLOWAC')\n",
    "if False:    \n",
    "    max_width = 20.0\n",
    "    min_width = 1.0\n",
    "    flow_acc_range = streams_data['DEM_FLOWAC'].max() - streams_data['DEM_FLOWAC'].min()\n",
    "    widths = min_width + (max_width - min_width)* (streams_data['DEM_FLOWAC'].values - streams_data['DEM_FLOWAC'].min())/flow_acc_range"
   ]
  },
  {
   "cell_type": "markdown",
   "metadata": {
    "slideshow": {
     "slide_type": "slide"
    }
   },
   "source": []
  },
  {
   "cell_type": "code",
   "execution_count": null,
   "metadata": {
    "slideshow": {
     "slide_type": "slide"
    }
   },
   "outputs": [],
   "source": []
  },
  {
   "cell_type": "markdown",
   "metadata": {},
   "source": [
    "### SFR2 General Options"
   ]
  },
  {
   "cell_type": "code",
   "execution_count": 28,
   "metadata": {},
   "outputs": [
    {
     "data": {
      "text/html": [
       "<div>\n",
       "<style scoped>\n",
       "    .dataframe tbody tr th:only-of-type {\n",
       "        vertical-align: middle;\n",
       "    }\n",
       "\n",
       "    .dataframe tbody tr th {\n",
       "        vertical-align: top;\n",
       "    }\n",
       "\n",
       "    .dataframe thead th {\n",
       "        text-align: right;\n",
       "    }\n",
       "</style>\n",
       "<table border=\"1\" class=\"dataframe\">\n",
       "  <thead>\n",
       "    <tr style=\"text-align: right;\">\n",
       "      <th></th>\n",
       "      <th>node</th>\n",
       "      <th>k</th>\n",
       "      <th>i</th>\n",
       "      <th>j</th>\n",
       "      <th>iseg</th>\n",
       "      <th>ireach</th>\n",
       "      <th>rchlen</th>\n",
       "      <th>strtop</th>\n",
       "      <th>slope</th>\n",
       "      <th>strthick</th>\n",
       "      <th>strhc1</th>\n",
       "      <th>thts</th>\n",
       "      <th>thti</th>\n",
       "      <th>eps</th>\n",
       "      <th>uhc</th>\n",
       "      <th>reachID</th>\n",
       "      <th>outreach</th>\n",
       "    </tr>\n",
       "  </thead>\n",
       "  <tbody>\n",
       "    <tr>\n",
       "      <th>4267</th>\n",
       "      <td>NaN</td>\n",
       "      <td>0</td>\n",
       "      <td>26</td>\n",
       "      <td>67</td>\n",
       "      <td>1</td>\n",
       "      <td>1</td>\n",
       "      <td>127</td>\n",
       "      <td>2044.753729</td>\n",
       "      <td>0.000161</td>\n",
       "      <td>0.5</td>\n",
       "      <td>0.1</td>\n",
       "      <td>0.31</td>\n",
       "      <td>0.131</td>\n",
       "      <td>3.5</td>\n",
       "      <td>0.1</td>\n",
       "      <td>NaN</td>\n",
       "      <td>NaN</td>\n",
       "    </tr>\n",
       "    <tr>\n",
       "      <th>4184</th>\n",
       "      <td>NaN</td>\n",
       "      <td>0</td>\n",
       "      <td>27</td>\n",
       "      <td>68</td>\n",
       "      <td>1</td>\n",
       "      <td>2</td>\n",
       "      <td>127</td>\n",
       "      <td>2043.891483</td>\n",
       "      <td>0.000297</td>\n",
       "      <td>0.5</td>\n",
       "      <td>0.1</td>\n",
       "      <td>0.31</td>\n",
       "      <td>0.131</td>\n",
       "      <td>3.5</td>\n",
       "      <td>0.1</td>\n",
       "      <td>NaN</td>\n",
       "      <td>NaN</td>\n",
       "    </tr>\n",
       "    <tr>\n",
       "      <th>4101</th>\n",
       "      <td>NaN</td>\n",
       "      <td>0</td>\n",
       "      <td>28</td>\n",
       "      <td>69</td>\n",
       "      <td>1</td>\n",
       "      <td>3</td>\n",
       "      <td>127</td>\n",
       "      <td>2042.990809</td>\n",
       "      <td>0.000703</td>\n",
       "      <td>0.5</td>\n",
       "      <td>0.1</td>\n",
       "      <td>0.31</td>\n",
       "      <td>0.131</td>\n",
       "      <td>3.5</td>\n",
       "      <td>0.1</td>\n",
       "      <td>NaN</td>\n",
       "      <td>NaN</td>\n",
       "    </tr>\n",
       "    <tr>\n",
       "      <th>4018</th>\n",
       "      <td>NaN</td>\n",
       "      <td>0</td>\n",
       "      <td>29</td>\n",
       "      <td>70</td>\n",
       "      <td>1</td>\n",
       "      <td>4</td>\n",
       "      <td>109</td>\n",
       "      <td>2041.522018</td>\n",
       "      <td>0.000901</td>\n",
       "      <td>0.5</td>\n",
       "      <td>0.1</td>\n",
       "      <td>0.31</td>\n",
       "      <td>0.131</td>\n",
       "      <td>3.5</td>\n",
       "      <td>0.1</td>\n",
       "      <td>NaN</td>\n",
       "      <td>NaN</td>\n",
       "    </tr>\n",
       "    <tr>\n",
       "      <th>3934</th>\n",
       "      <td>NaN</td>\n",
       "      <td>0</td>\n",
       "      <td>30</td>\n",
       "      <td>70</td>\n",
       "      <td>1</td>\n",
       "      <td>5</td>\n",
       "      <td>109</td>\n",
       "      <td>2039.484954</td>\n",
       "      <td>0.000842</td>\n",
       "      <td>0.5</td>\n",
       "      <td>0.1</td>\n",
       "      <td>0.31</td>\n",
       "      <td>0.131</td>\n",
       "      <td>3.5</td>\n",
       "      <td>0.1</td>\n",
       "      <td>NaN</td>\n",
       "      <td>NaN</td>\n",
       "    </tr>\n",
       "  </tbody>\n",
       "</table>\n",
       "</div>"
      ],
      "text/plain": [
       "      node  k   i   j  iseg  ireach  rchlen       strtop     slope  strthick  \\\n",
       "4267   NaN  0  26  67     1       1     127  2044.753729  0.000161       0.5   \n",
       "4184   NaN  0  27  68     1       2     127  2043.891483  0.000297       0.5   \n",
       "4101   NaN  0  28  69     1       3     127  2042.990809  0.000703       0.5   \n",
       "4018   NaN  0  29  70     1       4     109  2041.522018  0.000901       0.5   \n",
       "3934   NaN  0  30  70     1       5     109  2039.484954  0.000842       0.5   \n",
       "\n",
       "      strhc1  thts   thti  eps  uhc  reachID  outreach  \n",
       "4267     0.1  0.31  0.131  3.5  0.1      NaN       NaN  \n",
       "4184     0.1  0.31  0.131  3.5  0.1      NaN       NaN  \n",
       "4101     0.1  0.31  0.131  3.5  0.1      NaN       NaN  \n",
       "4018     0.1  0.31  0.131  3.5  0.1      NaN       NaN  \n",
       "3934     0.1  0.31  0.131  3.5  0.1      NaN       NaN  "
      ]
     },
     "execution_count": 28,
     "metadata": {},
     "output_type": "execute_result"
    }
   ],
   "source": [
    "## This the options in the first line in the SFR package\n",
    "nsfrpar = 0    # number of parameters \n",
    "nparseg = 0\n",
    "isfropt = 3\n",
    "const = 86400  # constant for manning's equation, units of ??\n",
    "dleak = 0.0001 # closure tolerance for stream stage computation\n",
    "ipakcb = 55    # flag for writing SFR output to cell-by-cell budget (on unit 55)\n",
    "istcb2 = 81    # flag for writing SFR output to text file\n",
    "nstrail = 15   # used when USZ is simulated, number of trailing wave increments\n",
    "isuzn = 1      # used when USZ is simulated, number of vertical cells in unz, for icalc=1, isuzn = 1\n",
    "nsfrsets = 50  # used when USZ is simulated, number of sets of trailing wave\n",
    "irtflg = 0     # an integer value that flags whether transient streamflow routing is active\n",
    "numtim = 2     # used when irtflg > 0, number of sub time steps to route streamflow\n",
    "weight = 0.75  # used when irtflg > 0,A real number equal to the time weighting factor used to calculate the change in channel storage.\n",
    "\n",
    "# The Segments information can be changed with time\n",
    "dataset_5 = {}\n",
    "for i in np.arange(nper): # we have only two stress period\n",
    "    if i == 0:\n",
    "        tss_par = n_segments\n",
    "    else:\n",
    "        tss_par = -1   # the negative sign indicates that segment data from previous time step will be used\n",
    "    dataset_5[i] = [tss_par, 0, 0]\n",
    "\n",
    "# The flopy needs reach data and segment data as numpy recarray data structure\n",
    "### There is a bug in flopy here.... to avoid the error sort data\n",
    "reach_data = reach_data.sort_values(by=['iseg', 'ireach'])\n",
    "segment_data = segment_data.sort_values(by=['nseg'])\n",
    "reach_data.head(5)"
   ]
  },
  {
   "cell_type": "code",
   "execution_count": 29,
   "metadata": {
    "slideshow": {
     "slide_type": "slide"
    }
   },
   "outputs": [
    {
     "data": {
      "text/plain": [
       "['DIS', 'BAS6', 'UPW', 'SFR']"
      ]
     },
     "execution_count": 29,
     "metadata": {},
     "output_type": "execute_result"
    }
   ],
   "source": [
    "reach_data = reach_data.to_records(index=False)\n",
    "segment_data = segment_data.to_records(index=False)\n",
    "segment_data = {0: segment_data}\n",
    "# you can change segments data for each stress period? segment_data = {0: segment_data0, 1: segment_data1 }\n",
    "\n",
    "# channel flow data\n",
    "channel_flow_data =     {}  # for 6e - flow table [flow1 flow2; depth1, depth2, width1, width2]\n",
    "channel_geometry_data = {}  # 6d - complex channel cross-section\n",
    "\n",
    "sfr = flopy.modflow.ModflowSfr2(mf, nstrm=n_reaches, nss=n_segments, const=const, nsfrpar= nsfrpar, nparseg = nparseg,\n",
    "                                        dleak=dleak, ipakcb=ipakcb, nstrail = nstrail, isuzn = isuzn,  nsfrsets= nsfrsets,\n",
    "                                        istcb2=istcb2, reachinput=True, isfropt = isfropt, irtflg = irtflg,\n",
    "                                        reach_data=reach_data, numtim = numtim, weight = weight,\n",
    "                                        segment_data=segment_data,\n",
    "                                        channel_geometry_data=channel_geometry_data,\n",
    "                                        channel_flow_data=channel_flow_data,\n",
    "                                        dataset_5=dataset_5)\n",
    "mf.get_package_list()"
   ]
  },
  {
   "cell_type": "code",
   "execution_count": 30,
   "metadata": {
    "slideshow": {
     "slide_type": "slide"
    }
   },
   "outputs": [
    {
     "name": "stderr",
     "output_type": "stream",
     "text": [
      "C:\\Users\\aalzraiee\\AppData\\Local\\Continuum\\miniconda2\\lib\\site-packages\\flopy\\plot\\map.py:387: FutureWarning: Using a non-tuple sequence for multidimensional indexing is deprecated; use `arr[tuple(seq)]` instead of `arr[seq]`. In the future this will be interpreted as an array index, `arr[np.array(seq)]`, which will result either in an error or a different result.\n",
      "  plotarray[idx] = 1\n"
     ]
    },
    {
     "data": {
      "text/plain": [
       "[<matplotlib.axes._subplots.AxesSubplot at 0x13b7eb70>,\n",
       " <matplotlib.axes._subplots.AxesSubplot at 0x11e7a9d0>]"
      ]
     },
     "execution_count": 30,
     "metadata": {},
     "output_type": "execute_result"
    },
    {
     "data": {
      "image/png": "[encoded data removed]",
      "text/plain": [
       "<Figure size 432x288 with 1 Axes>"
      ]
     },
     "metadata": {
      "needs_background": "light"
     },
     "output_type": "display_data"
    },
    {
     "data": {
      "image/png": "[encoded data removed]",
      "text/plain": [
       "<Figure size 432x288 with 1 Axes>"
      ]
     },
     "metadata": {
      "needs_background": "light"
     },
     "output_type": "display_data"
    }
   ],
   "source": [
    "sfr.plot()"
   ]
  },
  {
   "cell_type": "markdown",
   "metadata": {},
   "source": [
    "### Output Control Package\n",
    "This is where we tell MODFLOW how to print results output. It is wise to print the results only at the time you are interseted in. "
   ]
  },
  {
   "cell_type": "code",
   "execution_count": 31,
   "metadata": {
    "slideshow": {
     "slide_type": "slide"
    }
   },
   "outputs": [
    {
     "data": {
      "text/plain": [
       "{(0, 0): ['SAVE HEAD', 'PRINT BUDGET', 'SAVE BUDGET'],\n",
       " (1, 0): ['SAVE HEAD', 'PRINT BUDGET', 'SAVE BUDGET'],\n",
       " (1, 10): ['SAVE HEAD', 'PRINT BUDGET', 'SAVE BUDGET'],\n",
       " (1, 21): ['SAVE HEAD', 'PRINT BUDGET', 'SAVE BUDGET'],\n",
       " (1, 32): ['SAVE HEAD', 'PRINT BUDGET', 'SAVE BUDGET'],\n",
       " (1, 42): ['SAVE HEAD', 'PRINT BUDGET', 'SAVE BUDGET'],\n",
       " (1, 53): ['SAVE HEAD', 'PRINT BUDGET', 'SAVE BUDGET'],\n",
       " (1, 64): ['SAVE HEAD', 'PRINT BUDGET', 'SAVE BUDGET'],\n",
       " (1, 75): ['SAVE HEAD', 'PRINT BUDGET', 'SAVE BUDGET'],\n",
       " (1, 85): ['SAVE HEAD', 'PRINT BUDGET', 'SAVE BUDGET'],\n",
       " (1, 96): ['SAVE HEAD', 'PRINT BUDGET', 'SAVE BUDGET'],\n",
       " (1, 107): ['SAVE HEAD', 'PRINT BUDGET', 'SAVE BUDGET'],\n",
       " (1, 118): ['SAVE HEAD', 'PRINT BUDGET', 'SAVE BUDGET'],\n",
       " (1, 128): ['SAVE HEAD', 'PRINT BUDGET', 'SAVE BUDGET'],\n",
       " (1, 139): ['SAVE HEAD', 'PRINT BUDGET', 'SAVE BUDGET'],\n",
       " (1, 150): ['SAVE HEAD', 'PRINT BUDGET', 'SAVE BUDGET'],\n",
       " (1, 160): ['SAVE HEAD', 'PRINT BUDGET', 'SAVE BUDGET'],\n",
       " (1, 171): ['SAVE HEAD', 'PRINT BUDGET', 'SAVE BUDGET'],\n",
       " (1, 182): ['SAVE HEAD', 'PRINT BUDGET', 'SAVE BUDGET'],\n",
       " (1, 193): ['SAVE HEAD', 'PRINT BUDGET', 'SAVE BUDGET'],\n",
       " (1, 203): ['SAVE HEAD', 'PRINT BUDGET', 'SAVE BUDGET'],\n",
       " (1, 214): ['SAVE HEAD', 'PRINT BUDGET', 'SAVE BUDGET'],\n",
       " (1, 225): ['SAVE HEAD', 'PRINT BUDGET', 'SAVE BUDGET'],\n",
       " (1, 236): ['SAVE HEAD', 'PRINT BUDGET', 'SAVE BUDGET'],\n",
       " (1, 246): ['SAVE HEAD', 'PRINT BUDGET', 'SAVE BUDGET'],\n",
       " (1, 257): ['SAVE HEAD', 'PRINT BUDGET', 'SAVE BUDGET'],\n",
       " (1, 268): ['SAVE HEAD', 'PRINT BUDGET', 'SAVE BUDGET'],\n",
       " (1, 279): ['SAVE HEAD', 'PRINT BUDGET', 'SAVE BUDGET'],\n",
       " (1, 289): ['SAVE HEAD', 'PRINT BUDGET', 'SAVE BUDGET'],\n",
       " (1, 300): ['SAVE HEAD', 'PRINT BUDGET', 'SAVE BUDGET'],\n",
       " (1, 311): ['SAVE HEAD', 'PRINT BUDGET', 'SAVE BUDGET'],\n",
       " (1, 321): ['SAVE HEAD', 'PRINT BUDGET', 'SAVE BUDGET'],\n",
       " (1, 332): ['SAVE HEAD', 'PRINT BUDGET', 'SAVE BUDGET'],\n",
       " (1, 343): ['SAVE HEAD', 'PRINT BUDGET', 'SAVE BUDGET'],\n",
       " (1, 354): ['SAVE HEAD', 'PRINT BUDGET', 'SAVE BUDGET'],\n",
       " (1, 364): ['SAVE HEAD', 'PRINT BUDGET', 'SAVE BUDGET'],\n",
       " (1, 375): ['SAVE HEAD', 'PRINT BUDGET', 'SAVE BUDGET'],\n",
       " (1, 386): ['SAVE HEAD', 'PRINT BUDGET', 'SAVE BUDGET'],\n",
       " (1, 397): ['SAVE HEAD', 'PRINT BUDGET', 'SAVE BUDGET'],\n",
       " (1, 407): ['SAVE HEAD', 'PRINT BUDGET', 'SAVE BUDGET'],\n",
       " (1, 418): ['SAVE HEAD', 'PRINT BUDGET', 'SAVE BUDGET'],\n",
       " (1, 429): ['SAVE HEAD', 'PRINT BUDGET', 'SAVE BUDGET'],\n",
       " (1, 439): ['SAVE HEAD', 'PRINT BUDGET', 'SAVE BUDGET'],\n",
       " (1, 450): ['SAVE HEAD', 'PRINT BUDGET', 'SAVE BUDGET'],\n",
       " (1, 461): ['SAVE HEAD', 'PRINT BUDGET', 'SAVE BUDGET'],\n",
       " (1, 472): ['SAVE HEAD', 'PRINT BUDGET', 'SAVE BUDGET'],\n",
       " (1, 482): ['SAVE HEAD', 'PRINT BUDGET', 'SAVE BUDGET'],\n",
       " (1, 493): ['SAVE HEAD', 'PRINT BUDGET', 'SAVE BUDGET'],\n",
       " (1, 504): ['SAVE HEAD', 'PRINT BUDGET', 'SAVE BUDGET'],\n",
       " (1, 515): ['SAVE HEAD', 'PRINT BUDGET', 'SAVE BUDGET'],\n",
       " (1, 525): ['SAVE HEAD', 'PRINT BUDGET', 'SAVE BUDGET'],\n",
       " (1, 536): ['SAVE HEAD', 'PRINT BUDGET', 'SAVE BUDGET'],\n",
       " (1, 547): ['SAVE HEAD', 'PRINT BUDGET', 'SAVE BUDGET'],\n",
       " (1, 558): ['SAVE HEAD', 'PRINT BUDGET', 'SAVE BUDGET'],\n",
       " (1, 568): ['SAVE HEAD', 'PRINT BUDGET', 'SAVE BUDGET'],\n",
       " (1, 579): ['SAVE HEAD', 'PRINT BUDGET', 'SAVE BUDGET'],\n",
       " (1, 590): ['SAVE HEAD', 'PRINT BUDGET', 'SAVE BUDGET'],\n",
       " (1, 600): ['SAVE HEAD', 'PRINT BUDGET', 'SAVE BUDGET'],\n",
       " (1, 611): ['SAVE HEAD', 'PRINT BUDGET', 'SAVE BUDGET'],\n",
       " (1, 622): ['SAVE HEAD', 'PRINT BUDGET', 'SAVE BUDGET'],\n",
       " (1, 633): ['SAVE HEAD', 'PRINT BUDGET', 'SAVE BUDGET'],\n",
       " (1, 643): ['SAVE HEAD', 'PRINT BUDGET', 'SAVE BUDGET'],\n",
       " (1, 654): ['SAVE HEAD', 'PRINT BUDGET', 'SAVE BUDGET'],\n",
       " (1, 665): ['SAVE HEAD', 'PRINT BUDGET', 'SAVE BUDGET'],\n",
       " (1, 676): ['SAVE HEAD', 'PRINT BUDGET', 'SAVE BUDGET'],\n",
       " (1, 686): ['SAVE HEAD', 'PRINT BUDGET', 'SAVE BUDGET'],\n",
       " (1, 697): ['SAVE HEAD', 'PRINT BUDGET', 'SAVE BUDGET'],\n",
       " (1, 708): ['SAVE HEAD', 'PRINT BUDGET', 'SAVE BUDGET'],\n",
       " (1, 719): ['SAVE HEAD', 'PRINT BUDGET', 'SAVE BUDGET'],\n",
       " (1, 729): ['SAVE HEAD', 'PRINT BUDGET', 'SAVE BUDGET'],\n",
       " (1, 740): ['SAVE HEAD', 'PRINT BUDGET', 'SAVE BUDGET'],\n",
       " (1, 751): ['SAVE HEAD', 'PRINT BUDGET', 'SAVE BUDGET'],\n",
       " (1, 761): ['SAVE HEAD', 'PRINT BUDGET', 'SAVE BUDGET'],\n",
       " (1, 772): ['SAVE HEAD', 'PRINT BUDGET', 'SAVE BUDGET'],\n",
       " (1, 783): ['SAVE HEAD', 'PRINT BUDGET', 'SAVE BUDGET'],\n",
       " (1, 794): ['SAVE HEAD', 'PRINT BUDGET', 'SAVE BUDGET'],\n",
       " (1, 804): ['SAVE HEAD', 'PRINT BUDGET', 'SAVE BUDGET'],\n",
       " (1, 815): ['SAVE HEAD', 'PRINT BUDGET', 'SAVE BUDGET'],\n",
       " (1, 826): ['SAVE HEAD', 'PRINT BUDGET', 'SAVE BUDGET'],\n",
       " (1, 837): ['SAVE HEAD', 'PRINT BUDGET', 'SAVE BUDGET'],\n",
       " (1, 847): ['SAVE HEAD', 'PRINT BUDGET', 'SAVE BUDGET'],\n",
       " (1, 858): ['SAVE HEAD', 'PRINT BUDGET', 'SAVE BUDGET'],\n",
       " (1, 869): ['SAVE HEAD', 'PRINT BUDGET', 'SAVE BUDGET'],\n",
       " (1, 879): ['SAVE HEAD', 'PRINT BUDGET', 'SAVE BUDGET'],\n",
       " (1, 890): ['SAVE HEAD', 'PRINT BUDGET', 'SAVE BUDGET'],\n",
       " (1, 901): ['SAVE HEAD', 'PRINT BUDGET', 'SAVE BUDGET'],\n",
       " (1, 912): ['SAVE HEAD', 'PRINT BUDGET', 'SAVE BUDGET'],\n",
       " (1, 922): ['SAVE HEAD', 'PRINT BUDGET', 'SAVE BUDGET'],\n",
       " (1, 933): ['SAVE HEAD', 'PRINT BUDGET', 'SAVE BUDGET'],\n",
       " (1, 944): ['SAVE HEAD', 'PRINT BUDGET', 'SAVE BUDGET'],\n",
       " (1, 955): ['SAVE HEAD', 'PRINT BUDGET', 'SAVE BUDGET'],\n",
       " (1, 965): ['SAVE HEAD', 'PRINT BUDGET', 'SAVE BUDGET'],\n",
       " (1, 976): ['SAVE HEAD', 'PRINT BUDGET', 'SAVE BUDGET'],\n",
       " (1, 987): ['SAVE HEAD', 'PRINT BUDGET', 'SAVE BUDGET'],\n",
       " (1, 998): ['SAVE HEAD', 'PRINT BUDGET', 'SAVE BUDGET'],\n",
       " (1, 1008): ['SAVE HEAD', 'PRINT BUDGET', 'SAVE BUDGET'],\n",
       " (1, 1019): ['SAVE HEAD', 'PRINT BUDGET', 'SAVE BUDGET'],\n",
       " (1, 1030): ['SAVE HEAD', 'PRINT BUDGET', 'SAVE BUDGET'],\n",
       " (1, 1040): ['SAVE HEAD', 'PRINT BUDGET', 'SAVE BUDGET'],\n",
       " (1, 1051): ['SAVE HEAD', 'PRINT BUDGET', 'SAVE BUDGET'],\n",
       " (1, 1062): ['SAVE HEAD', 'PRINT BUDGET', 'SAVE BUDGET'],\n",
       " (1, 1073): ['SAVE HEAD', 'PRINT BUDGET', 'SAVE BUDGET'],\n",
       " (1, 1083): ['SAVE HEAD', 'PRINT BUDGET', 'SAVE BUDGET'],\n",
       " (1, 1094): ['SAVE HEAD', 'PRINT BUDGET', 'SAVE BUDGET'],\n",
       " (1, 1105): ['SAVE HEAD', 'PRINT BUDGET', 'SAVE BUDGET'],\n",
       " (1, 1116): ['SAVE HEAD', 'PRINT BUDGET', 'SAVE BUDGET'],\n",
       " (1, 1126): ['SAVE HEAD', 'PRINT BUDGET', 'SAVE BUDGET'],\n",
       " (1, 1137): ['SAVE HEAD', 'PRINT BUDGET', 'SAVE BUDGET'],\n",
       " (1, 1148): ['SAVE HEAD', 'PRINT BUDGET', 'SAVE BUDGET'],\n",
       " (1, 1158): ['SAVE HEAD', 'PRINT BUDGET', 'SAVE BUDGET'],\n",
       " (1, 1169): ['SAVE HEAD', 'PRINT BUDGET', 'SAVE BUDGET'],\n",
       " (1, 1180): ['SAVE HEAD', 'PRINT BUDGET', 'SAVE BUDGET'],\n",
       " (1, 1191): ['SAVE HEAD', 'PRINT BUDGET', 'SAVE BUDGET'],\n",
       " (1, 1201): ['SAVE HEAD', 'PRINT BUDGET', 'SAVE BUDGET'],\n",
       " (1, 1212): ['SAVE HEAD', 'PRINT BUDGET', 'SAVE BUDGET'],\n",
       " (1, 1223): ['SAVE HEAD', 'PRINT BUDGET', 'SAVE BUDGET'],\n",
       " (1, 1234): ['SAVE HEAD', 'PRINT BUDGET', 'SAVE BUDGET'],\n",
       " (1, 1244): ['SAVE HEAD', 'PRINT BUDGET', 'SAVE BUDGET'],\n",
       " (1, 1255): ['SAVE HEAD', 'PRINT BUDGET', 'SAVE BUDGET'],\n",
       " (1, 1266): ['SAVE HEAD', 'PRINT BUDGET', 'SAVE BUDGET'],\n",
       " (1, 1277): ['SAVE HEAD', 'PRINT BUDGET', 'SAVE BUDGET'],\n",
       " (1, 1287): ['SAVE HEAD', 'PRINT BUDGET', 'SAVE BUDGET'],\n",
       " (1, 1298): ['SAVE HEAD', 'PRINT BUDGET', 'SAVE BUDGET'],\n",
       " (1, 1309): ['SAVE HEAD', 'PRINT BUDGET', 'SAVE BUDGET'],\n",
       " (1, 1319): ['SAVE HEAD', 'PRINT BUDGET', 'SAVE BUDGET'],\n",
       " (1, 1330): ['SAVE HEAD', 'PRINT BUDGET', 'SAVE BUDGET'],\n",
       " (1, 1341): ['SAVE HEAD', 'PRINT BUDGET', 'SAVE BUDGET'],\n",
       " (1, 1352): ['SAVE HEAD', 'PRINT BUDGET', 'SAVE BUDGET'],\n",
       " (1, 1362): ['SAVE HEAD', 'PRINT BUDGET', 'SAVE BUDGET'],\n",
       " (1, 1373): ['SAVE HEAD', 'PRINT BUDGET', 'SAVE BUDGET'],\n",
       " (1, 1384): ['SAVE HEAD', 'PRINT BUDGET', 'SAVE BUDGET'],\n",
       " (1, 1395): ['SAVE HEAD', 'PRINT BUDGET', 'SAVE BUDGET'],\n",
       " (1, 1405): ['SAVE HEAD', 'PRINT BUDGET', 'SAVE BUDGET'],\n",
       " (1, 1416): ['SAVE HEAD', 'PRINT BUDGET', 'SAVE BUDGET'],\n",
       " (1, 1427): ['SAVE HEAD', 'PRINT BUDGET', 'SAVE BUDGET'],\n",
       " (1, 1438): ['SAVE HEAD', 'PRINT BUDGET', 'SAVE BUDGET'],\n",
       " (1, 1448): ['SAVE HEAD', 'PRINT BUDGET', 'SAVE BUDGET'],\n",
       " (1, 1459): ['SAVE HEAD', 'PRINT BUDGET', 'SAVE BUDGET'],\n",
       " (1, 1470): ['SAVE HEAD', 'PRINT BUDGET', 'SAVE BUDGET'],\n",
       " (1, 1480): ['SAVE HEAD', 'PRINT BUDGET', 'SAVE BUDGET'],\n",
       " (1, 1491): ['SAVE HEAD', 'PRINT BUDGET', 'SAVE BUDGET'],\n",
       " (1, 1502): ['SAVE HEAD', 'PRINT BUDGET', 'SAVE BUDGET'],\n",
       " (1, 1513): ['SAVE HEAD', 'PRINT BUDGET', 'SAVE BUDGET'],\n",
       " (1, 1523): ['SAVE HEAD', 'PRINT BUDGET', 'SAVE BUDGET'],\n",
       " (1, 1534): ['SAVE HEAD', 'PRINT BUDGET', 'SAVE BUDGET'],\n",
       " (1, 1545): ['SAVE HEAD', 'PRINT BUDGET', 'SAVE BUDGET'],\n",
       " (1, 1556): ['SAVE HEAD', 'PRINT BUDGET', 'SAVE BUDGET'],\n",
       " (1, 1566): ['SAVE HEAD', 'PRINT BUDGET', 'SAVE BUDGET'],\n",
       " (1, 1577): ['SAVE HEAD', 'PRINT BUDGET', 'SAVE BUDGET'],\n",
       " (1, 1588): ['SAVE HEAD', 'PRINT BUDGET', 'SAVE BUDGET'],\n",
       " (1, 1598): ['SAVE HEAD', 'PRINT BUDGET', 'SAVE BUDGET'],\n",
       " (1, 1609): ['SAVE HEAD', 'PRINT BUDGET', 'SAVE BUDGET'],\n",
       " (1, 1620): ['SAVE HEAD', 'PRINT BUDGET', 'SAVE BUDGET'],\n",
       " (1, 1631): ['SAVE HEAD', 'PRINT BUDGET', 'SAVE BUDGET'],\n",
       " (1, 1641): ['SAVE HEAD', 'PRINT BUDGET', 'SAVE BUDGET'],\n",
       " (1, 1652): ['SAVE HEAD', 'PRINT BUDGET', 'SAVE BUDGET'],\n",
       " (1, 1663): ['SAVE HEAD', 'PRINT BUDGET', 'SAVE BUDGET'],\n",
       " (1, 1674): ['SAVE HEAD', 'PRINT BUDGET', 'SAVE BUDGET'],\n",
       " (1, 1684): ['SAVE HEAD', 'PRINT BUDGET', 'SAVE BUDGET'],\n",
       " (1, 1695): ['SAVE HEAD', 'PRINT BUDGET', 'SAVE BUDGET'],\n",
       " (1, 1706): ['SAVE HEAD', 'PRINT BUDGET', 'SAVE BUDGET'],\n",
       " (1, 1717): ['SAVE HEAD', 'PRINT BUDGET', 'SAVE BUDGET'],\n",
       " (1, 1727): ['SAVE HEAD', 'PRINT BUDGET', 'SAVE BUDGET'],\n",
       " (1, 1738): ['SAVE HEAD', 'PRINT BUDGET', 'SAVE BUDGET'],\n",
       " (1, 1749): ['SAVE HEAD', 'PRINT BUDGET', 'SAVE BUDGET'],\n",
       " (1, 1759): ['SAVE HEAD', 'PRINT BUDGET', 'SAVE BUDGET'],\n",
       " (1, 1770): ['SAVE HEAD', 'PRINT BUDGET', 'SAVE BUDGET'],\n",
       " (1, 1781): ['SAVE HEAD', 'PRINT BUDGET', 'SAVE BUDGET'],\n",
       " (1, 1792): ['SAVE HEAD', 'PRINT BUDGET', 'SAVE BUDGET'],\n",
       " (1, 1802): ['SAVE HEAD', 'PRINT BUDGET', 'SAVE BUDGET'],\n",
       " (1, 1813): ['SAVE HEAD', 'PRINT BUDGET', 'SAVE BUDGET'],\n",
       " (1, 1824): ['SAVE HEAD', 'PRINT BUDGET', 'SAVE BUDGET'],\n",
       " (1, 1835): ['SAVE HEAD', 'PRINT BUDGET', 'SAVE BUDGET'],\n",
       " (1, 1845): ['SAVE HEAD', 'PRINT BUDGET', 'SAVE BUDGET'],\n",
       " (1, 1856): ['SAVE HEAD', 'PRINT BUDGET', 'SAVE BUDGET'],\n",
       " (1, 1867): ['SAVE HEAD', 'PRINT BUDGET', 'SAVE BUDGET'],\n",
       " (1, 1878): ['SAVE HEAD', 'PRINT BUDGET', 'SAVE BUDGET'],\n",
       " (1, 1888): ['SAVE HEAD', 'PRINT BUDGET', 'SAVE BUDGET'],\n",
       " (1, 1899): ['SAVE HEAD', 'PRINT BUDGET', 'SAVE BUDGET'],\n",
       " (1, 1910): ['SAVE HEAD', 'PRINT BUDGET', 'SAVE BUDGET'],\n",
       " (1, 1920): ['SAVE HEAD', 'PRINT BUDGET', 'SAVE BUDGET'],\n",
       " (1, 1931): ['SAVE HEAD', 'PRINT BUDGET', 'SAVE BUDGET'],\n",
       " (1, 1942): ['SAVE HEAD', 'PRINT BUDGET', 'SAVE BUDGET'],\n",
       " (1, 1953): ['SAVE HEAD', 'PRINT BUDGET', 'SAVE BUDGET'],\n",
       " (1, 1963): ['SAVE HEAD', 'PRINT BUDGET', 'SAVE BUDGET'],\n",
       " (1, 1974): ['SAVE HEAD', 'PRINT BUDGET', 'SAVE BUDGET'],\n",
       " (1, 1985): ['SAVE HEAD', 'PRINT BUDGET', 'SAVE BUDGET'],\n",
       " (1, 1996): ['SAVE HEAD', 'PRINT BUDGET', 'SAVE BUDGET'],\n",
       " (1, 2006): ['SAVE HEAD', 'PRINT BUDGET', 'SAVE BUDGET'],\n",
       " (1, 2017): ['SAVE HEAD', 'PRINT BUDGET', 'SAVE BUDGET'],\n",
       " (1, 2028): ['SAVE HEAD', 'PRINT BUDGET', 'SAVE BUDGET'],\n",
       " (1, 2038): ['SAVE HEAD', 'PRINT BUDGET', 'SAVE BUDGET'],\n",
       " (1, 2049): ['SAVE HEAD', 'PRINT BUDGET', 'SAVE BUDGET'],\n",
       " (1, 2060): ['SAVE HEAD', 'PRINT BUDGET', 'SAVE BUDGET'],\n",
       " (1, 2071): ['SAVE HEAD', 'PRINT BUDGET', 'SAVE BUDGET'],\n",
       " (1, 2081): ['SAVE HEAD', 'PRINT BUDGET', 'SAVE BUDGET'],\n",
       " (1, 2092): ['SAVE HEAD', 'PRINT BUDGET', 'SAVE BUDGET'],\n",
       " (1, 2103): ['SAVE HEAD', 'PRINT BUDGET', 'SAVE BUDGET'],\n",
       " (1, 2114): ['SAVE HEAD', 'PRINT BUDGET', 'SAVE BUDGET'],\n",
       " (1, 2124): ['SAVE HEAD', 'PRINT BUDGET', 'SAVE BUDGET'],\n",
       " (1, 2135): ['SAVE HEAD', 'PRINT BUDGET', 'SAVE BUDGET'],\n",
       " (1, 2146): ['SAVE HEAD', 'PRINT BUDGET', 'SAVE BUDGET'],\n",
       " (1, 2157): ['SAVE HEAD', 'PRINT BUDGET', 'SAVE BUDGET'],\n",
       " (1, 2167): ['SAVE HEAD', 'PRINT BUDGET', 'SAVE BUDGET'],\n",
       " (1, 2178): ['SAVE HEAD', 'PRINT BUDGET', 'SAVE BUDGET'],\n",
       " (1, 2189): ['SAVE HEAD', 'PRINT BUDGET', 'SAVE BUDGET'],\n",
       " (1, 2199): ['SAVE HEAD', 'PRINT BUDGET', 'SAVE BUDGET'],\n",
       " (1, 2210): ['SAVE HEAD', 'PRINT BUDGET', 'SAVE BUDGET'],\n",
       " (1, 2221): ['SAVE HEAD', 'PRINT BUDGET', 'SAVE BUDGET'],\n",
       " (1, 2232): ['SAVE HEAD', 'PRINT BUDGET', 'SAVE BUDGET'],\n",
       " (1, 2242): ['SAVE HEAD', 'PRINT BUDGET', 'SAVE BUDGET'],\n",
       " (1, 2253): ['SAVE HEAD', 'PRINT BUDGET', 'SAVE BUDGET'],\n",
       " (1, 2264): ['SAVE HEAD', 'PRINT BUDGET', 'SAVE BUDGET'],\n",
       " (1, 2275): ['SAVE HEAD', 'PRINT BUDGET', 'SAVE BUDGET'],\n",
       " (1, 2285): ['SAVE HEAD', 'PRINT BUDGET', 'SAVE BUDGET'],\n",
       " (1, 2296): ['SAVE HEAD', 'PRINT BUDGET', 'SAVE BUDGET'],\n",
       " (1, 2307): ['SAVE HEAD', 'PRINT BUDGET', 'SAVE BUDGET'],\n",
       " (1, 2317): ['SAVE HEAD', 'PRINT BUDGET', 'SAVE BUDGET'],\n",
       " (1, 2328): ['SAVE HEAD', 'PRINT BUDGET', 'SAVE BUDGET'],\n",
       " (1, 2339): ['SAVE HEAD', 'PRINT BUDGET', 'SAVE BUDGET'],\n",
       " (1, 2350): ['SAVE HEAD', 'PRINT BUDGET', 'SAVE BUDGET'],\n",
       " (1, 2360): ['SAVE HEAD', 'PRINT BUDGET', 'SAVE BUDGET'],\n",
       " (1, 2371): ['SAVE HEAD', 'PRINT BUDGET', 'SAVE BUDGET'],\n",
       " (1, 2382): ['SAVE HEAD', 'PRINT BUDGET', 'SAVE BUDGET'],\n",
       " (1, 2393): ['SAVE HEAD', 'PRINT BUDGET', 'SAVE BUDGET'],\n",
       " (1, 2403): ['SAVE HEAD', 'PRINT BUDGET', 'SAVE BUDGET'],\n",
       " (1, 2414): ['SAVE HEAD', 'PRINT BUDGET', 'SAVE BUDGET'],\n",
       " (1, 2425): ['SAVE HEAD', 'PRINT BUDGET', 'SAVE BUDGET'],\n",
       " (1, 2436): ['SAVE HEAD', 'PRINT BUDGET', 'SAVE BUDGET'],\n",
       " (1, 2446): ['SAVE HEAD', 'PRINT BUDGET', 'SAVE BUDGET'],\n",
       " (1, 2457): ['SAVE HEAD', 'PRINT BUDGET', 'SAVE BUDGET'],\n",
       " (1, 2468): ['SAVE HEAD', 'PRINT BUDGET', 'SAVE BUDGET'],\n",
       " (1, 2478): ['SAVE HEAD', 'PRINT BUDGET', 'SAVE BUDGET'],\n",
       " (1, 2489): ['SAVE HEAD', 'PRINT BUDGET', 'SAVE BUDGET'],\n",
       " (1, 2500): ['SAVE HEAD', 'PRINT BUDGET', 'SAVE BUDGET'],\n",
       " (1, 2511): ['SAVE HEAD', 'PRINT BUDGET', 'SAVE BUDGET'],\n",
       " (1, 2521): ['SAVE HEAD', 'PRINT BUDGET', 'SAVE BUDGET'],\n",
       " (1, 2532): ['SAVE HEAD', 'PRINT BUDGET', 'SAVE BUDGET'],\n",
       " (1, 2543): ['SAVE HEAD', 'PRINT BUDGET', 'SAVE BUDGET'],\n",
       " (1, 2554): ['SAVE HEAD', 'PRINT BUDGET', 'SAVE BUDGET'],\n",
       " (1, 2564): ['SAVE HEAD', 'PRINT BUDGET', 'SAVE BUDGET'],\n",
       " (1, 2575): ['SAVE HEAD', 'PRINT BUDGET', 'SAVE BUDGET'],\n",
       " (1, 2586): ['SAVE HEAD', 'PRINT BUDGET', 'SAVE BUDGET'],\n",
       " (1, 2597): ['SAVE HEAD', 'PRINT BUDGET', 'SAVE BUDGET'],\n",
       " (1, 2607): ['SAVE HEAD', 'PRINT BUDGET', 'SAVE BUDGET'],\n",
       " (1, 2618): ['SAVE HEAD', 'PRINT BUDGET', 'SAVE BUDGET'],\n",
       " (1, 2629): ['SAVE HEAD', 'PRINT BUDGET', 'SAVE BUDGET'],\n",
       " (1, 2639): ['SAVE HEAD', 'PRINT BUDGET', 'SAVE BUDGET'],\n",
       " (1, 2650): ['SAVE HEAD', 'PRINT BUDGET', 'SAVE BUDGET'],\n",
       " (1, 2661): ['SAVE HEAD', 'PRINT BUDGET', 'SAVE BUDGET'],\n",
       " (1, 2672): ['SAVE HEAD', 'PRINT BUDGET', 'SAVE BUDGET'],\n",
       " (1, 2682): ['SAVE HEAD', 'PRINT BUDGET', 'SAVE BUDGET'],\n",
       " (1, 2693): ['SAVE HEAD', 'PRINT BUDGET', 'SAVE BUDGET'],\n",
       " (1, 2704): ['SAVE HEAD', 'PRINT BUDGET', 'SAVE BUDGET'],\n",
       " (1, 2715): ['SAVE HEAD', 'PRINT BUDGET', 'SAVE BUDGET'],\n",
       " (1, 2725): ['SAVE HEAD', 'PRINT BUDGET', 'SAVE BUDGET'],\n",
       " (1, 2736): ['SAVE HEAD', 'PRINT BUDGET', 'SAVE BUDGET'],\n",
       " (1, 2747): ['SAVE HEAD', 'PRINT BUDGET', 'SAVE BUDGET'],\n",
       " (1, 2757): ['SAVE HEAD', 'PRINT BUDGET', 'SAVE BUDGET'],\n",
       " (1, 2768): ['SAVE HEAD', 'PRINT BUDGET', 'SAVE BUDGET'],\n",
       " (1, 2779): ['SAVE HEAD', 'PRINT BUDGET', 'SAVE BUDGET'],\n",
       " (1, 2790): ['SAVE HEAD', 'PRINT BUDGET', 'SAVE BUDGET'],\n",
       " (1, 2800): ['SAVE HEAD', 'PRINT BUDGET', 'SAVE BUDGET'],\n",
       " (1, 2811): ['SAVE HEAD', 'PRINT BUDGET', 'SAVE BUDGET'],\n",
       " (1, 2822): ['SAVE HEAD', 'PRINT BUDGET', 'SAVE BUDGET'],\n",
       " (1, 2833): ['SAVE HEAD', 'PRINT BUDGET', 'SAVE BUDGET'],\n",
       " (1, 2843): ['SAVE HEAD', 'PRINT BUDGET', 'SAVE BUDGET'],\n",
       " (1, 2854): ['SAVE HEAD', 'PRINT BUDGET', 'SAVE BUDGET'],\n",
       " (1, 2865): ['SAVE HEAD', 'PRINT BUDGET', 'SAVE BUDGET'],\n",
       " (1, 2876): ['SAVE HEAD', 'PRINT BUDGET', 'SAVE BUDGET'],\n",
       " (1, 2886): ['SAVE HEAD', 'PRINT BUDGET', 'SAVE BUDGET'],\n",
       " (1, 2897): ['SAVE HEAD', 'PRINT BUDGET', 'SAVE BUDGET'],\n",
       " (1, 2908): ['SAVE HEAD', 'PRINT BUDGET', 'SAVE BUDGET'],\n",
       " (1, 2918): ['SAVE HEAD', 'PRINT BUDGET', 'SAVE BUDGET'],\n",
       " (1, 2929): ['SAVE HEAD', 'PRINT BUDGET', 'SAVE BUDGET'],\n",
       " (1, 2940): ['SAVE HEAD', 'PRINT BUDGET', 'SAVE BUDGET'],\n",
       " (1, 2951): ['SAVE HEAD', 'PRINT BUDGET', 'SAVE BUDGET'],\n",
       " (1, 2961): ['SAVE HEAD', 'PRINT BUDGET', 'SAVE BUDGET'],\n",
       " (1, 2972): ['SAVE HEAD', 'PRINT BUDGET', 'SAVE BUDGET'],\n",
       " (1, 2983): ['SAVE HEAD', 'PRINT BUDGET', 'SAVE BUDGET'],\n",
       " (1, 2994): ['SAVE HEAD', 'PRINT BUDGET', 'SAVE BUDGET'],\n",
       " (1, 3004): ['SAVE HEAD', 'PRINT BUDGET', 'SAVE BUDGET'],\n",
       " (1, 3015): ['SAVE HEAD', 'PRINT BUDGET', 'SAVE BUDGET'],\n",
       " (1, 3026): ['SAVE HEAD', 'PRINT BUDGET', 'SAVE BUDGET'],\n",
       " (1, 3037): ['SAVE HEAD', 'PRINT BUDGET', 'SAVE BUDGET'],\n",
       " (1, 3047): ['SAVE HEAD', 'PRINT BUDGET', 'SAVE BUDGET'],\n",
       " (1, 3058): ['SAVE HEAD', 'PRINT BUDGET', 'SAVE BUDGET'],\n",
       " (1, 3069): ['SAVE HEAD', 'PRINT BUDGET', 'SAVE BUDGET'],\n",
       " (1, 3079): ['SAVE HEAD', 'PRINT BUDGET', 'SAVE BUDGET'],\n",
       " (1, 3090): ['SAVE HEAD', 'PRINT BUDGET', 'SAVE BUDGET'],\n",
       " (1, 3101): ['SAVE HEAD', 'PRINT BUDGET', 'SAVE BUDGET'],\n",
       " (1, 3112): ['SAVE HEAD', 'PRINT BUDGET', 'SAVE BUDGET'],\n",
       " (1, 3122): ['SAVE HEAD', 'PRINT BUDGET', 'SAVE BUDGET'],\n",
       " (1, 3133): ['SAVE HEAD', 'PRINT BUDGET', 'SAVE BUDGET'],\n",
       " (1, 3144): ['SAVE HEAD', 'PRINT BUDGET', 'SAVE BUDGET'],\n",
       " (1, 3155): ['SAVE HEAD', 'PRINT BUDGET', 'SAVE BUDGET'],\n",
       " (1, 3165): ['SAVE HEAD', 'PRINT BUDGET', 'SAVE BUDGET'],\n",
       " (1, 3176): ['SAVE HEAD', 'PRINT BUDGET', 'SAVE BUDGET'],\n",
       " (1, 3187): ['SAVE HEAD', 'PRINT BUDGET', 'SAVE BUDGET'],\n",
       " (1, 3197): ['SAVE HEAD', 'PRINT BUDGET', 'SAVE BUDGET'],\n",
       " (1, 3208): ['SAVE HEAD', 'PRINT BUDGET', 'SAVE BUDGET'],\n",
       " (1, 3219): ['SAVE HEAD', 'PRINT BUDGET', 'SAVE BUDGET'],\n",
       " (1, 3230): ['SAVE HEAD', 'PRINT BUDGET', 'SAVE BUDGET'],\n",
       " (1, 3240): ['SAVE HEAD', 'PRINT BUDGET', 'SAVE BUDGET'],\n",
       " (1, 3251): ['SAVE HEAD', 'PRINT BUDGET', 'SAVE BUDGET'],\n",
       " (1, 3262): ['SAVE HEAD', 'PRINT BUDGET', 'SAVE BUDGET'],\n",
       " (1, 3273): ['SAVE HEAD', 'PRINT BUDGET', 'SAVE BUDGET'],\n",
       " (1, 3283): ['SAVE HEAD', 'PRINT BUDGET', 'SAVE BUDGET'],\n",
       " (1, 3294): ['SAVE HEAD', 'PRINT BUDGET', 'SAVE BUDGET'],\n",
       " (1, 3305): ['SAVE HEAD', 'PRINT BUDGET', 'SAVE BUDGET'],\n",
       " (1, 3316): ['SAVE HEAD', 'PRINT BUDGET', 'SAVE BUDGET'],\n",
       " (1, 3326): ['SAVE HEAD', 'PRINT BUDGET', 'SAVE BUDGET'],\n",
       " (1, 3337): ['SAVE HEAD', 'PRINT BUDGET', 'SAVE BUDGET'],\n",
       " (1, 3348): ['SAVE HEAD', 'PRINT BUDGET', 'SAVE BUDGET'],\n",
       " (1, 3358): ['SAVE HEAD', 'PRINT BUDGET', 'SAVE BUDGET'],\n",
       " (1, 3369): ['SAVE HEAD', 'PRINT BUDGET', 'SAVE BUDGET'],\n",
       " (1, 3380): ['SAVE HEAD', 'PRINT BUDGET', 'SAVE BUDGET'],\n",
       " (1, 3391): ['SAVE HEAD', 'PRINT BUDGET', 'SAVE BUDGET'],\n",
       " (1, 3401): ['SAVE HEAD', 'PRINT BUDGET', 'SAVE BUDGET'],\n",
       " (1, 3412): ['SAVE HEAD', 'PRINT BUDGET', 'SAVE BUDGET'],\n",
       " (1, 3423): ['SAVE HEAD', 'PRINT BUDGET', 'SAVE BUDGET'],\n",
       " (1, 3434): ['SAVE HEAD', 'PRINT BUDGET', 'SAVE BUDGET'],\n",
       " (1, 3444): ['SAVE HEAD', 'PRINT BUDGET', 'SAVE BUDGET'],\n",
       " (1, 3455): ['SAVE HEAD', 'PRINT BUDGET', 'SAVE BUDGET'],\n",
       " (1, 3466): ['SAVE HEAD', 'PRINT BUDGET', 'SAVE BUDGET'],\n",
       " (1, 3476): ['SAVE HEAD', 'PRINT BUDGET', 'SAVE BUDGET'],\n",
       " (1, 3487): ['SAVE HEAD', 'PRINT BUDGET', 'SAVE BUDGET'],\n",
       " (1, 3498): ['SAVE HEAD', 'PRINT BUDGET', 'SAVE BUDGET'],\n",
       " (1, 3509): ['SAVE HEAD', 'PRINT BUDGET', 'SAVE BUDGET'],\n",
       " (1, 3519): ['SAVE HEAD', 'PRINT BUDGET', 'SAVE BUDGET'],\n",
       " (1, 3530): ['SAVE HEAD', 'PRINT BUDGET', 'SAVE BUDGET'],\n",
       " (1, 3541): ['SAVE HEAD', 'PRINT BUDGET', 'SAVE BUDGET'],\n",
       " (1, 3552): ['SAVE HEAD', 'PRINT BUDGET', 'SAVE BUDGET'],\n",
       " (1, 3562): ['SAVE HEAD', 'PRINT BUDGET', 'SAVE BUDGET'],\n",
       " (1, 3573): ['SAVE HEAD', 'PRINT BUDGET', 'SAVE BUDGET'],\n",
       " (1, 3584): ['SAVE HEAD', 'PRINT BUDGET', 'SAVE BUDGET'],\n",
       " (1, 3595): ['SAVE HEAD', 'PRINT BUDGET', 'SAVE BUDGET'],\n",
       " (1, 3605): ['SAVE HEAD', 'PRINT BUDGET', 'SAVE BUDGET'],\n",
       " (1, 3616): ['SAVE HEAD', 'PRINT BUDGET', 'SAVE BUDGET'],\n",
       " (1, 3627): ['SAVE HEAD', 'PRINT BUDGET', 'SAVE BUDGET'],\n",
       " (1, 3637): ['SAVE HEAD', 'PRINT BUDGET', 'SAVE BUDGET'],\n",
       " (1, 3648): ['SAVE HEAD', 'PRINT BUDGET', 'SAVE BUDGET'],\n",
       " (1, 3659): ['SAVE HEAD', 'PRINT BUDGET', 'SAVE BUDGET'],\n",
       " (1, 3670): ['SAVE HEAD', 'PRINT BUDGET', 'SAVE BUDGET'],\n",
       " (1, 3680): ['SAVE HEAD', 'PRINT BUDGET', 'SAVE BUDGET'],\n",
       " (1, 3691): ['SAVE HEAD', 'PRINT BUDGET', 'SAVE BUDGET'],\n",
       " (1, 3702): ['SAVE HEAD', 'PRINT BUDGET', 'SAVE BUDGET'],\n",
       " (1, 3713): ['SAVE HEAD', 'PRINT BUDGET', 'SAVE BUDGET'],\n",
       " (1, 3723): ['SAVE HEAD', 'PRINT BUDGET', 'SAVE BUDGET'],\n",
       " (1, 3734): ['SAVE HEAD', 'PRINT BUDGET', 'SAVE BUDGET'],\n",
       " (1, 3745): ['SAVE HEAD', 'PRINT BUDGET', 'SAVE BUDGET'],\n",
       " (1, 3756): ['SAVE HEAD', 'PRINT BUDGET', 'SAVE BUDGET'],\n",
       " (1, 3766): ['SAVE HEAD', 'PRINT BUDGET', 'SAVE BUDGET'],\n",
       " (1, 3777): ['SAVE HEAD', 'PRINT BUDGET', 'SAVE BUDGET'],\n",
       " (1, 3788): ['SAVE HEAD', 'PRINT BUDGET', 'SAVE BUDGET'],\n",
       " (1, 3798): ['SAVE HEAD', 'PRINT BUDGET', 'SAVE BUDGET'],\n",
       " (1, 3809): ['SAVE HEAD', 'PRINT BUDGET', 'SAVE BUDGET'],\n",
       " (1, 3820): ['SAVE HEAD', 'PRINT BUDGET', 'SAVE BUDGET'],\n",
       " (1, 3831): ['SAVE HEAD', 'PRINT BUDGET', 'SAVE BUDGET'],\n",
       " (1, 3841): ['SAVE HEAD', 'PRINT BUDGET', 'SAVE BUDGET'],\n",
       " (1, 3852): ['SAVE HEAD', 'PRINT BUDGET', 'SAVE BUDGET'],\n",
       " (1, 3863): ['SAVE HEAD', 'PRINT BUDGET', 'SAVE BUDGET'],\n",
       " (1, 3874): ['SAVE HEAD', 'PRINT BUDGET', 'SAVE BUDGET'],\n",
       " (1, 3884): ['SAVE HEAD', 'PRINT BUDGET', 'SAVE BUDGET'],\n",
       " (1, 3895): ['SAVE HEAD', 'PRINT BUDGET', 'SAVE BUDGET'],\n",
       " (1, 3906): ['SAVE HEAD', 'PRINT BUDGET', 'SAVE BUDGET'],\n",
       " (1, 3916): ['SAVE HEAD', 'PRINT BUDGET', 'SAVE BUDGET'],\n",
       " (1, 3927): ['SAVE HEAD', 'PRINT BUDGET', 'SAVE BUDGET'],\n",
       " (1, 3938): ['SAVE HEAD', 'PRINT BUDGET', 'SAVE BUDGET'],\n",
       " (1, 3949): ['SAVE HEAD', 'PRINT BUDGET', 'SAVE BUDGET'],\n",
       " (1, 3959): ['SAVE HEAD', 'PRINT BUDGET', 'SAVE BUDGET'],\n",
       " (1, 3970): ['SAVE HEAD', 'PRINT BUDGET', 'SAVE BUDGET'],\n",
       " (1, 3981): ['SAVE HEAD', 'PRINT BUDGET', 'SAVE BUDGET'],\n",
       " (1, 3992): ['SAVE HEAD', 'PRINT BUDGET', 'SAVE BUDGET'],\n",
       " (1, 4002): ['SAVE HEAD', 'PRINT BUDGET', 'SAVE BUDGET'],\n",
       " (1, 4013): ['SAVE HEAD', 'PRINT BUDGET', 'SAVE BUDGET'],\n",
       " (1, 4024): ['SAVE HEAD', 'PRINT BUDGET', 'SAVE BUDGET'],\n",
       " (1, 4035): ['SAVE HEAD', 'PRINT BUDGET', 'SAVE BUDGET'],\n",
       " (1, 4045): ['SAVE HEAD', 'PRINT BUDGET', 'SAVE BUDGET'],\n",
       " (1, 4056): ['SAVE HEAD', 'PRINT BUDGET', 'SAVE BUDGET'],\n",
       " (1, 4067): ['SAVE HEAD', 'PRINT BUDGET', 'SAVE BUDGET'],\n",
       " (1, 4077): ['SAVE HEAD', 'PRINT BUDGET', 'SAVE BUDGET'],\n",
       " (1, 4088): ['SAVE HEAD', 'PRINT BUDGET', 'SAVE BUDGET'],\n",
       " (1, 4099): ['SAVE HEAD', 'PRINT BUDGET', 'SAVE BUDGET'],\n",
       " (1, 4110): ['SAVE HEAD', 'PRINT BUDGET', 'SAVE BUDGET'],\n",
       " (1, 4120): ['SAVE HEAD', 'PRINT BUDGET', 'SAVE BUDGET'],\n",
       " (1, 4131): ['SAVE HEAD', 'PRINT BUDGET', 'SAVE BUDGET'],\n",
       " (1, 4142): ['SAVE HEAD', 'PRINT BUDGET', 'SAVE BUDGET'],\n",
       " (1, 4153): ['SAVE HEAD', 'PRINT BUDGET', 'SAVE BUDGET'],\n",
       " (1, 4163): ['SAVE HEAD', 'PRINT BUDGET', 'SAVE BUDGET'],\n",
       " (1, 4174): ['SAVE HEAD', 'PRINT BUDGET', 'SAVE BUDGET'],\n",
       " (1, 4185): ['SAVE HEAD', 'PRINT BUDGET', 'SAVE BUDGET'],\n",
       " (1, 4196): ['SAVE HEAD', 'PRINT BUDGET', 'SAVE BUDGET'],\n",
       " (1, 4206): ['SAVE HEAD', 'PRINT BUDGET', 'SAVE BUDGET'],\n",
       " (1, 4217): ['SAVE HEAD', 'PRINT BUDGET', 'SAVE BUDGET'],\n",
       " (1, 4228): ['SAVE HEAD', 'PRINT BUDGET', 'SAVE BUDGET'],\n",
       " (1, 4238): ['SAVE HEAD', 'PRINT BUDGET', 'SAVE BUDGET'],\n",
       " (1, 4249): ['SAVE HEAD', 'PRINT BUDGET', 'SAVE BUDGET'],\n",
       " (1, 4260): ['SAVE HEAD', 'PRINT BUDGET', 'SAVE BUDGET'],\n",
       " (1, 4271): ['SAVE HEAD', 'PRINT BUDGET', 'SAVE BUDGET'],\n",
       " (1, 4281): ['SAVE HEAD', 'PRINT BUDGET', 'SAVE BUDGET'],\n",
       " (1, 4292): ['SAVE HEAD', 'PRINT BUDGET', 'SAVE BUDGET'],\n",
       " (1, 4303): ['SAVE HEAD', 'PRINT BUDGET', 'SAVE BUDGET'],\n",
       " (1, 4314): ['SAVE HEAD', 'PRINT BUDGET', 'SAVE BUDGET'],\n",
       " (1, 4324): ['SAVE HEAD', 'PRINT BUDGET', 'SAVE BUDGET'],\n",
       " (1, 4335): ['SAVE HEAD', 'PRINT BUDGET', 'SAVE BUDGET'],\n",
       " (1, 4346): ['SAVE HEAD', 'PRINT BUDGET', 'SAVE BUDGET'],\n",
       " (1, 4356): ['SAVE HEAD', 'PRINT BUDGET', 'SAVE BUDGET'],\n",
       " (1, 4367): ['SAVE HEAD', 'PRINT BUDGET', 'SAVE BUDGET'],\n",
       " (1, 4378): ['SAVE HEAD', 'PRINT BUDGET', 'SAVE BUDGET'],\n",
       " (1, 4389): ['SAVE HEAD', 'PRINT BUDGET', 'SAVE BUDGET'],\n",
       " (1, 4399): ['SAVE HEAD', 'PRINT BUDGET', 'SAVE BUDGET'],\n",
       " (1, 4410): ['SAVE HEAD', 'PRINT BUDGET', 'SAVE BUDGET'],\n",
       " (1, 4421): ['SAVE HEAD', 'PRINT BUDGET', 'SAVE BUDGET'],\n",
       " (1, 4432): ['SAVE HEAD', 'PRINT BUDGET', 'SAVE BUDGET'],\n",
       " (1, 4442): ['SAVE HEAD', 'PRINT BUDGET', 'SAVE BUDGET'],\n",
       " (1, 4453): ['SAVE HEAD', 'PRINT BUDGET', 'SAVE BUDGET'],\n",
       " (1, 4464): ['SAVE HEAD', 'PRINT BUDGET', 'SAVE BUDGET'],\n",
       " (1, 4475): ['SAVE HEAD', 'PRINT BUDGET', 'SAVE BUDGET'],\n",
       " (1, 4485): ['SAVE HEAD', 'PRINT BUDGET', 'SAVE BUDGET'],\n",
       " (1, 4496): ['SAVE HEAD', 'PRINT BUDGET', 'SAVE BUDGET'],\n",
       " (1, 4507): ['SAVE HEAD', 'PRINT BUDGET', 'SAVE BUDGET'],\n",
       " (1, 4517): ['SAVE HEAD', 'PRINT BUDGET', 'SAVE BUDGET'],\n",
       " (1, 4528): ['SAVE HEAD', 'PRINT BUDGET', 'SAVE BUDGET'],\n",
       " (1, 4539): ['SAVE HEAD', 'PRINT BUDGET', 'SAVE BUDGET'],\n",
       " (1, 4550): ['SAVE HEAD', 'PRINT BUDGET', 'SAVE BUDGET'],\n",
       " (1, 4560): ['SAVE HEAD', 'PRINT BUDGET', 'SAVE BUDGET'],\n",
       " (1, 4571): ['SAVE HEAD', 'PRINT BUDGET', 'SAVE BUDGET'],\n",
       " (1, 4582): ['SAVE HEAD', 'PRINT BUDGET', 'SAVE BUDGET'],\n",
       " (1, 4593): ['SAVE HEAD', 'PRINT BUDGET', 'SAVE BUDGET'],\n",
       " (1, 4603): ['SAVE HEAD', 'PRINT BUDGET', 'SAVE BUDGET'],\n",
       " (1, 4614): ['SAVE HEAD', 'PRINT BUDGET', 'SAVE BUDGET'],\n",
       " (1, 4625): ['SAVE HEAD', 'PRINT BUDGET', 'SAVE BUDGET'],\n",
       " (1, 4635): ['SAVE HEAD', 'PRINT BUDGET', 'SAVE BUDGET'],\n",
       " (1, 4646): ['SAVE HEAD', 'PRINT BUDGET', 'SAVE BUDGET'],\n",
       " (1, 4657): ['SAVE HEAD', 'PRINT BUDGET', 'SAVE BUDGET'],\n",
       " (1, 4668): ['SAVE HEAD', 'PRINT BUDGET', 'SAVE BUDGET'],\n",
       " (1, 4678): ['SAVE HEAD', 'PRINT BUDGET', 'SAVE BUDGET'],\n",
       " (1, 4689): ['SAVE HEAD', 'PRINT BUDGET', 'SAVE BUDGET'],\n",
       " (1, 4700): ['SAVE HEAD', 'PRINT BUDGET', 'SAVE BUDGET'],\n",
       " (1, 4711): ['SAVE HEAD', 'PRINT BUDGET', 'SAVE BUDGET'],\n",
       " (1, 4721): ['SAVE HEAD', 'PRINT BUDGET', 'SAVE BUDGET'],\n",
       " (1, 4732): ['SAVE HEAD', 'PRINT BUDGET', 'SAVE BUDGET'],\n",
       " (1, 4743): ['SAVE HEAD', 'PRINT BUDGET', 'SAVE BUDGET'],\n",
       " (1, 4754): ['SAVE HEAD', 'PRINT BUDGET', 'SAVE BUDGET'],\n",
       " (1, 4764): ['SAVE HEAD', 'PRINT BUDGET', 'SAVE BUDGET'],\n",
       " (1, 4775): ['SAVE HEAD', 'PRINT BUDGET', 'SAVE BUDGET'],\n",
       " (1, 4786): ['SAVE HEAD', 'PRINT BUDGET', 'SAVE BUDGET'],\n",
       " (1, 4796): ['SAVE HEAD', 'PRINT BUDGET', 'SAVE BUDGET'],\n",
       " (1, 4807): ['SAVE HEAD', 'PRINT BUDGET', 'SAVE BUDGET'],\n",
       " (1, 4818): ['SAVE HEAD', 'PRINT BUDGET', 'SAVE BUDGET'],\n",
       " (1, 4829): ['SAVE HEAD', 'PRINT BUDGET', 'SAVE BUDGET'],\n",
       " (1, 4839): ['SAVE HEAD', 'PRINT BUDGET', 'SAVE BUDGET'],\n",
       " (1, 4850): ['SAVE HEAD', 'PRINT BUDGET', 'SAVE BUDGET'],\n",
       " (1, 4861): ['SAVE HEAD', 'PRINT BUDGET', 'SAVE BUDGET'],\n",
       " (1, 4872): ['SAVE HEAD', 'PRINT BUDGET', 'SAVE BUDGET'],\n",
       " (1, 4882): ['SAVE HEAD', 'PRINT BUDGET', 'SAVE BUDGET'],\n",
       " (1, 4893): ['SAVE HEAD', 'PRINT BUDGET', 'SAVE BUDGET'],\n",
       " (1, 4904): ['SAVE HEAD', 'PRINT BUDGET', 'SAVE BUDGET'],\n",
       " (1, 4915): ['SAVE HEAD', 'PRINT BUDGET', 'SAVE BUDGET'],\n",
       " (1, 4925): ['SAVE HEAD', 'PRINT BUDGET', 'SAVE BUDGET'],\n",
       " (1, 4936): ['SAVE HEAD', 'PRINT BUDGET', 'SAVE BUDGET'],\n",
       " (1, 4947): ['SAVE HEAD', 'PRINT BUDGET', 'SAVE BUDGET'],\n",
       " (1, 4957): ['SAVE HEAD', 'PRINT BUDGET', 'SAVE BUDGET'],\n",
       " (1, 4968): ['SAVE HEAD', 'PRINT BUDGET', 'SAVE BUDGET'],\n",
       " (1, 4979): ['SAVE HEAD', 'PRINT BUDGET', 'SAVE BUDGET'],\n",
       " (1, 4990): ['SAVE HEAD', 'PRINT BUDGET', 'SAVE BUDGET'],\n",
       " (1, 5000): ['SAVE HEAD', 'PRINT BUDGET', 'SAVE BUDGET'],\n",
       " (1, 5011): ['SAVE HEAD', 'PRINT BUDGET', 'SAVE BUDGET'],\n",
       " (1, 5022): ['SAVE HEAD', 'PRINT BUDGET', 'SAVE BUDGET'],\n",
       " (1, 5033): ['SAVE HEAD', 'PRINT BUDGET', 'SAVE BUDGET'],\n",
       " (1, 5043): ['SAVE HEAD', 'PRINT BUDGET', 'SAVE BUDGET'],\n",
       " (1, 5054): ['SAVE HEAD', 'PRINT BUDGET', 'SAVE BUDGET'],\n",
       " (1, 5065): ['SAVE HEAD', 'PRINT BUDGET', 'SAVE BUDGET'],\n",
       " (1, 5075): ['SAVE HEAD', 'PRINT BUDGET', 'SAVE BUDGET'],\n",
       " (1, 5086): ['SAVE HEAD', 'PRINT BUDGET', 'SAVE BUDGET'],\n",
       " (1, 5097): ['SAVE HEAD', 'PRINT BUDGET', 'SAVE BUDGET'],\n",
       " (1, 5108): ['SAVE HEAD', 'PRINT BUDGET', 'SAVE BUDGET'],\n",
       " (1, 5118): ['SAVE HEAD', 'PRINT BUDGET', 'SAVE BUDGET'],\n",
       " (1, 5129): ['SAVE HEAD', 'PRINT BUDGET', 'SAVE BUDGET'],\n",
       " (1, 5140): ['SAVE HEAD', 'PRINT BUDGET', 'SAVE BUDGET'],\n",
       " (1, 5151): ['SAVE HEAD', 'PRINT BUDGET', 'SAVE BUDGET'],\n",
       " (1, 5161): ['SAVE HEAD', 'PRINT BUDGET', 'SAVE BUDGET'],\n",
       " (1, 5172): ['SAVE HEAD', 'PRINT BUDGET', 'SAVE BUDGET'],\n",
       " (1, 5183): ['SAVE HEAD', 'PRINT BUDGET', 'SAVE BUDGET'],\n",
       " (1, 5194): ['SAVE HEAD', 'PRINT BUDGET', 'SAVE BUDGET'],\n",
       " (1, 5204): ['SAVE HEAD', 'PRINT BUDGET', 'SAVE BUDGET'],\n",
       " (1, 5215): ['SAVE HEAD', 'PRINT BUDGET', 'SAVE BUDGET'],\n",
       " (1, 5226): ['SAVE HEAD', 'PRINT BUDGET', 'SAVE BUDGET'],\n",
       " (1, 5236): ['SAVE HEAD', 'PRINT BUDGET', 'SAVE BUDGET'],\n",
       " (1, 5247): ['SAVE HEAD', 'PRINT BUDGET', 'SAVE BUDGET'],\n",
       " (1, 5258): ['SAVE HEAD', 'PRINT BUDGET', 'SAVE BUDGET'],\n",
       " (1, 5269): ['SAVE HEAD', 'PRINT BUDGET', 'SAVE BUDGET'],\n",
       " (1, 5279): ['SAVE HEAD', 'PRINT BUDGET', 'SAVE BUDGET'],\n",
       " (1, 5290): ['SAVE HEAD', 'PRINT BUDGET', 'SAVE BUDGET'],\n",
       " (1, 5301): ['SAVE HEAD', 'PRINT BUDGET', 'SAVE BUDGET'],\n",
       " (1, 5312): ['SAVE HEAD', 'PRINT BUDGET', 'SAVE BUDGET'],\n",
       " (1, 5322): ['SAVE HEAD', 'PRINT BUDGET', 'SAVE BUDGET'],\n",
       " (1, 5333): ['SAVE HEAD', 'PRINT BUDGET', 'SAVE BUDGET'],\n",
       " (1, 5344): ['SAVE HEAD', 'PRINT BUDGET', 'SAVE BUDGET'],\n",
       " (1, 5355): ['SAVE HEAD', 'PRINT BUDGET', 'SAVE BUDGET']}"
      ]
     },
     "execution_count": 31,
     "metadata": {},
     "output_type": "execute_result"
    }
   ],
   "source": [
    "# Add OC package to the MODFLOW model\n",
    "options = ['PRINT HEAD', 'PRINT DRAWDOWN', 'PRINT BUDGET',\n",
    "           'SAVE HEAD', 'SAVE DRAWDOWN', 'SAVE BUDGET',\n",
    "         'SAVE IBOUND', 'DDREFERENCE']\n",
    "\n",
    "# nstp =   [1.0, 5844.0]\n",
    "spd = dict()  \n",
    "steps_to_print = np.linspace(0,nstp[1]-1, 500).astype(int)\n",
    "key = (0, 0)\n",
    "spd[key] = ['SAVE HEAD', 'PRINT BUDGET', 'SAVE BUDGET' ]  \n",
    "\n",
    "for time_point in steps_to_print:\n",
    "    key = (1,time_point)\n",
    "    spd[key] = ['SAVE HEAD', 'PRINT BUDGET', 'SAVE BUDGET' ] \n",
    "\n",
    "spd"
   ]
  },
  {
   "cell_type": "code",
   "execution_count": 32,
   "metadata": {},
   "outputs": [
    {
     "data": {
      "text/plain": [
       "['DIS', 'BAS6', 'UPW', 'SFR', 'OC']"
      ]
     },
     "execution_count": 32,
     "metadata": {},
     "output_type": "execute_result"
    }
   ],
   "source": [
    "oc = flopy.modflow.ModflowOc(mf, stress_period_data=spd, cboufm='(20i5)')\n",
    "mf.get_package_list()"
   ]
  },
  {
   "cell_type": "code",
   "execution_count": null,
   "metadata": {
    "slideshow": {
     "slide_type": "slide"
    }
   },
   "outputs": [],
   "source": []
  },
  {
   "cell_type": "markdown",
   "metadata": {
    "slideshow": {
     "slide_type": "slide"
    }
   },
   "source": [
    "### Unsaturated Zone Flow (UZF) Package\n",
    "The Unsarurated Zone (USZ) plays a major role in underatanding the interaction between deep groundwater system ans surface water system. "
   ]
  },
  {
   "cell_type": "code",
   "execution_count": 33,
   "metadata": {
    "slideshow": {
     "slide_type": "slide"
    }
   },
   "outputs": [
    {
     "data": {
      "text/plain": [
       "<matplotlib.image.AxesImage at 0x149460d0>"
      ]
     },
     "execution_count": 33,
     "metadata": {},
     "output_type": "execute_result"
    },
    {
     "data": {
      "image/png": "[encoded data removed]",
      "text/plain": [
       "<Figure size 720x720 with 1 Axes>"
      ]
     },
     "metadata": {
      "needs_background": "light"
     },
     "output_type": "display_data"
    }
   ],
   "source": [
    "nuztop =  3         # Recharge to and discharge from the top model layer\n",
    "iuzfopt = 1         # Vertical conductivity will specifed from upw\n",
    "irunflg = 2         # >0 means water discharge will be routed to the streams.\n",
    "ietflg = 0          # > 0 ET will be simulated\n",
    "ipakcb = 70         # > 0 recharge, ET, and discharge will be written unformatted file\n",
    "#iuzfcb2 = -132      # > 0  recharge, ET, and ground-water discharge to land surface rates to a separate unformatted file\n",
    "ntrail2 = 15        # number of trailing waves\n",
    "nsets = 100          # number of wave sets used to simulate multiple infiltration periods\n",
    "nuzgag = 0          # equal to the number of cells (one per vertical column) that will be specified for printing\n",
    "                    # detailed information on the unsaturated zone water budget and water content.\n",
    "surfdep = 1.0       # The average height of undulations, D (Figure 1 in UZF documentation), in the land surface altitude\n",
    "\n",
    "iuzfbnd = ibound2d  # used to define the aerial extent of the active model in which recharge and discharge will be simulated.\n",
    "irunbnd = hru_shp['IRUNBOUND'].values.reshape(n_row, n_col)\n",
    "plt.figure(figsize=(10,10))\n",
    "plt.imshow(irunbnd)"
   ]
  },
  {
   "cell_type": "code",
   "execution_count": 34,
   "metadata": {
    "slideshow": {
     "slide_type": "slide"
    }
   },
   "outputs": [],
   "source": [
    "finf = np.loadtxt(r\"../models_data/misc/uzf_finf.txt\")\n",
    "\n",
    "## If you know that infiltration is a fraction (say 20%) of the annual rain, can you use information from the HRU\n",
    "##  shapefile to compute finf?\n",
    "\n",
    "# **** Answer ****\n",
    "annual_rain = 0.0\n",
    "for ii in np.arange(1, 13):\n",
    "    #curr_ = np.copy(zmat)\n",
    "    field_name = 'PPT_' + str(ii).zfill(2)\n",
    "    annual_rain = annual_rain + hru_shp[field_name].values\n",
    "annual_rain = 0.20 *  (annual_rain/ 365.25)/1000.0   # convert units from mm/year to m/day\n",
    "\n",
    "\n"
   ]
  },
  {
   "cell_type": "code",
   "execution_count": 35,
   "metadata": {
    "slideshow": {
     "slide_type": "slide"
    }
   },
   "outputs": [
    {
     "data": {
      "text/plain": [
       "<matplotlib.colorbar.Colorbar at 0x11e501b0>"
      ]
     },
     "execution_count": 35,
     "metadata": {},
     "output_type": "execute_result"
    },
    {
     "data": {
      "image/png": "[encoded data removed]",
      "text/plain": [
       "<Figure size 432x288 with 2 Axes>"
      ]
     },
     "metadata": {
      "needs_background": "light"
     },
     "output_type": "display_data"
    }
   ],
   "source": [
    "#uzf.plot()\n",
    "plt.imshow(annual_rain.reshape(n_row, n_col)); plt.colorbar()"
   ]
  },
  {
   "cell_type": "code",
   "execution_count": 36,
   "metadata": {},
   "outputs": [],
   "source": [
    "thts = np.loadtxt(r\"../models_data/misc//uzf_ths.txt\") # porosity of the unsaturated zone\n",
    "vks = np.loadtxt(r\"../models_data/misc//uzf_vks.txt\") # vertical hydraulic conductivity\n",
    "thetai = 0.2  # initial moisture content.\n",
    "\n",
    "uzf = flopy.modflow.ModflowUzf1(mf, nuztop=nuztop, iuzfopt=iuzfopt, irunflg=irunflg, ietflg=ietflg,\n",
    "                                ipakcb=ipakcb, iuzfcb2=0, ntrail2=ntrail2, nsets=nsets, \n",
    "                                surfdep=surfdep, iuzfbnd=iuzfbnd, irunbnd=irunbnd, vks=vks,\n",
    "                                eps=4.0, thts= thts, thti=thetai, specifythtr=0, specifythti=0, nosurfleak=0,\n",
    "                                finf=finf)"
   ]
  },
  {
   "cell_type": "code",
   "execution_count": 37,
   "metadata": {
    "slideshow": {
     "slide_type": "slide"
    }
   },
   "outputs": [],
   "source": [
    "#uzf.write_file()"
   ]
  },
  {
   "cell_type": "code",
   "execution_count": 38,
   "metadata": {
    "slideshow": {
     "slide_type": "slide"
    }
   },
   "outputs": [
    {
     "data": {
      "text/plain": [
       "['DIS', 'BAS6', 'UPW', 'SFR', 'OC', 'UZF']"
      ]
     },
     "execution_count": 38,
     "metadata": {},
     "output_type": "execute_result"
    }
   ],
   "source": [
    "mf.get_package_list()"
   ]
  },
  {
   "cell_type": "markdown",
   "metadata": {
    "slideshow": {
     "slide_type": "slide"
    }
   },
   "source": [
    "### NWT Solver"
   ]
  },
  {
   "cell_type": "code",
   "execution_count": 39,
   "metadata": {
    "slideshow": {
     "slide_type": "slide"
    }
   },
   "outputs": [],
   "source": [
    "flopy.modflow.mfnwt.ModflowNwt.load(r\"../models_data/misc/solver_options.nwt\", mf)\n",
    "if False:\n",
    "    nwt = flopy.modflow.mfnwt.ModflowNwt(mf, headtol=0.01, fluxtol=500, maxiterout=1000, thickfact=1e-06, linmeth=2,\n",
    "                                           iprnwt=1, ibotav=1, options='SPECIFIED', Continue=True, dbdtheta=0.4,\n",
    "                                           dbdkappa=1e-05, dbdgamma=0.0, momfact=0.1, backflag=1, maxbackiter=50,\n",
    "                                           backtol=1.1, backreduce=0.7, maxitinner=50, ilumethod=2, levfill=5,\n",
    "                                           stoptol=1e-10, msdr=15, iacl=2, norder=1, level=5, north=7, iredsys=0,\n",
    "                                           rrctols=0.0, idroptol=1, epsrn=0.0001, hclosexmd=0.0001, mxiterxmd=50,\n",
    "                                           extension='nwt', unitnumber=None, filenames=None)"
   ]
  },
  {
   "cell_type": "code",
   "execution_count": 40,
   "metadata": {
    "slideshow": {
     "slide_type": "slide"
    }
   },
   "outputs": [
    {
     "data": {
      "text/plain": [
       "['DIS', 'BAS6', 'UPW', 'SFR', 'OC', 'UZF', 'NWT']"
      ]
     },
     "execution_count": 40,
     "metadata": {},
     "output_type": "execute_result"
    }
   ],
   "source": [
    "mf.get_package_list()"
   ]
  },
  {
   "cell_type": "code",
   "execution_count": 41,
   "metadata": {
    "slideshow": {
     "slide_type": "slide"
    }
   },
   "outputs": [],
   "source": [
    "mf.write_input()"
   ]
  },
  {
   "cell_type": "code",
   "execution_count": 42,
   "metadata": {
    "slideshow": {
     "slide_type": "skip"
    }
   },
   "outputs": [],
   "source": [
    "#mf.run_model()"
   ]
  },
  {
   "cell_type": "markdown",
   "metadata": {
    "slideshow": {
     "slide_type": "slide"
    }
   },
   "source": [
    "### Learn more About Flopy !!\n",
    "https://github.com/modflowpy/flopy/tree/develop/examples/Notebooks"
   ]
  },
  {
   "cell_type": "code",
   "execution_count": 43,
   "metadata": {},
   "outputs": [
    {
     "name": "stderr",
     "output_type": "stream",
     "text": [
      "[NbConvertApp] Converting notebook Groundwater_modeling_intro.ipynb to script\n",
      "[NbConvertApp] Writing 21660 bytes to Groundwater_modeling_intro.py\n"
     ]
    }
   ],
   "source": [
    "!jupyter nbconvert --to script Groundwater_modeling_intro.ipynb"
   ]
  },
  {
   "cell_type": "code",
   "execution_count": null,
   "metadata": {},
   "outputs": [],
   "source": []
  },
  {
   "cell_type": "code",
   "execution_count": null,
   "metadata": {},
   "outputs": [],
   "source": []
  }
 ],
 "metadata": {
  "celltoolbar": "Slideshow",
  "kernelspec": {
   "display_name": "Python 2",
   "language": "python",
   "name": "python2"
  },
  "language_info": {
   "codemirror_mode": {
    "name": "ipython",
    "version": 2
   },
   "file_extension": ".py",
   "mimetype": "text/x-python",
   "name": "python",
   "nbconvert_exporter": "python",
   "pygments_lexer": "ipython2",
   "version": "2.7.16"
  }
 },
 "nbformat": 4,
 "nbformat_minor": 2
}
