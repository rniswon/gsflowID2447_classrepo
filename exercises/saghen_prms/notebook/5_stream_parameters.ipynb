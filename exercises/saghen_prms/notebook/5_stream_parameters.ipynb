{
 "cells": [
  {
   "cell_type": "markdown",
   "metadata": {},
   "source": []
  },
  {
   "cell_type": "markdown",
   "metadata": {},
   "source": [
    "# Run  stream_parameters\n",
    "\n",
    "#### This notebook runs CRT with streams included and generates SFR input data."
   ]
  },
  {
   "cell_type": "code",
   "execution_count": 1,
   "metadata": {},
   "outputs": [],
   "source": [
    "%matplotlib inline\n",
    "import sys, os\n",
    "import matplotlib.pyplot as plt\n",
    "import arcpy\n",
    "import geopandas\n",
    "import matplotlib.image as mpimg\n",
    "import ConfigParser\n",
    "from matplotlib import cm\n",
    "from arcpy import env\n",
    "python_exe = sys.executable"
   ]
  },
  {
   "cell_type": "code",
   "execution_count": 2,
   "metadata": {},
   "outputs": [],
   "source": [
    "# Set folder locations\n",
    "arc_gsflow_folder=r\"..\\scripts\"\n",
    "config_file_folder=r\"..\\examples\\sagehen\""
   ]
  },
  {
   "cell_type": "markdown",
   "metadata": {},
   "source": [
    "#### GsflowArcpy uses a configuration file to set variables required by the scripts. Below the configuration file template is read, and default values are changed and written to the configuration file (\".INI\") read by GsflowArcpy."
   ]
  },
  {
   "cell_type": "code",
   "execution_count": 3,
   "metadata": {},
   "outputs": [
    {
     "data": {
      "text/plain": [
       "['..\\\\examples\\\\sagehen\\\\sagehen_parameters_orig.ini']"
      ]
     },
     "execution_count": 3,
     "metadata": {},
     "output_type": "execute_result"
    }
   ],
   "source": [
    "# Load GsflowArcpy configuration file\n",
    "Config = ConfigParser.ConfigParser()\n",
    "Config.read(\"..\\examples\\sagehen\\sagehen_parameters_orig.ini\")"
   ]
  },
  {
   "cell_type": "markdown",
   "metadata": {},
   "source": [
    "#### Values set below are required for running the fill procedure using CRT."
   ]
  },
  {
   "cell_type": "code",
   "execution_count": 4,
   "metadata": {},
   "outputs": [],
   "source": [
    "# Set problem specific variable values for scripts\n",
    "crt_exe_path = r\"..\\..\\..\\bin\\CRT_1.3.1.exe\"\n",
    "crt_hruflg = 0\n",
    "crt_flowflg = 3\n",
    "crt_dpit = 0.01\n",
    "crt_outitmax = 100000\n",
    "use_crt_fill_flag = True"
   ]
  },
  {
   "cell_type": "code",
   "execution_count": 5,
   "metadata": {},
   "outputs": [],
   "source": [
    "# Write out modified values to configuration file\n",
    "cfgfile = open(\"..\\examples\\sagehen\\sagehen_parameters.ini\",'w')\n",
    "Config.set('INPUTS','crt_exe_path',crt_exe_path)\n",
    "Config.set('INPUTS','crt_hruflg',crt_hruflg)\n",
    "Config.set('INPUTS','crt_flowflg',crt_flowflg)\n",
    "Config.set('INPUTS','crt_dpit',crt_dpit)\n",
    "Config.set('INPUTS','crt_outitmax',crt_outitmax)\n",
    "Config.set('INPUTS','use_crt_fill_flag',use_crt_fill_flag)\n",
    "Config.write(cfgfile)\n",
    "cfgfile.close()"
   ]
  },
  {
   "cell_type": "code",
   "execution_count": 6,
   "metadata": {},
   "outputs": [
    {
     "name": "stderr",
     "output_type": "stream",
     "text": [
      "\n",
      "################################################################################\n",
      "Run Time Stamp:      2019-09-06 09:56:53.549000\n",
      "Current Directory:   D:\\Workspace\\classes\\gsflowID2447_classrepo\\exercises\\saghen_prms\\notebook\n",
      "Script:              stream_parameters.py\n",
      "\n",
      "GSFLOW Stream Parameters\n",
      "\n",
      "Adding fields if necessary\n",
      "\n",
      "KRCH, IRCH, & JRCH for streams\n",
      "Stream length\n",
      "Cell out-flow dictionary\n",
      "Calculate IREACH and OUTSEG\n",
      "Stream elevation (DEM_ADJ - 1 for now)\n",
      "Save IREACH and OUTSEG\n",
      "IUPSEG for streams flowing out of lakes\n",
      "Segment in/out-flow dictionary\n",
      "SEG_BASIN\n",
      "Lake ISEG\n",
      "\n",
      "Output model grid rasters\n",
      "Output model grid ascii\n",
      "\n",
      "Building output CRT files\n",
      "  STREAM_CELLS.DAT\n",
      "  OUTFLOW_HRU.DAT\n",
      "  HRU_CASC.DAT\n",
      "  LAND_ELEV.DAT\n",
      "  XY.DAT\n",
      "\n",
      "Running CRT\n",
      "\n",
      "Reading CRT outputstat.txt\n",
      "\n",
      "Copying cascade CRT files (except HRU_CASC.DAT)\n",
      "\n",
      "Building groundwater cascade CRT files\n",
      "  HRU_CASC.DAT\n",
      "\n",
      "Running CRT for groundwater cascades\n",
      "\n",
      "Reading CRT outputstat.txt\n"
     ]
    }
   ],
   "source": [
    "%run ../scripts/stream_parameters.py -i ../examples/sagehen/sagehen_parameters.ini"
   ]
  },
  {
   "cell_type": "markdown",
   "metadata": {},
   "source": [
    "#### Run the GsflowArpcy script stream_parameters. This time, streams are included in the CRT run, and the final cascade numbering is created."
   ]
  },
  {
   "cell_type": "code",
   "execution_count": 12,
   "metadata": {},
   "outputs": [
    {
     "data": {
      "text/plain": [
       "0"
      ]
     },
     "execution_count": 12,
     "metadata": {},
     "output_type": "execute_result"
    }
   ],
   "source": [
    "# Set and run stream_parameters script\n",
    "if 0:\n",
    "    script = r\"stream_parameters.py\"\n",
    "    argument = r\" -i ..\\examples\\sagehen\\sagehen_parameters.ini\"\n",
    "    cmd=python_exe + \" \" + os.path.join(arc_gsflow_folder,script)\n",
    "    cmd = cmd + argument\n",
    "    os.system(cmd)"
   ]
  },
  {
   "cell_type": "markdown",
   "metadata": {},
   "source": [
    "## Class Exercise:\n",
    "#### After running the stream_parameters script we can visualize cascades. This can be done by using the Cascade Routing Visualization tool (CRV). CRV produces plots shown below for evaluating if CRT is creating cascades that are realistic.\n",
    "\n",
    "#### 1) Open Arcmap and set the default coordinate system by choosing “Geoprocessing” menu, “Environments” “Output Coordinates.” Set the coordinate system by choosing another shape file from this project (e.g., hru_params.shp). Arc will also assume the coordinate system of the first file opened in a new map project.\n",
    "\n",
    "#### 2) Add the CRV tool box by right clicking in the ArcToobox window; select 'Add Toolbox'; navigate to gsflowID2447>bin> CRV > Toolbox and open CRV.tbx - the toolbox will appear in the ArcToolbox window.\n",
    "\n",
    "#### 3) Double click the CRV tool, navigate and select the folder (workspace)  .\\gsflowID2447_classrepo\\exercises\\saghen_prms\\examples\\sagehen\\hru_params\\cascade_work - Select ok and run the tool.\n",
    "\n",
    "#### The results appear in ArcMap. Note that the current version of CRV must be used in ArcMap. Future versions will allow us to make graphs of cascades in a notebook."
   ]
  },
  {
   "cell_type": "markdown",
   "metadata": {},
   "source": [
    "Example of CRV:\n",
    "\n",
    "<img src=\".\\captures\\sagehen_cascades_close.png\" style=\"float: left\" width=\"600\">"
   ]
  },
  {
   "cell_type": "code",
   "execution_count": null,
   "metadata": {},
   "outputs": [],
   "source": []
  }
 ],
 "metadata": {
  "kernelspec": {
   "display_name": "Python 2",
   "language": "python",
   "name": "python2"
  },
  "language_info": {
   "codemirror_mode": {
    "name": "ipython",
    "version": 2
   },
   "file_extension": ".py",
   "mimetype": "text/x-python",
   "name": "python",
   "nbconvert_exporter": "python",
   "pygments_lexer": "ipython2",
   "version": "2.7.16"
  }
 },
 "nbformat": 4,
 "nbformat_minor": 2
}
