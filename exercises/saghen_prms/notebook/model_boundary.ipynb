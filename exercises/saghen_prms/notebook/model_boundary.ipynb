{
 "cells": [
  {
   "cell_type": "markdown",
   "metadata": {},
   "source": [
    "# Creating the Model Boundary\n",
    "\n",
    "This workbook explains the steps for creating a model boundary using the Sagehen Creek watershed as an example. The first step is to download a DEM for the watershed of interest. A DEM can be attained from https://www.usgs.gov/core-science-systems/ngp/tnm-delivery/ and slecting \"Elevation Products\" under \"Data.\" The next step is to creat a pour point at the outlet of the whatershed. Some watersheds have multiple outflow points; however, in our example there is a single outflow point called \"model_points.shp\" located in the sagehen shapefile directory. Model outflow points can be created in ArcMap."
   ]
  },
  {
   "cell_type": "code",
   "execution_count": 1,
   "metadata": {},
   "outputs": [
    {
     "data": {
      "text/plain": [
       "u'CheckedOut'"
      ]
     },
     "execution_count": 1,
     "metadata": {},
     "output_type": "execute_result"
    }
   ],
   "source": [
    "import arcpy\n",
    "import geopandas\n",
    "import sys, os\n",
    "import matplotlib.pyplot as plt\n",
    "from arcpy import env\n",
    "from arcpy.sa import *\n",
    "arcpy.CheckOutExtension(\"Spatial\")"
   ]
  },
  {
   "cell_type": "code",
   "execution_count": 2,
   "metadata": {},
   "outputs": [
    {
     "name": "stdout",
     "output_type": "stream",
     "text": [
      "True\n"
     ]
    }
   ],
   "source": [
    "#over write option set to true\n",
    "arcpy.env.overwriteOutput = True\n",
    "print arcpy.env.overwriteOutput"
   ]
  },
  {
   "cell_type": "markdown",
   "metadata": {},
   "source": [
    "The first step is to fill sinks (swales) in the raw DEM using the Fill tool."
   ]
  },
  {
   "cell_type": "code",
   "execution_count": 3,
   "metadata": {},
   "outputs": [],
   "source": [
    "# set the workspace directory where the DEM is located.\n",
    "env.workspace = r\"C:\\Users\\rniswon\\Documents\\Data\\Git\\gsflowID2447_classrepo\\exercises\\saghen_prms\\examples\\sagehen\\dem\"\n",
    "# set the name of the dem\n",
    "inSurfaceRaster = \"imgn40w121_13_clipped.img\"\n",
    "outSurfaceRaster = \"imgn40w121_13_filled.img\"\n",
    "zLimit = 3.28\n",
    "outFill = Fill(inSurfaceRaster, zLimit) \n",
    "outFill.save(outSurfaceRaster)"
   ]
  },
  {
   "cell_type": "markdown",
   "metadata": {},
   "source": [
    "The next step is to generate the flow direction raster from the DEM. The flow direction raster will be used for the Watershed tool."
   ]
  },
  {
   "cell_type": "code",
   "execution_count": 4,
   "metadata": {},
   "outputs": [],
   "source": [
    "outFlowDirection = FlowDirection(\"imgn40w121_13_filled.img\", \"NORMAL\")\n",
    "outFlowDirection.save(r\"C:\\Users\\rniswon\\Documents\\Data\\Git\\gsflowID2447_classrepo\\exercises\\saghen_prms\\examples\\sagehen\\shapefiles\\flowdir\")"
   ]
  },
  {
   "cell_type": "markdown",
   "metadata": {},
   "source": [
    "Now that we have the DEM, flow direction, and pour point datasets we can run the Watershed tool"
   ]
  },
  {
   "cell_type": "code",
   "execution_count": 5,
   "metadata": {},
   "outputs": [],
   "source": [
    "#Reset the environmental workspace\n",
    "env.workspace = r\"C:\\Users\\rniswon\\Documents\\Data\\Git\\gsflowID2447_classrepo\\exercises\\saghen_prms\\examples\\sagehen\\shapefiles\"\n",
    "inFlowDirection = \"flowdir\"\n",
    "inPourPointData = \"model_points.shp\"\n",
    "inPourPointField = \"FID\"\n",
    "outWatershed = Watershed(inFlowDirection, inPourPointData, inPourPointField) \n",
    "outWatershed.save(\"watershed\")"
   ]
  },
  {
   "cell_type": "markdown",
   "metadata": {},
   "source": [
    "As Geopandas plots shapefiles, we run the raster to polygon conversion tool."
   ]
  },
  {
   "cell_type": "code",
   "execution_count": 6,
   "metadata": {},
   "outputs": [
    {
     "data": {
      "text/plain": [
       "<Result 'C:\\\\Users\\\\rniswon\\\\Documents\\\\Data\\\\Git\\\\gsflowID2447_classrepo\\\\exercises\\\\saghen_prms\\\\examples\\\\sagehen\\\\shapefiles\\\\watershed.shp'>"
      ]
     },
     "execution_count": 6,
     "metadata": {},
     "output_type": "execute_result"
    }
   ],
   "source": [
    "inRaster=\"watershed\"\n",
    "outPolygons=\"watershed\"\n",
    "arcpy.RasterToPolygon_conversion(inRaster, outPolygons, \"NO_SIMPLIFY\")"
   ]
  },
  {
   "cell_type": "code",
   "execution_count": 7,
   "metadata": {},
   "outputs": [
    {
     "data": {
      "text/plain": [
       "<Result 'C:\\\\Users\\\\rniswon\\\\Documents\\\\Data\\\\Git\\\\gsflowID2447_classrepo\\\\exercises\\\\saghen_prms\\\\examples\\\\sagehen\\\\shapefiles\\\\watershed_proj.shp'>"
      ]
     },
     "execution_count": 7,
     "metadata": {},
     "output_type": "execute_result"
    }
   ],
   "source": [
    "# input data is in NAD 1983 UTM Zone 11N coordinate system\n",
    "input_features = \"watershed.shp\"\n",
    "\n",
    "# output data\n",
    "output_feature_class = \"watershed_proj.shp\"\n",
    "\n",
    "# create a spatial reference object for the output coordinate system\n",
    "out_coordinate_system = arcpy.SpatialReference('NAD 1983 UTM Zone 11N')\n",
    "\n",
    "# run the tool\n",
    "arcpy.Project_management(input_features, output_feature_class, out_coordinate_system)"
   ]
  },
  {
   "cell_type": "markdown",
   "metadata": {},
   "source": [
    "Now we can plot the model boundary and outflow point."
   ]
  },
  {
   "cell_type": "code",
   "execution_count": 8,
   "metadata": {},
   "outputs": [
    {
     "data": {
      "image/png": "[encoded data removed]",
      "text/plain": [
       "<matplotlib.figure.Figure at 0x35686d30>"
      ]
     },
     "metadata": {
      "needs_background": "light"
     },
     "output_type": "display_data"
    }
   ],
   "source": [
    "fig, ax = plt.subplots()\n",
    "ax.set_aspect('equal')\n",
    "fn1=r\"C:\\Users\\rniswon\\Documents\\Data\\Git\\gsflowID2447_classrepo\\exercises\\saghen_prms\\examples\\sagehen\\shapefiles\\watershed_proj.shp\"\n",
    "fn2=r\"C:\\Users\\rniswon\\Documents\\Data\\Git\\gsflowID2447_classrepo\\exercises\\saghen_prms\\examples\\sagehen\\shapefiles\\model_points.shp\"\n",
    "boundary=geopandas.read_file(fn1)\n",
    "gage=geopandas.read_file(fn2)\n",
    "#gage.plot(ax=ax,color='none', edgecolor='red', linewidth=1.0)\n",
    "boundary.plot(ax=ax,color='none', edgecolor='black', linewidth=1.0)\n",
    "plt.show()"
   ]
  },
  {
   "cell_type": "code",
   "execution_count": null,
   "metadata": {},
   "outputs": [],
   "source": []
  }
 ],
 "metadata": {
  "kernelspec": {
   "display_name": "Python 2",
   "language": "python",
   "name": "python2"
  },
  "language_info": {
   "codemirror_mode": {
    "name": "ipython",
    "version": 2
   },
   "file_extension": ".py",
   "mimetype": "text/x-python",
   "name": "python",
   "nbconvert_exporter": "python",
   "pygments_lexer": "ipython2",
   "version": "2.7.15"
  }
 },
 "nbformat": 4,
 "nbformat_minor": 2
}
