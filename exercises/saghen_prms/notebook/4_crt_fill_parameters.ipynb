{
 "cells": [
  {
   "cell_type": "markdown",
   "metadata": {},
   "source": [
    "# Run  crt_fill_parameters\n",
    "\n",
    "#### This notebook processes the grid scale DEM for generating cascades. \n",
    "\n",
    "#### The crt_fill_parameters.py script runs the Cascade Routing tool (https://water.usgs.gov/ogw/CRT/) with no designated streams, because CRT will not fill cells that contain streams. By excluding streams, cells containing streams will be filled if they are undeclared swales. CRT fills swales for cells to create downward sloping paths from every cell inside the watershed boundary. Swales are HRUs/cells that are surrounded in all 4 or 8 directions by cells of higher elevation. Streams and stream cells must slope downard in the direction of flow. Non-stream cells can be designated as swales, but caution should be used as no lateral flow can occur out of a swale. Note that there cannot be designated swales for PRMS groundwater flow reservoirs (GWRs)."
   ]
  },
  {
   "cell_type": "code",
   "execution_count": 1,
   "metadata": {},
   "outputs": [],
   "source": [
    "%matplotlib inline\n",
    "import sys, os\n",
    "import matplotlib.pyplot as plt\n",
    "import arcpy\n",
    "import geopandas\n",
    "import matplotlib.image as mpimg\n",
    "import ConfigParser\n",
    "from matplotlib import cm\n",
    "from arcpy import env\n",
    "python_exe = sys.executable"
   ]
  },
  {
   "cell_type": "code",
   "execution_count": 2,
   "metadata": {},
   "outputs": [],
   "source": [
    "# Set folder locations\n",
    "arc_gsflow_folder=r\"..\\scripts\"\n",
    "config_file_folder=r\"..\\examples\\sagehen\""
   ]
  },
  {
   "cell_type": "markdown",
   "metadata": {},
   "source": [
    "#### GsflowArcpy uses a configuration file to set variables required by the scripts. Below the configuration file template is read, and default values are changed and written to the configuration file (\".INI\") read by GsflowArcpy."
   ]
  },
  {
   "cell_type": "code",
   "execution_count": 3,
   "metadata": {},
   "outputs": [
    {
     "data": {
      "text/plain": [
       "['..\\\\examples\\\\sagehen\\\\sagehen_parameters_orig.ini']"
      ]
     },
     "execution_count": 3,
     "metadata": {},
     "output_type": "execute_result"
    }
   ],
   "source": [
    "# Load GsflowArcpy configuration file\n",
    "Config = ConfigParser.ConfigParser()\n",
    "Config.read(\"..\\examples\\sagehen\\sagehen_parameters_orig.ini\")"
   ]
  },
  {
   "cell_type": "markdown",
   "metadata": {},
   "source": [
    "#### Values set below are required for running the fill procedure using CRT. Note the crt_fill_flag is set to True. This will automatically apply CRT fill values to the DEM_ADJ."
   ]
  },
  {
   "cell_type": "code",
   "execution_count": 4,
   "metadata": {},
   "outputs": [],
   "source": [
    "# Set problem specific variable values for scripts\n",
    "crt_exe_path = r\"..\\..\\..\\bin\\CRT_1.3.1.exe\"\n",
    "crt_hruflg = 0\n",
    "crt_flowflg = 3\n",
    "crt_dpit = 0.01\n",
    "crt_outitmax = 100000\n",
    "use_crt_fill_flag = True"
   ]
  },
  {
   "cell_type": "code",
   "execution_count": 5,
   "metadata": {},
   "outputs": [],
   "source": [
    "# Write out modified values to configuration file\n",
    "cfgfile = open(\"..\\examples\\sagehen\\sagehen_parameters.ini\",'w')\n",
    "Config.set('INPUTS','crt_exe_path',crt_exe_path)\n",
    "Config.set('INPUTS','crt_hruflg',crt_hruflg)\n",
    "Config.set('INPUTS','crt_flowflg',crt_flowflg)\n",
    "Config.set('INPUTS','crt_dpit',crt_dpit)\n",
    "Config.set('INPUTS','crt_outitmax',crt_outitmax)\n",
    "Config.set('INPUTS','use_crt_fill_flag',use_crt_fill_flag)\n",
    "Config.write(cfgfile)\n",
    "cfgfile.close()"
   ]
  },
  {
   "cell_type": "markdown",
   "metadata": {},
   "source": [
    "#### Run the GsflowArpcy script crt_fill_parameters."
   ]
  },
  {
   "cell_type": "code",
   "execution_count": 6,
   "metadata": {},
   "outputs": [
    {
     "data": {
      "text/plain": [
       "0"
      ]
     },
     "execution_count": 6,
     "metadata": {},
     "output_type": "execute_result"
    }
   ],
   "source": [
    "# Set and run crt_fill_parameters script\n",
    "script = r\"crt_fill_parameters.py\"\n",
    "argument = r\" -i ..\\examples\\sagehen\\sagehen_parameters.ini\"\n",
    "cmd=python_exe + \" \" + os.path.join(arc_gsflow_folder,script)\n",
    "cmd = cmd + argument\n",
    "os.system(cmd)"
   ]
  },
  {
   "cell_type": "markdown",
   "metadata": {},
   "source": [
    "#### After running the crt_fill_parameters script we can visualize fill values. Run the next block of code to observe the CRT fill array"
   ]
  },
  {
   "cell_type": "code",
   "execution_count": 7,
   "metadata": {},
   "outputs": [
    {
     "data": {
      "image/png": "[encoded data removed]",
      "text/plain": [
       "<matplotlib.figure.Figure at 0x33c9e770>"
      ]
     },
     "metadata": {
      "needs_background": "light"
     },
     "output_type": "display_data"
    }
   ],
   "source": [
    "fig, ax = plt.subplots(figsize=(20,8))\n",
    "ax.set_aspect('equal')\n",
    "fn1=r\"..\\examples\\sagehen\\shapefiles\\watershed_proj.shp\"\n",
    "fn2=r\"..\\examples\\sagehen\\hru_params\\flow_rasters\\streams.shp\"\n",
    "fn3=r\"..\\examples\\sagehen\\hru_params\\hru_params.shp\"\n",
    "boundary=geopandas.read_file(fn1)\n",
    "streams=geopandas.read_file(fn2)\n",
    "hru_params=geopandas.read_file(fn3)\n",
    "streams.plot(ax=ax,color='none', edgecolor='white', linewidth=1.0)\n",
    "boundary.plot(ax=ax,color='none', edgecolor='white', linewidth=1.0)\n",
    "hru_params.plot(column=\"CRT_FILL\",ax=ax,legend=True)\n",
    "plt.show()"
   ]
  },
  {
   "cell_type": "code",
   "execution_count": null,
   "metadata": {},
   "outputs": [],
   "source": []
  }
 ],
 "metadata": {
  "kernelspec": {
   "display_name": "Python 2",
   "language": "python",
   "name": "python2"
  },
  "language_info": {
   "codemirror_mode": {
    "name": "ipython",
    "version": 2
   },
   "file_extension": ".py",
   "mimetype": "text/x-python",
   "name": "python",
   "nbconvert_exporter": "python",
   "pygments_lexer": "ipython2",
   "version": "2.7.15"
  }
 },
 "nbformat": 4,
 "nbformat_minor": 2
}
