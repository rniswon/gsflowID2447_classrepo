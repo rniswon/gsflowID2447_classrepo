{
 "cells": [
  {
   "cell_type": "markdown",
   "metadata": {},
   "source": [
    "### Climate zones\n",
    "#### This notebook uses a shapefile containing points that represent climate stations and applies a Theissen polygon tool to create climate 'zones' around these stations. Fields and precipitation data are added to the climate zone shapefile, so that it can be applied to the ppt_ratio_parameters script. Temperature data will be added as well, for the temp_adjust_parameters script."
   ]
  },
  {
   "cell_type": "code",
   "execution_count": 1,
   "metadata": {},
   "outputs": [
    {
     "name": "stdout",
     "output_type": "stream",
     "text": [
      "D:\\anaconda\\envs\\gsflow\\python.exe\n"
     ]
    }
   ],
   "source": [
    "import sys, os\n",
    "import matplotlib.pyplot as plt\n",
    "import arcpy\n",
    "import geopandas\n",
    "import matplotlib.image as mpimg\n",
    "from matplotlib import cm\n",
    "from arcpy import env\n",
    "import ConfigParser\n",
    "#from pyprms import prms_py\n",
    "#from pyprms.prms_output import Statistics, Budget\n",
    "python_exe = sys.executable\n",
    "print python_exe"
   ]
  },
  {
   "cell_type": "code",
   "execution_count": 2,
   "metadata": {},
   "outputs": [
    {
     "name": "stdout",
     "output_type": "stream",
     "text": [
      "True\n"
     ]
    },
    {
     "data": {
      "text/plain": [
       "'D:\\\\Workspace\\\\classes\\\\gsflowID2447_classrepo\\\\exercises\\\\saghen_prms\\\\notebook'"
      ]
     },
     "execution_count": 2,
     "metadata": {},
     "output_type": "execute_result"
    }
   ],
   "source": [
    "#Overwrite ok\n",
    "arcpy.env.overwriteOutput = True\n",
    "print arcpy.env.overwriteOutput\n",
    "os.getcwd()"
   ]
  },
  {
   "cell_type": "markdown",
   "metadata": {},
   "source": [
    "#### The extent is based on the Sagehen example model and the climate station shapefile. The extent must cover the entire model grid domain and any stations being used"
   ]
  },
  {
   "cell_type": "code",
   "execution_count": 3,
   "metadata": {},
   "outputs": [],
   "source": [
    "# Set the extent environment using the Extent class.\n",
    "arcpy.env.extent = arcpy.Extent(214110.0, 4366620.0, 223670.0, 4373550.0)"
   ]
  },
  {
   "cell_type": "code",
   "execution_count": 4,
   "metadata": {},
   "outputs": [
    {
     "data": {
      "text/plain": [
       "<Result '..\\\\examples\\\\sagehen\\\\shapefiles\\\\clim_zones.shp'>"
      ]
     },
     "execution_count": 4,
     "metadata": {},
     "output_type": "execute_result"
    }
   ],
   "source": [
    "# Open and read climate station shapefile\n",
    "# Create Thiessen Polygons Example\n",
    "\n",
    "# Set environment\n",
    "env.workspace = r\"..\\examples\\sagehen\\shapefiles\"\n",
    " \n",
    "# Set local variables\n",
    "inFeatures = \"clim_sta.shp\"\n",
    "outFeatureClass = \"clim_zones.shp\"\n",
    "outFields = \"ONLY_FID\"\n",
    " \n",
    "# Execute CreateThiessenPolygons\n",
    "arcpy.CreateThiessenPolygons_analysis(inFeatures, outFeatureClass, outFields)"
   ]
  },
  {
   "cell_type": "code",
   "execution_count": 5,
   "metadata": {},
   "outputs": [
    {
     "data": {
      "text/plain": [
       "<Result '..\\\\examples\\\\sagehen\\\\shapefiles\\\\clim_zones.shp'>"
      ]
     },
     "execution_count": 5,
     "metadata": {},
     "output_type": "execute_result"
    }
   ],
   "source": [
    "# Description: Add new fields with mean monthly climate data (so far just precip data is added)\n",
    " \n",
    "# Set environment settings\n",
    "arcpy.env.workspace = r\"..\\examples\\sagehen\\shapefiles\"\n",
    " \n",
    "# Set local variables\n",
    "inFeatures = \"clim_zones.shp\"\n",
    "fieldName1 = \"station_nm\"\n",
    "fieldName2 = \"PPT_ZONE\"\n",
    "fieldName3 = \"PPT_01\"\n",
    "fieldName4 = \"PPT_02\"\n",
    "fieldName5 = \"PPT_03\"\n",
    "fieldName6 = \"PPT_04\"\n",
    "fieldName7 = \"PPT_05\"\n",
    "fieldName8 = \"PPT_06\"\n",
    "fieldName9 = \"PPT_07\"\n",
    "fieldName10 = \"PPT_08\"\n",
    "fieldName11 = \"PPT_09\"\n",
    "fieldName12 = \"PPT_10\"\n",
    "fieldName13 = \"PPT_11\"\n",
    "fieldName14 = \"PPT_12\"\n",
    "fieldName15 = \"HRU_PSTA\"\n",
    "fieldName16 = \"PPT_HRU_ID\"\n",
    "\n",
    "# Execute AddField new fields\n",
    "arcpy.AddField_management(inFeatures, fieldName1, \"TEXT\")\n",
    "arcpy.AddField_management(inFeatures, fieldName2, \"SHORT\")\n",
    "arcpy.AddField_management(inFeatures, fieldName3, \"FLOAT\")\n",
    "arcpy.AddField_management(inFeatures, fieldName4, \"FLOAT\")\n",
    "arcpy.AddField_management(inFeatures, fieldName5, \"FLOAT\")\n",
    "arcpy.AddField_management(inFeatures, fieldName6, \"FLOAT\")\n",
    "arcpy.AddField_management(inFeatures, fieldName7, \"FLOAT\")\n",
    "arcpy.AddField_management(inFeatures, fieldName8, \"FLOAT\")\n",
    "arcpy.AddField_management(inFeatures, fieldName9, \"FLOAT\")\n",
    "arcpy.AddField_management(inFeatures, fieldName10, \"FLOAT\")\n",
    "arcpy.AddField_management(inFeatures, fieldName11, \"FLOAT\")\n",
    "arcpy.AddField_management(inFeatures, fieldName12, \"FLOAT\")\n",
    "arcpy.AddField_management(inFeatures, fieldName13, \"FLOAT\")\n",
    "arcpy.AddField_management(inFeatures, fieldName14, \"FLOAT\")\n",
    "arcpy.AddField_management(inFeatures, fieldName15, \"SHORT\")\n",
    "arcpy.AddField_management(inFeatures, fieldName16, \"LONG\")"
   ]
  },
  {
   "cell_type": "code",
   "execution_count": 7,
   "metadata": {},
   "outputs": [
    {
     "data": {
      "text/plain": [
       "<Result 'clim_lyr'>"
      ]
     },
     "execution_count": 7,
     "metadata": {},
     "output_type": "execute_result"
    }
   ],
   "source": [
    "# Input data into climate zone shapefile attribute table\n",
    "\n",
    "arcpy.env.workspace = r\"..\\examples\\sagehen\\shapefiles\"\n",
    "clim_zones = \"clim_zones.shp\"\n",
    "\n",
    "# Make a layer from the feature class\n",
    "arcpy.MakeFeatureLayer_management(clim_zones, \"clim_lyr\")\n",
    "\n",
    "#Select clim zone 1\n",
    "arcpy.SelectLayerByAttribute_management(\"clim_lyr\", \"NEW_SELECTION\", 'FID=0')\n",
    "\n",
    "# Calculate fields\n",
    "arcpy.CalculateField_management(\"clim_lyr\", \"station_nm\", \"'sagehen_low'\", \"PYTHON\")\n",
    "arcpy.CalculateField_management(\"clim_lyr\", \"PPT_ZONE\", \"1\", \"PYTHON\")\n",
    "arcpy.CalculateField_management(\"clim_lyr\", \"PPT_01\", \"140.17\", \"PYTHON\")\n",
    "arcpy.CalculateField_management(\"clim_lyr\", \"PPT_02\", \"132.845\", \"PYTHON\")\n",
    "arcpy.CalculateField_management(\"clim_lyr\", \"PPT_03\", \"119.30\", \"PYTHON\")\n",
    "arcpy.CalculateField_management(\"clim_lyr\", \"PPT_04\", \"53.95\", \"PYTHON\")\n",
    "arcpy.CalculateField_management(\"clim_lyr\", \"PPT_05\", \"37.83\", \"PYTHON\")\n",
    "arcpy.CalculateField_management(\"clim_lyr\", \"PPT_06\", \"17.71\", \"PYTHON\")\n",
    "arcpy.CalculateField_management(\"clim_lyr\", \"PPT_07\", \"10.63\", \"PYTHON\")\n",
    "arcpy.CalculateField_management(\"clim_lyr\", \"PPT_08\", \"14.76\", \"PYTHON\")\n",
    "arcpy.CalculateField_management(\"clim_lyr\", \"PPT_09\", \"22.31\", \"PYTHON\")\n",
    "arcpy.CalculateField_management(\"clim_lyr\", \"PPT_10\", \"52.38\", \"PYTHON\")\n",
    "arcpy.CalculateField_management(\"clim_lyr\", \"PPT_11\", \"102.80\", \"PYTHON\")\n",
    "arcpy.CalculateField_management(\"clim_lyr\", \"PPT_12\", \"142.02\", \"PYTHON\")\n",
    "arcpy.CalculateField_management(\"clim_lyr\", \"HRU_PSTA\", \"1\", \"PYTHON\")\n",
    "arcpy.CalculateField_management(\"clim_lyr\", \"PPT_HRU_ID\", \"0\", \"PYTHON\")\n",
    "\n",
    "#Select clim zone 2\n",
    "arcpy.SelectLayerByAttribute_management(\"clim_lyr\", \"NEW_SELECTION\", 'FID=1')\n",
    "\n",
    "# Calculate fields - NOTE: these ppt values are fake\n",
    "arcpy.CalculateField_management(\"clim_lyr\", \"station_nm\", \"'sagehen_high'\", \"PYTHON\")\n",
    "arcpy.CalculateField_management(\"clim_lyr\", \"PPT_ZONE\", \"2\", \"PYTHON\")\n",
    "arcpy.CalculateField_management(\"clim_lyr\", \"PPT_01\", \"160.17\", \"PYTHON\")\n",
    "arcpy.CalculateField_management(\"clim_lyr\", \"PPT_02\", \"152.845\", \"PYTHON\")\n",
    "arcpy.CalculateField_management(\"clim_lyr\", \"PPT_03\", \"139.30\", \"PYTHON\")\n",
    "arcpy.CalculateField_management(\"clim_lyr\", \"PPT_04\", \"73.95\", \"PYTHON\")\n",
    "arcpy.CalculateField_management(\"clim_lyr\", \"PPT_05\", \"57.83\", \"PYTHON\")\n",
    "arcpy.CalculateField_management(\"clim_lyr\", \"PPT_06\", \"37.71\", \"PYTHON\")\n",
    "arcpy.CalculateField_management(\"clim_lyr\", \"PPT_07\", \"30.63\", \"PYTHON\")\n",
    "arcpy.CalculateField_management(\"clim_lyr\", \"PPT_08\", \"34.76\", \"PYTHON\")\n",
    "arcpy.CalculateField_management(\"clim_lyr\", \"PPT_09\", \"42.31\", \"PYTHON\")\n",
    "arcpy.CalculateField_management(\"clim_lyr\", \"PPT_10\", \"72.38\", \"PYTHON\")\n",
    "arcpy.CalculateField_management(\"clim_lyr\", \"PPT_11\", \"122.80\", \"PYTHON\")\n",
    "arcpy.CalculateField_management(\"clim_lyr\", \"PPT_12\", \"162.02\", \"PYTHON\")\n",
    "arcpy.CalculateField_management(\"clim_lyr\", \"HRU_PSTA\", \"2\", \"PYTHON\")\n",
    "arcpy.CalculateField_management(\"clim_lyr\", \"PPT_HRU_ID\", \"3972\", \"PYTHON\")\n"
   ]
  },
  {
   "cell_type": "code",
   "execution_count": null,
   "metadata": {},
   "outputs": [],
   "source": []
  }
 ],
 "metadata": {
  "kernelspec": {
   "display_name": "Python 2",
   "language": "python",
   "name": "python2"
  },
  "language_info": {
   "codemirror_mode": {
    "name": "ipython",
    "version": 2
   },
   "file_extension": ".py",
   "mimetype": "text/x-python",
   "name": "python",
   "nbconvert_exporter": "python",
   "pygments_lexer": "ipython2",
   "version": "2.7.16"
  }
 },
 "nbformat": 4,
 "nbformat_minor": 2
}
