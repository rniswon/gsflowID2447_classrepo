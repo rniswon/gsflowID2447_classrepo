{
 "cells": [
  {
   "cell_type": "code",
   "execution_count": 3,
   "metadata": {},
   "outputs": [
    {
     "name": "stdout",
     "output_type": "stream",
     "text": [
      "C:\\Users\\mgardner\\AppData\\Local\\Continuum\\miniconda2\\python.exe\n"
     ]
    }
   ],
   "source": [
    "import sys, os\n",
    "import matplotlib.pyplot as plt\n",
    "import arcpy\n",
    "import geopandas\n",
    "import matplotlib.image as mpimg\n",
    "from matplotlib import cm\n",
    "from arcpy import env\n",
    "import ConfigParser\n",
    "#from pyprms import prms_py\n",
    "#from pyprms.prms_output import Statistics, Budget\n",
    "python_exe = sys.executable\n",
    "print python_exe"
   ]
  },
  {
   "cell_type": "code",
   "execution_count": 4,
   "metadata": {},
   "outputs": [
    {
     "name": "stdout",
     "output_type": "stream",
     "text": [
      "True\n"
     ]
    },
    {
     "data": {
      "text/plain": [
       "'D:\\\\gsflowID2447_classrepo\\\\exercises\\\\saghen_prms\\\\notebook'"
      ]
     },
     "execution_count": 4,
     "metadata": {},
     "output_type": "execute_result"
    }
   ],
   "source": [
    "#Overwrite ok\n",
    "arcpy.env.overwriteOutput = True\n",
    "print arcpy.env.overwriteOutput\n",
    "os.getcwd()"
   ]
  },
  {
   "cell_type": "code",
   "execution_count": 9,
   "metadata": {},
   "outputs": [],
   "source": [
    "# Set the extent environment using the Extent class.\n",
    "arcpy.env.extent = arcpy.Extent(214110.0, 4366620.0, 223670.0, 4373550.0)"
   ]
  },
  {
   "cell_type": "code",
   "execution_count": 11,
   "metadata": {},
   "outputs": [
    {
     "data": {
      "text/plain": [
       "<Result '..\\\\examples\\\\sagehen\\\\shapefiles\\\\clim_zones.shp'>"
      ]
     },
     "execution_count": 11,
     "metadata": {},
     "output_type": "execute_result"
    }
   ],
   "source": [
    "# Open and read climate station shapefile\n",
    "# Create Thiessen Polygons Example\n",
    "\n",
    "# Set environment\n",
    "env.workspace = r\"..\\examples\\sagehen\\shapefiles\"\n",
    " \n",
    "# Set local variables\n",
    "inFeatures = \"clim_sta.shp\"\n",
    "outFeatureClass = \"clim_zones.shp\"\n",
    "outFields = \"ONLY_FID\"\n",
    " \n",
    "# Execute CreateThiessenPolygons\n",
    "arcpy.CreateThiessenPolygons_analysis(inFeatures, outFeatureClass, outFields)"
   ]
  },
  {
   "cell_type": "code",
   "execution_count": 8,
   "metadata": {},
   "outputs": [
    {
     "ename": "ExecuteError",
     "evalue": "Failed to execute. Parameters are not valid.\nERROR 000012: PPT_ZONE already exists\nFailed to execute (AddField).\n",
     "output_type": "error",
     "traceback": [
      "\u001b[1;31m---------------------------------------------------------------------------\u001b[0m",
      "\u001b[1;31mExecuteError\u001b[0m                              Traceback (most recent call last)",
      "\u001b[1;32m<ipython-input-8-831cd5039d0b>\u001b[0m in \u001b[0;36m<module>\u001b[1;34m()\u001b[0m\n\u001b[0;32m     26\u001b[0m \u001b[1;31m# Execute AddField new fields\u001b[0m\u001b[1;33m\u001b[0m\u001b[1;33m\u001b[0m\u001b[0m\n\u001b[0;32m     27\u001b[0m \u001b[0marcpy\u001b[0m\u001b[1;33m.\u001b[0m\u001b[0mAddField_management\u001b[0m\u001b[1;33m(\u001b[0m\u001b[0minFeatures\u001b[0m\u001b[1;33m,\u001b[0m \u001b[0mfieldName1\u001b[0m\u001b[1;33m,\u001b[0m \u001b[1;34m\"TEXT\"\u001b[0m\u001b[1;33m)\u001b[0m\u001b[1;33m\u001b[0m\u001b[0m\n\u001b[1;32m---> 28\u001b[1;33m \u001b[0marcpy\u001b[0m\u001b[1;33m.\u001b[0m\u001b[0mAddField_management\u001b[0m\u001b[1;33m(\u001b[0m\u001b[0minFeatures\u001b[0m\u001b[1;33m,\u001b[0m \u001b[0mfieldName2\u001b[0m\u001b[1;33m,\u001b[0m \u001b[1;34m\"SHORT\"\u001b[0m\u001b[1;33m)\u001b[0m\u001b[1;33m\u001b[0m\u001b[0m\n\u001b[0m\u001b[0;32m     29\u001b[0m \u001b[0marcpy\u001b[0m\u001b[1;33m.\u001b[0m\u001b[0mAddField_management\u001b[0m\u001b[1;33m(\u001b[0m\u001b[0minFeatures\u001b[0m\u001b[1;33m,\u001b[0m \u001b[0mfieldName3\u001b[0m\u001b[1;33m,\u001b[0m \u001b[1;34m\"FLOAT\"\u001b[0m\u001b[1;33m)\u001b[0m\u001b[1;33m\u001b[0m\u001b[0m\n\u001b[0;32m     30\u001b[0m \u001b[0marcpy\u001b[0m\u001b[1;33m.\u001b[0m\u001b[0mAddField_management\u001b[0m\u001b[1;33m(\u001b[0m\u001b[0minFeatures\u001b[0m\u001b[1;33m,\u001b[0m \u001b[0mfieldName4\u001b[0m\u001b[1;33m,\u001b[0m \u001b[1;34m\"FLOAT\"\u001b[0m\u001b[1;33m)\u001b[0m\u001b[1;33m\u001b[0m\u001b[0m\n",
      "\u001b[1;32mC:\\ArcGIS\\Desktop10.5\\arcpy\\arcpy\\management.pyc\u001b[0m in \u001b[0;36mAddField\u001b[1;34m(in_table, field_name, field_type, field_precision, field_scale, field_length, field_alias, field_is_nullable, field_is_required, field_domain)\u001b[0m\n\u001b[0;32m   3441\u001b[0m         \u001b[1;32mreturn\u001b[0m \u001b[0mretval\u001b[0m\u001b[1;33m\u001b[0m\u001b[0m\n\u001b[0;32m   3442\u001b[0m     \u001b[1;32mexcept\u001b[0m \u001b[0mException\u001b[0m \u001b[1;32mas\u001b[0m \u001b[0me\u001b[0m\u001b[1;33m:\u001b[0m\u001b[1;33m\u001b[0m\u001b[0m\n\u001b[1;32m-> 3443\u001b[1;33m         \u001b[1;32mraise\u001b[0m \u001b[0me\u001b[0m\u001b[1;33m\u001b[0m\u001b[0m\n\u001b[0m\u001b[0;32m   3444\u001b[0m \u001b[1;33m\u001b[0m\u001b[0m\n\u001b[0;32m   3445\u001b[0m \u001b[1;33m@\u001b[0m\u001b[0mgptooldoc\u001b[0m\u001b[1;33m(\u001b[0m\u001b[1;34m'AddIncrementingIDField_management'\u001b[0m\u001b[1;33m,\u001b[0m \u001b[0mNone\u001b[0m\u001b[1;33m)\u001b[0m\u001b[1;33m\u001b[0m\u001b[0m\n",
      "\u001b[1;31mExecuteError\u001b[0m: Failed to execute. Parameters are not valid.\nERROR 000012: PPT_ZONE already exists\nFailed to execute (AddField).\n"
     ]
    }
   ],
   "source": [
    "# Description: Add new fields with mean monthly climate data\n",
    " \n",
    "# Set environment settings\n",
    "arcpy.env.workspace = r\"..\\examples\\sagehen\\shapefiles\"\n",
    " \n",
    "# Set local variables\n",
    "inFeatures = \"clim_zones.shp\"\n",
    "fieldName1 = \"station_nm\"\n",
    "fieldName2 = \"PPT_ZONE\"\n",
    "fieldName3 = \"PPT_01\"\n",
    "fieldName4 = \"PPT_02\"\n",
    "fieldName5 = \"PPT_03\"\n",
    "fieldName6 = \"PPT_04\"\n",
    "fieldName7 = \"PPT_05\"\n",
    "fieldName8 = \"PPT_06\"\n",
    "fieldName9 = \"PPT_07\"\n",
    "fieldName10 = \"PPT_08\"\n",
    "fieldName11 = \"PPT_08\"\n",
    "fieldName12 = \"PPT_08\"\n",
    "fieldName13 = \"PPT_11\"\n",
    "fieldName14 = \"PPT_12\"\n",
    "fieldName15 = \"hru_id\"\n",
    "fieldName16 = \"HRU_PSTA\"\n",
    "fieldName17 = \"PPT_HRU_ID\"\n",
    "\n",
    "# Execute AddField new fields\n",
    "arcpy.AddField_management(inFeatures, fieldName1, \"TEXT\")\n",
    "arcpy.AddField_management(inFeatures, fieldName2, \"SHORT\")\n",
    "arcpy.AddField_management(inFeatures, fieldName3, \"FLOAT\")\n",
    "arcpy.AddField_management(inFeatures, fieldName4, \"FLOAT\")\n",
    "arcpy.AddField_management(inFeatures, fieldName5, \"FLOAT\")\n",
    "arcpy.AddField_management(inFeatures, fieldName6, \"FLOAT\")\n",
    "arcpy.AddField_management(inFeatures, fieldName7, \"FLOAT\")\n",
    "arcpy.AddField_management(inFeatures, fieldName8, \"FLOAT\")\n",
    "arcpy.AddField_management(inFeatures, fieldName9, \"FLOAT\")\n",
    "arcpy.AddField_management(inFeatures, fieldName10, \"FLOAT\")\n",
    "arcpy.AddField_management(inFeatures, fieldName11, \"FLOAT\")\n",
    "arcpy.AddField_management(inFeatures, fieldName12, \"FLOAT\")\n",
    "arcpy.AddField_management(inFeatures, fieldName13, \"FLOAT\")\n",
    "arcpy.AddField_management(inFeatures, fieldName14, \"FLOAT\")\n",
    "arcpy.AddField_management(inFeatures, fieldName15, \"LONG\")\n",
    "arcpy.AddField_management(inFeatures, fieldName16, \"SHORT\")\n",
    "arcpy.AddField_management(inFeatures, fieldName17, \"LONG\")"
   ]
  },
  {
   "cell_type": "code",
   "execution_count": 16,
   "metadata": {},
   "outputs": [
    {
     "ename": "TypeError",
     "evalue": "SelectLayerByAttribute() got an unexpected keyword argument 'FID'",
     "output_type": "error",
     "traceback": [
      "\u001b[1;31m---------------------------------------------------------------------------\u001b[0m",
      "\u001b[1;31mTypeError\u001b[0m                                 Traceback (most recent call last)",
      "\u001b[1;32m<ipython-input-16-907f773a737c>\u001b[0m in \u001b[0;36m<module>\u001b[1;34m()\u001b[0m\n\u001b[0;32m      5\u001b[0m \u001b[1;33m\u001b[0m\u001b[0m\n\u001b[0;32m      6\u001b[0m \u001b[1;31m#Select clim zone 1\u001b[0m\u001b[1;33m\u001b[0m\u001b[1;33m\u001b[0m\u001b[0m\n\u001b[1;32m----> 7\u001b[1;33m \u001b[0marcpy\u001b[0m\u001b[1;33m.\u001b[0m\u001b[0mSelectLayerByAttribute_management\u001b[0m\u001b[1;33m(\u001b[0m\u001b[0mclim_zones\u001b[0m\u001b[1;33m,\u001b[0m \u001b[1;34m\"NEW_SELECTION\"\u001b[0m\u001b[1;33m,\u001b[0m \u001b[0mFID\u001b[0m\u001b[1;33m=\u001b[0m\u001b[1;36m0\u001b[0m\u001b[1;33m)\u001b[0m\u001b[1;33m\u001b[0m\u001b[0m\n\u001b[0m\u001b[0;32m      8\u001b[0m \u001b[1;33m\u001b[0m\u001b[0m\n\u001b[0;32m      9\u001b[0m \u001b[1;31m# Calculate fields\u001b[0m\u001b[1;33m\u001b[0m\u001b[1;33m\u001b[0m\u001b[0m\n",
      "\u001b[1;31mTypeError\u001b[0m: SelectLayerByAttribute() got an unexpected keyword argument 'FID'"
     ]
    }
   ],
   "source": [
    "# Input data into climate zone shapefile attribute table\n",
    "\n",
    "arcpy.env.workspace = r\"..\\examples\\sagehen\\shapefiles\"\n",
    "clim_zones = \"clim_zones.shp\"\n",
    "\n",
    "#Select clim zone 1\n",
    "arcpy.SelectLayerByAttribute_management(clim_zones, \"NEW_SELECTION\", FID=0)\n",
    "\n",
    "# Calculate fields\n",
    "arcpy.CalculateField_management(clim_zones, \"station_nm\", \"sagehen_low\", \"PYTHON\")\n",
    "arcpy.CalculateField_management(clim_zones, PPT_ZONE, 1, \"PYTHON\")\n",
    "arcpy.CalculateField_management(clim_zones, PPT_01, 140.17, \"PYTHON\")\n",
    "arcpy.CalculateField_management(clim_zones, PPT_02, 132.845, \"PYTHON\")\n",
    "arcpy.CalculateField_management(clim_zones, PPT_03, 119.30, \"PYTHON\")\n",
    "arcpy.CalculateField_management(clim_zones, PPT_04, 53.95, \"PYTHON\")\n",
    "arcpy.CalculateField_management(clim_zones, PPT_05, 37.83, \"PYTHON\")\n",
    "arcpy.CalculateField_management(clim_zones, PPT_06, 17.71, \"PYTHON\")\n",
    "arcpy.CalculateField_management(clim_zones, PPT_07, 10.63, \"PYTHON\")\n",
    "arcpy.CalculateField_management(clim_zones, PPT_08, 14.76, \"PYTHON\")\n",
    "arcpy.CalculateField_management(clim_zones, PPT_09, 22.31, \"PYTHON\")\n",
    "arcpy.CalculateField_management(clim_zones, PPT_10, 52.38, \"PYTHON\")\n",
    "arcpy.CalculateField_management(clim_zones, PPT_11, 102.80, \"PYTHON\")\n",
    "arcpy.CalculateField_management(clim_zones, PPT_12, 142.02, \"PYTHON\")\n",
    "arcpy.CalculateField_management(clim_zones, hru_id, 0, \"PYTHON\")\n",
    "arcpy.CalculateField_management(clim_zones, HRU_PSTA, 1, \"PYTHON\")\n",
    "arcpy.CalculateField_management(clim_zones, PPT_HRU_ID, 0, \"PYTHON\")\n",
    "\n",
    "#Select clim zone 2\n",
    "arcpy.SelectLayerByAttribute_management(clim_zones, \"NEW_SELECTION\", FID=1)\n",
    "\n",
    "# Calculate fields\n",
    "arcpy.CalculateField_management(clim_zones, \"station_nm\", \"sagehen_high\", \"PYTHON\")\n",
    "arcpy.CalculateField_management(clim_zones, PPT_ZONE, 2, \"PYTHON\")\n",
    "arcpy.CalculateField_management(clim_zones, PPT_01, 160.17, \"PYTHON\")\n",
    "arcpy.CalculateField_management(clim_zones, PPT_02, 152.845, \"PYTHON\")\n",
    "arcpy.CalculateField_management(clim_zones, PPT_03, 139.30, \"PYTHON\")\n",
    "arcpy.CalculateField_management(clim_zones, PPT_04, 73.95, \"PYTHON\")\n",
    "arcpy.CalculateField_management(clim_zones, PPT_05, 57.83, \"PYTHON\")\n",
    "arcpy.CalculateField_management(clim_zones, PPT_06, 37.71, \"PYTHON\")\n",
    "arcpy.CalculateField_management(clim_zones, PPT_07, 30.63, \"PYTHON\")\n",
    "arcpy.CalculateField_management(clim_zones, PPT_08, 34.76, \"PYTHON\")\n",
    "arcpy.CalculateField_management(clim_zones, PPT_09, 42.31, \"PYTHON\")\n",
    "arcpy.CalculateField_management(clim_zones, PPT_10, 72.38, \"PYTHON\")\n",
    "arcpy.CalculateField_management(clim_zones, PPT_11, 122.80, \"PYTHON\")\n",
    "arcpy.CalculateField_management(clim_zones, PPT_12, 162.02, \"PYTHON\")\n",
    "arcpy.CalculateField_management(clim_zones, hru_id, 3972, \"PYTHON\")\n",
    "arcpy.CalculateField_management(clim_zones, HRU_PSTA, 2, \"PYTHON\")\n",
    "arcpy.CalculateField_management(clim_zones, PPT_HRU_ID, 3972, \"PYTHON\")\n"
   ]
  },
  {
   "cell_type": "code",
   "execution_count": 4,
   "metadata": {},
   "outputs": [
    {
     "ename": "NameError",
     "evalue": "name 'grid' is not defined",
     "output_type": "error",
     "traceback": [
      "\u001b[1;31m---------------------------------------------------------------------------\u001b[0m",
      "\u001b[1;31mNameError\u001b[0m                                 Traceback (most recent call last)",
      "\u001b[1;32m<ipython-input-4-858f71fa88e7>\u001b[0m in \u001b[0;36m<module>\u001b[1;34m()\u001b[0m\n\u001b[0;32m      3\u001b[0m \u001b[0mtable\u001b[0m\u001b[1;33m=\u001b[0m\u001b[0mgeopandas\u001b[0m\u001b[1;33m.\u001b[0m\u001b[0mread_file\u001b[0m\u001b[1;33m(\u001b[0m\u001b[0mfn1\u001b[0m\u001b[1;33m)\u001b[0m\u001b[1;33m\u001b[0m\u001b[0m\n\u001b[0;32m      4\u001b[0m \u001b[1;31m#print current value\u001b[0m\u001b[1;33m\u001b[0m\u001b[1;33m\u001b[0m\u001b[0m\n\u001b[1;32m----> 5\u001b[1;33m \u001b[0mgrid\u001b[0m\u001b[1;33m[\u001b[0m\u001b[1;34m\"station_nm\"\u001b[0m\u001b[1;33m]\u001b[0m\u001b[1;33m\u001b[0m\u001b[0m\n\u001b[0m\u001b[0;32m      6\u001b[0m \u001b[1;31m#change first value of type\u001b[0m\u001b[1;33m\u001b[0m\u001b[1;33m\u001b[0m\u001b[0m\n\u001b[0;32m      7\u001b[0m \u001b[0mtable\u001b[0m\u001b[1;33m[\u001b[0m\u001b[1;34m\"TYPE[0]\"\u001b[0m\u001b[1;33m]\u001b[0m\u001b[1;33m=\u001b[0m\u001b[1;34m\"Sagehen_low\"\u001b[0m\u001b[1;33m\u001b[0m\u001b[0m\n",
      "\u001b[1;31mNameError\u001b[0m: name 'grid' is not defined"
     ]
    }
   ],
   "source": [
    "#another option?\n",
    "fn1=r\"..\\examples\\sagehen\\shapefiles\\clim_zones.shp\"\n",
    "table=geopandas.read_file(fn1)\n",
    "#print current value\n",
    "grid[\"station_nm\"]\n",
    "#change first value of type\n",
    "table[\"TYPE[0]\"]=\"Sagehen_low\"\n",
    "#write changed value\n",
    "table.to_file(\"clim_zones.shp\")"
   ]
  },
  {
   "cell_type": "code",
   "execution_count": null,
   "metadata": {},
   "outputs": [],
   "source": []
  }
 ],
 "metadata": {
  "kernelspec": {
   "display_name": "Python 2",
   "language": "python",
   "name": "python2"
  },
  "language_info": {
   "codemirror_mode": {
    "name": "ipython",
    "version": 2
   },
   "file_extension": ".py",
   "mimetype": "text/x-python",
   "name": "python",
   "nbconvert_exporter": "python",
   "pygments_lexer": "ipython2",
   "version": "2.7.15"
  }
 },
 "nbformat": 4,
 "nbformat_minor": 2
}
