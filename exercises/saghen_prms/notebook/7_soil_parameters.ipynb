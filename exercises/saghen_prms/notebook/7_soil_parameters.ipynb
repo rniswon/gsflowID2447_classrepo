{
 "cells": [
  {
   "cell_type": "markdown",
   "metadata": {},
   "source": [
    "# Run  soil_raster_prep and soil_parameters\n",
    "\n",
    "#### Prepares the soil rasters, such as clipping to the grid and filling missing data in the soil data set. The soil_parameters script uses the prepared soil rasters to develop maps of soil texture, available water holding capacity, and the saturated hydraulic conductivity (Ksat). These values are used to develop PRMS soilzone parameters."
   ]
  },
  {
   "cell_type": "code",
   "execution_count": 1,
   "metadata": {},
   "outputs": [],
   "source": [
    "%matplotlib inline\n",
    "import sys, os\n",
    "import matplotlib.pyplot as plt\n",
    "#import arcpy\n",
    "import geopandas\n",
    "import matplotlib.image as mpimg\n",
    "import ConfigParser\n",
    "from matplotlib import cm\n",
    "#from arcpy import env\n",
    "python_exe = sys.executable"
   ]
  },
  {
   "cell_type": "code",
   "execution_count": 2,
   "metadata": {},
   "outputs": [],
   "source": [
    "# Set folder locations\n",
    "arc_gsflow_folder=r\"..\\scripts\"\n",
    "config_file_folder=r\"..\\examples\\sagehen\""
   ]
  },
  {
   "cell_type": "markdown",
   "metadata": {},
   "source": [
    "#### GsflowArcpy uses a configuration file to set variables required by the scripts. Below the configuration file template is read, and default values are changed and written to the configuration file (\".INI\") read by GsflowArcpy."
   ]
  },
  {
   "cell_type": "code",
   "execution_count": 3,
   "metadata": {},
   "outputs": [
    {
     "data": {
      "text/plain": [
       "['..\\\\examples\\\\sagehen\\\\sagehen_parameters_orig.ini']"
      ]
     },
     "execution_count": 3,
     "metadata": {},
     "output_type": "execute_result"
    }
   ],
   "source": [
    "# Load GsflowArcpy configuration file\n",
    "Config = ConfigParser.ConfigParser()\n",
    "Config.read(\"..\\examples\\sagehen\\sagehen_parameters_orig.ini\")"
   ]
  },
  {
   "cell_type": "markdown",
   "metadata": {},
   "source": [
    "#### Values set below are required for running the soil_raster_prep script."
   ]
  },
  {
   "cell_type": "code",
   "execution_count": 4,
   "metadata": {},
   "outputs": [],
   "source": [
    "# Set problem specific variable values for script\n",
    "soil_orig_folder = r\"..\\examples\\sagehen\\soils\"\n",
    "ksat_name = \"ksat.img\"\n",
    "awc_name = \"awc.img\"\n",
    "clay_pct_name = \"clay.img\"\n",
    "sand_pct_name = \"sand.img\"\n",
    "soil_cellsize = 50\n",
    "# Soil rasters are percent (i.e. 25%)\n",
    "# If false interpret as decimals (i.e. 0.25)\n",
    "soil_pct_flag = True\n",
    "# Fill nodata in soil rasters using nibble technique\n",
    "fill_soil_nodata_flag = True\n",
    "# Initial soil moisture and recharge are calculated as a fraction of the max\n",
    "moist_init_ratio = 0.1\n",
    "rechr_init_ratio = 0.1\n",
    "# Geology based multiplier raster for ssr2gw rate \n",
    "ssr2gw_mult_flag = False\n",
    "ssr2gw_mult_name = \"ssr2g_mult.img\"\n",
    "# If no raster provided, a default value must be set\n",
    "ssr2gw_k_default = 0.001\n",
    "# Read and apply soil depth raster\n",
    "# Otherwise soil depth will only be derived from rooting depth\n",
    "soil_depth_flag = False\n",
    "# soil_depth_name = soil_depth.img\n",
    "root_depth_remap = \"rtdepth.rmp\""
   ]
  },
  {
   "cell_type": "code",
   "execution_count": 5,
   "metadata": {},
   "outputs": [],
   "source": [
    "# Write out modified values to configuration file\n",
    "cfgfile = open(\"..\\examples\\sagehen\\sagehen_parameters.ini\",'w')\n",
    "Config.set('INPUTS','soil_orig_folder',soil_orig_folder)\n",
    "Config.set('INPUTS','ksat_name',ksat_name)\n",
    "Config.set('INPUTS','awc_name',awc_name)\n",
    "Config.set('INPUTS','clay_pct_name',clay_pct_name)\n",
    "Config.set('INPUTS','sand_pct_name',sand_pct_name)\n",
    "Config.set('INPUTS','soil_cellsize',soil_cellsize)\n",
    "Config.set('INPUTS','soil_pct_flag',soil_pct_flag)\n",
    "Config.set('INPUTS','fill_soil_nodata_flag',fill_soil_nodata_flag)\n",
    "Config.set('INPUTS','moist_init_ratio',moist_init_ratio)\n",
    "Config.set('INPUTS','rechr_init_ratio',rechr_init_ratio)\n",
    "Config.set('INPUTS','ssr2gw_mult_flag',ssr2gw_mult_flag)\n",
    "Config.set('INPUTS','ssr2gw_mult_name',ssr2gw_mult_name)\n",
    "Config.set('INPUTS','ssr2gw_k_default',ssr2gw_k_default)\n",
    "Config.set('INPUTS','soil_depth_flag',soil_depth_flag)\n",
    "Config.set('INPUTS','root_depth_remap',root_depth_remap)\n",
    "Config.write(cfgfile)\n",
    "cfgfile.close()"
   ]
  },
  {
   "cell_type": "markdown",
   "metadata": {},
   "source": [
    "#### Run the GsflowArpcy script soil_raster_prep."
   ]
  },
  {
   "cell_type": "code",
   "execution_count": 6,
   "metadata": {},
   "outputs": [
    {
     "name": "stderr",
     "output_type": "stream",
     "text": [
      "\n",
      "################################################################################\n",
      "Run Time Stamp:      2019-10-02 11:41:13.691000\n",
      "Current Directory:   D:\\Workspace\\classes\\Testing\\gsflowID2447_classrepo\\gsflowID2447_classrepo\\exercises\\saghen_prms\\notebook\n",
      "Script:              soil_raster_prep.py\n",
      "\n",
      "Prepare GSFLOW Soil Rasters\n",
      "\n",
      "Projecting/clipping AWC raster\n",
      "Projecting/clipping clay raster\n",
      "Projecting/clipping sand raster\n",
      "Projecting/clipping ksat raster\n",
      "\n",
      "Filling soil nodata values using Nibble\n",
      "  ..\\examples\\sagehen\\hru_params\\soil_rasters\\awc.img\n",
      "  ..\\examples\\sagehen\\hru_params\\soil_rasters\\clay_pct.img\n",
      "  ..\\examples\\sagehen\\hru_params\\soil_rasters\\sand_pct.img\n",
      "  ..\\examples\\sagehen\\hru_params\\soil_rasters\\ksat.img\n"
     ]
    }
   ],
   "source": [
    "# Set and run soil_raster_prep script\n",
    "%run ../scripts/soil_raster_prep.py -i ../examples/sagehen/sagehen_parameters.ini"
   ]
  },
  {
   "cell_type": "markdown",
   "metadata": {},
   "source": [
    "#### Run the GsflowArpcy script soil_parameters."
   ]
  },
  {
   "cell_type": "code",
   "execution_count": 7,
   "metadata": {},
   "outputs": [
    {
     "name": "stderr",
     "output_type": "stream",
     "text": [
      "\n",
      "################################################################################\n",
      "Run Time Stamp:      2019-10-02 11:41:26.520000\n",
      "Current Directory:   D:\\Workspace\\classes\\Testing\\gsflowID2447_classrepo\\gsflowID2447_classrepo\\exercises\\saghen_prms\\notebook\n",
      "Script:              soil_parameters.py\n",
      "\n",
      "GSFLOW Soil Parameters\n",
      "\n",
      "Adding soil fields if necessary\n",
      "\n",
      "Calculating zonal statistics\n",
      "  AWC: MEAN\n",
      "    ..\\examples\\sagehen\\hru_params\\soil_rasters\\awc.img\n",
      "  CLAY_PCT: MEAN\n",
      "    ..\\examples\\sagehen\\hru_params\\soil_rasters\\clay_pct.img\n",
      "  KSAT: MEAN\n",
      "    ..\\examples\\sagehen\\hru_params\\soil_rasters\\ksat.img\n",
      "  SAND_PCT: MEAN\n",
      "    ..\\examples\\sagehen\\hru_params\\soil_rasters\\sand_pct.img\n",
      "  SOIL_RT_MX: MEAN\n",
      "    ..\\examples\\sagehen\\hru_params\\veg_rasters\\root_depth.img\n",
      "  FIDS: 0-65000\n",
      "    MEAN: AWC_0\n",
      "    MEAN: CLAY_PCT_0\n",
      "    MEAN: KSAT_0\n",
      "    MEAN: SAND_PCT_0\n",
      "    MEAN: SOIL_RT_MX_0\n",
      "    Writing values to polygons\n",
      "Calculating soil RECHR_MAX\n",
      "\n",
      "Calculating SOIL_TYPE\n",
      "\n",
      "Calculating MOIST_INIT as 0.1 * MOIST_MAX\n",
      "Calculating RECHR_INIT as 0.1 * RECHR_MAX\n",
      "Using ..\\examples\\sagehen\\hru_params\\soil_rasters\\ssr2gw_mult.img to calculate SSR2G_KFAC\n",
      "ssr2gw_k_default = 0.001\n",
      "Filling SSR2G_KFAC from default value in config file\n",
      "\n",
      "Calculating SSR2G_RATE\n",
      "  assuming KSAT is in units of um/s\n",
      "Calculating SLOWCOEF_L\n",
      "  KSAT must be in um/s\n",
      "Calculating SLOWCOEF_S\n",
      "  KSAT must be in um/s\n"
     ]
    }
   ],
   "source": [
    "%run ../scripts/soil_parameters.py -i ../examples/sagehen/sagehen_parameters.ini"
   ]
  },
  {
   "cell_type": "markdown",
   "metadata": {},
   "source": [
    "#### The distribution of Ksat provided by the SSURGO data is shown below."
   ]
  },
  {
   "cell_type": "code",
   "execution_count": 8,
   "metadata": {},
   "outputs": [
    {
     "data": {
      "image/png": "[encoded data removed]",
      "text/plain": [
       "<Figure size 1440x576 with 2 Axes>"
      ]
     },
     "metadata": {
      "needs_background": "light"
     },
     "output_type": "display_data"
    }
   ],
   "source": [
    "# Plot the Ksat provided by SSURGO\n",
    "fig, ax = plt.subplots(figsize=(20,8))\n",
    "fn1=r\"..\\examples\\sagehen\\shapefiles\\watershed_proj.shp\"\n",
    "fn2=r\"..\\examples\\sagehen\\hru_params\\hru_params.shp\"\n",
    "boundary=geopandas.read_file(fn1)\n",
    "hru_params=geopandas.read_file(fn2)\n",
    "hru_params.plot(column=\"KSAT\",ax=ax,legend=True)\n",
    "boundary.plot(ax=ax,color='none', edgecolor='black', linewidth=1.0)\n",
    "plt.show()"
   ]
  },
  {
   "cell_type": "markdown",
   "metadata": {},
   "source": [
    "## Class Exercise:\n",
    "\n",
    "\n",
    "#### Plot the PRMS parameter slowcoef_lin (\"SLOWCOEF_L\"). Is it correlated to KSAT?"
   ]
  },
  {
   "cell_type": "code",
   "execution_count": null,
   "metadata": {},
   "outputs": [],
   "source": []
  }
 ],
 "metadata": {
  "kernelspec": {
   "display_name": "Python 2",
   "language": "python",
   "name": "python2"
  },
  "language_info": {
   "codemirror_mode": {
    "name": "ipython",
    "version": 2
   },
   "file_extension": ".py",
   "mimetype": "text/x-python",
   "name": "python",
   "nbconvert_exporter": "python",
   "pygments_lexer": "ipython2",
   "version": "2.7.16"
  }
 },
 "nbformat": 4,
 "nbformat_minor": 2
}
