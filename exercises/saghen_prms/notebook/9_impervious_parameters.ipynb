{
 "cells": [
  {
   "cell_type": "markdown",
   "metadata": {},
   "source": [
    "# Run  impervious_parameters and prms_template_fill\n",
    "\n",
    "#### Impervious area maps provided by NLCD are used to assign impervious percentages to each cell/RHU."
   ]
  },
  {
   "cell_type": "code",
   "execution_count": 2,
   "metadata": {},
   "outputs": [],
   "source": [
    "%matplotlib inline\n",
    "import sys, os\n",
    "import matplotlib.pyplot as plt\n",
    "import arcpy\n",
    "import geopandas\n",
    "import matplotlib.image as mpimg\n",
    "import ConfigParser\n",
    "import numpy as np\n",
    "import pandas as pd\n",
    "from matplotlib import cm\n",
    "from arcpy import env\n",
    "python_exe = sys.executable"
   ]
  },
  {
   "cell_type": "code",
   "execution_count": 2,
   "metadata": {},
   "outputs": [
    {
     "name": "stdout",
     "output_type": "stream",
     "text": [
      "C:\\Users\\rniswon\\Documents\\Data\\Git\\gsflowID2447_classrepo\\exercises\\saghen_prms\\notebook\n"
     ]
    }
   ],
   "source": [
    "# Make sure that notebook sees the gsflow package, we need to run this cell only once. \n",
    "if False:\n",
    "    import os, sys\n",
    "    import subprocess\n",
    "    current_dir = os.getcwd()    \n",
    "#    package_location =  r\"C:\\Users\\rniswon\\Documents\\Data\\Git\\gsflowID2447_classrepo\\python_packages\\pygsflow\"\n",
    "    package_location =  r\"..\\..\\..\\python_packages\\pygsflow\"\n",
    "#    package_location = os.path.abspath(package_location)\n",
    "#    print package_location\n",
    "    os.chdir(package_location)\n",
    "    cmd = python_exe + \" setup.py install\"\n",
    "    result = subprocess.check_output(cmd, shell=True)\n",
    "    os.chdir(current_dir)\n",
    " #   print result\n",
    "    print os.getcwd()"
   ]
  },
  {
   "cell_type": "code",
   "execution_count": 3,
   "metadata": {},
   "outputs": [],
   "source": [
    "from gsflow import Gsflow"
   ]
  },
  {
   "cell_type": "code",
   "execution_count": null,
   "metadata": {},
   "outputs": [],
   "source": [
    "# Set folder locations\n",
    "arc_gsflow_folder=r\"..\\scripts\"\n",
    "config_file_folder=r\"..\\examples\\sagehen\""
   ]
  },
  {
   "cell_type": "markdown",
   "metadata": {},
   "source": [
    "#### GsflowArcpy uses a configuration file to set variables required by the scripts. Below the configuration file template is read, and default values are changed and written to the configuration file (\".INI\") read by GsflowArcpy."
   ]
  },
  {
   "cell_type": "code",
   "execution_count": null,
   "metadata": {},
   "outputs": [],
   "source": [
    "# Load GsflowArcpy configuration file\n",
    "Config = ConfigParser.ConfigParser()\n",
    "Config.read(\"..\\examples\\sagehen\\sagehen_parameters_orig.ini\")"
   ]
  },
  {
   "cell_type": "markdown",
   "metadata": {},
   "source": [
    "#### Values set below are required for running the impervious_parameters and prms_template_fill scripts."
   ]
  },
  {
   "cell_type": "code",
   "execution_count": null,
   "metadata": {},
   "outputs": [],
   "source": [
    "# Set problem specific variable values for script\n",
    "## PRMS Parameter\n",
    "prms_parameter_folder = r\"..\\examples\\sagehen\\model\\input\"\n",
    "single_param_file_flag = False\n",
    "# single_param_file_name = \"prms_inputs.param\"\n",
    "param_column_flag = True"
   ]
  },
  {
   "cell_type": "code",
   "execution_count": null,
   "metadata": {},
   "outputs": [],
   "source": [
    "# Write out modified values to configuration file\n",
    "cfgfile = open(\"..\\examples\\sagehen\\sagehen_parameters.ini\",'w')\n",
    "Config.set('INPUTS','prms_parameter_folder',prms_parameter_folder)\n",
    "Config.set('INPUTS','single_param_file_flag',single_param_file_flag)\n",
    "Config.set('INPUTS','param_column_flag',param_column_flag)\n",
    "Config.write(cfgfile)\n",
    "cfgfile.close()"
   ]
  },
  {
   "cell_type": "markdown",
   "metadata": {},
   "source": [
    "#### Run the GsflowArpcy script impervious_parameters."
   ]
  },
  {
   "cell_type": "code",
   "execution_count": null,
   "metadata": {},
   "outputs": [],
   "source": [
    "# Set and run impervious_parameters script\n",
    "script = r\"impervious_parameters.py\"\n",
    "argument = r\" -i ..\\examples\\sagehen\\sagehen_parameters.ini\"\n",
    "cmd=python_exe + \" \" + os.path.join(arc_gsflow_folder,script)\n",
    "cmd = cmd + argument\n",
    "os.system(cmd)"
   ]
  },
  {
   "cell_type": "markdown",
   "metadata": {},
   "source": [
    "#### Below you can see that other than a few roads, there is no impervious area in Sagehen Creek Watershed."
   ]
  },
  {
   "cell_type": "code",
   "execution_count": null,
   "metadata": {},
   "outputs": [],
   "source": [
    "# Plot the impervious cover\n",
    "fig, ax = plt.subplots(figsize=(20,8))\n",
    "fn1=r\"..\\examples\\sagehen\\shapefiles\\watershed_proj.shp\"\n",
    "fn2=r\"..\\examples\\sagehen\\hru_params\\hru_params.shp\"\n",
    "boundary=geopandas.read_file(fn1)\n",
    "hru_params=geopandas.read_file(fn2)\n",
    "hru_params.plot(column=\"IMPERV_PCT\",ax=ax,legend=True)\n",
    "boundary.plot(ax=ax,color='none', edgecolor='black', linewidth=1.0)\n",
    "plt.show()"
   ]
  },
  {
   "cell_type": "markdown",
   "metadata": {},
   "source": [
    "#### Run the GsflowArpcy script prms_template_fill."
   ]
  },
  {
   "cell_type": "code",
   "execution_count": null,
   "metadata": {},
   "outputs": [],
   "source": [
    "# Set and run prms_template_fill script\n",
    "script = r\"prms_template_fill.py\"\n",
    "argument = r\" -i ..\\examples\\sagehen\\sagehen_parameters.ini\"\n",
    "cmd=python_exe + \" \" + os.path.join(arc_gsflow_folder,script)\n",
    "cmd = cmd + argument\n",
    "os.system(cmd)"
   ]
  },
  {
   "cell_type": "markdown",
   "metadata": {},
   "source": []
  },
  {
   "cell_type": "code",
   "execution_count": 5,
   "metadata": {},
   "outputs": [
    {
     "name": "stdout",
     "output_type": "stream",
     "text": [
      "PyGSFLOW ------ V0.0\n",
      "Control file is loaded\n",
      "Working on loading PRMS model ...\n",
      "Parameters will be read from a file/ files...\n",
      "Work on loadind the parameter files .....\n",
      "Prms model is loaded .....\n",
      "There are no Modflow files, PRMS model only\n",
      "Writing the project files .....\n",
      "Control file is written...\n",
      "Parameters files are written...\n",
      "Data file is written...\n",
      "Modflow files are written...\n",
      "pyGSFLOW is using the following executable to run the model: C:\\Users\\rniswon\\Documents\\Data\\Git\\gsflowID2447_classrepo\\bin\\gsflow.exe\n",
      "\n",
      "C:\\Users\\rniswon\\Documents\\Data\\Git\\gsflowID2447_classrepo\\exercises\\saghen_prms\\examples\\sagehen\\model\\new_folder>C:\\Users\\rniswon\\Documents\\Data\\Git\\gsflowID2447_classrepo\\bin\\gsflow.exe C:\\Users\\rniswon\\Documents\\Data\\Git\\gsflowID2447_classrepo\\exercises\\saghen_prms\\examples\\sagehen\\model\\new_folder\\sagehen.control \n",
      "\n",
      "               Precipitation-Runoff Modeling System (PRMS)\n",
      "                       Version 5.0.0 06/01/2018\n",
      "\n",
      "        Process            Available Modules\n",
      "--------------------------------------------------------------------\n",
      "  Basin Definition: basin\n",
      "    Cascading Flow: cascade\n",
      "  Time Series Data: obs, water_use_read, dynamic_param_read\n",
      "   Potet Solar Rad: soltab\n",
      "  Temperature Dist: temp_1sta, temp_laps, temp_dist2, climate_hru\n",
      "       Precip Dist: precip_1sta, precip_laps, precip_dist2,\n",
      "                    climate_hru\n",
      "Temp & Precip Dist: xyz_dist, ide_dist\n",
      "    Solar Rad Dist: ccsolrad, ddsolrad, climate_hru\n",
      "Transpiration Dist: transp_tindex, climate_hru, transp_frost\n",
      "      Potential ET: potet_hamon, potet_jh, potet_pan, climate_hru,\n",
      "                    potet_hs, potet_pt, potet_pm, potet_pm_sta\n",
      "      Interception: intcp\n",
      "     Snow Dynamics: snowcomp\n",
      "    Surface Runoff: srunoff_smidx, srunoff_carea\n",
      "         Soil Zone: soilzone\n",
      "       Groundwater: gwflow\n",
      "Streamflow Routing: strmflow, strmflow_in_out, muskingum,\n",
      "                    muskingum_lake\n",
      "Stream Temperature: stream_temp\n",
      "    Output Summary: basin_sum, subbasin, map_results, prms_summary,\n",
      "                    nhru_summary, nsub_summary, water_balance\n",
      "                    basin_summary, nsegment_summary\n",
      "     Preprocessing: write_climate_hru, frost_date\n",
      "--------------------------------------------------------------------\n",
      "\n",
      "\n",
      "==========================================================================\n",
      "Please give careful consideration to fixing all ERROR and WARNING messages\n",
      "==========================================================================\n",
      "\n",
      "\n",
      "    Active modules listed in the order in which they are called\n",
      "\n",
      "        Process                   Module                Version Date\n",
      "====================================================================\n",
      "GSFLOW Computation Order       gsflow_prms                2018-09-26\n",
      "Basin Definition               basin                      2018-04-06\n",
      "Cascading Flow                 cascade                    2018-05-25\n",
      "Common States and Fluxes       climateflow                2018-09-19\n",
      "Potential Solar Radiation      soltab                     2016-09-09\n",
      "PRMS Set Time Variables        prms_time                  2015-03-31\n",
      "Time Series Data               obs                        2018-02-23\n",
      "Temperature Distribution       temp_1sta                  2018-01-16\n",
      "Precipitation Distribution     precip_1sta                2016-10-21\n",
      "Solar Radiation Distribution   ddsolrad                   2016-11-03\n",
      "Transpiration Distribution     transp_tindex              2015-01-06\n",
      "Potential Evapotranspiration   potet_jh                   2016-05-10\n",
      "Canopy Interception            intcp                      2018-02-26\n",
      "Snow Dynamics                  snowcomp                   2018-05-04\n",
      "Surface Runoff                 srunoff_smidx              2018-04-25\n",
      "Soil Zone Computations         soilzone                   2018-09-19\n",
      "Groundwater                    gwflow                     2018-02-26\n",
      "Streamflow Routing             strmflow                   2014-12-02\n",
      "Summary                        basin_sum                  2017-10-21\n",
      "Output Summary                 map_results                2018-04-25\n",
      " WARNING, map_results requested with nmapOutVars equal 0\n",
      " no map_results output is produced\n",
      "Output Summary                 subbasin                   2018-04-25\n",
      "====================================================================\n",
      "\n",
      "Writing PRMS Water Budget File: C:\\Users\\rniswon\\Documents\\Data\\Git\\gsflowID2447_classrepo\\exercises\\saghen_prms\\examples\\sagehen\\model\\new_folder\\gsflow_prms.out\n",
      "\n",
      "Simulation time period: 1982/08/01 - 1997/03/31\n",
      "\n",
      "====================================================================\n",
      "\n",
      "\n",
      "\n",
      "WARNING: parameter_check_flag is duplicated in the control file C:\\Users\\rniswon\\Documents\\Data\\Git\\gsflowID2447_classrepo\\exercises\\saghen_prms\\examples\\sagehen\\model\\new_folder\\sagehen.control.\n",
      "\n",
      "\n",
      "\n",
      "WARNING: print_debug is duplicated in the control file C:\\Users\\rniswon\\Documents\\Data\\Git\\gsflowID2447_classrepo\\exercises\\saghen_prms\\examples\\sagehen\\model\\new_folder\\sagehen.control.\n",
      "\n",
      "\n",
      "WARNING: dimension 'nlake_hrus' is not required; file is C:\\Users\\rniswon\\Documents\\Data\\Git\\gsflowID2447_classrepo\\exercises\\saghen_prms\\examples\\sagehen\\model\\new_folder\\calibration_parameters.param; line number 38\n",
      "\n",
      "WARNING: parameter 'hru_tlaps' is not required; file is C:\\Users\\rniswon\\Documents\\Data\\Git\\gsflowID2447_classrepo\\exercises\\saghen_prms\\examples\\sagehen\\model\\new_folder\\calibration_parameters.param; line number 19579\n",
      "\n",
      "WARNING: parameter 'gvr_cell_id' is not required; file is C:\\Users\\rniswon\\Documents\\Data\\Git\\gsflowID2447_classrepo\\exercises\\saghen_prms\\examples\\sagehen\\model\\new_folder\\cascade.param; line number 24\n",
      "\n",
      "WARNING: parameter 'mapvars_freq' is not required; file is C:\\Users\\rniswon\\Documents\\Data\\Git\\gsflowID2447_classrepo\\exercises\\saghen_prms\\examples\\sagehen\\model\\new_folder\\default_values.param; line number 137\n",
      "\n",
      "WARNING: parameter 'mapvars_units' is not required; file is C:\\Users\\rniswon\\Documents\\Data\\Git\\gsflowID2447_classrepo\\exercises\\saghen_prms\\examples\\sagehen\\model\\new_folder\\default_values.param; line number 144\n",
      "\n",
      "WARNING: parameter 'prms_warmup' is not required; file is C:\\Users\\rniswon\\Documents\\Data\\Git\\gsflowID2447_classrepo\\exercises\\saghen_prms\\examples\\sagehen\\model\\new_folder\\default_values.param; line number 225\n",
      "\n",
      "WARNING: parameter 'lake_hru_id' is not required; file is C:\\Users\\rniswon\\Documents\\Data\\Git\\gsflowID2447_classrepo\\exercises\\saghen_prms\\examples\\sagehen\\model\\new_folder\\gis_derived_parameters.param; line number 71217\n",
      "\n",
      "WARNING: parameter snowpack_init is used by module snowcomp but values are not\n",
      "         set in the Parameter File. Module default values are being used.\n",
      "Loading the statvar output file .....\n",
      "Finished Load the statvar output file .....\n"
     ]
    },
    {
     "data": {
      "image/png": "[encoded data removed]",
      "text/plain": [
       "<matplotlib.figure.Figure at 0x2e071210>"
      ]
     },
     "metadata": {
      "needs_background": "light"
     },
     "output_type": "display_data"
    }
   ],
   "source": [
    "# Plot simulated streamflow\n",
    "control_file = r\"..\\examples\\sagehen\\model\\windows\\sagehen.control\"\n",
    "gs = Gsflow(control_file=control_file)\n",
    "par_val = gs.prms.parameters.get_values(\"slowcoef_lin\")\n",
    "new_par_val  =  par_val  * 0.01\n",
    "gs.prms.parameters.set_values(name=\"slowcoef_lin\",values=new_par_val)\n",
    "gs.write_input(workspace=r\"..\\examples\\sagehen\\model\\model_new\") ## change the directory name the way you like\n",
    "gs.gsflow_exe=r\"C:\\Users\\rniswon\\Documents\\Data\\Git\\gsflowID2447_classrepo\\bin\\gsflow.exe\"\n",
    "gs.run_model()\n",
    "gs.prms.get_statVar() \n",
    "fig, ax = plt.subplots(figsize=(20,8))\n",
    "sim_stream_flow = gs.prms.stat.stat_df['basin_cfs_1'].values\n",
    "plt.xlabel(\"Time, in days\")\n",
    "plt.ylabel(\"Streamflow, in cfs\")\n",
    "plt.plot(sim_stream_flow)\n",
    "plt.show()\n"
   ]
  },
  {
   "cell_type": "code",
   "execution_count": null,
   "metadata": {},
   "outputs": [],
   "source": []
  }
 ],
 "metadata": {
  "kernelspec": {
   "display_name": "Python 2",
   "language": "python",
   "name": "python2"
  },
  "language_info": {
   "codemirror_mode": {
    "name": "ipython",
    "version": 2
   },
   "file_extension": ".py",
   "mimetype": "text/x-python",
   "name": "python",
   "nbconvert_exporter": "python",
   "pygments_lexer": "ipython2",
   "version": "2.7.15"
  }
 },
 "nbformat": 4,
 "nbformat_minor": 2
}
