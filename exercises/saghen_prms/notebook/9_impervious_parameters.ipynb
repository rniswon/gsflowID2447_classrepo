{
 "cells": [
  {
   "cell_type": "markdown",
   "metadata": {},
   "source": [
    "# Run  impervious_parameters and prms_template_fill\n",
    "\n",
    "#### Impervious area maps provided by NLCD are used to assign impervious percentages to each cell/RHU."
   ]
  },
  {
   "cell_type": "code",
   "execution_count": 1,
   "metadata": {},
   "outputs": [],
   "source": [
    "%matplotlib inline\n",
    "import sys, os\n",
    "import matplotlib.pyplot as plt\n",
    "#import arcpy\n",
    "import geopandas\n",
    "import matplotlib.image as mpimg\n",
    "import ConfigParser\n",
    "import numpy as np\n",
    "import pandas as pd\n",
    "from matplotlib import cm\n",
    "#from arcpy import env\n",
    "python_exe = sys.executable"
   ]
  },
  {
   "cell_type": "code",
   "execution_count": 2,
   "metadata": {},
   "outputs": [],
   "source": [
    "# Make sure that notebook sees the gsflow package, we need to run this cell only once. \n",
    "if False:\n",
    "    import os, sys\n",
    "    import subprocess\n",
    "    current_dir = os.getcwd()    \n",
    "#    package_location =  r\"C:\\Users\\rniswon\\Documents\\Data\\Git\\gsflowID2447_classrepo\\python_packages\\pygsflow\"\n",
    "    package_location =  r\"..\\..\\..\\python_packages\\pygsflow\"\n",
    "#    package_location = os.path.abspath(package_location)\n",
    "#    print package_location\n",
    "    os.chdir(package_location)\n",
    "    cmd = python_exe + \" setup.py install\"\n",
    "    result = subprocess.check_output(cmd, shell=True)\n",
    "    os.chdir(current_dir)\n",
    " #   print result\n",
    "    print os.getcwd()"
   ]
  },
  {
   "cell_type": "code",
   "execution_count": 3,
   "metadata": {},
   "outputs": [
    {
     "name": "stdout",
     "output_type": "stream",
     "text": [
      "flopy is installed in D:\\anaconda\\envs\\gsflow_32\\lib\\site-packages\\flopy-3.2.13-py2.7.egg\\flopy\n"
     ]
    }
   ],
   "source": [
    "import gsflow"
   ]
  },
  {
   "cell_type": "code",
   "execution_count": 4,
   "metadata": {},
   "outputs": [],
   "source": [
    "# Set folder locations\n",
    "arc_gsflow_folder=r\"..\\scripts\"\n",
    "config_file_folder=r\"..\\examples\\sagehen\""
   ]
  },
  {
   "cell_type": "markdown",
   "metadata": {},
   "source": [
    "#### GsflowArcpy uses a configuration file to set variables required by the scripts. Below the configuration file template is read, and default values are changed and written to the configuration file (\".INI\") read by GsflowArcpy."
   ]
  },
  {
   "cell_type": "code",
   "execution_count": 5,
   "metadata": {},
   "outputs": [
    {
     "data": {
      "text/plain": [
       "['..\\\\examples\\\\sagehen\\\\sagehen_parameters_orig.ini']"
      ]
     },
     "execution_count": 5,
     "metadata": {},
     "output_type": "execute_result"
    }
   ],
   "source": [
    "# Load GsflowArcpy configuration file\n",
    "Config = ConfigParser.ConfigParser()\n",
    "Config.read(\"..\\examples\\sagehen\\sagehen_parameters_orig.ini\")"
   ]
  },
  {
   "cell_type": "markdown",
   "metadata": {},
   "source": [
    "#### Values set below are required for running the impervious_parameters and prms_template_fill scripts."
   ]
  },
  {
   "cell_type": "code",
   "execution_count": 6,
   "metadata": {},
   "outputs": [],
   "source": [
    "# Set problem specific variable values for script\n",
    "\n",
    "# Parameters passed through to PRMS param file(s)\n",
    "# Number of air temperature measurement stations in the data file\n",
    "ntemp = 1\n",
    "# Elevation units (0=feet, 1=meter)\n",
    "elev_units = 0\n",
    "# Index of the temperature station used to compute basin temperature values (1's based)\n",
    "basin_tsta = 1\n",
    "# Index of the base temperature station used for lapse rate calculations  (1's based)\n",
    "hru_tsta = 1\n",
    "# Index of the lapse temperature station used for lapse rate calculations (1's based)\n",
    "hru_tlaps = 1\n",
    "# Elevation of each air temperature measurment station\n",
    "tsta_elev = 6340\n",
    "# If using temp_1sta module, manually define monthly lapse rates\n",
    "# If using the temp_adjust_parameters script, these values should be set = 0\n",
    "tmax_lapse = \"9, 9, 7, 7, 6, 5, 5, 4, 6, 7, 8, 9\"\n",
    "tmin_lapse = \"4.5, 4.5, 3.5, 3.5, 3, 2.5, 2.5, 2, 3, 3.5, 4, 4.5\"\n",
    "\n",
    "## PRMS Parameter\n",
    "prms_parameter_folder = r\"..\\examples\\sagehen\\model\\input\"\n",
    "single_param_file_flag = False\n",
    "# single_param_file_name = \"prms_inputs.param\"\n",
    "param_column_flag = True"
   ]
  },
  {
   "cell_type": "code",
   "execution_count": 7,
   "metadata": {},
   "outputs": [],
   "source": [
    "# Write out modified values to configuration file\n",
    "cfgfile = open(\"..\\examples\\sagehen\\sagehen_parameters.ini\",'w')\n",
    "Config.set('INPUTS','ntemp',ntemp)\n",
    "Config.set('INPUTS','elev_units',elev_units)\n",
    "Config.set('INPUTS','basin_tsta',basin_tsta)\n",
    "Config.set('INPUTS','hru_tsta',hru_tsta)\n",
    "Config.set('INPUTS','hru_tlaps',hru_tlaps)\n",
    "Config.set('INPUTS','tsta_elev',tsta_elev)\n",
    "Config.set('INPUTS','tmax_lapse',tmax_lapse)\n",
    "Config.set('INPUTS','tmin_lapse',tmin_lapse)\n",
    "Config.set('INPUTS','prms_parameter_folder',prms_parameter_folder)\n",
    "Config.set('INPUTS','single_param_file_flag',single_param_file_flag)\n",
    "Config.set('INPUTS','param_column_flag',param_column_flag)\n",
    "Config.write(cfgfile)\n",
    "cfgfile.close()"
   ]
  },
  {
   "cell_type": "markdown",
   "metadata": {},
   "source": [
    "#### Run the GsflowArpcy script impervious_parameters."
   ]
  },
  {
   "cell_type": "code",
   "execution_count": 8,
   "metadata": {},
   "outputs": [
    {
     "name": "stderr",
     "output_type": "stream",
     "text": [
      "\n",
      "################################################################################\n",
      "Run Time Stamp:      2019-10-02 11:46:20.949000\n",
      "Current Directory:   D:\\Workspace\\classes\\Testing\\gsflowID2447_classrepo\\gsflowID2447_classrepo\\exercises\\saghen_prms\\notebook\n",
      "Script:              impervious_parameters.py\n",
      "\n",
      "GSFLOW Impervious Parameters\n",
      "\n",
      "Adding impervious fields if necessary\n",
      "\n",
      "Projecting/clipping impervious cover raster\n",
      "\n",
      "Calculating zonal statistics\n",
      "  IMPERV_PCT: MEAN\n",
      "    ..\\examples\\sagehen\\hru_params\\impervious_rasters\\impervious_cover.img\n",
      "  FIDS: 0-65000\n",
      "    MEAN: IMPERV_PCT_0\n",
      "    Writing values to polygons\n",
      "\n",
      "Calculating CAREA_MIN / CAREA_MAX\n"
     ]
    }
   ],
   "source": [
    "# Set and run impervious_parameters script\n",
    "%run ../scripts/impervious_parameters.py -i ../examples/sagehen/sagehen_parameters.ini"
   ]
  },
  {
   "cell_type": "markdown",
   "metadata": {},
   "source": [
    "#### Below you can see that other than a few roads, there is no impervious area in Sagehen Creek Watershed."
   ]
  },
  {
   "cell_type": "code",
   "execution_count": 9,
   "metadata": {},
   "outputs": [
    {
     "data": {
      "image/png": "[encoded data removed]",
      "text/plain": [
       "<Figure size 1440x576 with 2 Axes>"
      ]
     },
     "metadata": {
      "needs_background": "light"
     },
     "output_type": "display_data"
    }
   ],
   "source": [
    "# Plot the impervious cover\n",
    "fig, ax = plt.subplots(figsize=(20,8))\n",
    "fn1=r\"..\\examples\\sagehen\\shapefiles\\watershed_proj.shp\"\n",
    "fn2=r\"..\\examples\\sagehen\\hru_params\\hru_params.shp\"\n",
    "boundary=geopandas.read_file(fn1)\n",
    "hru_params=geopandas.read_file(fn2)\n",
    "hru_params.plot(column=\"IMPERV_PCT\",ax=ax,legend=True)\n",
    "boundary.plot(ax=ax,color='none', edgecolor='black', linewidth=1.0)\n",
    "plt.show()"
   ]
  },
  {
   "cell_type": "markdown",
   "metadata": {},
   "source": [
    "#### Run the GsflowArpcy script prms_template_fill."
   ]
  },
  {
   "cell_type": "code",
   "execution_count": 10,
   "metadata": {},
   "outputs": [
    {
     "name": "stderr",
     "output_type": "stream",
     "text": [
      "\n",
      "################################################################################\n",
      "Run Time Stamp:      2019-10-02 11:46:37.996000\n",
      "Current Directory:   D:\\Workspace\\classes\\Testing\\gsflowID2447_classrepo\\gsflowID2447_classrepo\\exercises\\saghen_prms\\notebook\n",
      "Script:              prms_template_fill.py\n",
      "\n",
      "Filling PRMS Parameter File Template\n",
      "  Fishnet cells: 6468\n",
      "\n",
      "Reading dimensions CSV\n",
      "  ngw = 6468\n",
      "  ngwcell = 6468\n",
      "  nhru = 6468\n",
      "  nhrucell = 6468\n",
      "  nssr = 6468\n",
      "Calculating number of stream cells\n",
      "  Stream cells are KRCH >= 0\n",
      "  nreach = 194\n",
      "Calculating number of unique stream segments\n",
      "  Stream segments are ISEG >= 0\n",
      "  nsegment = 15\n",
      "Calculating number of unique subbasins\n",
      "  Subbasins are SUB_BASIN >= 0\n",
      "  nsub = 1\n",
      "\n",
      "Reading CRT dimensions\n",
      "  ncascade = 12160\n",
      "\n",
      "Reading CRT groundwater cascade dimensions\n",
      "  ncascdgw = 12160\n",
      "Reading configuration file dimensions\n",
      "  ntemp\n",
      "\n",
      "Reading parameters CSV\n",
      "\n",
      "Setting static parameters from defaults\n",
      "Reading configuration file parameters\n",
      "  basin_tsta\n",
      "  elev_units\n",
      "  hru_tlaps\n",
      "  hru_tsta\n",
      "  tmax_lapse\n",
      "  tmin_lapse\n",
      "  tsta_elev\n",
      "\n",
      "Reading in variable parameters from fishnet\n",
      "\n",
      "Scaling DEM_ADJ units\n",
      "  DEM Units:  meter\n",
      "  Elev Units: feet\n",
      "  Multiplier: 3.28083989501\n",
      "\n",
      "Calculating tmax_index\n",
      "  Converting Celsius to Farenheit\n",
      "  TMAX_01 = 39.1035171218\n",
      "  TMAX_02 = 40.1410968153\n",
      "  TMAX_03 = 44.2892954204\n",
      "  TMAX_04 = 48.6167404866\n",
      "  TMAX_05 = 56.9497470015\n",
      "  TMAX_06 = 66.1678183085\n",
      "  TMAX_07 = 75.3972113258\n",
      "  TMAX_08 = 74.7932908443\n",
      "  TMAX_09 = 68.7180586974\n",
      "  TMAX_10 = 58.0414693014\n",
      "  TMAX_11 = 45.1346663056\n",
      "  TMAX_12 = 38.6480273866\n",
      "\n",
      "Calculating tmax_adj/tmin_adj\n",
      "\n",
      "Calculating rain_adj/snow_adj\n",
      "\n",
      "Calculating subbasin_down\n",
      "\n",
      "Resetting SWALE point HRU_TYPE\n",
      "\n",
      "Reading CRT parameters\n",
      "Reading CRT groundwater parameters\n",
      "\n",
      "Writing parameter file(s)\n",
      "..\\examples\\sagehen\\model\\input\\calibration_parameters.param\n",
      "..\\examples\\sagehen\\model\\input\\cascade.param\n",
      "..\\examples\\sagehen\\model\\input\\default_values.param\n",
      "..\\examples\\sagehen\\model\\input\\gis_derived_parameters.param\n"
     ]
    },
    {
     "data": {
      "text/plain": [
       "<Figure size 432x288 with 0 Axes>"
      ]
     },
     "metadata": {},
     "output_type": "display_data"
    }
   ],
   "source": [
    "%run ../scripts/prms_template_fill.py -i ../examples/sagehen/sagehen_parameters.ini"
   ]
  },
  {
   "cell_type": "markdown",
   "metadata": {},
   "source": []
  },
  {
   "cell_type": "code",
   "execution_count": 11,
   "metadata": {},
   "outputs": [
    {
     "name": "stdout",
     "output_type": "stream",
     "text": [
      "PyGSFLOW ------ V0.0\n",
      "Control file is loaded\n",
      "Working on loading PRMS model ...\n",
      "Parameters will be read from a file/ files...\n",
      "Work on loadind the parameter files .....\n",
      "Prms model is loaded .....\n",
      "There are no Modflow files, PRMS model only\n",
      "Control file is loaded\n",
      "Working on loading PRMS model ...\n",
      "Parameters will be read from a file/ files...\n",
      "Work on loadind the parameter files .....\n",
      "Prms model is loaded .....\n",
      "There are no Modflow files, PRMS model only\n",
      "Writing the project files .....\n",
      "Control file is written...\n",
      "Parameters files are written...\n",
      "Data file is written...\n",
      "Modflow files are written...\n",
      "pyGSFLOW is using the following executable to run the model: D:\\Workspace\\classes\\Testing\\gsflowID2447_classrepo\\gsflowID2447_classrepo\\bin\\gsflow.exe\n",
      "\n",
      "(gsflow_32) D:\\Workspace\\classes\\Testing\\gsflowID2447_classrepo\\gsflowID2447_classrepo\\exercises\\saghen_prms\\examples\\sagehen\\model\\model_new>D:\\Workspace\\classes\\Testing\\gsflowID2447_classrepo\\gsflowID2447_classrepo\\bin\\gsflow.exe D:\\Workspace\\classes\\Testing\\gsflowID2447_classrepo\\gsflowID2447_classrepo\\exercises\\saghen_prms\\examples\\sagehen\\model\\model_new\\sagehen.control \n",
      "\n",
      "               Precipitation-Runoff Modeling System (PRMS)\n",
      "                       Version 5.0.0 06/01/2018\n",
      "\n",
      "        Process            Available Modules\n",
      "--------------------------------------------------------------------\n",
      "  Basin Definition: basin\n",
      "    Cascading Flow: cascade\n",
      "  Time Series Data: obs, water_use_read, dynamic_param_read\n",
      "   Potet Solar Rad: soltab\n",
      "  Temperature Dist: temp_1sta, temp_laps, temp_dist2, climate_hru\n",
      "       Precip Dist: precip_1sta, precip_laps, precip_dist2,\n",
      "                    climate_hru\n",
      "Temp & Precip Dist: xyz_dist, ide_dist\n",
      "    Solar Rad Dist: ccsolrad, ddsolrad, climate_hru\n",
      "Transpiration Dist: transp_tindex, climate_hru, transp_frost\n",
      "      Potential ET: potet_hamon, potet_jh, potet_pan, climate_hru,\n",
      "                    potet_hs, potet_pt, potet_pm, potet_pm_sta\n",
      "      Interception: intcp\n",
      "     Snow Dynamics: snowcomp\n",
      "    Surface Runoff: srunoff_smidx, srunoff_carea\n",
      "         Soil Zone: soilzone\n",
      "       Groundwater: gwflow\n",
      "Streamflow Routing: strmflow, strmflow_in_out, muskingum,\n",
      "                    muskingum_lake\n",
      "Stream Temperature: stream_temp\n",
      "    Output Summary: basin_sum, subbasin, map_results, prms_summary,\n",
      "                    nhru_summary, nsub_summary, water_balance\n",
      "                    basin_summary, nsegment_summary\n",
      "     Preprocessing: write_climate_hru, frost_date\n",
      "--------------------------------------------------------------------\n",
      "\n",
      "\n",
      "==========================================================================\n",
      "Please give careful consideration to fixing all ERROR and WARNING messages\n",
      "==========================================================================\n",
      "\n",
      "\n",
      "    Active modules listed in the order in which they are called\n",
      "\n",
      "        Process                   Module                Version Date\n",
      "====================================================================\n",
      "GSFLOW Computation Order       gsflow_prms                2018-09-26\n",
      "Basin Definition               basin                      2018-04-06\n",
      "Cascading Flow                 cascade                    2018-05-25\n",
      "Common States and Fluxes       climateflow                2018-09-19\n",
      "Potential Solar Radiation      soltab                     2016-09-09\n",
      "PRMS Set Time Variables        prms_time                  2015-03-31\n",
      "Time Series Data               obs                        2018-02-23\n",
      "Temperature Distribution       temp_1sta                  2018-01-16\n",
      "Precipitation Distribution     precip_1sta                2016-10-21\n",
      "Solar Radiation Distribution   ddsolrad                   2016-11-03\n",
      "Transpiration Distribution     transp_tindex              2015-01-06\n",
      "Potential Evapotranspiration   potet_jh                   2016-05-10\n",
      "Canopy Interception            intcp                      2018-02-26\n",
      "Snow Dynamics                  snowcomp                   2018-05-04\n",
      "Surface Runoff                 srunoff_smidx              2018-04-25\n",
      "Soil Zone Computations         soilzone                   2018-09-19\n",
      "Groundwater                    gwflow                     2018-02-26\n",
      "Streamflow Routing             strmflow                   2014-12-02\n",
      "Summary                        basin_sum                  2017-10-21\n",
      "Output Summary                 map_results                2018-04-25\n",
      " WARNING, map_results requested with nmapOutVars equal 0\n",
      " no map_results output is produced\n",
      "Output Summary                 subbasin                   2018-04-25\n",
      "====================================================================\n",
      "\n",
      "Writing PRMS Water Budget File: D:\\Workspace\\classes\\Testing\\gsflowID2447_classrepo\\gsflowID2447_classrepo\\exercises\\saghen_prms\\examples\\sagehen\\model\\model_new\\gsflow_prms.out\n",
      "\n",
      "Simulation time period: 1982/08/01 - 1997/03/31\n",
      "\n",
      "====================================================================\n",
      "\n",
      "\n",
      "\n",
      "WARNING: parameter_check_flag is duplicated in the control file D:\\Workspace\\classes\\Testing\\gsflowID2447_classrepo\\gsflowID2447_classrepo\\exercises\\saghen_prms\\examples\\sagehen\\model\\model_new\\sagehen.control.\n",
      "\n",
      "\n",
      "\n",
      "WARNING: print_debug is duplicated in the control file D:\\Workspace\\classes\\Testing\\gsflowID2447_classrepo\\gsflowID2447_classrepo\\exercises\\saghen_prms\\examples\\sagehen\\model\\model_new\\sagehen.control.\n",
      "\n",
      "\n",
      "WARNING: dimension 'nlake_hrus' is not required; file is D:\\Workspace\\classes\\Testing\\gsflowID2447_classrepo\\gsflowID2447_classrepo\\exercises\\saghen_prms\\examples\\sagehen\\model\\model_new\\calibration_parameters.param; line number 38\n",
      "\n",
      "WARNING: parameter 'hru_tlaps' is not required; file is D:\\Workspace\\classes\\Testing\\gsflowID2447_classrepo\\gsflowID2447_classrepo\\exercises\\saghen_prms\\examples\\sagehen\\model\\model_new\\calibration_parameters.param; line number 19579\n",
      "\n",
      "WARNING: parameter 'gvr_cell_id' is not required; file is D:\\Workspace\\classes\\Testing\\gsflowID2447_classrepo\\gsflowID2447_classrepo\\exercises\\saghen_prms\\examples\\sagehen\\model\\model_new\\cascade.param; line number 24\n",
      "\n",
      "WARNING: parameter 'mapvars_freq' is not required; file is D:\\Workspace\\classes\\Testing\\gsflowID2447_classrepo\\gsflowID2447_classrepo\\exercises\\saghen_prms\\examples\\sagehen\\model\\model_new\\default_values.param; line number 137\n",
      "\n",
      "WARNING: parameter 'mapvars_units' is not required; file is D:\\Workspace\\classes\\Testing\\gsflowID2447_classrepo\\gsflowID2447_classrepo\\exercises\\saghen_prms\\examples\\sagehen\\model\\model_new\\default_values.param; line number 144\n",
      "\n",
      "WARNING: parameter 'prms_warmup' is not required; file is D:\\Workspace\\classes\\Testing\\gsflowID2447_classrepo\\gsflowID2447_classrepo\\exercises\\saghen_prms\\examples\\sagehen\\model\\model_new\\default_values.param; line number 225\n",
      "\n",
      "WARNING: parameter 'lake_hru_id' is not required; file is D:\\Workspace\\classes\\Testing\\gsflowID2447_classrepo\\gsflowID2447_classrepo\\exercises\\saghen_prms\\examples\\sagehen\\model\\model_new\\gis_derived_parameters.param; line number 71217\n",
      "\n",
      "WARNING: parameter snowpack_init is used by module snowcomp but values are not\n",
      "         set in the Parameter File. Module default values are being used.\n",
      "Loading the statvar output file .....\n",
      "Finished Load the statvar output file .....\n"
     ]
    },
    {
     "data": {
      "image/png": "[encoded data removed]",
      "text/plain": [
       "<Figure size 1440x576 with 1 Axes>"
      ]
     },
     "metadata": {
      "needs_background": "light"
     },
     "output_type": "display_data"
    }
   ],
   "source": [
    "# Plot simulated streamflow\n",
    "control_file = r\"..\\examples\\sagehen\\model\\windows\\sagehen.control\"\n",
    "gs = gsflow.gsflow.load(control_file)\n",
    "par_val = gs.prms.parameters.get_values(\"slowcoef_lin\")\n",
    "new_par_val  =  par_val  * 0.01\n",
    "gs.prms.parameters.set_values(name=\"slowcoef_lin\",values=new_par_val)\n",
    "gs.write_input(workspace=r\"..\\examples\\sagehen\\model\\model_new\") ## change the directory name the way you like\n",
    "gs.gsflow_exe= os.path.join(os.path.abspath(r\".\\..\\..\\..\\bin\"), \"gsflow.exe\")\n",
    "\n",
    "gs.run_model()\n",
    "gs.prms.get_statVar() \n",
    "fig, ax = plt.subplots(figsize=(20,8))\n",
    "sim_stream_flow = gs.prms.stat.stat_df['basin_cfs_1'].values\n",
    "plt.xlabel(\"Time, in days\")\n",
    "plt.ylabel(\"Streamflow, in cfs\")\n",
    "plt.plot(sim_stream_flow)\n",
    "plt.show()\n"
   ]
  },
  {
   "cell_type": "code",
   "execution_count": null,
   "metadata": {},
   "outputs": [],
   "source": []
  }
 ],
 "metadata": {
  "kernelspec": {
   "display_name": "Python 2",
   "language": "python",
   "name": "python2"
  },
  "language_info": {
   "codemirror_mode": {
    "name": "ipython",
    "version": 2
   },
   "file_extension": ".py",
   "mimetype": "text/x-python",
   "name": "python",
   "nbconvert_exporter": "python",
   "pygments_lexer": "ipython2",
   "version": "2.7.16"
  }
 },
 "nbformat": 4,
 "nbformat_minor": 2
}
