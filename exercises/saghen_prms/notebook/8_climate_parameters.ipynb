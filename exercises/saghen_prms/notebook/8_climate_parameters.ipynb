{
 "cells": [
  {
   "cell_type": "markdown",
   "metadata": {},
   "source": [
    "# Run  prism_800m_normals and ppt_ratio_parameters\n",
    "\n",
    "#### Daily climate for each grid cell/HRU is required for GSFLOW. A good approach for generating daily climate for each cell/HRU in the model is to rely on climate stations for the daily values (Tmin, Tmax, and PPT). Monthly average spatial adjustment factors are then used to distribute the climate station data to all cells/HRUs. For temperature, either the Temp_1sta or Temp_lapse module is used. For Temp_1sta, temperature adjustment factors by month and cell/HRU are calculated using the monthly PRISM 30-year normals and reprepsent the effects of altitude, slope, and aspect on temperature; for this case, the paramers Tmax_lapse and Tmin_lapse should be set to zero. The PRMS module Temp_lapse uses two climate stations located at different altitudes to represent the effects of altitude on temperature, and Tmax_adj and Tmin_adj are used to represent the effects of slope and aspect on temperature. The latter approach is preferred if there is a low and high altitude station within or near the subbasin. The default approach for the prism_parameters.py script is Temp_1sta, and this can be changed to Temp_lapse in the configuration (.ini) file. Similarly, the Precip_1sta module is default and spatial adjustment factors are calculated using the monthly PRISM 30-year normals.\n",
    "\n",
    "#### PRMS can read daily climate grids directly, and you may be asking why the dialy PRISM or other gridded climate data is not input directly to the model. The reason is that for basin scale models, the daily climate grids take up huge amounts of disc space, and slow the model significantly to read these data sets for each model time step."
   ]
  },
  {
   "cell_type": "code",
   "execution_count": 1,
   "metadata": {},
   "outputs": [],
   "source": [
    "%matplotlib inline\n",
    "import sys, os\n",
    "import matplotlib.pyplot as plt\n",
    "import arcpy\n",
    "import geopandas\n",
    "import matplotlib.image as mpimg\n",
    "import ConfigParser\n",
    "from matplotlib import cm\n",
    "from arcpy import env\n",
    "python_exe = sys.executable"
   ]
  },
  {
   "cell_type": "code",
   "execution_count": 2,
   "metadata": {},
   "outputs": [],
   "source": [
    "# Set folder locations\n",
    "arc_gsflow_folder=r\"..\\scripts\"\n",
    "config_file_folder=r\"..\\examples\\sagehen\""
   ]
  },
  {
   "cell_type": "markdown",
   "metadata": {},
   "source": [
    "#### GsflowArcpy uses a configuration file to set variables required by the scripts. Below the configuration file template is read, and default values are changed and written to the configuration file (\".INI\") read by GsflowArcpy."
   ]
  },
  {
   "cell_type": "code",
   "execution_count": 3,
   "metadata": {},
   "outputs": [
    {
     "data": {
      "text/plain": [
       "['..\\\\examples\\\\sagehen\\\\sagehen_parameters_orig.ini']"
      ]
     },
     "execution_count": 3,
     "metadata": {},
     "output_type": "execute_result"
    }
   ],
   "source": [
    "# Load GsflowArcpy configuration file\n",
    "Config = ConfigParser.ConfigParser()\n",
    "Config.read(\"..\\examples\\sagehen\\sagehen_parameters_orig.ini\")"
   ]
  },
  {
   "cell_type": "markdown",
   "metadata": {},
   "source": [
    "#### Values set below are required for running the prism_800m_normals and ppt_ratio_parameters scripts."
   ]
  },
  {
   "cell_type": "code",
   "execution_count": 4,
   "metadata": {},
   "outputs": [],
   "source": [
    "# Set problem specific variable values for script\n",
    "prism_folder = r\"..\\examples\\sagehen\\prism\"\n",
    "# Resampling method: BILINEAR, CUBIC, NEAREST\n",
    "prism_projection_method = \"BILINEAR\"\n",
    "# Output projected cellsize, not PRISM input cellsize\n",
    "prism_cellsize = 90\n",
    "# Recalculate JH coefficient with PRISM temperature values\n",
    "calc_prism_jh_coef_flag = True\n",
    "# PPT Ratios\n",
    "set_ppt_zones_flag = False\n",
    "ppt_obs_units = \"mm\"\n",
    "# If set_ppt_zones_flag is false, mean monthly ppt must be set manually\n",
    "ppt_obs_list = \"140, 133, 119, 54, 38, 18, 11, 15, 22, 52, 103, 142\"\n",
    "# If a valid HRU_ID is set, PPT ratios will be adjusted to be 1 at that HRU_ID\n",
    "ppt_hru_id = 0\n",
    "# If set_ppt_zones_flag is True, mean monthly ppt will be read from a PPT zones shapefile\n",
    "# PPT ratios will be adjusted to be 1 at each zone HRU_ID (set in ppt_hru_id_field)\n",
    "ppt_zone_path = r\"..\\examples\\sagehen\\shapefiles\\ppt_zones.shp\"\n",
    "ppt_zone_field = \"PPT_ZONE\"\n",
    "ppt_hru_id_field = \"PPT_HRU_ID\"\n",
    "ppt_obs_field_format = \"PPT_{:02d}\"\n",
    "# Parameters passed through to PRMS param file(s)\n",
    "# Number of air temperature measurement stations in the data file\n",
    "ntemp = 1\n",
    "# Elevation units (0=feet, 1=meter)\n",
    "elev_units = 0\n",
    "# Index of the temperature station used to compute basin temperature values (1's based)\n",
    "basin_tsta = 1\n",
    "# Index of the base temperature station used for lapse rate calculations  (1's based)\n",
    "hru_tsta = 1\n",
    "# Index of the lapse temperature station used for lapse rate calculations (1's based)\n",
    "hru_tlaps = 1\n",
    "# Elevation of each air temperature measurment station\n",
    "tsta_elev = 6340\n",
    "# If using temp_1sta module, manually define monthly lapse rates\n",
    "tmax_lapse = \"9, 9, 7, 7, 6, 5, 5, 4, 6, 7, 8, 9\"\n",
    "tmin_lapse = \"4.5, 4.5, 3.5, 3.5, 3, 2.5, 2.5, 2, 3, 3.5, 4, 4.5\""
   ]
  },
  {
   "cell_type": "code",
   "execution_count": 5,
   "metadata": {},
   "outputs": [],
   "source": [
    "# Set and write out modified values to configuration file\n",
    "cfgfile = open(\"..\\examples\\sagehen\\sagehen_parameters.ini\",'w')\n",
    "Config.set('INPUTS','prism_folder',prism_folder)\n",
    "Config.set('INPUTS','prism_projection_method',prism_projection_method)\n",
    "Config.set('INPUTS','set_ppt_zones_flag',set_ppt_zones_flag)\n",
    "Config.set('INPUTS','calc_prism_jh_coef_flag',calc_prism_jh_coef_flag)\n",
    "Config.set('INPUTS','ppt_obs_units',ppt_obs_units)\n",
    "Config.set('INPUTS','ppt_obs_list',ppt_obs_list)\n",
    "Config.set('INPUTS','ppt_hru_id',ppt_hru_id)\n",
    "Config.set('INPUTS','ppt_zone_path',ppt_zone_path)\n",
    "Config.set('INPUTS','ppt_zone_field',ppt_zone_field)\n",
    "Config.set('INPUTS','ppt_hru_id_field',ppt_hru_id_field)\n",
    "Config.set('INPUTS','ppt_obs_field_format',ppt_obs_field_format)\n",
    "Config.set('INPUTS','ntemp',ntemp)\n",
    "Config.set('INPUTS','elev_units',elev_units)\n",
    "Config.set('INPUTS','basin_tsta',basin_tsta)\n",
    "Config.set('INPUTS','hru_tsta',hru_tsta)\n",
    "Config.set('INPUTS','hru_tlaps',hru_tlaps)\n",
    "Config.set('INPUTS','tsta_elev',tsta_elev)\n",
    "Config.set('INPUTS','tmax_lapse',tmax_lapse)\n",
    "Config.set('INPUTS','tmin_lapse',tmin_lapse)\n",
    "Config.write(cfgfile)\n",
    "cfgfile.close()"
   ]
  },
  {
   "cell_type": "markdown",
   "metadata": {},
   "source": [
    "#### Run the GsflowArpcy script prism_800m_normals."
   ]
  },
  {
   "cell_type": "code",
   "execution_count": null,
   "metadata": {},
   "outputs": [],
   "source": [
    "# Set and run prism_800m_normals script\n",
    "script = r\"prism_800m_normals.py\"\n",
    "argument = r\" -i ..\\examples\\sagehen\\sagehen_parameters.ini\"\n",
    "cmd=python_exe + \" \" + os.path.join(arc_gsflow_folder,script)\n",
    "cmd = cmd + argument\n",
    "os.system(cmd)"
   ]
  },
  {
   "cell_type": "markdown",
   "metadata": {},
   "source": [
    "#### Run the GsflowArpcy script ppt_ratio_parameters."
   ]
  },
  {
   "cell_type": "code",
   "execution_count": null,
   "metadata": {},
   "outputs": [],
   "source": [
    "# Set and run ppt_ratio_parameters script\n",
    "script = r\"ppt_ratio_parameters.py\"\n",
    "argument = r\" -i ..\\examples\\sagehen\\sagehen_parameters.ini\"\n",
    "cmd=python_exe + \" \" + os.path.join(arc_gsflow_folder,script)\n",
    "cmd = cmd + argument\n",
    "os.system(cmd)"
   ]
  },
  {
   "cell_type": "markdown",
   "metadata": {},
   "source": [
    "#### Plot Tmax_adj for January"
   ]
  },
  {
   "cell_type": "code",
   "execution_count": null,
   "metadata": {},
   "outputs": [],
   "source": [
    "# Plot PRMS parameter Tmax_adj\n",
    "fig, ax = plt.subplots(figsize=(20,8))\n",
    "fn1=r\"..\\examples\\sagehen\\shapefiles\\watershed_proj.shp\"\n",
    "fn2=r\"..\\examples\\sagehen\\hru_params\\hru_params.shp\"\n",
    "boundary=geopandas.read_file(fn1)\n",
    "hru_params=geopandas.read_file(fn2)\n",
    "hru_params.plot(column=\"TMAX_01\",ax=ax,legend=True)\n",
    "boundary.plot(ax=ax,color='none', edgecolor='black', linewidth=1.0)\n",
    "plt.show()"
   ]
  },
  {
   "cell_type": "markdown",
   "metadata": {},
   "source": [
    "## Class Exersize:\n",
    "\n",
    "\n",
    "#### Plot the precipitation adjustment factor for January (\"PPT_RT_01\"). Note the scripts use the same values for rains_adj and snow_adj. How much of an affect does altitude have on precipitation amount?"
   ]
  },
  {
   "cell_type": "code",
   "execution_count": null,
   "metadata": {},
   "outputs": [],
   "source": []
  }
 ],
 "metadata": {
  "kernelspec": {
   "display_name": "Python 2",
   "language": "python",
   "name": "python2"
  },
  "language_info": {
   "codemirror_mode": {
    "name": "ipython",
    "version": 2
   },
   "file_extension": ".py",
   "mimetype": "text/x-python",
   "name": "python",
   "nbconvert_exporter": "python",
   "pygments_lexer": "ipython2",
   "version": "2.7.15"
  }
 },
 "nbformat": 4,
 "nbformat_minor": 2
}
