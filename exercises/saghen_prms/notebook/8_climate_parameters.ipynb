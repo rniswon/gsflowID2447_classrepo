{
 "cells": [
  {
   "cell_type": "markdown",
   "metadata": {},
   "source": [
    "# Run  prism_800m_normals, ppt_ratio_parameters, and temp_adjust_parameters\n",
    "\n",
    "#### Daily climate for each grid cell/HRU is required for GSFLOW. A good approach for generating daily climate for each cell/HRU in the model is to rely on climate stations for the daily values (Tmin, Tmax, and PPT). Monthly average spatial adjustment factors are then used to distribute the climate station data to all cells/HRUs. For temperature, either the Temp_1sta or Temp_lapse module is used. For Temp_1sta, temperature adjustment factors by month and cell/HRU are calculated using the monthly PRISM 30-year normals and reprepsent the effects of altitude, slope, and aspect on temperature; for this case, the paramers Tmax_lapse and Tmin_lapse should be set to zero. The PRMS module Temp_lapse uses two climate stations located at different altitudes to represent the effects of altitude on temperature, and Tmax_adj and Tmin_adj are used to represent the effects of slope and aspect on temperature. The latter approach is preferred if there is a low and high altitude station within or near the subbasin. The default approach for the prism_parameters.py script is Temp_1sta, and this can be changed to Temp_lapse in the configuration (.ini) file. Similarly, the Precip_1sta module is default and spatial adjustment factors are calculated using the monthly PRISM 30-year normals.\n",
    "\n",
    "#### PRMS can read daily climate grids directly, and you may be asking why the dialy PRISM or other gridded climate data is not input directly to the model. The reason is that for basin scale models, the daily climate grids take up huge amounts of disc space, and slow the model significantly to read these data sets for each model time step."
   ]
  },
  {
   "cell_type": "code",
   "execution_count": 1,
   "metadata": {},
   "outputs": [],
   "source": [
    "%matplotlib inline\n",
    "import sys, os\n",
    "import matplotlib.pyplot as plt\n",
    "import arcpy\n",
    "import geopandas\n",
    "import matplotlib.image as mpimg\n",
    "import ConfigParser\n",
    "from matplotlib import cm\n",
    "from arcpy import env\n",
    "python_exe = sys.executable"
   ]
  },
  {
   "cell_type": "code",
   "execution_count": 2,
   "metadata": {},
   "outputs": [],
   "source": [
    "# Set folder locations\n",
    "arc_gsflow_folder=r\"..\\scripts\"\n",
    "config_file_folder=r\"..\\examples\\sagehen\""
   ]
  },
  {
   "cell_type": "markdown",
   "metadata": {},
   "source": [
    "#### GsflowArcpy uses a configuration file to set variables required by the scripts. Below the configuration file template is read, and default values are changed and written to the configuration file (\".INI\") read by GsflowArcpy."
   ]
  },
  {
   "cell_type": "code",
   "execution_count": 3,
   "metadata": {},
   "outputs": [
    {
     "data": {
      "text/plain": [
       "['..\\\\examples\\\\sagehen\\\\sagehen_parameters_orig.ini']"
      ]
     },
     "execution_count": 3,
     "metadata": {},
     "output_type": "execute_result"
    }
   ],
   "source": [
    "# Load GsflowArcpy configuration file\n",
    "Config = ConfigParser.ConfigParser()\n",
    "Config.read(\"..\\examples\\sagehen\\sagehen_parameters_orig.ini\")"
   ]
  },
  {
   "cell_type": "markdown",
   "metadata": {},
   "source": [
    "#### Values set below are required for running the prism_800m_normals, ppt_ratio_parameters, and temp_adjust_parameters scripts."
   ]
  },
  {
   "cell_type": "code",
   "execution_count": 4,
   "metadata": {},
   "outputs": [],
   "source": [
    "# Set problem specific variable values for script\n",
    "prism_folder = r\"..\\examples\\sagehen\\prism\"\n",
    "# Resampling method: BILINEAR, CUBIC, NEAREST\n",
    "prism_projection_method = \"BILINEAR\"\n",
    "# Output projected cellsize, not PRISM input cellsize\n",
    "prism_cellsize = 90\n",
    "# Recalculate JH coefficient with PRISM temperature values\n",
    "calc_prism_jh_coef_flag = True\n",
    "# PPT Ratios\n",
    "set_ppt_zones_flag = False\n",
    "ppt_obs_units = \"mm\"\n",
    "# If set_ppt_zones_flag is false, mean monthly ppt must be set manually\n",
    "ppt_obs_list = \"140, 133, 119, 54, 38, 18, 11, 15, 22, 52, 103, 142\"\n",
    "# If a valid HRU_ID is set, PPT ratios will be adjusted to be 1 at that HRU_ID\n",
    "ppt_hru_id = 0\n",
    "# If set_ppt_zones_flag is True, mean monthly ppt will be read from a PPT zones shapefile\n",
    "# PPT ratios will be adjusted to be 1 at each zone HRU_ID (set in ppt_hru_id_field)\n",
    "ppt_zone_path = r\"..\\examples\\sagehen\\shapefiles\\ppt_zones.shp\"\n",
    "ppt_zone_field = \"PPT_ZONE\"\n",
    "ppt_hru_id_field = \"PPT_HRU_ID\"\n",
    "ppt_obs_field_format = \"PPT_{:02d}\"\n",
    "\n",
    "# Temperature Calculation (ZONES, LAPSE, 1STA)\n",
    "temperature_calc_method = \"1STA\"\n",
    "temp_obs_units = \"F\"\n",
    "\n",
    "# If using 1STA, mean monthly temperature must be set manually\n",
    "tmax_obs_list = \"39.99, 41.97, 47.44, 53.26, 61.89, 71.02, 79.07, 78.43, 71.56, 60.31, 46.64, 39.05\"\n",
    "tmin_obs_list = \"14.24, 15.82, 20.26, 24.29, 29.38, 33.50, 37.19, 36.32, 31.63, 26.08, 20.48, 14.99\"\n",
    "# If a valid non-zero HRU_ID is set, temperature ratios will be adjusted to be 1 at that HRU_ID\n",
    "temp_hru_id = \"0\"\n",
    "\n",
    "# If using ZONES, mean monthly tmax/tmin will be read from a \n",
    "#   temperature zones shapefile.\n",
    "# Temperature ratios will be adjusted to be 1 at each zone HRU_ID \n",
    "#   (set in temp_hru_id_field)\n",
    "temp_zone_path = r\"..\\examples\\sagehen\\shapefiles\\temp_zones.shp\"\n",
    "temp_zone_field = \"TEMP_ZONE\"\n",
    "temp_hru_id_field = \"TMP_HRU_ID\"\n",
    "tmax_obs_field_format = \"TMAX_{:02d}\"\n",
    "tmin_obs_field_format = \"TMIN_{:02d}\""
   ]
  },
  {
   "cell_type": "code",
   "execution_count": 5,
   "metadata": {},
   "outputs": [],
   "source": [
    "# Set and write out modified values to configuration file\n",
    "cfgfile = open(\"..\\examples\\sagehen\\sagehen_parameters.ini\",'w')\n",
    "Config.set('INPUTS','prism_folder',prism_folder)\n",
    "Config.set('INPUTS','prism_projection_method',prism_projection_method)\n",
    "Config.set('INPUTS','set_ppt_zones_flag',set_ppt_zones_flag)\n",
    "Config.set('INPUTS','calc_prism_jh_coef_flag',calc_prism_jh_coef_flag)\n",
    "Config.set('INPUTS','ppt_obs_units',ppt_obs_units)\n",
    "Config.set('INPUTS','ppt_obs_list',ppt_obs_list)\n",
    "Config.set('INPUTS','ppt_hru_id',ppt_hru_id)\n",
    "Config.set('INPUTS','ppt_zone_path',ppt_zone_path)\n",
    "Config.set('INPUTS','ppt_zone_field',ppt_zone_field)\n",
    "Config.set('INPUTS','ppt_hru_id_field',ppt_hru_id_field)\n",
    "Config.set('INPUTS','ppt_obs_field_format',ppt_obs_field_format)\n",
    "\n",
    "Config.set('INPUTS','temperature_calc_method',temperature_calc_method)\n",
    "Config.set('INPUTS','temp_obs_units',temp_obs_units)\n",
    "Config.set('INPUTS','tmax_obs_list',tmax_obs_list)\n",
    "Config.set('INPUTS','tmin_obs_list',tmin_obs_list)\n",
    "Config.set('INPUTS','temp_hru_id',temp_hru_id)\n",
    "Config.set('INPUTS','temp_zone_path',temp_zone_path)\n",
    "Config.set('INPUTS','temp_zone_field',temp_zone_field)\n",
    "Config.set('INPUTS','temp_hru_id_field',temp_hru_id_field)\n",
    "Config.set('INPUTS','tmax_obs_field_format',tmax_obs_field_format)\n",
    "Config.set('INPUTS','tmin_obs_field_format',tmin_obs_field_format)\n",
    "\n",
    "Config.write(cfgfile)\n",
    "cfgfile.close()"
   ]
  },
  {
   "cell_type": "markdown",
   "metadata": {},
   "source": [
    "#### Run the GsflowArpcy script prism_800m_normals."
   ]
  },
  {
   "cell_type": "code",
   "execution_count": 6,
   "metadata": {},
   "outputs": [
    {
     "name": "stderr",
     "output_type": "stream",
     "text": [
      "\n",
      "################################################################################\n",
      "Run Time Stamp:      2019-09-11 14:35:22.077000\n",
      "Current Directory:   D:\\Workspace\\classes\\gsflowID2447_classrepo\\exercises\\saghen_prms\\notebook\n",
      "Script:              prism_800m_normals.py\n",
      "\n",
      "GSFLOW PRISM Parameters\n",
      "\n",
      "Adding PRISM fields if necessary\n",
      "\n",
      "Projecting/clipping PRISM mean monthly rasters\n",
      "\n",
      "PPT\n",
      "  Removing existing PRISM files\n",
      "  Month: 01\n",
      "  Month: 02\n",
      "  Month: 03\n",
      "  Month: 04\n",
      "  Month: 05\n",
      "  Month: 06\n",
      "  Month: 07\n",
      "  Month: 08\n",
      "  Month: 09\n",
      "  Month: 10\n",
      "  Month: 11\n",
      "  Month: 12\n",
      "\n",
      "Calculating PRISM zonal statistics\n",
      "  PPT_01: MEAN\n",
      "    ..\\examples\\sagehen\\hru_params\\ppt_rasters\\PRISM_ppt_30yr_normal_800mM2_01.img\n",
      "  PPT_02: MEAN\n",
      "    ..\\examples\\sagehen\\hru_params\\ppt_rasters\\PRISM_ppt_30yr_normal_800mM2_02.img\n",
      "  PPT_03: MEAN\n",
      "    ..\\examples\\sagehen\\hru_params\\ppt_rasters\\PRISM_ppt_30yr_normal_800mM2_03.img\n",
      "  PPT_04: MEAN\n",
      "    ..\\examples\\sagehen\\hru_params\\ppt_rasters\\PRISM_ppt_30yr_normal_800mM2_04.img\n",
      "  PPT_05: MEAN\n",
      "    ..\\examples\\sagehen\\hru_params\\ppt_rasters\\PRISM_ppt_30yr_normal_800mM2_05.img\n",
      "  PPT_06: MEAN\n",
      "    ..\\examples\\sagehen\\hru_params\\ppt_rasters\\PRISM_ppt_30yr_normal_800mM2_06.img\n",
      "  PPT_07: MEAN\n",
      "    ..\\examples\\sagehen\\hru_params\\ppt_rasters\\PRISM_ppt_30yr_normal_800mM2_07.img\n",
      "  PPT_08: MEAN\n",
      "    ..\\examples\\sagehen\\hru_params\\ppt_rasters\\PRISM_ppt_30yr_normal_800mM2_08.img\n",
      "  PPT_09: MEAN\n",
      "    ..\\examples\\sagehen\\hru_params\\ppt_rasters\\PRISM_ppt_30yr_normal_800mM2_09.img\n",
      "  PPT_10: MEAN\n",
      "    ..\\examples\\sagehen\\hru_params\\ppt_rasters\\PRISM_ppt_30yr_normal_800mM2_10.img\n",
      "  PPT_11: MEAN\n",
      "    ..\\examples\\sagehen\\hru_params\\ppt_rasters\\PRISM_ppt_30yr_normal_800mM2_11.img\n",
      "  PPT_12: MEAN\n",
      "    ..\\examples\\sagehen\\hru_params\\ppt_rasters\\PRISM_ppt_30yr_normal_800mM2_12.img\n",
      "  FIDS: 0-65000\n",
      "    MEAN: PPT_01_0\n",
      "    MEAN: PPT_02_0\n",
      "    MEAN: PPT_03_0\n",
      "    MEAN: PPT_04_0\n",
      "    MEAN: PPT_05_0\n",
      "    MEAN: PPT_06_0\n",
      "    MEAN: PPT_07_0\n",
      "    MEAN: PPT_08_0\n",
      "    MEAN: PPT_09_0\n",
      "    MEAN: PPT_10_0\n",
      "    MEAN: PPT_11_0\n",
      "    MEAN: PPT_12_0\n",
      "    Writing values to polygons\n",
      "\n",
      "TMAX\n",
      "  Removing existing PRISM files\n",
      "  Month: 01\n",
      "  Month: 02\n",
      "  Month: 03\n",
      "  Month: 04\n",
      "  Month: 05\n",
      "  Month: 06\n",
      "  Month: 07\n",
      "  Month: 08\n",
      "  Month: 09\n",
      "  Month: 10\n",
      "  Month: 11\n",
      "  Month: 12\n",
      "\n",
      "Calculating PRISM zonal statistics\n",
      "  TMAX_01: MEAN\n",
      "    ..\\examples\\sagehen\\hru_params\\tmax_rasters\\PRISM_tmax_30yr_normal_800mM2_01.img\n",
      "  TMAX_02: MEAN\n",
      "    ..\\examples\\sagehen\\hru_params\\tmax_rasters\\PRISM_tmax_30yr_normal_800mM2_02.img\n",
      "  TMAX_03: MEAN\n",
      "    ..\\examples\\sagehen\\hru_params\\tmax_rasters\\PRISM_tmax_30yr_normal_800mM2_03.img\n",
      "  TMAX_04: MEAN\n",
      "    ..\\examples\\sagehen\\hru_params\\tmax_rasters\\PRISM_tmax_30yr_normal_800mM2_04.img\n",
      "  TMAX_05: MEAN\n",
      "    ..\\examples\\sagehen\\hru_params\\tmax_rasters\\PRISM_tmax_30yr_normal_800mM2_05.img\n",
      "  TMAX_06: MEAN\n",
      "    ..\\examples\\sagehen\\hru_params\\tmax_rasters\\PRISM_tmax_30yr_normal_800mM2_06.img\n",
      "  TMAX_07: MEAN\n",
      "    ..\\examples\\sagehen\\hru_params\\tmax_rasters\\PRISM_tmax_30yr_normal_800mM2_07.img\n",
      "  TMAX_08: MEAN\n",
      "    ..\\examples\\sagehen\\hru_params\\tmax_rasters\\PRISM_tmax_30yr_normal_800mM2_08.img\n",
      "  TMAX_09: MEAN\n",
      "    ..\\examples\\sagehen\\hru_params\\tmax_rasters\\PRISM_tmax_30yr_normal_800mM2_09.img\n",
      "  TMAX_10: MEAN\n",
      "    ..\\examples\\sagehen\\hru_params\\tmax_rasters\\PRISM_tmax_30yr_normal_800mM2_10.img\n",
      "  TMAX_11: MEAN\n",
      "    ..\\examples\\sagehen\\hru_params\\tmax_rasters\\PRISM_tmax_30yr_normal_800mM2_11.img\n",
      "  TMAX_12: MEAN\n",
      "    ..\\examples\\sagehen\\hru_params\\tmax_rasters\\PRISM_tmax_30yr_normal_800mM2_12.img\n",
      "  FIDS: 0-65000\n",
      "    MEAN: TMAX_01_0\n",
      "    MEAN: TMAX_02_0\n",
      "    MEAN: TMAX_03_0\n",
      "    MEAN: TMAX_04_0\n",
      "    MEAN: TMAX_05_0\n",
      "    MEAN: TMAX_06_0\n",
      "    MEAN: TMAX_07_0\n",
      "    MEAN: TMAX_08_0\n",
      "    MEAN: TMAX_09_0\n",
      "    MEAN: TMAX_10_0\n",
      "    MEAN: TMAX_11_0\n",
      "    MEAN: TMAX_12_0\n",
      "    Writing values to polygons\n",
      "\n",
      "TMIN\n",
      "  Removing existing PRISM files\n",
      "  Month: 01\n",
      "  Month: 02\n",
      "  Month: 03\n",
      "  Month: 04\n",
      "  Month: 05\n",
      "  Month: 06\n",
      "  Month: 07\n",
      "  Month: 08\n",
      "  Month: 09\n",
      "  Month: 10\n",
      "  Month: 11\n",
      "  Month: 12\n",
      "\n",
      "Calculating PRISM zonal statistics\n",
      "  TMIN_01: MEAN\n",
      "    ..\\examples\\sagehen\\hru_params\\tmin_rasters\\PRISM_tmin_30yr_normal_800mM2_01.img\n",
      "  TMIN_02: MEAN\n",
      "    ..\\examples\\sagehen\\hru_params\\tmin_rasters\\PRISM_tmin_30yr_normal_800mM2_02.img\n",
      "  TMIN_03: MEAN\n",
      "    ..\\examples\\sagehen\\hru_params\\tmin_rasters\\PRISM_tmin_30yr_normal_800mM2_03.img\n",
      "  TMIN_04: MEAN\n",
      "    ..\\examples\\sagehen\\hru_params\\tmin_rasters\\PRISM_tmin_30yr_normal_800mM2_04.img\n",
      "  TMIN_05: MEAN\n",
      "    ..\\examples\\sagehen\\hru_params\\tmin_rasters\\PRISM_tmin_30yr_normal_800mM2_05.img\n",
      "  TMIN_06: MEAN\n",
      "    ..\\examples\\sagehen\\hru_params\\tmin_rasters\\PRISM_tmin_30yr_normal_800mM2_06.img\n",
      "  TMIN_07: MEAN\n",
      "    ..\\examples\\sagehen\\hru_params\\tmin_rasters\\PRISM_tmin_30yr_normal_800mM2_07.img\n",
      "  TMIN_08: MEAN\n",
      "    ..\\examples\\sagehen\\hru_params\\tmin_rasters\\PRISM_tmin_30yr_normal_800mM2_08.img\n",
      "  TMIN_09: MEAN\n",
      "    ..\\examples\\sagehen\\hru_params\\tmin_rasters\\PRISM_tmin_30yr_normal_800mM2_09.img\n",
      "  TMIN_10: MEAN\n",
      "    ..\\examples\\sagehen\\hru_params\\tmin_rasters\\PRISM_tmin_30yr_normal_800mM2_10.img\n",
      "  TMIN_11: MEAN\n",
      "    ..\\examples\\sagehen\\hru_params\\tmin_rasters\\PRISM_tmin_30yr_normal_800mM2_11.img\n",
      "  TMIN_12: MEAN\n",
      "    ..\\examples\\sagehen\\hru_params\\tmin_rasters\\PRISM_tmin_30yr_normal_800mM2_12.img\n",
      "  FIDS: 0-65000\n",
      "    MEAN: TMIN_01_0\n",
      "    MEAN: TMIN_02_0\n",
      "    MEAN: TMIN_03_0\n",
      "    MEAN: TMIN_04_0\n",
      "    MEAN: TMIN_05_0\n",
      "    MEAN: TMIN_06_0\n",
      "    MEAN: TMIN_07_0\n",
      "    MEAN: TMIN_08_0\n",
      "    MEAN: TMIN_09_0\n",
      "    MEAN: TMIN_10_0\n",
      "    MEAN: TMIN_11_0\n",
      "    MEAN: TMIN_12_0\n",
      "    Writing values to polygons\n",
      "\n",
      "Re-Calculating JH_COEF_HRU\n",
      "  Using PRISM temperature values\n"
     ]
    }
   ],
   "source": [
    "%run ../scripts/prism_800m_normals.py -i ../examples/sagehen/sagehen_parameters.ini"
   ]
  },
  {
   "cell_type": "markdown",
   "metadata": {},
   "source": [
    "#### Run the GsflowArpcy script ppt_ratio_parameters."
   ]
  },
  {
   "cell_type": "code",
   "execution_count": 7,
   "metadata": {},
   "outputs": [
    {
     "name": "stderr",
     "output_type": "stream",
     "text": [
      "\n",
      "################################################################################\n",
      "Run Time Stamp:      2019-09-11 14:38:28.676000\n",
      "Current Directory:   D:\\Workspace\\classes\\gsflowID2447_classrepo\\exercises\\saghen_prms\\notebook\n",
      "Script:              ppt_ratio_parameters.py\n",
      "\n",
      "GSFLOW Precipitation Ratio Parameters\n",
      "  Observed Mean Monthly PPT (mm):\n",
      "    140.0, 133.0, 119.0, 54.0, 38.0, 18.0, 11.0, 15.0, 22.0, 52.0, 103.0, 142.0\n",
      "    (Script will assume these are listed in month order, i.e. Jan, Feb, ...)\n",
      "  PPT ratios will not be adjusted to match station values\n",
      "    (ppt_hru_id = 0)\n",
      "\n",
      "Adding PPT ratio fields if necessary\n",
      "\n",
      "Calculating mean monthly PPT ratios\n"
     ]
    }
   ],
   "source": [
    "# Set and run ppt_ratio_parameters script\n",
    "%run ../scripts/ppt_ratio_parameters.py -i ../examples/sagehen/sagehen_parameters.ini"
   ]
  },
  {
   "cell_type": "markdown",
   "metadata": {},
   "source": [
    "#### Run the GsflowArpcy script temp_adjust_parameters."
   ]
  },
  {
   "cell_type": "code",
   "execution_count": 8,
   "metadata": {},
   "outputs": [
    {
     "name": "stderr",
     "output_type": "stream",
     "text": [
      "\n",
      "################################################################################\n",
      "Run Time Stamp:      2019-09-11 14:38:54.290000\n",
      "Current Directory:   D:\\Workspace\\classes\\gsflowID2447_classrepo\\exercises\\saghen_prms\\notebook\n",
      "Script:              temp_adjust_parameters.py\n",
      "\n",
      "GSFLOW Temperature Adjustment Parameters\n",
      "  Observed mean monthly tmax (F):\n",
      "    39.99, 41.97, 47.44, 53.26, 61.89, 71.02, 79.07, 78.43, 71.56, 60.31, 46.64, 39.05\n",
      "    (Script will assume these are listed in month order, i.e. Jan, Feb, ...)\n",
      "  Observed mean monthly tmin (F):\n",
      "    14.24, 15.82, 20.26, 24.29, 29.38, 33.5, 37.19, 36.32, 31.63, 26.08, 20.48, 14.99\n",
      "    (Script will assume these are listed in month order, i.e. Jan, Feb, ...)\n",
      "  Temperatures adjustments will not be adjusted to match station values\n",
      "    (temp_hru_id = 0)\n",
      "\n",
      "Adding temperature adjust fields if necessary\n",
      "  Field: TEMP_ZONE\n",
      "  Field: HRU_TSTA\n",
      "  Field: TMX_ADJ_01\n",
      "  Field: TMX_ADJ_02\n",
      "  Field: TMX_ADJ_03\n",
      "  Field: TMX_ADJ_04\n",
      "  Field: TMX_ADJ_05\n",
      "  Field: TMX_ADJ_06\n",
      "  Field: TMX_ADJ_07\n",
      "  Field: TMX_ADJ_08\n",
      "  Field: TMX_ADJ_09\n",
      "  Field: TMX_ADJ_10\n",
      "  Field: TMX_ADJ_11\n",
      "  Field: TMX_ADJ_12\n",
      "  Field: TMN_ADJ_01\n",
      "  Field: TMN_ADJ_02\n",
      "  Field: TMN_ADJ_03\n",
      "  Field: TMN_ADJ_04\n",
      "  Field: TMN_ADJ_05\n",
      "  Field: TMN_ADJ_06\n",
      "  Field: TMN_ADJ_07\n",
      "  Field: TMN_ADJ_08\n",
      "  Field: TMN_ADJ_09\n",
      "  Field: TMN_ADJ_10\n",
      "  Field: TMN_ADJ_11\n",
      "  Field: TMN_ADJ_12\n",
      "\n",
      "Calculating mean monthly temperature adjustments\n",
      "\n",
      "Converted Mean Monthly Tmax (F):\n",
      "  4.43888888889, 5.53888888889, 8.57777777778, 11.8111111111, 16.6055555556, 21.6777777778, 26.15, 25.7944444444, 21.9777777778, 15.7277777778, 8.13333333333, 3.91666666667\n",
      "Converted Mean Monthly Tmin (F):\n",
      "  -9.86666666667, -8.98888888889, -6.52222222222, -4.28333333333, -1.45555555556, 0.833333333333, 2.88333333333, 2.4, -0.205555555556, -3.28888888889, -6.4, -9.45\n"
     ]
    }
   ],
   "source": [
    "# Set and run temp_adj_parameters script\n",
    "%run ../scripts/temp_adjust_parameters.py -i ../examples/sagehen/sagehen_parameters.ini"
   ]
  },
  {
   "cell_type": "markdown",
   "metadata": {},
   "source": [
    "#### Plot Tmax_adj for January"
   ]
  },
  {
   "cell_type": "code",
   "execution_count": 9,
   "metadata": {},
   "outputs": [
    {
     "data": {
      "image/png": "[encoded data removed]",
      "text/plain": [
       "<Figure size 1440x576 with 2 Axes>"
      ]
     },
     "metadata": {
      "needs_background": "light"
     },
     "output_type": "display_data"
    }
   ],
   "source": [
    "# Plot PRMS parameter Tmax_adj\n",
    "fig, ax = plt.subplots(figsize=(20,8))\n",
    "fn1=r\"..\\examples\\sagehen\\shapefiles\\watershed_proj.shp\"\n",
    "fn2=r\"..\\examples\\sagehen\\hru_params\\hru_params.shp\"\n",
    "boundary=geopandas.read_file(fn1)\n",
    "hru_params=geopandas.read_file(fn2)\n",
    "hru_params.plot(column=\"TMX_ADJ_01\",ax=ax,legend=True)\n",
    "boundary.plot(ax=ax,color='none', edgecolor='black', linewidth=1.0)\n",
    "plt.show()"
   ]
  },
  {
   "cell_type": "markdown",
   "metadata": {},
   "source": [
    "## Class Exercise:\n",
    "\n",
    "\n",
    "#### Plot the precipitation adjustment factor for January (\"PPT_RT_01\"). Note the scripts use the same values for rain_adj and snow_adj. How much of an affect does altitude have on precipitation amount?"
   ]
  },
  {
   "cell_type": "code",
   "execution_count": null,
   "metadata": {},
   "outputs": [],
   "source": []
  }
 ],
 "metadata": {
  "kernelspec": {
   "display_name": "Python 2",
   "language": "python",
   "name": "python2"
  },
  "language_info": {
   "codemirror_mode": {
    "name": "ipython",
    "version": 2
   },
   "file_extension": ".py",
   "mimetype": "text/x-python",
   "name": "python",
   "nbconvert_exporter": "python",
   "pygments_lexer": "ipython2",
   "version": "2.7.16"
  }
 },
 "nbformat": 4,
 "nbformat_minor": 2
}
