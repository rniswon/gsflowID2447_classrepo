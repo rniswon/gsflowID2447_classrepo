{
 "cells": [
  {
   "cell_type": "markdown",
   "metadata": {},
   "source": [
    "## Change values in GsflowArcpy configuration file"
   ]
  },
  {
   "cell_type": "code",
   "execution_count": 1,
   "metadata": {},
   "outputs": [],
   "source": [
    "import ConfigParser"
   ]
  },
  {
   "cell_type": "code",
   "execution_count": 2,
   "metadata": {},
   "outputs": [
    {
     "data": {
      "text/plain": [
       "['INPUTS']"
      ]
     },
     "execution_count": 2,
     "metadata": {},
     "output_type": "execute_result"
    }
   ],
   "source": [
    "Config = ConfigParser.ConfigParser()\n",
    "Config\n",
    "Config.read(\"..\\examples\\sagehen\\sagehen_parameters_orig.ini\")\n",
    "Config.sections()"
   ]
  },
  {
   "cell_type": "markdown",
   "metadata": {},
   "source": [
    "List values set in configuration file."
   ]
  },
  {
   "cell_type": "code",
   "execution_count": 3,
   "metadata": {},
   "outputs": [
    {
     "name": "stdout",
     "output_type": "stream",
     "text": [
      "index, variable, value\n",
      "(0, 'parameter_folder', '..\\\\examples\\\\sagehen\\\\hru_params')\n",
      "(1, 'hru_cellsize', '90')\n",
      "(2, 'hru_fishnet_path', '..\\\\examples\\\\sagehen\\\\hru_params\\\\hru_params.shp')\n",
      "(3, 'hru_centroid_path', '..\\\\examples\\\\sagehen\\\\hru_params\\\\hru_params_label.shp')\n",
      "(4, 'hru_ref_x', '0')\n",
      "(5, 'hru_ref_y', '0')\n",
      "(6, 'hru_param_snap_method', 'EXPAND')\n",
      "(7, 'hru_buffer_cells', '2')\n",
      "(8, 'study_area_path', '..\\\\examples\\\\sagehen\\\\shapefiles\\\\watershed_proj.shp')\n",
      "(9, 'model_points_path', '..\\\\examples\\\\sagehen\\\\shapefiles\\\\model_points_scripts.shp')\n",
      "(10, 'model_points_zone_field', 'SUBNUM')\n",
      "(11, 'model_points_type_field', 'TYPE')\n",
      "(12, 'set_lake_flag', 'False')\n",
      "(13, 'lake_path', '..\\\\examples\\\\sagehen\\\\shapefiles\\\\lakes.shp')\n",
      "(14, 'lake_zone_field', 'FID')\n",
      "(15, 'lake_area_pct', '40')\n",
      "(16, 'dem_orig_path', '..\\\\examples\\\\sagehen\\\\dem\\\\imgn40w121_13_filled.img')\n",
      "(17, 'dem_units', 'meters')\n",
      "(18, 'dem_projection_method', 'BILINEAR')\n",
      "(19, 'dem_cellsize', '10')\n",
      "(20, 'calc_flow_acc_dem_flag', 'True')\n",
      "(21, 'dem_adj_copy_field', 'DEM_FLOWAC')\n",
      "(22, 'reset_dem_adj_flag', 'False')\n",
      "(23, 'flow_acc_threshold', '100')\n",
      "(24, 'flow_length_threshold', '3')\n",
      "(25, 'calc_flow_dir_points_flag', 'True')\n",
      "(26, 'crt_exe_path', '..\\\\..\\\\bin\\\\CRT_1.3.1.exe')\n",
      "(27, 'crt_hruflg', '0')\n",
      "(28, 'crt_flowflg', '3')\n",
      "(29, 'crt_dpit', '0.01')\n",
      "(30, 'crt_outitmax', '100000')\n",
      "(31, 'use_crt_fill_flag', 'True')\n",
      "(32, 'veg_type_orig_path', '..\\\\examples\\\\sagehen\\\\veg\\\\us_140evt.img')\n",
      "(33, 'veg_type_field', 'VALUE')\n",
      "(34, 'veg_type_cellsize', '10')\n",
      "(35, 'veg_cover_orig_path', '..\\\\examples\\\\sagehen\\\\veg\\\\us_140evc.img')\n",
      "(36, 'veg_cover_cellsize', '10')\n",
      "(37, 'soil_orig_folder', '..\\\\examples\\\\sagehen\\\\soils')\n",
      "(38, 'ksat_name', 'ksat.img')\n",
      "(39, 'awc_name', 'awc.img')\n",
      "(40, 'clay_pct_name', 'clay.img')\n",
      "(41, 'sand_pct_name', 'sand.img')\n",
      "(42, 'soil_cellsize', '50')\n",
      "(43, 'soil_pct_flag', 'True')\n",
      "(44, 'fill_soil_nodata_flag', 'True')\n",
      "(45, 'moist_init_ratio', '0.1')\n",
      "(46, 'rechr_init_ratio', '0.1')\n",
      "(47, 'ssr2gw_mult_flag', 'False')\n",
      "(48, 'ssr2gw_mult_name', 'ssr2g_mult.img')\n",
      "(49, 'ssr2gw_k_default', '0.001')\n",
      "(50, 'soil_depth_flag', 'False')\n",
      "(51, 'impervious_orig_path', '..\\\\examples\\\\sagehen\\\\impervious\\\\nlcd2011_imp.img')\n",
      "(52, 'impervious_projection_method', 'BILINEAR')\n",
      "(53, 'impervious_cellsize', '10')\n",
      "(54, 'impervious_pct_flag', 'True')\n",
      "(55, 'remap_folder', '..\\\\remaps')\n",
      "(56, 'aspect_remap', 'aspect.rmp')\n",
      "(57, 'temp_adj_remap', 'temp_adj_x10.rmp')\n",
      "(58, 'cov_type_remap', 'covtype.rmp')\n",
      "(59, 'covden_sum_remap', 'covdensum.rmp')\n",
      "(60, 'covden_win_remap', 'covdenwin.rmp')\n",
      "(61, 'snow_intcp_remap', 'covtype_to_snow_intcp.rmp')\n",
      "(62, 'srain_intcp_remap', 'covtype_to_srain_intcp.rmp')\n",
      "(63, 'wrain_intcp_remap', 'covtype_to_wrain_intcp.rmp')\n",
      "(64, 'root_depth_remap', 'rtdepth.rmp')\n",
      "(65, 'prism_folder', '..\\\\examples\\\\sagehen\\\\prism')\n",
      "(66, 'prism_projection_method', 'BILINEAR')\n",
      "(67, 'prism_cellsize', '90')\n",
      "(68, 'calc_prism_jh_coef_flag', 'True')\n",
      "(69, 'set_ppt_zones_flag', 'False')\n",
      "(70, 'ppt_obs_units', 'mm')\n",
      "(71, 'ppt_obs_list', '140, 133, 119, 54, 38, 18, 11, 15, 22, 52, 103, 142')\n",
      "(72, 'ppt_hru_id', '0')\n",
      "(73, 'ppt_zone_path', '..\\\\examples\\\\sagehen\\\\shapefiles\\\\ppt_zones.shp')\n",
      "(74, 'ppt_zone_field', 'PPT_ZONE')\n",
      "(75, 'ppt_hru_id_field', 'PPT_HRU_ID')\n",
      "(76, 'ppt_obs_field_format', 'PPT_{:02d}')\n",
      "(77, 'prms_parameter_folder', '..\\\\examples\\\\sagehen\\\\model\\\\input')\n",
      "(78, 'single_param_file_flag', 'False')\n",
      "(79, 'param_column_flag', 'True')\n",
      "(80, 'prms_dimen_csv_path', '..\\\\examples\\\\sagehen\\\\hru_params\\\\prms_dimensions.csv')\n",
      "(81, 'prms_param_csv_path', '..\\\\examples\\\\sagehen\\\\hru_params\\\\prms_parameters.csv')\n",
      "(82, 'ntemp', '1')\n",
      "(83, 'elev_units', '0')\n",
      "(84, 'basin_tsta', '1')\n",
      "(85, 'hru_tsta', '1')\n",
      "(86, 'hru_tlaps', '1')\n",
      "(87, 'tsta_elev', '6340')\n",
      "(88, 'tmax_lapse', '9, 9, 7, 7, 6, 5, 5, 4, 6, 7, 8, 9')\n",
      "(89, 'tmin_lapse', '4.5, 4.5, 3.5, 3.5, 3, 2.5, 2.5, 2, 3, 3.5, 4, 4.5')\n",
      "(90, 'scratch_name', 'in_memory')\n",
      "(91, 'int_factor', '1')\n",
      "(92, 'orig_fid_field', 'ORIG_FID')\n"
     ]
    }
   ],
   "source": [
    "print \"index, variable, value\"\n",
    "j = 0\n",
    "values = Config.options('INPUTS')\n",
    "for value in values:\n",
    "  val = Config.get('INPUTS',value)\n",
    "  print (j, value, val)\n",
    "  j += 1"
   ]
  },
  {
   "cell_type": "markdown",
   "metadata": {},
   "source": [
    "Look at values for specific inputs"
   ]
  },
  {
   "cell_type": "code",
   "execution_count": 4,
   "metadata": {},
   "outputs": [
    {
     "name": "stdout",
     "output_type": "stream",
     "text": [
      "100\n",
      "3\n"
     ]
    }
   ],
   "source": [
    "values = Config.options('INPUTS')\n",
    "flow_acc_threshold = Config.get('INPUTS',values[23])\n",
    "flow_length_threshold = Config.get('INPUTS',values[24])\n",
    "print flow_acc_threshold\n",
    "print flow_length_threshold"
   ]
  },
  {
   "cell_type": "markdown",
   "metadata": {},
   "source": [
    "Change values for specific input and write out new configuration file"
   ]
  },
  {
   "cell_type": "code",
   "execution_count": 5,
   "metadata": {},
   "outputs": [],
   "source": [
    "cfgfile = open(\"..\\examples\\sagehen\\sagehen_parameters.ini\",'w')\n",
    "# change values for flow_acc_threshold and flow_length_threshold and write to file\n",
    "flow_acc_threshold = 300\n",
    "flow_length_threshold = 3\n",
    "Config.set('INPUTS','flow_acc_threshold',flow_acc_threshold)\n",
    "Config.set('INPUTS','flow_length_threshold',flow_length_threshold)\n",
    "Config.write(cfgfile)\n",
    "cfgfile.close()"
   ]
  },
  {
   "cell_type": "code",
   "execution_count": null,
   "metadata": {},
   "outputs": [],
   "source": []
  }
 ],
 "metadata": {
  "kernelspec": {
   "display_name": "Python 2",
   "language": "python",
   "name": "python2"
  },
  "language_info": {
   "codemirror_mode": {
    "name": "ipython",
    "version": 2
   },
   "file_extension": ".py",
   "mimetype": "text/x-python",
   "name": "python",
   "nbconvert_exporter": "python",
   "pygments_lexer": "ipython2",
   "version": "2.7.15"
  }
 },
 "nbformat": 4,
 "nbformat_minor": 2
}
