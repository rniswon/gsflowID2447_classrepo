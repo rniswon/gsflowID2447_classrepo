{
 "cells": [
  {
   "cell_type": "markdown",
   "metadata": {},
   "source": [
    "# Notebook for building the Sagehen model with Gsflow-Arcpy\n",
    "\n",
    "### Background\n",
    "This notebook runs the scripts for building the Saghen GSFLOW model.\n",
    "Requires Python 2.7 or newer, ArcMap, and the data/python scripts provided in the develop branch of the repository located here: https://github.com/gsflow/gsflow-arcpy. Documentation can be found in the tutorial file called gsflow_arcpy_tutorial.pdf located in the gsflow-arcpy repository. \n",
    "\n",
    "The primary reference for these scripts is:\n",
    "\n",
    "Gardner, M. A., Morton, C. G., Huntington, J. L., Niswonger, R. G., & Henson, W. R. (2018). Input data processing tools for the integrated hydrologic model GSFLOW. Environmental Modelling & Software, 109, 41-53. https://doi.org/10.1016/j.envsoft.2018.07.020\n",
    "\n",
    "If the gsflow-arcpy scripts are taken from the Github repositor then a slight modificatioin is required to \"fishnet_generator.py\" to remove the need for user input at the command prompt. Within fishnet_func, the argument \"overwrite_flag\" must be set to \"True.\" However, this change has been made for the scripts provided for this class.\n",
    "\n",
    "Note that the hru_params shapefile cannot be open in ArcMap while running some of these scripts.\n",
    "\n",
    "Before using this notebook you will need to change paths in the gsflow-arcpy scripts configuration file. Navigate to: .\\gsflowID2447_classrepo\\exercises\\saghen_prms. Open “sagehen_parameters.ini” in a text editor. Replace first part of filepaths by globally replacing C:\\Users\\ __rniswon__\\Documents\\Data\\Git\\ using the correct __username__ for your configuration.\n"
   ]
  },
  {
   "cell_type": "code",
   "execution_count": 1,
   "metadata": {},
   "outputs": [
    {
     "data": {
      "text/plain": [
       "'2.0.0b3'"
      ]
     },
     "execution_count": 1,
     "metadata": {},
     "output_type": "execute_result"
    }
   ],
   "source": [
    "import matplotlib as mpl\n",
    "mpl.__version__"
   ]
  },
  {
   "cell_type": "code",
   "execution_count": 2,
   "metadata": {},
   "outputs": [
    {
     "name": "stdout",
     "output_type": "stream",
     "text": [
      "C:\\Users\\rniswon\\AppData\\Local\\Continuum\\miniconda2\\python.exe\n"
     ]
    }
   ],
   "source": [
    "%matplotlib inline\n",
    "import sys, os\n",
    "import matplotlib.pyplot as plt\n",
    "import arcpy\n",
    "import geopandas\n",
    "#from pyprms import prms_py\n",
    "#from pyprms.prms_output import Statistics, Budget\n",
    "python_exe = sys.executable\n",
    "print python_exe"
   ]
  },
  {
   "cell_type": "code",
   "execution_count": 3,
   "metadata": {},
   "outputs": [
    {
     "name": "stdout",
     "output_type": "stream",
     "text": [
      "True\n"
     ]
    }
   ],
   "source": [
    "#over write option set to true\n",
    "arcpy.env.overwriteOutput = True\n",
    "print arcpy.env.overwriteOutput"
   ]
  },
  {
   "cell_type": "markdown",
   "metadata": {},
   "source": [
    "### Required ancillary data\n",
    "Geospatial and other ancillary data are required to run these scripts. These data include: elevation data such as a digital elevation model (DEM); subbasin outflow points or subbasin stream gages that can be used for defining subbasin drainage areas; gridded climate data such as the PRISM 800 m monthly normals; vegetation data such as the LANDFIRE dataset; impervious cover such as the National Land Cover Database (NLCD); soil data such as STATSGO and/or SSURGO datasets. Other datasets such as geology, and the National Hydrography Dataset (NHD) can be used. All of the necessary geospatial data required for this exercise are included with the Sagehen example problem in the above noted repository."
   ]
  },
  {
   "cell_type": "markdown",
   "metadata": {},
   "source": [
    "This exercise begins with two shapefiles, including the model boundary and outflow point. Because all areas in the Sagehen Creek Watershed drain to a single outflow point (pour point), a model boundary can be created using the Arc Watershed tool. The notebook called \"watershed_boundary.ipynb\" can be used to develop the model boundary for the Saghen example. The Sagehen model boundary and outflow point are plotted below. Note that file paths below must be modified to be consistent with each user's computer configuration."
   ]
  },
  {
   "cell_type": "code",
   "execution_count": 3,
   "metadata": {},
   "outputs": [
    {
     "data": {
      "image/png": "[encoded data removed]",
      "text/plain": [
       "<matplotlib.figure.Figure at 0x34aabe10>"
      ]
     },
     "metadata": {
      "needs_background": "light"
     },
     "output_type": "display_data"
    }
   ],
   "source": [
    "fig, ax = plt.subplots()\n",
    "ax.set_aspect('equal')\n",
    "fn1=r\"C:\\Users\\rniswon\\Documents\\Data\\Git\\gsflowID2447_classrepo\\exercises\\saghen_prms\\examples\\sagehen\\shapefiles\\watershed_proj.shp\"\n",
    "fn2=r\"C:\\Users\\rniswon\\Documents\\Data\\Git\\gsflowID2447_classrepo\\exercises\\saghen_prms\\examples\\sagehen\\shapefiles\\model_points.shp\"\n",
    "boundary=geopandas.read_file(fn1)\n",
    "gage=geopandas.read_file(fn2)\n",
    "gage.plot(ax=ax,color='none', edgecolor='red', linewidth=1.0)\n",
    "boundary.plot(ax=ax,color='none', edgecolor='black', linewidth=1.0)\n",
    "plt.show()"
   ]
  },
  {
   "cell_type": "markdown",
   "metadata": {},
   "source": [
    "### Executing GSFLOW-Arcpy\n",
    "To the run the scripts from this notebook, first set the file path for the location of the scripts,  set the argument list, and set the file path for the configuration file (sagehen_parameters.ini). The paths below will need to be replaced with your computer's corresponding path."
   ]
  },
  {
   "cell_type": "code",
   "execution_count": 7,
   "metadata": {},
   "outputs": [],
   "source": [
    "arc_gsflow_folder=r\"C:\\Users\\rniswon\\Documents\\Data\\Git\\gsflowID2447_classrepo\\exercises\\saghen_prms\\scripts\"\n",
    "script = r\"fishnet_generator.py\"\n",
    "argument = r\" -i C:\\Users\\rniswon\\Documents\\Data\\Git\\gsflowID2447_classrepo\\exercises\\saghen_prms\\examples\\sagehen\\sagehen_parameters.ini\""
   ]
  },
  {
   "cell_type": "markdown",
   "metadata": {},
   "source": [
    "Combine the above variables to create the command that runs the script."
   ]
  },
  {
   "cell_type": "code",
   "execution_count": 8,
   "metadata": {},
   "outputs": [],
   "source": [
    "cmd=python_exe + \" \" + os.path.join(arc_gsflow_folder,script)\n",
    "cmd = cmd + argument"
   ]
  },
  {
   "cell_type": "markdown",
   "metadata": {},
   "source": [
    "### HRU_params shapefile and model grid\n",
    "\n",
    "The model grid that is used for representing HRUs and MODFLOW cells is generated by running the \"fishnet_generator.py:\""
   ]
  },
  {
   "cell_type": "code",
   "execution_count": 9,
   "metadata": {},
   "outputs": [
    {
     "data": {
      "text/plain": [
       "1"
      ]
     },
     "execution_count": 9,
     "metadata": {},
     "output_type": "execute_result"
    }
   ],
   "source": [
    "os.system(cmd)"
   ]
  },
  {
   "cell_type": "markdown",
   "metadata": {},
   "source": [
    "Run \"hru_parameters.py\" to create the hru_params shapefile and label all attribute fields required for the model. This script also sets HRU_type, which defines the active part of the model domain for PRMS using the model boundary shapefile shown above, and also defines subbasin and model outlets or swales using the model points shapefile.\n"
   ]
  },
  {
   "cell_type": "code",
   "execution_count": 10,
   "metadata": {},
   "outputs": [],
   "source": [
    "script = r\"hru_parameters.py\"\n",
    "\n",
    "cmd=python_exe + \" \" + os.path.join(arc_gsflow_folder,script)\n",
    "cmd = cmd + argument"
   ]
  },
  {
   "cell_type": "code",
   "execution_count": 11,
   "metadata": {},
   "outputs": [
    {
     "data": {
      "text/plain": [
       "0"
      ]
     },
     "execution_count": 11,
     "metadata": {},
     "output_type": "execute_result"
    }
   ],
   "source": [
    "os.system(cmd)"
   ]
  },
  {
   "cell_type": "markdown",
   "metadata": {},
   "source": [
    "The image below shows the attribute table generated by running hru_parameters.py. This table is in the hru_params shapefile generated by the script. The shapefile must be closed while running any script, but can be re-opened after each script is run to check values and raster images."
   ]
  },
  {
   "cell_type": "markdown",
   "metadata": {},
   "source": [
    "Below is an image showing the 90 m square model grid and watershed boundary used for the Sagehen model."
   ]
  },
  {
   "cell_type": "code",
   "execution_count": 12,
   "metadata": {},
   "outputs": [
    {
     "data": {
      "image/png": "[encoded data removed]",
      "text/plain": [
       "<matplotlib.figure.Figure at 0x33c7da10>"
      ]
     },
     "metadata": {
      "needs_background": "light"
     },
     "output_type": "display_data"
    }
   ],
   "source": [
    "fig, ax = plt.subplots()\n",
    "ax.set_aspect('equal')\n",
    "fn1=r\"C:\\Users\\rniswon\\Documents\\Data\\Git\\gsflowID2447_classrepo\\exercises\\saghen_prms\\examples\\sagehen\\shapefiles\\watershed_proj.shp\"\n",
    "fn2=r\"C:\\Users\\rniswon\\Documents\\Data\\Git\\gsflowID2447_classrepo\\exercises\\saghen_prms\\examples\\sagehen\\hru_params\\hru_params.shp\"\n",
    "boundary=geopandas.read_file(fn1)\n",
    "grid=geopandas.read_file(fn2)\n",
    "grid.plot(ax=ax,color='none', edgecolor='black', linewidth=1.0)\n",
    "boundary.plot(ax=ax,color='none', edgecolor='black', linewidth=1.0)\n",
    "plt.show()"
   ]
  },
  {
   "cell_type": "markdown",
   "metadata": {},
   "source": [
    "### Resample DEM to model grid\n",
    "The next script is DEM_parameters.py. This script generates grid-cell altitudes by resampling the DEM to the fishnet. Among the several fields in HRU_params that are given values when running this script, the field called DEM_ADJ is used to represent the model top altitudes. Other parameters are derived from DEM_ADj including the cascade parameters. The attribute DEM_FLOWAC is the default field that holds the original DEM_ADJ values as a backup and to provide a comparison after CRT is run. "
   ]
  },
  {
   "cell_type": "code",
   "execution_count": 13,
   "metadata": {},
   "outputs": [],
   "source": [
    "script = r\"dem_parameters.py\"\n",
    "\n",
    "cmd=python_exe + \" \" + os.path.join(arc_gsflow_folder,script)\n",
    "cmd = cmd + argument"
   ]
  },
  {
   "cell_type": "code",
   "execution_count": 14,
   "metadata": {},
   "outputs": [
    {
     "data": {
      "text/plain": [
       "0"
      ]
     },
     "execution_count": 14,
     "metadata": {},
     "output_type": "execute_result"
    }
   ],
   "source": [
    "os.system(cmd)"
   ]
  },
  {
   "cell_type": "code",
   "execution_count": 15,
   "metadata": {},
   "outputs": [
    {
     "data": {
      "text/html": [
       "<div>\n",
       "<style scoped>\n",
       "    .dataframe tbody tr th:only-of-type {\n",
       "        vertical-align: middle;\n",
       "    }\n",
       "\n",
       "    .dataframe tbody tr th {\n",
       "        vertical-align: top;\n",
       "    }\n",
       "\n",
       "    .dataframe thead th {\n",
       "        text-align: right;\n",
       "    }\n",
       "</style>\n",
       "<table border=\"1\" class=\"dataframe\">\n",
       "  <thead>\n",
       "    <tr style=\"text-align: right;\">\n",
       "      <th></th>\n",
       "      <th>ORIG_FID</th>\n",
       "      <th>HRU_ID</th>\n",
       "      <th>HRU_TYPE</th>\n",
       "      <th>DEM_MEAN</th>\n",
       "      <th>DEM_MIN</th>\n",
       "      <th>DEM_MAX</th>\n",
       "      <th>DEM_ADJ</th>\n",
       "      <th>DEM_FLOWAC</th>\n",
       "      <th>DEM_SUM</th>\n",
       "      <th>DEM_COUNT</th>\n",
       "      <th>...</th>\n",
       "      <th>PPT_RT_04</th>\n",
       "      <th>PPT_RT_05</th>\n",
       "      <th>PPT_RT_06</th>\n",
       "      <th>PPT_RT_07</th>\n",
       "      <th>PPT_RT_08</th>\n",
       "      <th>PPT_RT_09</th>\n",
       "      <th>PPT_RT_10</th>\n",
       "      <th>PPT_RT_11</th>\n",
       "      <th>PPT_RT_12</th>\n",
       "      <th>geometry</th>\n",
       "    </tr>\n",
       "  </thead>\n",
       "  <tbody>\n",
       "    <tr>\n",
       "      <th>0</th>\n",
       "      <td>0</td>\n",
       "      <td>6385</td>\n",
       "      <td>0</td>\n",
       "      <td>0.000000</td>\n",
       "      <td>0.000000</td>\n",
       "      <td>0.000000</td>\n",
       "      <td>0.000000</td>\n",
       "      <td>0.000000</td>\n",
       "      <td>0.000000e+00</td>\n",
       "      <td>0.000000</td>\n",
       "      <td>...</td>\n",
       "      <td>None</td>\n",
       "      <td>None</td>\n",
       "      <td>None</td>\n",
       "      <td>None</td>\n",
       "      <td>None</td>\n",
       "      <td>None</td>\n",
       "      <td>None</td>\n",
       "      <td>None</td>\n",
       "      <td>None</td>\n",
       "      <td>POLYGON ((214109.9999999997 4366620, 214109.99...</td>\n",
       "    </tr>\n",
       "    <tr>\n",
       "      <th>1</th>\n",
       "      <td>1</td>\n",
       "      <td>6386</td>\n",
       "      <td>0</td>\n",
       "      <td>2155.573934</td>\n",
       "      <td>2148.798096</td>\n",
       "      <td>2162.991943</td>\n",
       "      <td>2153.812295</td>\n",
       "      <td>2153.812295</td>\n",
       "      <td>3.709343e+04</td>\n",
       "      <td>17.222222</td>\n",
       "      <td>...</td>\n",
       "      <td>None</td>\n",
       "      <td>None</td>\n",
       "      <td>None</td>\n",
       "      <td>None</td>\n",
       "      <td>None</td>\n",
       "      <td>None</td>\n",
       "      <td>None</td>\n",
       "      <td>None</td>\n",
       "      <td>None</td>\n",
       "      <td>POLYGON ((214199.9999999998 4366620.000000001,...</td>\n",
       "    </tr>\n",
       "    <tr>\n",
       "      <th>2</th>\n",
       "      <td>2</td>\n",
       "      <td>6387</td>\n",
       "      <td>0</td>\n",
       "      <td>2154.183817</td>\n",
       "      <td>2148.162109</td>\n",
       "      <td>2162.430908</td>\n",
       "      <td>2155.115054</td>\n",
       "      <td>2155.115054</td>\n",
       "      <td>5.653489e+07</td>\n",
       "      <td>26232.888984</td>\n",
       "      <td>...</td>\n",
       "      <td>None</td>\n",
       "      <td>None</td>\n",
       "      <td>None</td>\n",
       "      <td>None</td>\n",
       "      <td>None</td>\n",
       "      <td>None</td>\n",
       "      <td>None</td>\n",
       "      <td>None</td>\n",
       "      <td>None</td>\n",
       "      <td>POLYGON ((214289.9999999992 4366619.999999999,...</td>\n",
       "    </tr>\n",
       "    <tr>\n",
       "      <th>3</th>\n",
       "      <td>3</td>\n",
       "      <td>6388</td>\n",
       "      <td>0</td>\n",
       "      <td>2156.385956</td>\n",
       "      <td>2146.514893</td>\n",
       "      <td>2169.937500</td>\n",
       "      <td>2156.319658</td>\n",
       "      <td>2156.319658</td>\n",
       "      <td>3.623336e+06</td>\n",
       "      <td>1680.333338</td>\n",
       "      <td>...</td>\n",
       "      <td>None</td>\n",
       "      <td>None</td>\n",
       "      <td>None</td>\n",
       "      <td>None</td>\n",
       "      <td>None</td>\n",
       "      <td>None</td>\n",
       "      <td>None</td>\n",
       "      <td>None</td>\n",
       "      <td>None</td>\n",
       "      <td>POLYGON ((214380.0000000002 4366620, 214380 43...</td>\n",
       "    </tr>\n",
       "    <tr>\n",
       "      <th>4</th>\n",
       "      <td>4</td>\n",
       "      <td>6389</td>\n",
       "      <td>0</td>\n",
       "      <td>2155.930990</td>\n",
       "      <td>2138.800049</td>\n",
       "      <td>2171.084473</td>\n",
       "      <td>2157.961997</td>\n",
       "      <td>2157.961997</td>\n",
       "      <td>4.590705e+06</td>\n",
       "      <td>2127.333342</td>\n",
       "      <td>...</td>\n",
       "      <td>None</td>\n",
       "      <td>None</td>\n",
       "      <td>None</td>\n",
       "      <td>None</td>\n",
       "      <td>None</td>\n",
       "      <td>None</td>\n",
       "      <td>None</td>\n",
       "      <td>None</td>\n",
       "      <td>None</td>\n",
       "      <td>POLYGON ((214470.0000000004 4366620, 214470.00...</td>\n",
       "    </tr>\n",
       "    <tr>\n",
       "      <th>5</th>\n",
       "      <td>5</td>\n",
       "      <td>6390</td>\n",
       "      <td>0</td>\n",
       "      <td>2152.734176</td>\n",
       "      <td>2134.806396</td>\n",
       "      <td>2172.362549</td>\n",
       "      <td>2151.681130</td>\n",
       "      <td>2151.681130</td>\n",
       "      <td>1.676303e+07</td>\n",
       "      <td>7790.666620</td>\n",
       "      <td>...</td>\n",
       "      <td>None</td>\n",
       "      <td>None</td>\n",
       "      <td>None</td>\n",
       "      <td>None</td>\n",
       "      <td>None</td>\n",
       "      <td>None</td>\n",
       "      <td>None</td>\n",
       "      <td>None</td>\n",
       "      <td>None</td>\n",
       "      <td>POLYGON ((214560.0000000001 4366620, 214560.00...</td>\n",
       "    </tr>\n",
       "    <tr>\n",
       "      <th>6</th>\n",
       "      <td>6</td>\n",
       "      <td>6391</td>\n",
       "      <td>0</td>\n",
       "      <td>2154.347614</td>\n",
       "      <td>2137.448242</td>\n",
       "      <td>2172.604248</td>\n",
       "      <td>2157.943925</td>\n",
       "      <td>2157.943925</td>\n",
       "      <td>2.145716e+06</td>\n",
       "      <td>994.333342</td>\n",
       "      <td>...</td>\n",
       "      <td>None</td>\n",
       "      <td>None</td>\n",
       "      <td>None</td>\n",
       "      <td>None</td>\n",
       "      <td>None</td>\n",
       "      <td>None</td>\n",
       "      <td>None</td>\n",
       "      <td>None</td>\n",
       "      <td>None</td>\n",
       "      <td>POLYGON ((214649.999999999 4366620, 214650.000...</td>\n",
       "    </tr>\n",
       "    <tr>\n",
       "      <th>7</th>\n",
       "      <td>7</td>\n",
       "      <td>6392</td>\n",
       "      <td>0</td>\n",
       "      <td>2139.265459</td>\n",
       "      <td>2116.842529</td>\n",
       "      <td>2157.882568</td>\n",
       "      <td>2140.556653</td>\n",
       "      <td>2140.556653</td>\n",
       "      <td>9.911253e+06</td>\n",
       "      <td>4630.222237</td>\n",
       "      <td>...</td>\n",
       "      <td>None</td>\n",
       "      <td>None</td>\n",
       "      <td>None</td>\n",
       "      <td>None</td>\n",
       "      <td>None</td>\n",
       "      <td>None</td>\n",
       "      <td>None</td>\n",
       "      <td>None</td>\n",
       "      <td>None</td>\n",
       "      <td>POLYGON ((214739.9999999992 4366620, 214740.00...</td>\n",
       "    </tr>\n",
       "    <tr>\n",
       "      <th>8</th>\n",
       "      <td>8</td>\n",
       "      <td>6393</td>\n",
       "      <td>0</td>\n",
       "      <td>2131.273872</td>\n",
       "      <td>2113.063477</td>\n",
       "      <td>2149.097412</td>\n",
       "      <td>2132.140675</td>\n",
       "      <td>2132.140675</td>\n",
       "      <td>1.441730e+07</td>\n",
       "      <td>6761.888910</td>\n",
       "      <td>...</td>\n",
       "      <td>None</td>\n",
       "      <td>None</td>\n",
       "      <td>None</td>\n",
       "      <td>None</td>\n",
       "      <td>None</td>\n",
       "      <td>None</td>\n",
       "      <td>None</td>\n",
       "      <td>None</td>\n",
       "      <td>None</td>\n",
       "      <td>POLYGON ((214830.0000000008 4366619.999999999,...</td>\n",
       "    </tr>\n",
       "    <tr>\n",
       "      <th>9</th>\n",
       "      <td>9</td>\n",
       "      <td>6394</td>\n",
       "      <td>0</td>\n",
       "      <td>2126.182726</td>\n",
       "      <td>2100.656494</td>\n",
       "      <td>2147.709961</td>\n",
       "      <td>2127.844974</td>\n",
       "      <td>2127.844974</td>\n",
       "      <td>1.582880e+06</td>\n",
       "      <td>743.888886</td>\n",
       "      <td>...</td>\n",
       "      <td>None</td>\n",
       "      <td>None</td>\n",
       "      <td>None</td>\n",
       "      <td>None</td>\n",
       "      <td>None</td>\n",
       "      <td>None</td>\n",
       "      <td>None</td>\n",
       "      <td>None</td>\n",
       "      <td>None</td>\n",
       "      <td>POLYGON ((214919.9999999993 4366620, 214919.99...</td>\n",
       "    </tr>\n",
       "  </tbody>\n",
       "</table>\n",
       "<p>10 rows × 123 columns</p>\n",
       "</div>"
      ],
      "text/plain": [
       "   ORIG_FID  HRU_ID  HRU_TYPE     DEM_MEAN      DEM_MIN      DEM_MAX  \\\n",
       "0         0    6385         0     0.000000     0.000000     0.000000   \n",
       "1         1    6386         0  2155.573934  2148.798096  2162.991943   \n",
       "2         2    6387         0  2154.183817  2148.162109  2162.430908   \n",
       "3         3    6388         0  2156.385956  2146.514893  2169.937500   \n",
       "4         4    6389         0  2155.930990  2138.800049  2171.084473   \n",
       "5         5    6390         0  2152.734176  2134.806396  2172.362549   \n",
       "6         6    6391         0  2154.347614  2137.448242  2172.604248   \n",
       "7         7    6392         0  2139.265459  2116.842529  2157.882568   \n",
       "8         8    6393         0  2131.273872  2113.063477  2149.097412   \n",
       "9         9    6394         0  2126.182726  2100.656494  2147.709961   \n",
       "\n",
       "       DEM_ADJ   DEM_FLOWAC       DEM_SUM     DEM_COUNT  \\\n",
       "0     0.000000     0.000000  0.000000e+00      0.000000   \n",
       "1  2153.812295  2153.812295  3.709343e+04     17.222222   \n",
       "2  2155.115054  2155.115054  5.653489e+07  26232.888984   \n",
       "3  2156.319658  2156.319658  3.623336e+06   1680.333338   \n",
       "4  2157.961997  2157.961997  4.590705e+06   2127.333342   \n",
       "5  2151.681130  2151.681130  1.676303e+07   7790.666620   \n",
       "6  2157.943925  2157.943925  2.145716e+06    994.333342   \n",
       "7  2140.556653  2140.556653  9.911253e+06   4630.222237   \n",
       "8  2132.140675  2132.140675  1.441730e+07   6761.888910   \n",
       "9  2127.844974  2127.844974  1.582880e+06    743.888886   \n",
       "\n",
       "                         ...                          PPT_RT_04 PPT_RT_05  \\\n",
       "0                        ...                               None      None   \n",
       "1                        ...                               None      None   \n",
       "2                        ...                               None      None   \n",
       "3                        ...                               None      None   \n",
       "4                        ...                               None      None   \n",
       "5                        ...                               None      None   \n",
       "6                        ...                               None      None   \n",
       "7                        ...                               None      None   \n",
       "8                        ...                               None      None   \n",
       "9                        ...                               None      None   \n",
       "\n",
       "  PPT_RT_06  PPT_RT_07  PPT_RT_08  PPT_RT_09  PPT_RT_10  PPT_RT_11  PPT_RT_12  \\\n",
       "0      None       None       None       None       None       None       None   \n",
       "1      None       None       None       None       None       None       None   \n",
       "2      None       None       None       None       None       None       None   \n",
       "3      None       None       None       None       None       None       None   \n",
       "4      None       None       None       None       None       None       None   \n",
       "5      None       None       None       None       None       None       None   \n",
       "6      None       None       None       None       None       None       None   \n",
       "7      None       None       None       None       None       None       None   \n",
       "8      None       None       None       None       None       None       None   \n",
       "9      None       None       None       None       None       None       None   \n",
       "\n",
       "                                            geometry  \n",
       "0  POLYGON ((214109.9999999997 4366620, 214109.99...  \n",
       "1  POLYGON ((214199.9999999998 4366620.000000001,...  \n",
       "2  POLYGON ((214289.9999999992 4366619.999999999,...  \n",
       "3  POLYGON ((214380.0000000002 4366620, 214380 43...  \n",
       "4  POLYGON ((214470.0000000004 4366620, 214470.00...  \n",
       "5  POLYGON ((214560.0000000001 4366620, 214560.00...  \n",
       "6  POLYGON ((214649.999999999 4366620, 214650.000...  \n",
       "7  POLYGON ((214739.9999999992 4366620, 214740.00...  \n",
       "8  POLYGON ((214830.0000000008 4366619.999999999,...  \n",
       "9  POLYGON ((214919.9999999993 4366620, 214919.99...  \n",
       "\n",
       "[10 rows x 123 columns]"
      ]
     },
     "execution_count": 15,
     "metadata": {},
     "output_type": "execute_result"
    }
   ],
   "source": [
    "grid.head(10)\n",
    "#grid[\"HRU_ID\"]\n",
    "#grid[\"ISEG\"]=0\n",
    "#grid.to_file(\"hru_params2.shp\")"
   ]
  },
  {
   "cell_type": "markdown",
   "metadata": {},
   "source": [
    "Now we can plot the DEM_ADJ attribute generated by the script dem_parameters.py. DEM_ADJ is used to define grid cell altitudes for the top of the model, and these values will eventually be read into the PRMS parameter files."
   ]
  },
  {
   "cell_type": "code",
   "execution_count": 16,
   "metadata": {},
   "outputs": [
    {
     "data": {
      "image/png": "[encoded data removed]",
      "text/plain": [
       "<matplotlib.figure.Figure at 0x33c7d590>"
      ]
     },
     "metadata": {
      "needs_background": "light"
     },
     "output_type": "display_data"
    }
   ],
   "source": [
    "fig, ax = plt.subplots()\n",
    "ax.set_aspect('equal')\n",
    "fn1=r\"C:\\Users\\rniswon\\Documents\\Data\\Git\\gsflowID2447_classrepo\\exercises\\saghen_prms\\examples\\sagehen\\shapefiles\\watershed_proj.shp\"\n",
    "fn2=r\"C:\\Users\\rniswon\\Documents\\Data\\Git\\gsflowID2447_classrepo\\exercises\\saghen_prms\\examples\\sagehen\\hru_params\\hru_params.shp\"\n",
    "boundary=geopandas.read_file(fn1)\n",
    "top=geopandas.read_file(fn2)\n",
    "top.plot(column=\"DEM_ADJ\",ax=ax)\n",
    "boundary.plot(ax=ax,color='none', edgecolor='black', linewidth=1.0)\n",
    "plt.show()"
   ]
  },
  {
   "cell_type": "markdown",
   "metadata": {},
   "source": [
    "### Stream network\n",
    "Now it is time to build the stream network for the model. This is done by running the script called \"dem_2_streams.py.\" The results of this script will be used to develop input for the MODFLOW SFR Package. If there is an error running this script then be sure the model_points.shp file has SUBNUM and TYPE attributes."
   ]
  },
  {
   "cell_type": "code",
   "execution_count": 17,
   "metadata": {},
   "outputs": [
    {
     "data": {
      "text/plain": [
       "0"
      ]
     },
     "execution_count": 17,
     "metadata": {},
     "output_type": "execute_result"
    }
   ],
   "source": [
    "script = r\"dem_2_streams.py\"\n",
    "\n",
    "cmd=python_exe + \" \" + os.path.join(arc_gsflow_folder,script)\n",
    "cmd = cmd + argument\n",
    "os.system(cmd)"
   ]
  },
  {
   "cell_type": "markdown",
   "metadata": {},
   "source": [
    "Running dem_2_streams.py also generates a shape file of the streams as lines for plotting. If you open Arcmap and add the streams.shp file located in .\\Exercise_2\\examples\\sagehen\\hru_params\\flow_rasters then you can see the stream lines in the watershed as shown below. Note that these streams are developed using the model grid scale DEM (DEM_ADJ) rather than the original 10 m DEM. This is an important feature of the scripts because GSFLOW simulates SW-GW interactions using the stream depth and groundwater head. If the streams are generated using the 10 m DEM then streams can be shifted relative to the stream canyons represented by the model grid scale altitudes (90 m DEM). Shifted streams will cause poor convergence, erroneous stream seepage, and excessive spring discharge in cells adjacent to streams. "
   ]
  },
  {
   "cell_type": "code",
   "execution_count": 18,
   "metadata": {},
   "outputs": [
    {
     "data": {
      "image/png": "[encoded data removed]",
      "text/plain": [
       "<matplotlib.figure.Figure at 0x3c108090>"
      ]
     },
     "metadata": {
      "needs_background": "light"
     },
     "output_type": "display_data"
    }
   ],
   "source": [
    "fig, ax = plt.subplots()\n",
    "ax.set_aspect('equal')\n",
    "fn1=r\"C:\\Users\\rniswon\\Documents\\Data\\Git\\gsflowID2447_classrepo\\exercises\\saghen_prms\\examples\\sagehen\\shapefiles\\watershed_proj.shp\"\n",
    "fn2=r\"C:\\Users\\rniswon\\Documents\\Data\\Git\\gsflowID2447_classrepo\\exercises\\saghen_prms\\examples\\sagehen\\hru_params\\hru_params.shp\"\n",
    "boundary=geopandas.read_file(fn1)\n",
    "streams=geopandas.read_file(fn2)\n",
    "streams.plot(column='ISEG',ax=ax, edgecolor='none', linewidth=1.0)\n",
    "boundary.plot(ax=ax,color='none', edgecolor='black', linewidth=1.0)\n",
    "plt.show()"
   ]
  },
  {
   "cell_type": "markdown",
   "metadata": {},
   "source": [
    "Resolution of the stream network is determined using two parameters that are set in the Gsflow-Arcpy scripts configuration file (sagehen_parameters.ini). These are flow_acc_threshold and flow_length_threshold. The NHD streams data set also is provided in this example in .\\Exercise_2\\examples\\sagehen\\nhd. \n",
    "\n",
    "Exercise: determine the values of flow_acc_threshold and flow_length_threshold that provide a stream network most similar to the NHD streams. Note the example problem uses flow_acc_threshold=100 and flow_length_threshold=3, which produces less streams than NHD to be more consistent with flowing streams at Saghen Creek.\n",
    "\n",
    "Question: Why don't the streams created using the script align perfectly with the NHD streams? What could happen if the NHD streams were used directly to define SFR streams?"
   ]
  },
  {
   "cell_type": "markdown",
   "metadata": {},
   "source": [
    "<img src=\".\\captures\\sagehen_streams+nhd.png\" style=\"float: center\" width=\"400\">"
   ]
  },
  {
   "cell_type": "markdown",
   "metadata": {},
   "source": [
    "### PRMS cascade routing parameters\n",
    "\"crt_fill_parameters.py\" runs the Cascade Routing tool (https://water.usgs.gov/ogw/CRT/) with no designated streams, because CRT does not fill cells that contain streams. By excluding streams, cells containing streams will be filled if they are undeclared swales. CRT fills swales for cells to create downward sloping paths from every cell inside the watershed boundary. Swales are HRUs/cells that are surrounded in all 4 or 8 directions by cells of higher elevation. Streams and stream cells must slope downard in the direction of flow. Non-stream cells can be designated as swales, but caution should be used as no lateral flow can occur out of a swale. Also, note that there cannot be swales for cascades used for routing flow through PRMS groundwater flow reservoirs (GWRs). A swale cell (in the case of an endorheic basin or the like) would need the HRU id of a nearby cell to use for its GWR."
   ]
  },
  {
   "cell_type": "code",
   "execution_count": 19,
   "metadata": {},
   "outputs": [
    {
     "data": {
      "text/plain": [
       "0"
      ]
     },
     "execution_count": 19,
     "metadata": {},
     "output_type": "execute_result"
    }
   ],
   "source": [
    "script = r\"crt_fill_parameters.py\"\n",
    "\n",
    "cmd=python_exe + \" \" + os.path.join(arc_gsflow_folder,script)\n",
    "cmd = cmd + argument\n",
    "os.system(cmd)"
   ]
  },
  {
   "cell_type": "markdown",
   "metadata": {},
   "source": [
    "To re-build streams with the CRT filled elevations, re-run \"dem_2_streams.py\" again. Then re-run \"crt_fill_parameters.py\" as good practice to ensure no undecared swales exist.\n",
    "\n",
    "The \"stream_parameters.py\" script runs CRT again, while this time including the streams, such that cascade paths will end at HRUs that contain streams. The PRMS cascade routing parameters and SFR Package stream reach information are generated."
   ]
  },
  {
   "cell_type": "code",
   "execution_count": 20,
   "metadata": {},
   "outputs": [
    {
     "data": {
      "text/plain": [
       "0"
      ]
     },
     "execution_count": 20,
     "metadata": {},
     "output_type": "execute_result"
    }
   ],
   "source": [
    "script = r\"stream_parameters.py\"\n",
    "\n",
    "cmd=python_exe + \" \" + os.path.join(arc_gsflow_folder,script)\n",
    "cmd = cmd + argument\n",
    "os.system(cmd)"
   ]
  },
  {
   "cell_type": "markdown",
   "metadata": {},
   "source": [
    "A note about CRT: it developes the cascade routing parameters for PRMS. Cascades are pre-defined routing directions for overland flow and subsurface storm flow simulated by PRMS. CRT can develop cascades as 4-way (cell faces) or 8-way (cell faces and diagonals), and in this case we are using the 8-way option. The assumption is that the watershed slopes are steep enough to assume the water surface slope is equal to land surface slope, which is often a reasonable approximation. Note, this is the same approximation made in the SFR Package. Thus, if there is water stored on the surface or in the gravity storage reservoir of the soil zone then water will be routed according to the directions defined by the cascade paths.\n",
    "\n",
    "After running the \"stream_parameters.py\" we can visualize cascades. This can be done by using the Cascade Routing Visualization tool (CRV). \n",
    "\n",
    "1) Open Arc and set the default coordinate system by choosing “Geoprocessing” menu, “Environments” “Output Coordinates.” Set the coordinate system by choosing another shape file from this project (e.g., hru_params.shp). Arc will also assume the coordinate system of the first file opened in a new map project.\n",
    "\n",
    "2) Add the CRV tool box by right clicking in the ArcToobox window; navigate to the hru_params folder->cascade_work->CRV_1 and select CRV_1.gdb.\n",
    "\n",
    "3) Double click the CRV tool, navigate and select the folder (workspace) .\\Exercise_2\\examples\\sagehen\\hru_params\\cascade_work, select ok and run the tool.\n",
    "\n",
    "The results are shown below. \n",
    "\n"
   ]
  },
  {
   "cell_type": "markdown",
   "metadata": {},
   "source": [
    "<img src=\".\\captures\\sagehen_cascades.png\" style=\"float: center\" width=\"400\">"
   ]
  },
  {
   "cell_type": "markdown",
   "metadata": {},
   "source": [
    "And zooming in:\n",
    "    <img src=\".\\captures\\sagehen_cascades_close.png\" style=\"float: center\" width=\"400\">"
   ]
  },
  {
   "cell_type": "markdown",
   "metadata": {},
   "source": [
    "### Vegetation parameters\n",
    "\"veg_parameters.py\" creates all PRMS parameters that characterize vegetation in the model using the LANDFIRE vegetation dataset. These parameters represent cover type, winter and summer cover density, winter and summer interception (snow and rain), and root depth.  "
   ]
  },
  {
   "cell_type": "code",
   "execution_count": 21,
   "metadata": {},
   "outputs": [
    {
     "data": {
      "text/plain": [
       "0"
      ]
     },
     "execution_count": 21,
     "metadata": {},
     "output_type": "execute_result"
    }
   ],
   "source": [
    "script = r\"veg_parameters.py\"\n",
    "\n",
    "cmd=python_exe + \" \" + os.path.join(arc_gsflow_folder,script)\n",
    "cmd = cmd + argument\n",
    "os.system(cmd)"
   ]
  },
  {
   "cell_type": "markdown",
   "metadata": {},
   "source": [
    "PRMS represents four cover types: 1=grasses, 2=shrubs, 3= deciduous trees, 4=coniferous trees. Although there are many types of vegetation that are classified in LANDFIRE, these types are \"remapped\" to one of the four types represented in PRMS. "
   ]
  },
  {
   "cell_type": "markdown",
   "metadata": {},
   "source": [
    "   Here is a Google Earth image showing vegetation cover in the watershed:\n",
    "   <img src=\".\\captures\\sagehen_GE_veg.png\" style=\"float: center\" width=\"500\">"
   ]
  },
  {
   "cell_type": "markdown",
   "metadata": {},
   "source": [
    "Below is the cell/HRU resampled from LANDFIRE winter cover density.\n",
    " <img src=\".\\captures\\sagehen_veg_wdensity.png\" style=\"float: center\" width=\"600\">"
   ]
  },
  {
   "cell_type": "markdown",
   "metadata": {},
   "source": [
    " Below is the vegetation type map for PRMS. As you can see the area is primarily covered with conifers and some shrubs and deciduous (riparian) trees along streams.\n",
    " <img src=\".\\captures\\sagehen_veg_cover.png\" style=\"float: center\" width=\"600\">"
   ]
  },
  {
   "cell_type": "markdown",
   "metadata": {},
   "source": [
    "### PRMS Soilzone parameters\n",
    "The \"soil_raster_prep.py\" script is run to prepare the soil rasters, such as clipping to the grid and filling missing data in the soil data set."
   ]
  },
  {
   "cell_type": "code",
   "execution_count": 22,
   "metadata": {},
   "outputs": [
    {
     "data": {
      "text/plain": [
       "0"
      ]
     },
     "execution_count": 22,
     "metadata": {},
     "output_type": "execute_result"
    }
   ],
   "source": [
    "script = r\"soil_raster_prep.py\"\n",
    "\n",
    "cmd=python_exe + \" \" + os.path.join(arc_gsflow_folder,script)\n",
    "cmd = cmd + argument\n",
    "os.system(cmd)"
   ]
  },
  {
   "cell_type": "markdown",
   "metadata": {},
   "source": [
    "\"soil_parameters.py\" uses the prepared soil rasters to develop maps of soil texture, available water holding capacity, and the saturated hydraulic conductivity (Ksat). These values are used to develop PRMS soilzone parameters. "
   ]
  },
  {
   "cell_type": "code",
   "execution_count": 23,
   "metadata": {},
   "outputs": [
    {
     "data": {
      "text/plain": [
       "0"
      ]
     },
     "execution_count": 23,
     "metadata": {},
     "output_type": "execute_result"
    }
   ],
   "source": [
    "script = r\"soil_parameters.py\"\n",
    "\n",
    "cmd=python_exe + \" \" + os.path.join(arc_gsflow_folder,script)\n",
    "cmd = cmd + argument\n",
    "os.system(cmd)"
   ]
  },
  {
   "cell_type": "markdown",
   "metadata": {},
   "source": [
    " The distribution of Ksat provided by the SSURGO data is shown below.\n",
    " <img src=\".\\captures\\sagehen_Ksat.png\" style=\"float: center\" width=\"600\">"
   ]
  },
  {
   "cell_type": "markdown",
   "metadata": {},
   "source": [
    "The PRMS parameter slowcoef_lin is derived from Ksat. The Ksat and soil texture data distributions are combined to generate the spatial variablity of the PRMS soilzone parameters."
   ]
  },
  {
   "cell_type": "markdown",
   "metadata": {},
   "source": [
    "Among the several PRMS soilzone parameters that are calculated by soil_parameters.py, slowcoef_lin is shown below.\n",
    " <img src=\".\\captures\\sagehen_slowceof_lin.png\" style=\"float: center\" width=\"600\">"
   ]
  },
  {
   "cell_type": "markdown",
   "metadata": {},
   "source": [
    "### PRMS climate input\n",
    "Daily climate for each grid cell/HRU is required for GSFLOW. A good approach for generating daily climate for each cell/HRU in the model is to rely on climate stations for the daily values (Tmin, Tmax, and PPT). Monthly average spatial adjustment factors are then used to distribute the climate station data to all cells/HRUs. For temperature, either the Temp_1sta or Temp_lapse module is used. For Temp_1sta, temperature adjustment factors by month and cell/HRU are calculated using the monthly PRISM 30-year normals; for Temp_lapse, two climate stations are used to distribute temperatures according to altitude. The latter approach is preferred if there is a low and high altitude station within or near the subbasin. The default approach for the prism_parameters.py script is Temp_1sta, and this can be changed to Temp_lapse in the configuration (.ini) file. Similarly, the Precip_1sta module is default and spatial adjustment factors are calculated using the monthly PRISM 30-year normals.\n",
    "\n",
    "PRMS can read daily climate grids directly, and you may be asking why the dialy PRISM or other gridded climate data is not input directly to the model. The reason is that for basin scale models, the daily climate grids take up huge amounts of disc space, and slow the model significantly to read these data sets for each model time step. Tests have shown that the station-based climate distribution is as good, or better than daily gridded climate products, and there is a 10% or more speed up in model performance.   "
   ]
  },
  {
   "cell_type": "markdown",
   "metadata": {},
   "source": [
    "\"prism_parameters.py\" uses ArcMap's zonal statistic tool to resample PRISM 800 m of PRISM 4 km climate data to each cell/HRU. These values will be used to calculate the climate adjustment factors for PRMS. "
   ]
  },
  {
   "cell_type": "code",
   "execution_count": 24,
   "metadata": {},
   "outputs": [
    {
     "data": {
      "text/plain": [
       "0"
      ]
     },
     "execution_count": 24,
     "metadata": {},
     "output_type": "execute_result"
    }
   ],
   "source": [
    "script = r\"prism_800m_normals.py\"\n",
    "\n",
    "cmd=python_exe + \" \" + os.path.join(arc_gsflow_folder,script)\n",
    "cmd = cmd + argument\n",
    "os.system(cmd)"
   ]
  },
  {
   "cell_type": "markdown",
   "metadata": {},
   "source": [
    "The cell/HRU resampled PRISM climate is then used with climate station statistics to calculate precipitation and temperature adjustment factors for each month and cell/HRU."
   ]
  },
  {
   "cell_type": "code",
   "execution_count": 25,
   "metadata": {},
   "outputs": [
    {
     "data": {
      "text/plain": [
       "0"
      ]
     },
     "execution_count": 25,
     "metadata": {},
     "output_type": "execute_result"
    }
   ],
   "source": [
    "script = r\"ppt_ratio_parameters.py\"\n",
    "\n",
    "cmd=python_exe + \" \" + os.path.join(arc_gsflow_folder,script)\n",
    "cmd = cmd + argument\n",
    "os.system(cmd)"
   ]
  },
  {
   "cell_type": "markdown",
   "metadata": {},
   "source": [
    "The monthly average precipitation (mm) for January is shown below. For days in January, the daily precipitation measured at the climate station will be multiplied by the adjustment factors to calculate precipitation at each cell/HRU.\n",
    " <img src=\".\\captures\\sagehen_precip_ratio.png\" style=\"float: center\" width=\"600\">\n"
   ]
  },
  {
   "cell_type": "code",
   "execution_count": 26,
   "metadata": {},
   "outputs": [
    {
     "data": {
      "text/plain": [
       "0"
      ]
     },
     "execution_count": 26,
     "metadata": {},
     "output_type": "execute_result"
    }
   ],
   "source": [
    "script = r\"impervious_parameters.py\"\n",
    "\n",
    "cmd=python_exe + \" \" + os.path.join(arc_gsflow_folder,script)\n",
    "cmd = cmd + argument\n",
    "os.system(cmd)"
   ]
  },
  {
   "cell_type": "markdown",
   "metadata": {},
   "source": [
    "Impervious area maps provided by NLCD are used to assign impervious percentages to each cell/RHU using \"impervious_parameters.py.\" Below you can see that other than a few roads, there is no impervious area in Sagehen Creek Watershed.\n",
    "<img src=\".\\captures\\sagehen_impervious_pct.png\" style=\"float: center\" width=\"600\">"
   ]
  },
  {
   "cell_type": "markdown",
   "metadata": {},
   "source": [
    "Now that we have all the required data for building a PRMS model, we can build the PRMS input files. It's good practice to observe/edit the parameter and dimension CSV files that hold model specific settings before building the parameter files."
   ]
  },
  {
   "cell_type": "code",
   "execution_count": 27,
   "metadata": {},
   "outputs": [
    {
     "data": {
      "text/plain": [
       "0"
      ]
     },
     "execution_count": 27,
     "metadata": {},
     "output_type": "execute_result"
    }
   ],
   "source": [
    "script = r\"prms_template_fill.py\"\n",
    "\n",
    "cmd=python_exe + \" \" + os.path.join(arc_gsflow_folder,script)\n",
    "cmd = cmd + argument\n",
    "os.system(cmd)"
   ]
  },
  {
   "cell_type": "markdown",
   "metadata": {},
   "source": [
    "Now we can run GSFLOW. Replace the paths below with the correct paths for your working directory. "
   ]
  },
  {
   "cell_type": "code",
   "execution_count": 23,
   "metadata": {},
   "outputs": [
    {
     "data": {
      "text/plain": [
       "1"
      ]
     },
     "execution_count": 23,
     "metadata": {},
     "output_type": "execute_result"
    }
   ],
   "source": [
    "gsflow_folder=r\"C:\\Users\\rniswon\\Documents\\Data\\Git\\gsflowID2447_classrepo\\bin\"\n",
    "gsflow = r\"gsflow.exe\"\n",
    "argument = r\" C:\\Users\\rniswon\\Documents\\Data\\Git\\gsflowID2447_classrepo\\exercises\\saghen_prms\\examples\\sagehen\\model\\windows\\sagehen_run.control\"\n",
    "cmd=os.path.join(gsflow_folder,gsflow)\n",
    "cmd = cmd + argument\n",
    "os.system(cmd)"
   ]
  },
  {
   "cell_type": "markdown",
   "metadata": {},
   "source": [
    "After running the model we can plot of the simulated streamflow. In order to read in the PRMS results (statvar output) we use a python script developed by Ayman Alzraiee from the California Water Science Center. "
   ]
  },
  {
   "cell_type": "code",
   "execution_count": 5,
   "metadata": {},
   "outputs": [
    {
     "name": "stdout",
     "output_type": "stream",
     "text": [
      "Reading the control file ....\n",
      "Reading the Data file ....\n",
      "Reading the parameters file ....\n",
      "1\n",
      "2\n",
      "3\n",
      "4\n",
      "5\n",
      "6\n",
      "7\n",
      "8\n",
      "9\n",
      "10\n",
      "11\n",
      "12\n",
      "13\n",
      "14\n",
      "15\n",
      "16\n",
      "17\n",
      "18\n",
      "19\n",
      "20\n",
      "21\n",
      "22\n",
      "23\n",
      "24\n",
      "25\n",
      "26\n",
      "27\n",
      "28\n",
      "29\n",
      "30\n",
      "31\n",
      "32\n",
      "33\n",
      "34\n",
      "35\n",
      "36\n",
      "37\n",
      "38\n",
      "39\n",
      "40\n",
      "41\n",
      "42\n",
      "43\n",
      "44\n",
      "45\n",
      "46\n",
      "47\n",
      "48\n",
      "49\n",
      "50\n",
      "51\n",
      "52\n",
      "53\n",
      "54\n",
      "55\n",
      "56\n",
      "57\n",
      "58\n",
      "59\n",
      "60\n",
      "61\n",
      "62\n",
      "63\n",
      "64\n",
      "65\n",
      "66\n",
      "67\n",
      "68\n",
      "69\n",
      "70\n",
      "71\n",
      "72\n",
      "73\n",
      "74\n",
      "75\n",
      "76\n",
      "77\n",
      "78\n",
      "79\n",
      "80\n",
      "81\n",
      "82\n",
      "83\n",
      "84\n",
      "85\n",
      "86\n",
      "87\n",
      "88\n",
      "89\n",
      "90\n",
      "91\n",
      "92\n",
      "93\n",
      "94\n",
      "95\n",
      "96\n",
      "97\n",
      "98\n",
      "99\n",
      "100\n",
      "101\n",
      "102\n",
      "103\n",
      "104\n",
      "105\n",
      "106\n",
      "107\n",
      "108\n",
      "109\n",
      "110\n"
     ]
    },
    {
     "data": {
      "text/plain": [
       "[<matplotlib.lines.Line2D at 0xbce3c90>]"
      ]
     },
     "execution_count": 5,
     "metadata": {},
     "output_type": "execute_result"
    },
    {
     "ename": "AttributeError",
     "evalue": "'module' object has no attribute 'to_rgba'",
     "output_type": "error",
     "traceback": [
      "\u001b[1;31m---------------------------------------------------------------------------\u001b[0m",
      "\u001b[1;31mAttributeError\u001b[0m                            Traceback (most recent call last)",
      "\u001b[1;32mc:\\python27\\arcgis10.5\\lib\\site-packages\\ipykernel\\pylab\\backend_inline.pyc\u001b[0m in \u001b[0;36mshow\u001b[1;34m(close, block)\u001b[0m\n\u001b[0;32m     37\u001b[0m             display(\n\u001b[0;32m     38\u001b[0m                 \u001b[0mfigure_manager\u001b[0m\u001b[1;33m.\u001b[0m\u001b[0mcanvas\u001b[0m\u001b[1;33m.\u001b[0m\u001b[0mfigure\u001b[0m\u001b[1;33m,\u001b[0m\u001b[1;33m\u001b[0m\u001b[0m\n\u001b[1;32m---> 39\u001b[1;33m                 \u001b[0mmetadata\u001b[0m\u001b[1;33m=\u001b[0m\u001b[0m_fetch_figure_metadata\u001b[0m\u001b[1;33m(\u001b[0m\u001b[0mfigure_manager\u001b[0m\u001b[1;33m.\u001b[0m\u001b[0mcanvas\u001b[0m\u001b[1;33m.\u001b[0m\u001b[0mfigure\u001b[0m\u001b[1;33m)\u001b[0m\u001b[1;33m\u001b[0m\u001b[0m\n\u001b[0m\u001b[0;32m     40\u001b[0m             )\n\u001b[0;32m     41\u001b[0m     \u001b[1;32mfinally\u001b[0m\u001b[1;33m:\u001b[0m\u001b[1;33m\u001b[0m\u001b[0m\n",
      "\u001b[1;32mc:\\python27\\arcgis10.5\\lib\\site-packages\\ipykernel\\pylab\\backend_inline.pyc\u001b[0m in \u001b[0;36m_fetch_figure_metadata\u001b[1;34m(fig)\u001b[0m\n\u001b[0;32m    172\u001b[0m     \u001b[1;34m\"\"\"Get some metadata to help with displaying a figure.\"\"\"\u001b[0m\u001b[1;33m\u001b[0m\u001b[0m\n\u001b[0;32m    173\u001b[0m     \u001b[1;31m# determine if a background is needed for legibility\u001b[0m\u001b[1;33m\u001b[0m\u001b[1;33m\u001b[0m\u001b[0m\n\u001b[1;32m--> 174\u001b[1;33m     \u001b[1;32mif\u001b[0m \u001b[0m_is_transparent\u001b[0m\u001b[1;33m(\u001b[0m\u001b[0mfig\u001b[0m\u001b[1;33m.\u001b[0m\u001b[0mget_facecolor\u001b[0m\u001b[1;33m(\u001b[0m\u001b[1;33m)\u001b[0m\u001b[1;33m)\u001b[0m\u001b[1;33m:\u001b[0m\u001b[1;33m\u001b[0m\u001b[0m\n\u001b[0m\u001b[0;32m    175\u001b[0m         \u001b[1;31m# the background is transparent\u001b[0m\u001b[1;33m\u001b[0m\u001b[1;33m\u001b[0m\u001b[0m\n\u001b[0;32m    176\u001b[0m         ticksLight = _is_light([label.get_color()\n",
      "\u001b[1;32mc:\\python27\\arcgis10.5\\lib\\site-packages\\ipykernel\\pylab\\backend_inline.pyc\u001b[0m in \u001b[0;36m_is_transparent\u001b[1;34m(color)\u001b[0m\n\u001b[0;32m    193\u001b[0m \u001b[1;32mdef\u001b[0m \u001b[0m_is_transparent\u001b[0m\u001b[1;33m(\u001b[0m\u001b[0mcolor\u001b[0m\u001b[1;33m)\u001b[0m\u001b[1;33m:\u001b[0m\u001b[1;33m\u001b[0m\u001b[0m\n\u001b[0;32m    194\u001b[0m     \u001b[1;34m\"\"\"Determine transparency from alpha.\"\"\"\u001b[0m\u001b[1;33m\u001b[0m\u001b[0m\n\u001b[1;32m--> 195\u001b[1;33m     \u001b[0mrgba\u001b[0m \u001b[1;33m=\u001b[0m \u001b[0mcolors\u001b[0m\u001b[1;33m.\u001b[0m\u001b[0mto_rgba\u001b[0m\u001b[1;33m(\u001b[0m\u001b[0mcolor\u001b[0m\u001b[1;33m)\u001b[0m\u001b[1;33m\u001b[0m\u001b[0m\n\u001b[0m\u001b[0;32m    196\u001b[0m     \u001b[1;32mreturn\u001b[0m \u001b[0mrgba\u001b[0m\u001b[1;33m[\u001b[0m\u001b[1;36m3\u001b[0m\u001b[1;33m]\u001b[0m \u001b[1;33m<\u001b[0m \u001b[1;36m.5\u001b[0m\u001b[1;33m\u001b[0m\u001b[0m\n",
      "\u001b[1;31mAttributeError\u001b[0m: 'module' object has no attribute 'to_rgba'"
     ]
    }
   ],
   "source": [
    "cname = r\"C:\\Users\\rniswon\\Documents\\Data\\Git\\gsflowID2447_classrepo\\exercises\\saghen_prms\\examples\\sagehen\\model\\windows\\sagehen.control\"\n",
    "prms = prms_py.Prms_base()\n",
    "prms.control_file_name = cname\n",
    "prms.load_prms_project()\n",
    "stat=Statistics(prms)\n",
    "tt=stat.stat_dict['basin_cfs_0'][1]\n",
    "fig_size = plt.rcParams[\"figure.figsize\"]\n",
    "# Set figure width to 12 and height to 9\n",
    "fig_size[0] = 12\n",
    "fig_size[1] = 9\n",
    "plt.rcParams[\"figure.figsize\"] = fig_size\n",
    "plt.xlabel(\"Time, in days\")\n",
    "plt.ylabel(\"Streamflow, in cfs\")\n",
    "plt.plot(tt)"
   ]
  },
  {
   "cell_type": "code",
   "execution_count": null,
   "metadata": {},
   "outputs": [],
   "source": []
  },
  {
   "cell_type": "code",
   "execution_count": null,
   "metadata": {},
   "outputs": [],
   "source": []
  }
 ],
 "metadata": {
  "kernelspec": {
   "display_name": "Python 2",
   "language": "python",
   "name": "python2"
  },
  "language_info": {
   "codemirror_mode": {
    "name": "ipython",
    "version": 2
   },
   "file_extension": ".py",
   "mimetype": "text/x-python",
   "name": "python",
   "nbconvert_exporter": "python",
   "pygments_lexer": "ipython2",
   "version": "2.7.15"
  }
 },
 "nbformat": 4,
 "nbformat_minor": 2
}
