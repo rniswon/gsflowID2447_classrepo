{
 "cells": [
  {
   "cell_type": "markdown",
   "metadata": {},
   "source": [
    "# Run fishnet_generator and hru_parameters\n",
    "\n",
    "#### This notebook runs the GsflowArcpy scripts to build a rectangular model grid and stores the grid in the hru_params.shp file."
   ]
  },
  {
   "cell_type": "code",
   "execution_count": 9,
   "metadata": {},
   "outputs": [],
   "source": [
    "%matplotlib inline\n",
    "import sys, os\n",
    "import matplotlib.pyplot as plt\n",
    "#import arcpy\n",
    "import geopandas\n",
    "import matplotlib.image as mpimg\n",
    "import ConfigParser\n",
    "from matplotlib import cm\n",
    "#from arcpy import env\n",
    "python_exe = sys.executable\n",
    "sys.path.insert(0,\"..\\scripts\")\n"
   ]
  },
  {
   "cell_type": "code",
   "execution_count": 10,
   "metadata": {},
   "outputs": [],
   "source": [
    "# Set folder locations\n",
    "arc_gsflow_folder= os.path.abspath(r\"..\\scripts\")\n",
    "config_file_folder=os.path.abspath(r\"..\\examples\\sagehen\")\n",
    "ini_file = \"..\\examples\\sagehen\\sagehen_parameters_orig.ini\""
   ]
  },
  {
   "cell_type": "markdown",
   "metadata": {},
   "source": [
    "#### GsflowArcpy uses a configuration file to set variables required by the scripts. Below the configuration file template is read, and default values are changed and written to the configuration file (\".INI\") read by GsflowArcpy."
   ]
  },
  {
   "cell_type": "code",
   "execution_count": 11,
   "metadata": {},
   "outputs": [
    {
     "data": {
      "text/plain": [
       "['D:\\\\Workspace\\\\classes\\\\Testing\\\\gsflowID2447_classrepo\\\\gsflowID2447_classrepo\\\\exercises\\\\saghen_prms\\\\examples\\\\sagehen\\\\sagehen_parameters_orig.ini']"
      ]
     },
     "execution_count": 11,
     "metadata": {},
     "output_type": "execute_result"
    }
   ],
   "source": [
    "# Load GsflowArcpy configuration file\n",
    "Config = ConfigParser.ConfigParser()\n",
    "Config.read(os.path.abspath(ini_file))"
   ]
  },
  {
   "cell_type": "code",
   "execution_count": 12,
   "metadata": {},
   "outputs": [],
   "source": [
    "# Set variable values for scripts\n",
    "hru_cellsize = 90\n",
    "hru_fishnet_path = os.path.abspath(r\"..\\examples\\sagehen\\hru_params\\hru_params.shp\")\n",
    "hru_centroid_path = os.path.abspath(r\"..\\examples\\sagehen\\hru_params\\hru_params_label.shp\")\n",
    "hru_ref_x = 0\n",
    "hru_ref_y = 0\n",
    "hru_param_snap_method = 'EXPAND'\n",
    "hru_buffer_cells = 2\n",
    "# Remap files \n",
    "remap_folder = os.path.abspath(r\"..\\remaps\")\n",
    "aspect_remap = os.path.abspath(\"aspect.rmp\")\n",
    "single_param_file_flag = False\n",
    "# single_param_file_name = prms_inputs.param\n",
    "param_column_flag = True\n",
    "# Default/template values\n",
    "prms_dimen_csv_path = os.path.abspath(r\"..\\examples\\sagehen\\hru_params\\prms_dimensions.csv\")\n",
    "prms_param_csv_path = os.path.abspath(r\"..\\examples\\sagehen\\hru_params\\prms_parameters.csv\")\n",
    "## Miscellaneous\n",
    "# Scratch Workspace ('in_memory' or 'scratch')\n",
    "# in_memory may not work for computers with limited RAM\n",
    "# scratch will write all intermediate files to a scratch folder on the disk\n",
    "scratch_name = \"in_memory\"\n",
    "# scratch_name = scratch\n",
    "# Scale floating point values before converting to Int and calculating Median\n",
    "int_factor = 1\n",
    "# Don't change this unless it conflicts with an existing field\n",
    "orig_fid_field = \"ORIG_FID\""
   ]
  },
  {
   "cell_type": "code",
   "execution_count": 13,
   "metadata": {},
   "outputs": [],
   "source": [
    "# Write out modified values to configuration file\n",
    "cfgfile = open(\"..\\examples\\sagehen\\sagehen_parameters.ini\",'w')\n",
    "Config.set('INPUTS','hru_cellsize',hru_cellsize)\n",
    "Config.set('INPUTS','hru_fishnet_path',hru_fishnet_path)\n",
    "Config.set('INPUTS','hru_centroid_path',hru_centroid_path)\n",
    "Config.set('INPUTS','hru_ref_x',hru_ref_x)\n",
    "Config.set('INPUTS','hru_ref_y',hru_ref_y)\n",
    "Config.set('INPUTS','hru_param_snap_method',hru_param_snap_method)\n",
    "Config.set('INPUTS','hru_buffer_cells',hru_buffer_cells)\n",
    "Config.set('INPUTS','remap_folder',remap_folder)\n",
    "Config.set('INPUTS','aspect_remap',aspect_remap)\n",
    "Config.set('INPUTS','single_param_file_flag',single_param_file_flag)\n",
    "Config.set('INPUTS','param_column_flag',param_column_flag)\n",
    "Config.set('INPUTS','prms_dimen_csv_path',prms_dimen_csv_path)\n",
    "Config.set('INPUTS','prms_param_csv_path',prms_param_csv_path)\n",
    "Config.set('INPUTS','scratch_name',scratch_name)\n",
    "Config.set('INPUTS','int_factor',int_factor)\n",
    "Config.set('INPUTS','orig_fid_field',orig_fid_field)\n",
    "Config.write(cfgfile)\n",
    "cfgfile.close()"
   ]
  },
  {
   "cell_type": "markdown",
   "metadata": {},
   "source": [
    "#### Run the GsflowArpcy scripts fishnet_generator and hru_parameters."
   ]
  },
  {
   "cell_type": "code",
   "execution_count": 14,
   "metadata": {},
   "outputs": [
    {
     "name": "stderr",
     "output_type": "stream",
     "text": [
      "\n",
      "################################################################################\n",
      "Run Time Stamp:      2019-10-02 11:22:28.162000\n",
      "Current Directory:   D:\\Workspace\\classes\\Testing\\gsflowID2447_classrepo\\gsflowID2447_classrepo\\exercises\\saghen_prms\\notebook\n",
      "Script:              fishnet_generator.py\n",
      "\n",
      "GSFLOW Fishnet Generator\n",
      "\n",
      "WARNING: The existing fishnet/grid will be over written\n",
      "  D:\\Workspace\\classes\\Testing\\gsflowID2447_classrepo\\gsflowID2447_classrepo\\exercises\\saghen_prms\\examples\\sagehen\\hru_params\\hru_params.shp\n",
      "\n",
      "Fishnet Parameters\n",
      "  Cellsize:      90.0\n",
      "  Snap point:    0.0 0.0\n",
      "  Study Area extent: 214336.751937632 4366846.43250545 221479.672330508 4373311.76361205\n",
      "  Buffered Extent:   214156.751937632 4366666.43250545 221659.672330508 4373491.76361205\n",
      "  Snapped Extent:    214110 4366620 221670 4373550\n",
      "\n",
      "Building HRU parameter fishnet\n"
     ]
    }
   ],
   "source": [
    "%run ../scripts/fishnet_generator.py -i ../examples/sagehen/sagehen_parameters.ini"
   ]
  },
  {
   "cell_type": "code",
   "execution_count": 15,
   "metadata": {},
   "outputs": [
    {
     "name": "stderr",
     "output_type": "stream",
     "text": [
      "\n",
      "################################################################################\n",
      "Run Time Stamp:      2019-10-02 11:22:30.106000\n",
      "Current Directory:   D:\\Workspace\\classes\\Testing\\gsflowID2447_classrepo\\gsflowID2447_classrepo\\exercises\\saghen_prms\\notebook\n",
      "Script:              hru_parameters.py\n",
      "\n",
      "GSFLOW HRU Parameters\n",
      "  Missing INI parameter, setting calc_topo_index_flag = False\n",
      "\n",
      "Adding fields if necessary\n",
      "  Note: You may see duplicate field names when writing to a network drive\n",
      "  Field: ORIG_FID\n",
      "  Field: HRU_ID\n",
      "  Field: HRU_TYPE\n",
      "  Field: DEM_MEAN\n",
      "  Field: DEM_MIN\n",
      "  Field: DEM_MAX\n",
      "  Field: DEM_ADJ\n",
      "  Field: DEM_FLOWAC\n",
      "  Field: DEM_SUM\n",
      "  Field: DEM_COUNT\n",
      "  Field: DEM_SINK\n",
      "  Field: CRT_ELEV\n",
      "  Field: CRT_FILL\n",
      "  Field: DEM_ASPECT\n",
      "  Field: DEM_SLP_D\n",
      "  Field: DEM_SLP_R\n",
      "  Field: DEM_SLP_P\n",
      "  Field: HRU_AREA\n",
      "  Field: HRU_ROW\n",
      "  Field: HRU_COL\n",
      "  Field: HRU_X\n",
      "  Field: HRU_Y\n",
      "  Field: HRU_LAT\n",
      "  Field: HRU_LON\n",
      "  Field: LAKE_ID\n",
      "  Field: LAKE_AREA\n",
      "  Field: ISEG\n",
      "  Field: IRUNBOUND\n",
      "  Field: FLOW_DIR\n",
      "  Field: KRCH\n",
      "  Field: IRCH\n",
      "  Field: JRCH\n",
      "  Field: IREACH\n",
      "  Field: RCHLEN\n",
      "  Field: MAXREACH\n",
      "  Field: OUTSEG\n",
      "  Field: IUPSEG\n",
      "  Field: SUB_BASIN\n",
      "  Field: SEG_BASIN\n",
      "  Field: OUTFLOWHRU\n",
      "  Field: STRM_TOP\n",
      "  Field: STRM_SLOPE\n",
      "  Field: HRU_SINK\n",
      "  Field: PPT_ZONE\n",
      "  Field: HRU_PSTA\n",
      "  Field: JH_TMAX\n",
      "  Field: JH_TMIN\n",
      "  Field: JH_COEF\n",
      "  Field: SNAREA_THR\n",
      "  Field: TMAX_ADJ\n",
      "  Field: TMIN_ADJ\n",
      "  Field: COV_TYPE\n",
      "  Field: COVDEN_SUM\n",
      "  Field: COVDEN_WIN\n",
      "  Field: RAD_TRNCF\n",
      "  Field: SNOW_INTCP\n",
      "  Field: SRAIN_INTC\n",
      "  Field: WRAIN_INTC\n",
      "  Field: AWC\n",
      "  Field: CLAY_PCT\n",
      "  Field: SAND_PCT\n",
      "  Field: KSAT\n",
      "  Field: SOIL_TYPE\n",
      "  Field: SOIL_RT_MX\n",
      "  Field: MOIST_INIT\n",
      "  Field: MOIST_MAX\n",
      "  Field: RECHR_INIT\n",
      "  Field: RECHR_MAX\n",
      "  Field: SSR2G_RATE\n",
      "  Field: SSR2G_KFAC\n",
      "  Field: SLOWCOEF_L\n",
      "  Field: SLOWCOEF_S\n",
      "  Field: IMPERV_PCT\n",
      "  Field: CAREA_MAX\n",
      "  Field: PPT_01\n",
      "  Field: PPT_02\n",
      "  Field: PPT_03\n",
      "  Field: PPT_04\n",
      "  Field: PPT_05\n",
      "  Field: PPT_06\n",
      "  Field: PPT_07\n",
      "  Field: PPT_08\n",
      "  Field: PPT_09\n",
      "  Field: PPT_10\n",
      "  Field: PPT_11\n",
      "  Field: PPT_12\n",
      "  Field: TMAX_01\n",
      "  Field: TMAX_02\n",
      "  Field: TMAX_03\n",
      "  Field: TMAX_04\n",
      "  Field: TMAX_05\n",
      "  Field: TMAX_06\n",
      "  Field: TMAX_07\n",
      "  Field: TMAX_08\n",
      "  Field: TMAX_09\n",
      "  Field: TMAX_10\n",
      "  Field: TMAX_11\n",
      "  Field: TMAX_12\n",
      "  Field: TMIN_01\n",
      "  Field: TMIN_02\n",
      "  Field: TMIN_03\n",
      "  Field: TMIN_04\n",
      "  Field: TMIN_05\n",
      "  Field: TMIN_06\n",
      "  Field: TMIN_07\n",
      "  Field: TMIN_08\n",
      "  Field: TMIN_09\n",
      "  Field: TMIN_10\n",
      "  Field: TMIN_11\n",
      "  Field: TMIN_12\n",
      "  Field: PPT_RT_01\n",
      "  Field: PPT_RT_02\n",
      "  Field: PPT_RT_03\n",
      "  Field: PPT_RT_04\n",
      "  Field: PPT_RT_05\n",
      "  Field: PPT_RT_06\n",
      "  Field: PPT_RT_07\n",
      "  Field: PPT_RT_08\n",
      "  Field: PPT_RT_09\n",
      "  Field: PPT_RT_10\n",
      "  Field: PPT_RT_11\n",
      "  Field: PPT_RT_12\n",
      "\n",
      "Calculating parameters\n",
      "  Saving original HRU FID to ORIG_FID\n",
      "  Calculating cell X/Y\n",
      "  Calculating cell ID/row/col\n",
      "  Calculating cell lat/lon\n",
      "  Calculating cell area (acres)\n",
      "\n",
      "Resetting HRU_TYPE to 0\n",
      "\n",
      "Calculating cell HRU Type\n",
      "\n",
      "Checking model points shapefile\n",
      "  Checking model point types\n",
      "Setting HRU_PSTA to 1\n"
     ]
    }
   ],
   "source": [
    "# Set and run hru_parameters script\n",
    "%run ../scripts/hru_parameters.py -i ../examples/sagehen/sagehen_parameters.ini"
   ]
  },
  {
   "cell_type": "markdown",
   "metadata": {},
   "source": [
    "#### The model grid and boundary are shown below."
   ]
  },
  {
   "cell_type": "code",
   "execution_count": 16,
   "metadata": {},
   "outputs": [
    {
     "data": {
      "image/png": "[encoded data removed]",
      "text/plain": [
       "<Figure size 1440x576 with 1 Axes>"
      ]
     },
     "metadata": {
      "needs_background": "light"
     },
     "output_type": "display_data"
    }
   ],
   "source": [
    "# Plot model grid and model boundary\n",
    "fig, ax = plt.subplots(figsize=(20,8))\n",
    "fn1=r\"..\\examples\\sagehen\\shapefiles\\watershed_proj.shp\"\n",
    "fn2=r\"..\\examples\\sagehen\\hru_params\\hru_params.shp\"\n",
    "boundary=geopandas.read_file(fn1)\n",
    "grid=geopandas.read_file(fn2)\n",
    "grid.plot(ax=ax,color='none', edgecolor='black', linewidth=1.0)\n",
    "boundary.plot(ax=ax,color='none', edgecolor='black', linewidth=1.0)\n",
    "plt.show()"
   ]
  }
 ],
 "metadata": {
  "kernelspec": {
   "display_name": "Python 2",
   "language": "python",
   "name": "python2"
  },
  "language_info": {
   "codemirror_mode": {
    "name": "ipython",
    "version": 2
   },
   "file_extension": ".py",
   "mimetype": "text/x-python",
   "name": "python",
   "nbconvert_exporter": "python",
   "pygments_lexer": "ipython2",
   "version": "2.7.16"
  }
 },
 "nbformat": 4,
 "nbformat_minor": 2
}
