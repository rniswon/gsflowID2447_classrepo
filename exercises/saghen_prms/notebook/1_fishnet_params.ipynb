{
 "cells": [
  {
   "cell_type": "markdown",
   "metadata": {},
   "source": [
    "# Run fishnet_generator and hru_parameters\n",
    "\n",
    "#### This notebook runs the GsflowArcpy scripts to build a rectangular model grid and stores the grid in the hru_params.shp file."
   ]
  },
  {
   "cell_type": "code",
   "execution_count": 1,
   "metadata": {},
   "outputs": [],
   "source": [
    "%matplotlib inline\n",
    "import sys, os\n",
    "import matplotlib.pyplot as plt\n",
    "import arcpy\n",
    "import geopandas\n",
    "import matplotlib.image as mpimg\n",
    "import ConfigParser\n",
    "from matplotlib import cm\n",
    "from arcpy import env\n",
    "python_exe = sys.executable"
   ]
  },
  {
   "cell_type": "code",
   "execution_count": 2,
   "metadata": {},
   "outputs": [],
   "source": [
    "# Set folder locations\n",
    "arc_gsflow_folder=r\"..\\scripts\"\n",
    "config_file_folder=r\"..\\examples\\sagehen\""
   ]
  },
  {
   "cell_type": "markdown",
   "metadata": {},
   "source": [
    "#### GsflowArcpy uses a configuration file to set variables required by the scripts. Below the configuration file template is read, and default values are changed and written to the configuration file (\".INI\") read by GsflowArcpy."
   ]
  },
  {
   "cell_type": "code",
   "execution_count": 3,
   "metadata": {},
   "outputs": [
    {
     "data": {
      "text/plain": [
       "['..\\\\examples\\\\sagehen\\\\sagehen_parameters_orig.ini']"
      ]
     },
     "execution_count": 3,
     "metadata": {},
     "output_type": "execute_result"
    }
   ],
   "source": [
    "# Load GsflowArcpy configuration file\n",
    "Config = ConfigParser.ConfigParser()\n",
    "Config.read(\"..\\examples\\sagehen\\sagehen_parameters_orig.ini\")"
   ]
  },
  {
   "cell_type": "code",
   "execution_count": 4,
   "metadata": {},
   "outputs": [],
   "source": [
    "# Set variable values for scripts\n",
    "hru_cellsize = 90\n",
    "hru_fishnet_path = r\"..\\examples\\sagehen\\hru_params\\hru_params.shp\"\n",
    "hru_centroid_path = r\"..\\examples\\sagehen\\hru_params\\hru_params_label.shp\"\n",
    "hru_ref_x = 0\n",
    "hru_ref_y = 0\n",
    "hru_param_snap_method = 'EXPAND'\n",
    "hru_buffer_cells = 2\n",
    "# Remap files \n",
    "remap_folder = r\"..\\remaps\"\n",
    "aspect_remap = \"aspect.rmp\"\n",
    "single_param_file_flag = False\n",
    "# single_param_file_name = prms_inputs.param\n",
    "param_column_flag = True\n",
    "# Default/template values\n",
    "prms_dimen_csv_path = r\"..\\examples\\sagehen\\hru_params\\prms_dimensions.csv\"\n",
    "prms_param_csv_path = r\"..\\examples\\sagehen\\hru_params\\prms_parameters.csv\"\n",
    "## Miscellaneous\n",
    "# Scratch Workspace ('in_memory' or 'scratch')\n",
    "# in_memory may not work for computers with limited RAM\n",
    "# scratch will write all intermediate files to a scratch folder on the disk\n",
    "scratch_name = \"in_memory\"\n",
    "# scratch_name = scratch\n",
    "# Scale floating point values before converting to Int and calculating Median\n",
    "int_factor = 1\n",
    "# Don't change this unless it conflicts with an existing field\n",
    "orig_fid_field = \"ORIG_FID\""
   ]
  },
  {
   "cell_type": "code",
   "execution_count": 5,
   "metadata": {},
   "outputs": [],
   "source": [
    "# Write out modified values to configuration file\n",
    "cfgfile = open(\"..\\examples\\sagehen\\sagehen_parameters.ini\",'w')\n",
    "Config.set('INPUTS','hru_cellsize',hru_cellsize)\n",
    "Config.set('INPUTS','hru_fishnet_path',hru_fishnet_path)\n",
    "Config.set('INPUTS','hru_centroid_path',hru_centroid_path)\n",
    "Config.set('INPUTS','hru_ref_x',hru_ref_x)\n",
    "Config.set('INPUTS','hru_ref_y',hru_ref_y)\n",
    "Config.set('INPUTS','hru_param_snap_method',hru_param_snap_method)\n",
    "Config.set('INPUTS','hru_buffer_cells',hru_buffer_cells)\n",
    "Config.set('INPUTS','remap_folder',remap_folder)\n",
    "Config.set('INPUTS','aspect_remap',aspect_remap)\n",
    "Config.set('INPUTS','single_param_file_flag',single_param_file_flag)\n",
    "Config.set('INPUTS','param_column_flag',param_column_flag)\n",
    "Config.set('INPUTS','prms_dimen_csv_path',prms_dimen_csv_path)\n",
    "Config.set('INPUTS','prms_param_csv_path',prms_param_csv_path)\n",
    "Config.set('INPUTS','scratch_name',scratch_name)\n",
    "Config.set('INPUTS','int_factor',int_factor)\n",
    "Config.set('INPUTS','orig_fid_field',orig_fid_field)\n",
    "Config.write(cfgfile)\n",
    "cfgfile.close()"
   ]
  },
  {
   "cell_type": "markdown",
   "metadata": {},
   "source": [
    "#### Run the GsflowArpcy scripts fishnet_generator and hru_parameters."
   ]
  },
  {
   "cell_type": "code",
   "execution_count": 6,
   "metadata": {},
   "outputs": [
    {
     "data": {
      "text/plain": [
       "0"
      ]
     },
     "execution_count": 6,
     "metadata": {},
     "output_type": "execute_result"
    }
   ],
   "source": [
    "# Set and run fishnet_generator script\n",
    "script = r\"fishnet_generator.py\"\n",
    "argument = r\" -i ..\\examples\\sagehen\\sagehen_parameters.ini\"\n",
    "cmd=python_exe + \" \" + os.path.join(arc_gsflow_folder,script)\n",
    "cmd = cmd + argument\n",
    "os.system(cmd)"
   ]
  },
  {
   "cell_type": "code",
   "execution_count": 7,
   "metadata": {},
   "outputs": [
    {
     "data": {
      "text/plain": [
       "0"
      ]
     },
     "execution_count": 7,
     "metadata": {},
     "output_type": "execute_result"
    }
   ],
   "source": [
    "# Set and run hru_parameters script\n",
    "script = r\"hru_parameters.py\"\n",
    "cmd=python_exe + \" \" + os.path.join(arc_gsflow_folder,script)\n",
    "cmd = cmd + argument\n",
    "os.system(cmd)"
   ]
  },
  {
   "cell_type": "markdown",
   "metadata": {},
   "source": [
    "#### The model grid and boundary are shown bellow."
   ]
  },
  {
   "cell_type": "code",
   "execution_count": 9,
   "metadata": {},
   "outputs": [
    {
     "data": {
      "image/png": "[encoded data removed]",
      "text/plain": [
       "<matplotlib.figure.Figure at 0x38787970>"
      ]
     },
     "metadata": {
      "needs_background": "light"
     },
     "output_type": "display_data"
    }
   ],
   "source": [
    "# Plot model grid and model boundary\n",
    "fig, ax = plt.subplots(figsize=(20,8))\n",
    "fn1=r\"..\\examples\\sagehen\\shapefiles\\watershed_proj.shp\"\n",
    "fn2=r\"..\\examples\\sagehen\\hru_params\\hru_params.shp\"\n",
    "boundary=geopandas.read_file(fn1)\n",
    "grid=geopandas.read_file(fn2)\n",
    "grid.plot(ax=ax,color='none', edgecolor='black', linewidth=1.0)\n",
    "boundary.plot(ax=ax,color='none', edgecolor='black', linewidth=1.0)\n",
    "plt.show()"
   ]
  },
  {
   "cell_type": "code",
   "execution_count": null,
   "metadata": {},
   "outputs": [],
   "source": []
  }
 ],
 "metadata": {
  "kernelspec": {
   "display_name": "Python 2",
   "language": "python",
   "name": "python2"
  },
  "language_info": {
   "codemirror_mode": {
    "name": "ipython",
    "version": 2
   },
   "file_extension": ".py",
   "mimetype": "text/x-python",
   "name": "python",
   "nbconvert_exporter": "python",
   "pygments_lexer": "ipython2",
   "version": "2.7.15"
  }
 },
 "nbformat": 4,
 "nbformat_minor": 2
}
